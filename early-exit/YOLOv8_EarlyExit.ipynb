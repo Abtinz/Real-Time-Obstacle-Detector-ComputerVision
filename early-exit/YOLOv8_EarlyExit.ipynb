{
 "cells": [
  {
   "cell_type": "markdown",
   "id": "a5d4b7d3",
   "metadata": {},
   "source": [
    "# Package Imoport and Installation"
   ]
  },
  {
   "cell_type": "code",
   "execution_count": 1,
   "id": "5bb8b682",
   "metadata": {
    "ExecuteTime": {
     "end_time": "2025-05-20T16:14:06.626630Z",
     "start_time": "2025-05-20T16:14:05.611404Z"
    }
   },
   "outputs": [],
   "source": [
    "from torchinfo import summary\n",
    "!source yolov8-early-exit-env/bin/activate"
   ]
  },
  {
   "cell_type": "code",
   "execution_count": 2,
   "id": "38a23395",
   "metadata": {
    "ExecuteTime": {
     "end_time": "2025-05-19T11:38:15.372119Z",
     "start_time": "2025-05-19T11:37:54.748226Z"
    }
   },
   "outputs": [
    {
     "name": "stdout",
     "output_type": "stream",
     "text": [
      "Requirement already satisfied: ultralytics in /opt/conda/lib/python3.8/site-packages (8.3.113)\n",
      "Requirement already satisfied: onnx in /opt/conda/lib/python3.8/site-packages (1.17.0)\n",
      "Requirement already satisfied: onnx_tf in /opt/conda/lib/python3.8/site-packages (1.10.0)\n",
      "Requirement already satisfied: numpy<=2.1.1,>=1.23.0 in /opt/conda/lib/python3.8/site-packages (from ultralytics) (1.24.3)\n",
      "Requirement already satisfied: matplotlib>=3.3.0 in /opt/conda/lib/python3.8/site-packages (from ultralytics) (3.7.5)\n",
      "Requirement already satisfied: opencv-python>=4.6.0 in /opt/conda/lib/python3.8/site-packages (from ultralytics) (4.6.0.66)\n",
      "Requirement already satisfied: pillow>=7.1.2 in /opt/conda/lib/python3.8/site-packages (from ultralytics) (10.4.0)\n",
      "Requirement already satisfied: pyyaml>=5.3.1 in /opt/conda/lib/python3.8/site-packages (from ultralytics) (5.4.1)\n",
      "Requirement already satisfied: requests>=2.23.0 in /opt/conda/lib/python3.8/site-packages (from ultralytics) (2.32.3)\n",
      "Requirement already satisfied: scipy>=1.4.1 in /opt/conda/lib/python3.8/site-packages (from ultralytics) (1.10.0)\n",
      "Requirement already satisfied: torch>=1.8.0 in /opt/conda/lib/python3.8/site-packages (from ultralytics) (2.4.1)\n",
      "Requirement already satisfied: torchvision>=0.9.0 in /opt/conda/lib/python3.8/site-packages (from ultralytics) (0.19.1)\n",
      "Requirement already satisfied: tqdm>=4.64.0 in /opt/conda/lib/python3.8/site-packages (from ultralytics) (4.67.1)\n",
      "Requirement already satisfied: psutil in /opt/conda/lib/python3.8/site-packages (from ultralytics) (5.8.0)\n",
      "Requirement already satisfied: py-cpuinfo in /opt/conda/lib/python3.8/site-packages (from ultralytics) (8.0.0)\n",
      "Requirement already satisfied: pandas>=1.1.4 in /opt/conda/lib/python3.8/site-packages (from ultralytics) (2.0.3)\n",
      "Requirement already satisfied: seaborn>=0.11.0 in /opt/conda/lib/python3.8/site-packages (from ultralytics) (0.11.1)\n",
      "Requirement already satisfied: ultralytics-thop>=2.0.0 in /opt/conda/lib/python3.8/site-packages (from ultralytics) (2.0.14)\n",
      "Collecting protobuf>=3.20.2 (from onnx)\n",
      "  Using cached protobuf-5.29.4-cp38-abi3-manylinux2014_x86_64.whl.metadata (592 bytes)\n",
      "Requirement already satisfied: tensorflow-addons in /opt/conda/lib/python3.8/site-packages (from onnx_tf) (0.13.0)\n",
      "Requirement already satisfied: contourpy>=1.0.1 in /opt/conda/lib/python3.8/site-packages (from matplotlib>=3.3.0->ultralytics) (1.0.7)\n",
      "Requirement already satisfied: cycler>=0.10 in /opt/conda/lib/python3.8/site-packages (from matplotlib>=3.3.0->ultralytics) (0.11.0)\n",
      "Requirement already satisfied: fonttools>=4.22.0 in /opt/conda/lib/python3.8/site-packages (from matplotlib>=3.3.0->ultralytics) (4.38.0)\n",
      "Requirement already satisfied: kiwisolver>=1.0.1 in /opt/conda/lib/python3.8/site-packages (from matplotlib>=3.3.0->ultralytics) (1.3.1)\n",
      "Requirement already satisfied: packaging>=20.0 in /opt/conda/lib/python3.8/site-packages (from matplotlib>=3.3.0->ultralytics) (22.0)\n",
      "Requirement already satisfied: pyparsing>=2.3.1 in /opt/conda/lib/python3.8/site-packages (from matplotlib>=3.3.0->ultralytics) (2.4.7)\n",
      "Requirement already satisfied: python-dateutil>=2.7 in /opt/conda/lib/python3.8/site-packages (from matplotlib>=3.3.0->ultralytics) (2.8.2)\n",
      "Requirement already satisfied: importlib-resources>=3.2.0 in /opt/conda/lib/python3.8/site-packages (from matplotlib>=3.3.0->ultralytics) (5.10.2)\n",
      "Requirement already satisfied: pytz>=2020.1 in /opt/conda/lib/python3.8/site-packages (from pandas>=1.1.4->ultralytics) (2022.7.1)\n",
      "Requirement already satisfied: tzdata>=2022.1 in /opt/conda/lib/python3.8/site-packages (from pandas>=1.1.4->ultralytics) (2022.7)\n",
      "Requirement already satisfied: charset-normalizer<4,>=2 in /opt/conda/lib/python3.8/site-packages (from requests>=2.23.0->ultralytics) (2.1.1)\n",
      "Requirement already satisfied: idna<4,>=2.5 in /opt/conda/lib/python3.8/site-packages (from requests>=2.23.0->ultralytics) (3.7)\n",
      "Requirement already satisfied: urllib3<3,>=1.21.1 in /opt/conda/lib/python3.8/site-packages (from requests>=2.23.0->ultralytics) (1.26.13)\n",
      "Requirement already satisfied: certifi>=2017.4.17 in /opt/conda/lib/python3.8/site-packages (from requests>=2.23.0->ultralytics) (2022.12.7)\n",
      "Requirement already satisfied: filelock in /opt/conda/lib/python3.8/site-packages (from torch>=1.8.0->ultralytics) (3.9.0)\n",
      "Requirement already satisfied: typing-extensions>=4.8.0 in /opt/conda/lib/python3.8/site-packages (from torch>=1.8.0->ultralytics) (4.13.2)\n",
      "Requirement already satisfied: sympy in /opt/conda/lib/python3.8/site-packages (from torch>=1.8.0->ultralytics) (1.11.1)\n",
      "Requirement already satisfied: networkx in /opt/conda/lib/python3.8/site-packages (from torch>=1.8.0->ultralytics) (2.8.8)\n",
      "Requirement already satisfied: jinja2 in /opt/conda/lib/python3.8/site-packages (from torch>=1.8.0->ultralytics) (3.1.2)\n",
      "Requirement already satisfied: fsspec in /opt/conda/lib/python3.8/site-packages (from torch>=1.8.0->ultralytics) (2024.9.0)\n",
      "Requirement already satisfied: nvidia-cuda-nvrtc-cu12==12.1.105 in /opt/conda/lib/python3.8/site-packages (from torch>=1.8.0->ultralytics) (12.1.105)\n",
      "Requirement already satisfied: nvidia-cuda-runtime-cu12==12.1.105 in /opt/conda/lib/python3.8/site-packages (from torch>=1.8.0->ultralytics) (12.1.105)\n",
      "Requirement already satisfied: nvidia-cuda-cupti-cu12==12.1.105 in /opt/conda/lib/python3.8/site-packages (from torch>=1.8.0->ultralytics) (12.1.105)\n",
      "Requirement already satisfied: nvidia-cudnn-cu12==9.1.0.70 in /opt/conda/lib/python3.8/site-packages (from torch>=1.8.0->ultralytics) (9.1.0.70)\n",
      "Requirement already satisfied: nvidia-cublas-cu12==12.1.3.1 in /opt/conda/lib/python3.8/site-packages (from torch>=1.8.0->ultralytics) (12.1.3.1)\n",
      "Requirement already satisfied: nvidia-cufft-cu12==11.0.2.54 in /opt/conda/lib/python3.8/site-packages (from torch>=1.8.0->ultralytics) (11.0.2.54)\n",
      "Requirement already satisfied: nvidia-curand-cu12==10.3.2.106 in /opt/conda/lib/python3.8/site-packages (from torch>=1.8.0->ultralytics) (10.3.2.106)\n",
      "Requirement already satisfied: nvidia-cusolver-cu12==11.4.5.107 in /opt/conda/lib/python3.8/site-packages (from torch>=1.8.0->ultralytics) (11.4.5.107)\n",
      "Requirement already satisfied: nvidia-cusparse-cu12==12.1.0.106 in /opt/conda/lib/python3.8/site-packages (from torch>=1.8.0->ultralytics) (12.1.0.106)\n",
      "Requirement already satisfied: nvidia-nccl-cu12==2.20.5 in /opt/conda/lib/python3.8/site-packages (from torch>=1.8.0->ultralytics) (2.20.5)\n",
      "Requirement already satisfied: nvidia-nvtx-cu12==12.1.105 in /opt/conda/lib/python3.8/site-packages (from torch>=1.8.0->ultralytics) (12.1.105)\n",
      "Requirement already satisfied: triton==3.0.0 in /opt/conda/lib/python3.8/site-packages (from torch>=1.8.0->ultralytics) (3.0.0)\n",
      "Requirement already satisfied: nvidia-nvjitlink-cu12 in /opt/conda/lib/python3.8/site-packages (from nvidia-cusolver-cu12==11.4.5.107->torch>=1.8.0->ultralytics) (12.8.93)\n",
      "Requirement already satisfied: typeguard>=2.7 in /opt/conda/lib/python3.8/site-packages (from tensorflow-addons->onnx_tf) (2.13.3)\n",
      "Requirement already satisfied: zipp>=3.1.0 in /opt/conda/lib/python3.8/site-packages (from importlib-resources>=3.2.0->matplotlib>=3.3.0->ultralytics) (3.11.0)\n",
      "Requirement already satisfied: six>=1.5 in /opt/conda/lib/python3.8/site-packages (from python-dateutil>=2.7->matplotlib>=3.3.0->ultralytics) (1.15.0)\n",
      "Requirement already satisfied: MarkupSafe>=2.0 in /opt/conda/lib/python3.8/site-packages (from jinja2->torch>=1.8.0->ultralytics) (2.1.1)\n",
      "Requirement already satisfied: mpmath>=0.19 in /opt/conda/lib/python3.8/site-packages (from sympy->torch>=1.8.0->ultralytics) (1.2.1)\n",
      "Using cached protobuf-5.29.4-cp38-abi3-manylinux2014_x86_64.whl (319 kB)\n",
      "\u001b[33mWARNING: Error parsing dependencies of gym: Expected matching RIGHT_PARENTHESIS for LEFT_PARENTHESIS, after version specifier\n",
      "    opencv-python (>=3.) ; extra == 'all'\n",
      "                  ~~~~^\u001b[0m\u001b[33m\n",
      "\u001b[0mInstalling collected packages: protobuf\n",
      "  Attempting uninstall: protobuf\n",
      "    Found existing installation: protobuf 3.20.1\n",
      "    Uninstalling protobuf-3.20.1:\n",
      "      Successfully uninstalled protobuf-3.20.1\n",
      "\u001b[31mERROR: pip's dependency resolver does not currently take into account all the packages that are installed. This behaviour is the source of the following dependency conflicts.\n",
      "google-api-core 2.11.0 requires protobuf!=3.20.0,!=3.20.1,!=4.21.0,!=4.21.1,!=4.21.2,!=4.21.3,!=4.21.4,!=4.21.5,<5.0.0dev,>=3.19.5, but you have protobuf 5.29.4 which is incompatible.\n",
      "googleapis-common-protos 1.58.0 requires protobuf!=3.20.0,!=3.20.1,!=4.21.1,!=4.21.2,!=4.21.3,!=4.21.4,!=4.21.5,<5.0.0dev,>=3.19.5, but you have protobuf 5.29.4 which is incompatible.\n",
      "mlflow 2.3.0 requires protobuf<5,>=3.12.0, but you have protobuf 5.29.4 which is incompatible.\n",
      "sagemaker 2.125.0 requires protobuf<4.0,>=3.1, but you have protobuf 5.29.4 which is incompatible.\n",
      "streamlit 1.17.0 requires protobuf<4,>=3.12, but you have protobuf 5.29.4 which is incompatible.\n",
      "tensorboard 2.11.0 requires protobuf<4,>=3.9.2, but you have protobuf 5.29.4 which is incompatible.\n",
      "tensorboardx 2.5.1 requires protobuf<=3.20.1,>=3.8.0, but you have protobuf 5.29.4 which is incompatible.\n",
      "tensorflow 2.13.0 requires keras<2.14,>=2.13.1, but you have keras 2.11.0 which is incompatible.\n",
      "tensorflow 2.13.0 requires protobuf!=4.21.0,!=4.21.1,!=4.21.2,!=4.21.3,!=4.21.4,!=4.21.5,<5.0.0dev,>=3.20.3, but you have protobuf 5.29.4 which is incompatible.\n",
      "tensorflow 2.13.0 requires tensorboard<2.14,>=2.13, but you have tensorboard 2.11.0 which is incompatible.\n",
      "tensorflow 2.13.0 requires tensorflow-estimator<2.14,>=2.13.0, but you have tensorflow-estimator 2.11.0 which is incompatible.\n",
      "tensorflow 2.13.0 requires typing-extensions<4.6.0,>=3.6.6, but you have typing-extensions 4.13.2 which is incompatible.\n",
      "tensorflow-gpu 2.11.0 requires protobuf<3.20,>=3.9.2, but you have protobuf 5.29.4 which is incompatible.\n",
      "tensorflow-metadata 1.12.0 requires absl-py<2.0.0,>=0.9, but you have absl-py 2.2.0 which is incompatible.\n",
      "tensorflow-metadata 1.12.0 requires protobuf<4,>=3.13, but you have protobuf 5.29.4 which is incompatible.\n",
      "tflite-support 0.4.0 requires flatbuffers<2,>=1.12, but you have flatbuffers 25.2.10 which is incompatible.\u001b[0m\u001b[31m\n",
      "\u001b[0mSuccessfully installed protobuf-5.29.4\n",
      "\u001b[33mWARNING: Running pip as the 'root' user can result in broken permissions and conflicting behaviour with the system package manager, possibly rendering your system unusable. It is recommended to use a virtual environment instead: https://pip.pypa.io/warnings/venv. Use the --root-user-action option if you know what you are doing and want to suppress this warning.\u001b[0m\u001b[33m\n",
      "\u001b[0mCollecting protobuf==3.20.1\n",
      "  Using cached protobuf-3.20.1-cp38-cp38-manylinux_2_5_x86_64.manylinux1_x86_64.whl.metadata (698 bytes)\n",
      "Using cached protobuf-3.20.1-cp38-cp38-manylinux_2_5_x86_64.manylinux1_x86_64.whl (1.0 MB)\n",
      "\u001b[33mWARNING: Error parsing dependencies of gym: Expected matching RIGHT_PARENTHESIS for LEFT_PARENTHESIS, after version specifier\n",
      "    opencv-python (>=3.) ; extra == 'all'\n",
      "                  ~~~~^\u001b[0m\u001b[33m\n",
      "\u001b[0mInstalling collected packages: protobuf\n",
      "  Attempting uninstall: protobuf\n",
      "    Found existing installation: protobuf 5.29.4\n",
      "    Uninstalling protobuf-5.29.4:\n",
      "      Successfully uninstalled protobuf-5.29.4\n",
      "\u001b[31mERROR: pip's dependency resolver does not currently take into account all the packages that are installed. This behaviour is the source of the following dependency conflicts.\n",
      "google-api-core 2.11.0 requires protobuf!=3.20.0,!=3.20.1,!=4.21.0,!=4.21.1,!=4.21.2,!=4.21.3,!=4.21.4,!=4.21.5,<5.0.0dev,>=3.19.5, but you have protobuf 3.20.1 which is incompatible.\n",
      "googleapis-common-protos 1.58.0 requires protobuf!=3.20.0,!=3.20.1,!=4.21.1,!=4.21.2,!=4.21.3,!=4.21.4,!=4.21.5,<5.0.0dev,>=3.19.5, but you have protobuf 3.20.1 which is incompatible.\n",
      "onnx 1.17.0 requires protobuf>=3.20.2, but you have protobuf 3.20.1 which is incompatible.\n",
      "tensorflow 2.13.0 requires keras<2.14,>=2.13.1, but you have keras 2.11.0 which is incompatible.\n",
      "tensorflow 2.13.0 requires protobuf!=4.21.0,!=4.21.1,!=4.21.2,!=4.21.3,!=4.21.4,!=4.21.5,<5.0.0dev,>=3.20.3, but you have protobuf 3.20.1 which is incompatible.\n",
      "tensorflow 2.13.0 requires tensorboard<2.14,>=2.13, but you have tensorboard 2.11.0 which is incompatible.\n",
      "tensorflow 2.13.0 requires tensorflow-estimator<2.14,>=2.13.0, but you have tensorflow-estimator 2.11.0 which is incompatible.\n",
      "tensorflow 2.13.0 requires typing-extensions<4.6.0,>=3.6.6, but you have typing-extensions 4.13.2 which is incompatible.\n",
      "tensorflow-gpu 2.11.0 requires protobuf<3.20,>=3.9.2, but you have protobuf 3.20.1 which is incompatible.\n",
      "tensorflow-metadata 1.12.0 requires absl-py<2.0.0,>=0.9, but you have absl-py 2.2.0 which is incompatible.\n",
      "tflite-support 0.4.0 requires flatbuffers<2,>=1.12, but you have flatbuffers 25.2.10 which is incompatible.\u001b[0m\u001b[31m\n",
      "\u001b[0mSuccessfully installed protobuf-3.20.1\n",
      "\u001b[33mWARNING: Running pip as the 'root' user can result in broken permissions and conflicting behaviour with the system package manager, possibly rendering your system unusable. It is recommended to use a virtual environment instead: https://pip.pypa.io/warnings/venv. Use the --root-user-action option if you know what you are doing and want to suppress this warning.\u001b[0m\u001b[33m\n",
      "\u001b[0mRequirement already satisfied: keras==2.11.0 in /opt/conda/lib/python3.8/site-packages (2.11.0)\n",
      "Requirement already satisfied: tensorflow-estimator==2.11.0 in /opt/conda/lib/python3.8/site-packages (2.11.0)\n",
      "\u001b[33mWARNING: Error parsing dependencies of gym: Expected matching RIGHT_PARENTHESIS for LEFT_PARENTHESIS, after version specifier\n",
      "    opencv-python (>=3.) ; extra == 'all'\n",
      "                  ~~~~^\u001b[0m\u001b[33m\n",
      "\u001b[0m\u001b[33mWARNING: Running pip as the 'root' user can result in broken permissions and conflicting behaviour with the system package manager, possibly rendering your system unusable. It is recommended to use a virtual environment instead: https://pip.pypa.io/warnings/venv. Use the --root-user-action option if you know what you are doing and want to suppress this warning.\u001b[0m\u001b[33m\n",
      "\u001b[0mRequirement already satisfied: tensorboard==2.11.0 in /opt/conda/lib/python3.8/site-packages (2.11.0)\n",
      "Requirement already satisfied: absl-py>=0.4 in /opt/conda/lib/python3.8/site-packages (from tensorboard==2.11.0) (2.2.0)\n",
      "Requirement already satisfied: grpcio>=1.24.3 in /opt/conda/lib/python3.8/site-packages (from tensorboard==2.11.0) (1.70.0)\n",
      "Requirement already satisfied: google-auth<3,>=1.6.3 in /opt/conda/lib/python3.8/site-packages (from tensorboard==2.11.0) (2.16.0)\n",
      "Requirement already satisfied: google-auth-oauthlib<0.5,>=0.4.1 in /opt/conda/lib/python3.8/site-packages (from tensorboard==2.11.0) (0.4.6)\n",
      "Requirement already satisfied: markdown>=2.6.8 in /opt/conda/lib/python3.8/site-packages (from tensorboard==2.11.0) (3.3.4)\n",
      "Requirement already satisfied: numpy>=1.12.0 in /opt/conda/lib/python3.8/site-packages (from tensorboard==2.11.0) (1.24.3)\n",
      "Requirement already satisfied: protobuf<4,>=3.9.2 in /opt/conda/lib/python3.8/site-packages (from tensorboard==2.11.0) (3.20.1)\n",
      "Requirement already satisfied: requests<3,>=2.21.0 in /opt/conda/lib/python3.8/site-packages (from tensorboard==2.11.0) (2.32.3)\n",
      "Requirement already satisfied: setuptools>=41.0.0 in /opt/conda/lib/python3.8/site-packages (from tensorboard==2.11.0) (65.6.3)\n",
      "Requirement already satisfied: tensorboard-data-server<0.7.0,>=0.6.0 in /opt/conda/lib/python3.8/site-packages (from tensorboard==2.11.0) (0.6.1)\n",
      "Requirement already satisfied: tensorboard-plugin-wit>=1.6.0 in /opt/conda/lib/python3.8/site-packages (from tensorboard==2.11.0) (1.8.1)\n",
      "Requirement already satisfied: werkzeug>=1.0.1 in /opt/conda/lib/python3.8/site-packages (from tensorboard==2.11.0) (2.2.2)\n",
      "Requirement already satisfied: wheel>=0.26 in /opt/conda/lib/python3.8/site-packages (from tensorboard==2.11.0) (0.38.4)\n",
      "Requirement already satisfied: cachetools<6.0,>=2.0.0 in /opt/conda/lib/python3.8/site-packages (from google-auth<3,>=1.6.3->tensorboard==2.11.0) (5.2.1)\n",
      "Requirement already satisfied: pyasn1-modules>=0.2.1 in /opt/conda/lib/python3.8/site-packages (from google-auth<3,>=1.6.3->tensorboard==2.11.0) (0.2.8)\n",
      "Requirement already satisfied: six>=1.9.0 in /opt/conda/lib/python3.8/site-packages (from google-auth<3,>=1.6.3->tensorboard==2.11.0) (1.15.0)\n",
      "Requirement already satisfied: rsa<5,>=3.1.4 in /opt/conda/lib/python3.8/site-packages (from google-auth<3,>=1.6.3->tensorboard==2.11.0) (4.9)\n",
      "Requirement already satisfied: requests-oauthlib>=0.7.0 in /opt/conda/lib/python3.8/site-packages (from google-auth-oauthlib<0.5,>=0.4.1->tensorboard==2.11.0) (1.3.1)\n",
      "Requirement already satisfied: charset-normalizer<4,>=2 in /opt/conda/lib/python3.8/site-packages (from requests<3,>=2.21.0->tensorboard==2.11.0) (2.1.1)\n",
      "Requirement already satisfied: idna<4,>=2.5 in /opt/conda/lib/python3.8/site-packages (from requests<3,>=2.21.0->tensorboard==2.11.0) (3.7)\n",
      "Requirement already satisfied: urllib3<3,>=1.21.1 in /opt/conda/lib/python3.8/site-packages (from requests<3,>=2.21.0->tensorboard==2.11.0) (1.26.13)\n",
      "Requirement already satisfied: certifi>=2017.4.17 in /opt/conda/lib/python3.8/site-packages (from requests<3,>=2.21.0->tensorboard==2.11.0) (2022.12.7)\n",
      "Requirement already satisfied: MarkupSafe>=2.1.1 in /opt/conda/lib/python3.8/site-packages (from werkzeug>=1.0.1->tensorboard==2.11.0) (2.1.1)\n",
      "Requirement already satisfied: pyasn1<0.5.0,>=0.4.6 in /opt/conda/lib/python3.8/site-packages (from pyasn1-modules>=0.2.1->google-auth<3,>=1.6.3->tensorboard==2.11.0) (0.4.8)\n",
      "Requirement already satisfied: oauthlib>=3.0.0 in /opt/conda/lib/python3.8/site-packages (from requests-oauthlib>=0.7.0->google-auth-oauthlib<0.5,>=0.4.1->tensorboard==2.11.0) (3.2.2)\n",
      "\u001b[33mWARNING: Error parsing dependencies of gym: Expected matching RIGHT_PARENTHESIS for LEFT_PARENTHESIS, after version specifier\n",
      "    opencv-python (>=3.) ; extra == 'all'\n",
      "                  ~~~~^\u001b[0m\u001b[33m\n",
      "\u001b[0m\u001b[33mWARNING: Running pip as the 'root' user can result in broken permissions and conflicting behaviour with the system package manager, possibly rendering your system unusable. It is recommended to use a virtual environment instead: https://pip.pypa.io/warnings/venv. Use the --root-user-action option if you know what you are doing and want to suppress this warning.\u001b[0m\u001b[33m\n",
      "\u001b[0m"
     ]
    }
   ],
   "source": [
    "!pip install ultralytics \n",
    "!pip install onnx\n",
    "!pip install onnx_tf\n",
    "!pip install protobuf==3.20.1\n",
    "!pip install keras==2.11.0 \n",
    "!pip install tensorflow-estimator==2.11.0\n",
    "!pip install tensorboard==2.11.0"
   ]
  },
  {
   "cell_type": "code",
   "execution_count": 3,
   "id": "e418c6ef",
   "metadata": {
    "ExecuteTime": {
     "end_time": "2025-05-20T16:14:17.142785Z",
     "start_time": "2025-05-20T16:14:17.132663Z"
    }
   },
   "outputs": [],
   "source": [
    "import os\n",
    "import torch\n",
    "import torch.nn as nn\n",
    "from torchinfo import summary\n",
    "from ultralytics import YOLO  \n",
    "from ultralytics.nn.modules.conv import Conv , Concat     \n",
    "from ultralytics.nn.modules.block import C2f, SPPF\n",
    "from ultralytics.nn.modules.head import Detect\n",
    "from tqdm import tqdm"
   ]
  },
  {
   "cell_type": "code",
   "execution_count": 4,
   "id": "780525f2",
   "metadata": {
    "ExecuteTime": {
     "end_time": "2025-05-20T16:14:21.489589Z",
     "start_time": "2025-05-20T16:14:21.411565Z"
    }
   },
   "outputs": [
    {
     "name": "stdout",
     "output_type": "stream",
     "text": [
      "Torch Cuda - GPU informaiton:\n",
      "availablity:  True\n",
      "name:  NVIDIA GeForce RTX 3090\n",
      "properties:  _CudaDeviceProperties(name='NVIDIA GeForce RTX 3090', major=8, minor=6, total_memory=24252MB, multi_processor_count=82)\n"
     ]
    }
   ],
   "source": [
    "print(\"Torch Cuda - GPU informaiton:\")\n",
    "print(\"availablity: \", torch.cuda.is_available())\n",
    "print(\"name: \", torch.cuda.get_device_name())\n",
    "print(\"properties: \", torch.cuda.get_device_properties(device= 0))\n"
   ]
  },
  {
   "cell_type": "code",
   "execution_count": 5,
   "id": "1cdb2bc1",
   "metadata": {
    "ExecuteTime": {
     "end_time": "2025-05-20T16:14:23.703814Z",
     "start_time": "2025-05-20T16:14:23.694066Z"
    }
   },
   "outputs": [],
   "source": [
    "ROOT_DIR= '/root/Desktop/workspace/Realtime Obstacle Detector/dataset/' #our dataset's directory\n",
    "DATA_YAML= os.path.join(ROOT_DIR, 'data.yaml') #dataset yaml file\n",
    "DEVICE= 'cuda' if torch.cuda.is_available() else 'cpu' #device declearation for model traning\n",
    "IMG_SIZE= 640 #size of image and input tensors\n",
    "BATCH_SIZE= 16\n",
    "EPOCHS= 100"
   ]
  },
  {
   "cell_type": "markdown",
   "id": "055ced79",
   "metadata": {},
   "source": [
    "# Early Exit Implementation in YOLOv8n"
   ]
  },
  {
   "cell_type": "code",
   "execution_count": 6,
   "id": "a27be707",
   "metadata": {
    "ExecuteTime": {
     "end_time": "2025-05-20T16:14:27.488403Z",
     "start_time": "2025-05-20T16:14:27.032570Z"
    }
   },
   "outputs": [
    {
     "data": {
      "text/plain": [
       "================================================================================\n",
       "Layer (type:depth-idx)                                  Param #\n",
       "================================================================================\n",
       "YOLO                                                    --\n",
       "├─DetectionModel: 1-1                                   --\n",
       "│    └─Sequential: 2-1                                  --\n",
       "│    │    └─Conv: 3-1                                   464\n",
       "│    │    └─Conv: 3-2                                   4,672\n",
       "│    │    └─C2f: 3-3                                    7,360\n",
       "│    │    └─Detect: 3-4                                 147,168\n",
       "│    │    └─Conv: 3-5                                   18,560\n",
       "│    │    └─C2f: 3-6                                    49,664\n",
       "│    │    └─Detect: 3-7                                 188,640\n",
       "│    │    └─Conv: 3-8                                   73,984\n",
       "│    │    └─C2f: 3-9                                    197,632\n",
       "│    │    └─Detect: 3-10                                420,768\n",
       "│    │    └─Conv: 3-11                                  295,424\n",
       "│    │    └─C2f: 3-12                                   460,288\n",
       "│    │    └─Detect: 3-13                                1,389,984\n",
       "│    │    └─SPPF: 3-14                                  164,608\n",
       "│    │    └─Upsample: 3-15                              --\n",
       "│    │    └─Concat: 3-16                                --\n",
       "│    │    └─C2f: 3-17                                   148,224\n",
       "│    │    └─Upsample: 3-18                              --\n",
       "│    │    └─Concat: 3-19                                --\n",
       "│    │    └─C2f: 3-20                                   37,248\n",
       "│    │    └─Conv: 3-21                                  36,992\n",
       "│    │    └─Concat: 3-22                                --\n",
       "│    │    └─C2f: 3-23                                   123,648\n",
       "│    │    └─Conv: 3-24                                  147,712\n",
       "│    │    └─Concat: 3-25                                --\n",
       "│    │    └─C2f: 3-26                                   493,056\n",
       "│    │    └─Detect: 3-27                                897,664\n",
       "================================================================================\n",
       "Total params: 5,303,760\n",
       "Trainable params: 5,303,680\n",
       "Non-trainable params: 80\n",
       "================================================================================"
      ]
     },
     "execution_count": 6,
     "metadata": {},
     "output_type": "execute_result"
    }
   ],
   "source": [
    "#importing model's yaml file\n",
    "model = YOLO('yolov8n_ee.yaml')\n",
    "summary(model)"
   ]
  },
  {
   "cell_type": "markdown",
   "id": "88ec04f7",
   "metadata": {},
   "source": [
    "### Train with yaml file\n",
    "Here we will train our new model with its new structure which has been extracted from yolov8n-ee yaml file.\n",
    "\n",
    "This section is just a test of imported model's training and results"
   ]
  },
  {
   "cell_type": "code",
   "execution_count": null,
   "id": "9555cc39",
   "metadata": {
    "ExecuteTime": {
     "start_time": "2025-05-20T09:59:14.907Z"
    }
   },
   "outputs": [
    {
     "name": "stdout",
     "output_type": "stream",
     "text": [
      "New https://pypi.org/project/ultralytics/8.3.140 available 😃 Update with 'pip install -U ultralytics'\n",
      "Ultralytics 8.3.113 🚀 Python-3.8.10 torch-2.4.1+cu121 CUDA:0 (NVIDIA GeForce RTX 3090, 24253MiB)\n",
      "\u001b[34m\u001b[1mengine/trainer: \u001b[0mtask=detect, mode=train, model=yolov8n_ee.yaml, data=/root/Desktop/workspace/Realtime Obstacle Detector/dataset/data.yaml, epochs=100, time=None, patience=100, batch=16, imgsz=640, save=True, save_period=-1, cache=False, device=cuda, workers=8, project=None, name=yolov8n-ee14, exist_ok=False, pretrained=True, optimizer=auto, verbose=True, seed=0, deterministic=True, single_cls=False, rect=False, cos_lr=False, close_mosaic=10, resume=False, amp=True, fraction=1.0, profile=False, freeze=None, multi_scale=False, overlap_mask=True, mask_ratio=4, dropout=0.0, val=True, split=val, save_json=False, conf=None, iou=0.7, max_det=300, half=False, dnn=False, plots=True, source=None, vid_stride=1, stream_buffer=False, visualize=False, augment=False, agnostic_nms=False, classes=None, retina_masks=False, embed=None, show=False, save_frames=False, save_txt=False, save_conf=False, save_crop=False, show_labels=True, show_conf=True, show_boxes=True, line_width=None, format=torchscript, keras=False, optimize=False, int8=False, dynamic=False, simplify=True, opset=None, workspace=None, nms=False, lr0=0.01, lrf=0.01, momentum=0.937, weight_decay=0.0005, warmup_epochs=3.0, warmup_momentum=0.8, warmup_bias_lr=0.1, box=7.5, cls=0.5, dfl=1.5, pose=12.0, kobj=1.0, nbs=64, hsv_h=0.015, hsv_s=0.7, hsv_v=0.4, degrees=0.0, translate=0.1, scale=0.5, shear=0.0, perspective=0.0, flipud=0.0, fliplr=0.5, bgr=0.0, mosaic=1.0, mixup=0.0, copy_paste=0.0, copy_paste_mode=flip, auto_augment=randaugment, erasing=0.4, cfg=None, tracker=botsort.yaml, save_dir=runs/detect/yolov8n-ee14\n",
      "Overriding model.yaml nc=80 with nc=18\n",
      "\n",
      "                   from  n    params  module                                       arguments                     \n",
      "  0                  -1  1       464  ultralytics.nn.modules.conv.Conv             [3, 16, 3, 2]                 \n",
      "  1                  -1  1      4672  ultralytics.nn.modules.conv.Conv             [16, 32, 3, 2]                \n",
      "  2                  -1  1      7360  ultralytics.nn.modules.block.C2f             [32, 32, 1, True]             \n",
      "  3                 [2]  1     78882  ultralytics.nn.modules.head.Detect           [18, [32]]                    \n",
      "  4                   2  1     18560  ultralytics.nn.modules.conv.Conv             [32, 64, 3, 2]                \n",
      "  5                  -1  2     49664  ultralytics.nn.modules.block.C2f             [64, 64, 2, True]             \n",
      "  6                 [5]  1    153314  ultralytics.nn.modules.head.Detect           [18, [64]]                    \n",
      "  7                   5  1     73984  ultralytics.nn.modules.conv.Conv             [64, 128, 3, 2]               \n",
      "  8                  -1  2    197632  ultralytics.nn.modules.block.C2f             [128, 128, 2, True]           \n",
      "  9                 [8]  1    412770  ultralytics.nn.modules.head.Detect           [18, [128]]                   \n",
      " 10                   8  1    295424  ultralytics.nn.modules.conv.Conv             [128, 256, 3, 2]              \n",
      " 11                  -1  1    460288  ultralytics.nn.modules.block.C2f             [256, 256, 1, True]           \n",
      " 12                [11]  1   1374050  ultralytics.nn.modules.head.Detect           [18, [256]]                   \n",
      " 13                  11  1    164608  ultralytics.nn.modules.block.SPPF            [256, 256, 5]                 \n",
      " 14                  -1  1         0  torch.nn.modules.upsampling.Upsample         [None, 2, 'nearest']          \n",
      " 15             [-1, 8]  1         0  ultralytics.nn.modules.conv.Concat           [1]                           \n",
      " 16                  -1  1    148224  ultralytics.nn.modules.block.C2f             [384, 128, 1]                 \n",
      " 17                  -1  1         0  torch.nn.modules.upsampling.Upsample         [None, 2, 'nearest']          \n",
      " 18             [-1, 5]  1         0  ultralytics.nn.modules.conv.Concat           [1]                           \n",
      " 19                  -1  1     37248  ultralytics.nn.modules.block.C2f             [192, 64, 1]                  \n",
      " 20                  -1  1     36992  ultralytics.nn.modules.conv.Conv             [64, 64, 3, 2]                \n",
      " 21            [-1, 16]  1         0  ultralytics.nn.modules.conv.Concat           [1]                           \n",
      " 22                  -1  1    123648  ultralytics.nn.modules.block.C2f             [192, 128, 1]                 \n",
      " 23                  -1  1    147712  ultralytics.nn.modules.conv.Conv             [128, 128, 3, 2]              \n",
      " 24            [-1, 13]  1         0  ultralytics.nn.modules.conv.Concat           [1]                           \n",
      " 25                  -1  1    493056  ultralytics.nn.modules.block.C2f             [384, 256, 1]                 \n",
      " 26        [19, 22, 25]  1    754822  ultralytics.nn.modules.head.Detect           [18, [64, 128, 256]]          \n",
      "YOLOv8n_ee summary: 173 layers, 5,033,374 parameters, 5,033,294 gradients, 16.7 GFLOPs\n",
      "\n",
      "\u001b[34m\u001b[1mTensorBoard: \u001b[0mStart with 'tensorboard --logdir runs/detect/yolov8n-ee14', view at http://localhost:6006/\n",
      "Freezing layer 'model.3.dfl.conv.weight'\n",
      "Freezing layer 'model.6.dfl.conv.weight'\n",
      "Freezing layer 'model.9.dfl.conv.weight'\n",
      "Freezing layer 'model.12.dfl.conv.weight'\n",
      "Freezing layer 'model.26.dfl.conv.weight'\n",
      "\u001b[34m\u001b[1mAMP: \u001b[0mrunning Automatic Mixed Precision (AMP) checks...\n",
      "\u001b[34m\u001b[1mAMP: \u001b[0mchecks passed ✅\n",
      "\u001b[34m\u001b[1mtrain: \u001b[0mFast image access ✅ (ping: 0.0±0.0 ms, read: 959.4±690.5 MB/s, size: 63.0 KB)\n"
     ]
    },
    {
     "name": "stderr",
     "output_type": "stream",
     "text": [
      "\u001b[34m\u001b[1mtrain: \u001b[0mScanning /workspace/Realtime Obstacle Detector/dataset/train/labels.cache... 13937 images, 83 backgrounds, 1 corrupt: 100%|██████████| 13938/13938 [00:00<?, ?it/s]"
     ]
    },
    {
     "name": "stdout",
     "output_type": "stream",
     "text": [
      "\u001b[34m\u001b[1mtrain: \u001b[0m/workspace/Realtime Obstacle Detector/dataset/train/images/05537_jpg.rf.db86bf571f23f174b2be34da3c8cae9c.jpg: ignoring corrupt image/label: image file is truncated (31 bytes not processed)\n",
      "WARNING ⚠️ Box and segment counts should be equal, but got len(segments) = 3889, len(boxes) = 25109. To resolve this only boxes will be used and all segments will be removed. To avoid this please supply either a detect or segment dataset, not a detect-segment mixed dataset.\n"
     ]
    },
    {
     "name": "stderr",
     "output_type": "stream",
     "text": [
      "\n"
     ]
    },
    {
     "name": "stdout",
     "output_type": "stream",
     "text": [
      "\u001b[34m\u001b[1mval: \u001b[0mFast image access ✅ (ping: 0.0±0.0 ms, read: 305.5±195.3 MB/s, size: 53.9 KB)\n"
     ]
    },
    {
     "name": "stderr",
     "output_type": "stream",
     "text": [
      "\u001b[34m\u001b[1mval: \u001b[0mScanning /workspace/Realtime Obstacle Detector/dataset/valid/labels.cache... 2717 images, 11 backgrounds, 0 corrupt: 100%|██████████| 2717/2717 [00:00<?, ?it/s]"
     ]
    },
    {
     "name": "stdout",
     "output_type": "stream",
     "text": [
      "WARNING ⚠️ Box and segment counts should be equal, but got len(segments) = 800, len(boxes) = 4493. To resolve this only boxes will be used and all segments will be removed. To avoid this please supply either a detect or segment dataset, not a detect-segment mixed dataset.\n"
     ]
    },
    {
     "name": "stderr",
     "output_type": "stream",
     "text": [
      "\n"
     ]
    },
    {
     "name": "stdout",
     "output_type": "stream",
     "text": [
      "Plotting labels to runs/detect/yolov8n-ee14/labels.jpg... \n",
      "\u001b[34m\u001b[1moptimizer:\u001b[0m 'optimizer=auto' found, ignoring 'lr0=0.01' and 'momentum=0.937' and determining best 'optimizer', 'lr0' and 'momentum' automatically... \n",
      "\u001b[34m\u001b[1moptimizer:\u001b[0m SGD(lr=0.01, momentum=0.9) with parameter groups 73 weight(decay=0.0), 92 weight(decay=0.0005), 87 bias(decay=0.0)\n",
      "\u001b[34m\u001b[1mTensorBoard: \u001b[0mmodel graph visualization added ✅\n",
      "Image sizes 640 train, 640 val\n",
      "Using 8 dataloader workers\n",
      "Logging results to \u001b[1mruns/detect/yolov8n-ee14\u001b[0m\n",
      "Starting training for 100 epochs...\n",
      "\n",
      "      Epoch    GPU_mem   box_loss   cls_loss   dfl_loss  Instances       Size\n"
     ]
    },
    {
     "name": "stderr",
     "output_type": "stream",
     "text": [
      "      1/100      4.56G      3.167      4.757      4.028          1        640: 100%|██████████| 872/872 [01:50<00:00,  7.91it/s]\n",
      "                 Class     Images  Instances      Box(P          R      mAP50  mAP50-95): 100%|██████████| 85/85 [00:19<00:00,  4.39it/s]\n"
     ]
    },
    {
     "name": "stdout",
     "output_type": "stream",
     "text": [
      "                   all       2717       4493    0.00265      0.235    0.00617    0.00146\n",
      "\n",
      "      Epoch    GPU_mem   box_loss   cls_loss   dfl_loss  Instances       Size\n"
     ]
    },
    {
     "name": "stderr",
     "output_type": "stream",
     "text": [
      "      2/100      4.78G      2.227      3.859      2.795          4        640: 100%|██████████| 872/872 [01:42<00:00,  8.47it/s]\n",
      "                 Class     Images  Instances      Box(P          R      mAP50  mAP50-95): 100%|██████████| 85/85 [00:12<00:00,  6.78it/s]\n"
     ]
    },
    {
     "name": "stdout",
     "output_type": "stream",
     "text": [
      "                   all       2717       4493      0.594      0.176      0.163     0.0796\n",
      "\n",
      "      Epoch    GPU_mem   box_loss   cls_loss   dfl_loss  Instances       Size\n"
     ]
    },
    {
     "name": "stderr",
     "output_type": "stream",
     "text": [
      "      3/100      4.78G      1.728      3.035       2.23          7        640: 100%|██████████| 872/872 [01:39<00:00,  8.77it/s]\n",
      "                 Class     Images  Instances      Box(P          R      mAP50  mAP50-95): 100%|██████████| 85/85 [00:12<00:00,  6.76it/s]\n"
     ]
    },
    {
     "name": "stdout",
     "output_type": "stream",
     "text": [
      "                   all       2717       4493      0.455      0.287      0.262      0.135\n",
      "\n",
      "      Epoch    GPU_mem   box_loss   cls_loss   dfl_loss  Instances       Size\n"
     ]
    },
    {
     "name": "stderr",
     "output_type": "stream",
     "text": [
      "      4/100      4.78G      1.567      2.526      2.006          3        640: 100%|██████████| 872/872 [01:39<00:00,  8.74it/s]\n",
      "                 Class     Images  Instances      Box(P          R      mAP50  mAP50-95): 100%|██████████| 85/85 [00:12<00:00,  7.00it/s]\n"
     ]
    },
    {
     "name": "stdout",
     "output_type": "stream",
     "text": [
      "                   all       2717       4493      0.474      0.415      0.391      0.234\n",
      "\n",
      "      Epoch    GPU_mem   box_loss   cls_loss   dfl_loss  Instances       Size\n"
     ]
    },
    {
     "name": "stderr",
     "output_type": "stream",
     "text": [
      "      5/100      4.78G      1.463      2.195      1.871          2        640: 100%|██████████| 872/872 [01:39<00:00,  8.76it/s]\n",
      "                 Class     Images  Instances      Box(P          R      mAP50  mAP50-95): 100%|██████████| 85/85 [00:12<00:00,  6.99it/s]\n"
     ]
    },
    {
     "name": "stdout",
     "output_type": "stream",
     "text": [
      "                   all       2717       4493      0.511      0.419      0.424      0.261\n",
      "\n",
      "      Epoch    GPU_mem   box_loss   cls_loss   dfl_loss  Instances       Size\n"
     ]
    },
    {
     "name": "stderr",
     "output_type": "stream",
     "text": [
      "      6/100      4.78G      1.404      1.996      1.805          3        640: 100%|██████████| 872/872 [01:38<00:00,  8.88it/s]\n",
      "                 Class     Images  Instances      Box(P          R      mAP50  mAP50-95): 100%|██████████| 85/85 [00:12<00:00,  6.87it/s]\n"
     ]
    },
    {
     "name": "stdout",
     "output_type": "stream",
     "text": [
      "                   all       2717       4493       0.65      0.499      0.556      0.356\n",
      "\n",
      "      Epoch    GPU_mem   box_loss   cls_loss   dfl_loss  Instances       Size\n"
     ]
    },
    {
     "name": "stderr",
     "output_type": "stream",
     "text": [
      "      7/100      4.78G      1.345       1.86      1.746          3        640: 100%|██████████| 872/872 [01:39<00:00,  8.79it/s]\n",
      "                 Class     Images  Instances      Box(P          R      mAP50  mAP50-95): 100%|██████████| 85/85 [00:11<00:00,  7.26it/s]\n"
     ]
    },
    {
     "name": "stdout",
     "output_type": "stream",
     "text": [
      "                   all       2717       4493      0.646      0.543      0.577      0.367\n",
      "\n",
      "      Epoch    GPU_mem   box_loss   cls_loss   dfl_loss  Instances       Size\n"
     ]
    },
    {
     "name": "stderr",
     "output_type": "stream",
     "text": [
      "      8/100      4.78G      1.317      1.761      1.718          1        640: 100%|██████████| 872/872 [01:38<00:00,  8.87it/s]\n",
      "                 Class     Images  Instances      Box(P          R      mAP50  mAP50-95): 100%|██████████| 85/85 [00:12<00:00,  6.65it/s]\n"
     ]
    },
    {
     "name": "stdout",
     "output_type": "stream",
     "text": [
      "                   all       2717       4493      0.643      0.586      0.616      0.404\n",
      "\n",
      "      Epoch    GPU_mem   box_loss   cls_loss   dfl_loss  Instances       Size\n"
     ]
    },
    {
     "name": "stderr",
     "output_type": "stream",
     "text": [
      "      9/100      4.78G      1.285      1.686      1.679          4        640: 100%|██████████| 872/872 [01:39<00:00,  8.80it/s]\n",
      "                 Class     Images  Instances      Box(P          R      mAP50  mAP50-95): 100%|██████████| 85/85 [00:11<00:00,  7.29it/s]\n"
     ]
    },
    {
     "name": "stdout",
     "output_type": "stream",
     "text": [
      "                   all       2717       4493       0.64      0.587      0.621      0.413\n",
      "\n",
      "      Epoch    GPU_mem   box_loss   cls_loss   dfl_loss  Instances       Size\n"
     ]
    },
    {
     "name": "stderr",
     "output_type": "stream",
     "text": [
      "     10/100      4.78G      1.254      1.598      1.648          2        640: 100%|██████████| 872/872 [01:39<00:00,  8.72it/s]\n",
      "                 Class     Images  Instances      Box(P          R      mAP50  mAP50-95): 100%|██████████| 85/85 [00:11<00:00,  7.11it/s]\n"
     ]
    },
    {
     "name": "stdout",
     "output_type": "stream",
     "text": [
      "                   all       2717       4493      0.694      0.614      0.656      0.444\n",
      "\n",
      "      Epoch    GPU_mem   box_loss   cls_loss   dfl_loss  Instances       Size\n"
     ]
    },
    {
     "name": "stderr",
     "output_type": "stream",
     "text": [
      "     11/100      4.78G      1.231      1.545       1.63          2        640: 100%|██████████| 872/872 [01:37<00:00,  8.91it/s]\n",
      "                 Class     Images  Instances      Box(P          R      mAP50  mAP50-95): 100%|██████████| 85/85 [00:11<00:00,  7.27it/s]\n"
     ]
    },
    {
     "name": "stdout",
     "output_type": "stream",
     "text": [
      "                   all       2717       4493      0.754      0.611      0.689      0.474\n",
      "\n",
      "      Epoch    GPU_mem   box_loss   cls_loss   dfl_loss  Instances       Size\n"
     ]
    },
    {
     "name": "stderr",
     "output_type": "stream",
     "text": [
      "     12/100      4.78G      1.205      1.492      1.604          7        640: 100%|██████████| 872/872 [01:36<00:00,  9.08it/s]\n",
      "                 Class     Images  Instances      Box(P          R      mAP50  mAP50-95): 100%|██████████| 85/85 [00:11<00:00,  7.19it/s]\n"
     ]
    },
    {
     "name": "stdout",
     "output_type": "stream",
     "text": [
      "                   all       2717       4493      0.738      0.633      0.696       0.48\n",
      "\n",
      "      Epoch    GPU_mem   box_loss   cls_loss   dfl_loss  Instances       Size\n"
     ]
    },
    {
     "name": "stderr",
     "output_type": "stream",
     "text": [
      "     13/100      4.78G      1.201      1.463      1.598          3        640: 100%|██████████| 872/872 [01:38<00:00,  8.85it/s]\n",
      "                 Class     Images  Instances      Box(P          R      mAP50  mAP50-95): 100%|██████████| 85/85 [00:12<00:00,  7.00it/s]\n"
     ]
    },
    {
     "name": "stdout",
     "output_type": "stream",
     "text": [
      "                   all       2717       4493      0.766      0.606      0.701      0.481\n",
      "\n",
      "      Epoch    GPU_mem   box_loss   cls_loss   dfl_loss  Instances       Size\n"
     ]
    },
    {
     "name": "stderr",
     "output_type": "stream",
     "text": [
      "     14/100      4.78G      1.187      1.429      1.586          4        640: 100%|██████████| 872/872 [01:38<00:00,  8.85it/s]\n",
      "                 Class     Images  Instances      Box(P          R      mAP50  mAP50-95): 100%|██████████| 85/85 [00:11<00:00,  7.28it/s]\n"
     ]
    },
    {
     "name": "stdout",
     "output_type": "stream",
     "text": [
      "                   all       2717       4493      0.792      0.644      0.721      0.514\n",
      "\n",
      "      Epoch    GPU_mem   box_loss   cls_loss   dfl_loss  Instances       Size\n"
     ]
    },
    {
     "name": "stderr",
     "output_type": "stream",
     "text": [
      "     15/100      4.78G      1.164      1.398      1.569          2        640: 100%|██████████| 872/872 [01:39<00:00,  8.77it/s]\n",
      "                 Class     Images  Instances      Box(P          R      mAP50  mAP50-95): 100%|██████████| 85/85 [00:11<00:00,  7.27it/s]\n"
     ]
    },
    {
     "name": "stdout",
     "output_type": "stream",
     "text": [
      "                   all       2717       4493      0.785      0.659      0.737      0.517\n",
      "\n",
      "      Epoch    GPU_mem   box_loss   cls_loss   dfl_loss  Instances       Size\n"
     ]
    },
    {
     "name": "stderr",
     "output_type": "stream",
     "text": [
      "     16/100      4.78G      1.163      1.355       1.56          2        640: 100%|██████████| 872/872 [01:38<00:00,  8.85it/s]\n",
      "                 Class     Images  Instances      Box(P          R      mAP50  mAP50-95): 100%|██████████| 85/85 [00:11<00:00,  7.43it/s]\n"
     ]
    },
    {
     "name": "stdout",
     "output_type": "stream",
     "text": [
      "                   all       2717       4493      0.778      0.687      0.742      0.531\n",
      "\n",
      "      Epoch    GPU_mem   box_loss   cls_loss   dfl_loss  Instances       Size\n"
     ]
    },
    {
     "name": "stderr",
     "output_type": "stream",
     "text": [
      "     17/100      4.78G      1.141      1.321      1.542          4        640: 100%|██████████| 872/872 [01:38<00:00,  8.81it/s]\n",
      "                 Class     Images  Instances      Box(P          R      mAP50  mAP50-95): 100%|██████████| 85/85 [00:12<00:00,  6.86it/s]\n"
     ]
    },
    {
     "name": "stdout",
     "output_type": "stream",
     "text": [
      "                   all       2717       4493      0.777      0.696      0.755      0.537\n",
      "\n",
      "      Epoch    GPU_mem   box_loss   cls_loss   dfl_loss  Instances       Size\n"
     ]
    },
    {
     "name": "stderr",
     "output_type": "stream",
     "text": [
      "     18/100      5.06G      1.132      1.306      1.533          4        640: 100%|██████████| 872/872 [01:36<00:00,  9.04it/s]\n",
      "                 Class     Images  Instances      Box(P          R      mAP50  mAP50-95): 100%|██████████| 85/85 [00:11<00:00,  7.39it/s]\n"
     ]
    },
    {
     "name": "stdout",
     "output_type": "stream",
     "text": [
      "                   all       2717       4493       0.77      0.689      0.746      0.532\n",
      "\n",
      "      Epoch    GPU_mem   box_loss   cls_loss   dfl_loss  Instances       Size\n"
     ]
    },
    {
     "name": "stderr",
     "output_type": "stream",
     "text": [
      "     19/100      5.06G      1.122      1.281      1.522          2        640: 100%|██████████| 872/872 [01:38<00:00,  8.89it/s]\n",
      "                 Class     Images  Instances      Box(P          R      mAP50  mAP50-95): 100%|██████████| 85/85 [00:12<00:00,  6.97it/s]\n"
     ]
    },
    {
     "name": "stdout",
     "output_type": "stream",
     "text": [
      "                   all       2717       4493      0.801      0.691      0.767      0.548\n",
      "\n",
      "      Epoch    GPU_mem   box_loss   cls_loss   dfl_loss  Instances       Size\n"
     ]
    },
    {
     "name": "stderr",
     "output_type": "stream",
     "text": [
      "     20/100      5.06G      1.106      1.247      1.512          3        640: 100%|██████████| 872/872 [01:36<00:00,  9.04it/s]\n",
      "                 Class     Images  Instances      Box(P          R      mAP50  mAP50-95): 100%|██████████| 85/85 [00:11<00:00,  7.40it/s]\n"
     ]
    },
    {
     "name": "stdout",
     "output_type": "stream",
     "text": [
      "                   all       2717       4493      0.828      0.665      0.761       0.55\n",
      "\n",
      "      Epoch    GPU_mem   box_loss   cls_loss   dfl_loss  Instances       Size\n"
     ]
    },
    {
     "name": "stderr",
     "output_type": "stream",
     "text": [
      "     21/100      5.06G      1.099      1.235      1.499          2        640: 100%|██████████| 872/872 [01:39<00:00,  8.73it/s]\n",
      "                 Class     Images  Instances      Box(P          R      mAP50  mAP50-95): 100%|██████████| 85/85 [00:11<00:00,  7.44it/s]\n"
     ]
    },
    {
     "name": "stdout",
     "output_type": "stream",
     "text": [
      "                   all       2717       4493      0.778      0.713      0.764      0.551\n",
      "\n",
      "      Epoch    GPU_mem   box_loss   cls_loss   dfl_loss  Instances       Size\n"
     ]
    },
    {
     "name": "stderr",
     "output_type": "stream",
     "text": [
      "     22/100      5.06G       1.09      1.216      1.488          3        640: 100%|██████████| 872/872 [01:37<00:00,  8.96it/s]\n",
      "                 Class     Images  Instances      Box(P          R      mAP50  mAP50-95): 100%|██████████| 85/85 [00:12<00:00,  6.98it/s]\n"
     ]
    },
    {
     "name": "stdout",
     "output_type": "stream",
     "text": [
      "                   all       2717       4493      0.766      0.711      0.778      0.569\n",
      "\n",
      "      Epoch    GPU_mem   box_loss   cls_loss   dfl_loss  Instances       Size\n"
     ]
    },
    {
     "name": "stderr",
     "output_type": "stream",
     "text": [
      "     23/100      5.06G      1.091      1.197       1.49          4        640: 100%|██████████| 872/872 [01:39<00:00,  8.78it/s]\n",
      "                 Class     Images  Instances      Box(P          R      mAP50  mAP50-95): 100%|██████████| 85/85 [00:11<00:00,  7.38it/s]\n"
     ]
    },
    {
     "name": "stdout",
     "output_type": "stream",
     "text": [
      "                   all       2717       4493      0.808      0.709      0.783      0.566\n",
      "\n",
      "      Epoch    GPU_mem   box_loss   cls_loss   dfl_loss  Instances       Size\n"
     ]
    },
    {
     "name": "stderr",
     "output_type": "stream",
     "text": [
      "     24/100      5.06G      1.083      1.183      1.478          2        640: 100%|██████████| 872/872 [01:36<00:00,  9.04it/s]\n",
      "                 Class     Images  Instances      Box(P          R      mAP50  mAP50-95): 100%|██████████| 85/85 [00:12<00:00,  7.06it/s]\n"
     ]
    },
    {
     "name": "stdout",
     "output_type": "stream",
     "text": [
      "                   all       2717       4493      0.805      0.722      0.785      0.567\n",
      "\n",
      "      Epoch    GPU_mem   box_loss   cls_loss   dfl_loss  Instances       Size\n"
     ]
    },
    {
     "name": "stderr",
     "output_type": "stream",
     "text": [
      "     25/100      5.06G       1.07      1.171      1.473          1        640: 100%|██████████| 872/872 [01:37<00:00,  8.91it/s]\n",
      "                 Class     Images  Instances      Box(P          R      mAP50  mAP50-95): 100%|██████████| 85/85 [00:11<00:00,  7.36it/s]\n"
     ]
    },
    {
     "name": "stdout",
     "output_type": "stream",
     "text": [
      "                   all       2717       4493      0.834      0.705      0.788      0.576\n",
      "\n",
      "      Epoch    GPU_mem   box_loss   cls_loss   dfl_loss  Instances       Size\n"
     ]
    },
    {
     "name": "stderr",
     "output_type": "stream",
     "text": [
      "     26/100      5.06G      1.066      1.153      1.467          9        640: 100%|██████████| 872/872 [01:36<00:00,  9.00it/s]\n",
      "     37/100      5.06G     0.9993      1.021      1.407          2        640: 100%|██████████| 872/872 [01:39<00:00,  8.76it/s]7.54it/s]\n",
      "                 Class     Images  Instances      Box(P          R      mAP50  mAP50-95): 100%|██████████| 85/85 [00:11<00:00,  7.29it/s]\n"
     ]
    },
    {
     "name": "stdout",
     "output_type": "stream",
     "text": [
      "                   all       2717       4493      0.778      0.771      0.815      0.616\n",
      "\n",
      "      Epoch    GPU_mem   box_loss   cls_loss   dfl_loss  Instances       Size\n"
     ]
    },
    {
     "name": "stderr",
     "output_type": "stream",
     "text": [
      "     38/100      5.06G     0.9971      1.017      1.402          4        640: 100%|██████████| 872/872 [01:37<00:00,  8.90it/s]\n",
      "                 Class     Images  Instances      Box(P          R      mAP50  mAP50-95): 100%|██████████| 85/85 [00:11<00:00,  7.09it/s]\n"
     ]
    },
    {
     "name": "stdout",
     "output_type": "stream",
     "text": [
      "                   all       2717       4493      0.794      0.781      0.823      0.623\n",
      "\n",
      "      Epoch    GPU_mem   box_loss   cls_loss   dfl_loss  Instances       Size\n"
     ]
    },
    {
     "name": "stderr",
     "output_type": "stream",
     "text": [
      "     39/100      5.06G     0.9849      1.001      1.391          4        640: 100%|██████████| 872/872 [01:36<00:00,  9.08it/s]\n",
      "                 Class     Images  Instances      Box(P          R      mAP50  mAP50-95): 100%|██████████| 85/85 [00:11<00:00,  7.38it/s]\n"
     ]
    },
    {
     "name": "stdout",
     "output_type": "stream",
     "text": [
      "                   all       2717       4493      0.837      0.735      0.824      0.621\n",
      "\n",
      "      Epoch    GPU_mem   box_loss   cls_loss   dfl_loss  Instances       Size\n"
     ]
    },
    {
     "name": "stderr",
     "output_type": "stream",
     "text": [
      "     40/100      5.06G     0.9904      1.011      1.397          1        640: 100%|██████████| 872/872 [01:38<00:00,  8.87it/s]\n",
      "                 Class     Images  Instances      Box(P          R      mAP50  mAP50-95): 100%|██████████| 85/85 [00:11<00:00,  7.48it/s]\n"
     ]
    },
    {
     "name": "stdout",
     "output_type": "stream",
     "text": [
      "                   all       2717       4493      0.801      0.789      0.831      0.632\n",
      "\n",
      "      Epoch    GPU_mem   box_loss   cls_loss   dfl_loss  Instances       Size\n"
     ]
    },
    {
     "name": "stderr",
     "output_type": "stream",
     "text": [
      "     41/100      5.06G     0.9821     0.9903      1.393          2        640: 100%|██████████| 872/872 [01:38<00:00,  8.87it/s]\n",
      "                 Class     Images  Instances      Box(P          R      mAP50  mAP50-95): 100%|██████████| 85/85 [00:11<00:00,  7.34it/s]\n"
     ]
    },
    {
     "name": "stdout",
     "output_type": "stream",
     "text": [
      "                   all       2717       4493      0.818      0.772       0.83      0.627\n",
      "\n",
      "      Epoch    GPU_mem   box_loss   cls_loss   dfl_loss  Instances       Size\n"
     ]
    },
    {
     "name": "stderr",
     "output_type": "stream",
     "text": [
      "     42/100      5.06G     0.9774     0.9829      1.387          9        640: 100%|██████████| 872/872 [01:37<00:00,  8.97it/s]\n",
      "                 Class     Images  Instances      Box(P          R      mAP50  mAP50-95): 100%|██████████| 85/85 [00:11<00:00,  7.37it/s]\n"
     ]
    },
    {
     "name": "stdout",
     "output_type": "stream",
     "text": [
      "                   all       2717       4493      0.836      0.749       0.83       0.63\n",
      "\n",
      "      Epoch    GPU_mem   box_loss   cls_loss   dfl_loss  Instances       Size\n"
     ]
    },
    {
     "name": "stderr",
     "output_type": "stream",
     "text": [
      "     43/100      5.06G     0.9777     0.9774      1.386          2        640: 100%|██████████| 872/872 [01:38<00:00,  8.86it/s]\n",
      "                 Class     Images  Instances      Box(P          R      mAP50  mAP50-95): 100%|██████████| 85/85 [00:11<00:00,  7.28it/s]\n"
     ]
    },
    {
     "name": "stdout",
     "output_type": "stream",
     "text": [
      "                   all       2717       4493      0.853      0.739       0.83      0.629\n",
      "\n",
      "      Epoch    GPU_mem   box_loss   cls_loss   dfl_loss  Instances       Size\n"
     ]
    },
    {
     "name": "stderr",
     "output_type": "stream",
     "text": [
      "     44/100      5.06G      0.958     0.9579      1.376          5        640: 100%|██████████| 872/872 [01:37<00:00,  8.92it/s]\n",
      "                 Class     Images  Instances      Box(P          R      mAP50  mAP50-95): 100%|██████████| 85/85 [00:11<00:00,  7.18it/s]\n"
     ]
    },
    {
     "name": "stdout",
     "output_type": "stream",
     "text": [
      "                   all       2717       4493      0.854      0.742      0.836      0.637\n",
      "\n",
      "      Epoch    GPU_mem   box_loss   cls_loss   dfl_loss  Instances       Size\n"
     ]
    },
    {
     "name": "stderr",
     "output_type": "stream",
     "text": [
      "     45/100      5.06G     0.9685     0.9571      1.379          3        640: 100%|██████████| 872/872 [01:38<00:00,  8.89it/s]\n",
      "                 Class     Images  Instances      Box(P          R      mAP50  mAP50-95): 100%|██████████| 85/85 [00:13<00:00,  6.36it/s]\n"
     ]
    },
    {
     "name": "stdout",
     "output_type": "stream",
     "text": [
      "                   all       2717       4493      0.845      0.749      0.837      0.638\n",
      "\n",
      "      Epoch    GPU_mem   box_loss   cls_loss   dfl_loss  Instances       Size\n"
     ]
    },
    {
     "name": "stderr",
     "output_type": "stream",
     "text": [
      "     46/100      5.06G     0.9581     0.9463      1.367          2        640: 100%|██████████| 872/872 [01:37<00:00,  8.96it/s]\n",
      "                 Class     Images  Instances      Box(P          R      mAP50  mAP50-95): 100%|██████████| 85/85 [00:11<00:00,  7.44it/s]\n"
     ]
    },
    {
     "name": "stdout",
     "output_type": "stream",
     "text": [
      "                   all       2717       4493      0.817      0.788      0.838      0.639\n",
      "\n",
      "      Epoch    GPU_mem   box_loss   cls_loss   dfl_loss  Instances       Size\n"
     ]
    },
    {
     "name": "stderr",
     "output_type": "stream",
     "text": [
      "     47/100      5.06G     0.9555     0.9499      1.366          8        640: 100%|██████████| 872/872 [01:39<00:00,  8.79it/s]\n",
      "                 Class     Images  Instances      Box(P          R      mAP50  mAP50-95): 100%|██████████| 85/85 [00:11<00:00,  7.10it/s]\n"
     ]
    },
    {
     "name": "stdout",
     "output_type": "stream",
     "text": [
      "                   all       2717       4493      0.822      0.789      0.839       0.64\n",
      "\n",
      "      Epoch    GPU_mem   box_loss   cls_loss   dfl_loss  Instances       Size\n"
     ]
    },
    {
     "name": "stderr",
     "output_type": "stream",
     "text": [
      "     48/100      5.34G     0.9603      0.944      1.367          5        640: 100%|██████████| 872/872 [01:36<00:00,  9.00it/s]\n",
      "                 Class     Images  Instances      Box(P          R      mAP50  mAP50-95): 100%|██████████| 85/85 [00:11<00:00,  7.38it/s]\n"
     ]
    },
    {
     "name": "stdout",
     "output_type": "stream",
     "text": [
      "                   all       2717       4493        0.8      0.808      0.841      0.642\n",
      "\n",
      "      Epoch    GPU_mem   box_loss   cls_loss   dfl_loss  Instances       Size\n"
     ]
    },
    {
     "name": "stderr",
     "output_type": "stream",
     "text": [
      "     49/100      5.34G     0.9479     0.9331      1.358          5        640: 100%|██████████| 872/872 [01:40<00:00,  8.70it/s]\n",
      "                 Class     Images  Instances      Box(P          R      mAP50  mAP50-95): 100%|██████████| 85/85 [00:11<00:00,  7.20it/s]\n"
     ]
    },
    {
     "name": "stdout",
     "output_type": "stream",
     "text": [
      "                   all       2717       4493      0.833      0.763      0.843      0.644\n",
      "\n",
      "      Epoch    GPU_mem   box_loss   cls_loss   dfl_loss  Instances       Size\n"
     ]
    },
    {
     "name": "stderr",
     "output_type": "stream",
     "text": [
      "     50/100      5.34G     0.9406     0.9177      1.355          2        640: 100%|██████████| 872/872 [01:37<00:00,  8.94it/s]\n",
      "                 Class     Images  Instances      Box(P          R      mAP50  mAP50-95): 100%|██████████| 85/85 [00:11<00:00,  7.24it/s]\n"
     ]
    },
    {
     "name": "stdout",
     "output_type": "stream",
     "text": [
      "                   all       2717       4493      0.803      0.797      0.847      0.646\n",
      "\n",
      "      Epoch    GPU_mem   box_loss   cls_loss   dfl_loss  Instances       Size\n"
     ]
    },
    {
     "name": "stderr",
     "output_type": "stream",
     "text": [
      "     51/100      5.34G     0.9386     0.9192      1.353          7        640: 100%|██████████| 872/872 [01:37<00:00,  8.92it/s]\n",
      "                 Class     Images  Instances      Box(P          R      mAP50  mAP50-95): 100%|██████████| 85/85 [00:11<00:00,  7.58it/s]\n"
     ]
    },
    {
     "name": "stdout",
     "output_type": "stream",
     "text": [
      "                   all       2717       4493       0.81      0.787      0.847      0.645\n",
      "\n",
      "      Epoch    GPU_mem   box_loss   cls_loss   dfl_loss  Instances       Size\n"
     ]
    },
    {
     "name": "stderr",
     "output_type": "stream",
     "text": [
      "     52/100      5.34G     0.9336      0.907       1.35          2        640: 100%|██████████| 872/872 [01:36<00:00,  9.08it/s]\n",
      "                 Class     Images  Instances      Box(P          R      mAP50  mAP50-95): 100%|██████████| 85/85 [00:11<00:00,  7.63it/s]\n"
     ]
    },
    {
     "name": "stdout",
     "output_type": "stream",
     "text": [
      "                   all       2717       4493       0.85      0.757      0.848      0.647\n",
      "\n",
      "      Epoch    GPU_mem   box_loss   cls_loss   dfl_loss  Instances       Size\n"
     ]
    },
    {
     "name": "stderr",
     "output_type": "stream",
     "text": [
      "     53/100      5.34G     0.9278     0.8991      1.347          2        640: 100%|██████████| 872/872 [01:39<00:00,  8.74it/s]\n",
      "                 Class     Images  Instances      Box(P          R      mAP50  mAP50-95): 100%|██████████| 85/85 [00:11<00:00,  7.29it/s]\n"
     ]
    },
    {
     "name": "stdout",
     "output_type": "stream",
     "text": [
      "                   all       2717       4493      0.832      0.774      0.848      0.646\n",
      "\n",
      "      Epoch    GPU_mem   box_loss   cls_loss   dfl_loss  Instances       Size\n"
     ]
    },
    {
     "name": "stderr",
     "output_type": "stream",
     "text": [
      "     54/100      5.34G     0.9305     0.8949      1.343          5        640: 100%|██████████| 872/872 [01:37<00:00,  8.97it/s]\n",
      "                 Class     Images  Instances      Box(P          R      mAP50  mAP50-95): 100%|██████████| 85/85 [00:12<00:00,  6.88it/s]\n"
     ]
    },
    {
     "name": "stdout",
     "output_type": "stream",
     "text": [
      "                   all       2717       4493      0.828      0.775      0.848      0.648\n",
      "\n",
      "      Epoch    GPU_mem   box_loss   cls_loss   dfl_loss  Instances       Size\n"
     ]
    },
    {
     "name": "stderr",
     "output_type": "stream",
     "text": [
      "     55/100      5.34G     0.9314     0.8873      1.342          2        640: 100%|██████████| 872/872 [01:38<00:00,  8.87it/s]\n",
      "                 Class     Images  Instances      Box(P          R      mAP50  mAP50-95): 100%|██████████| 85/85 [00:11<00:00,  7.45it/s]\n"
     ]
    },
    {
     "name": "stdout",
     "output_type": "stream",
     "text": [
      "                   all       2717       4493       0.84      0.766      0.848      0.648\n",
      "\n",
      "      Epoch    GPU_mem   box_loss   cls_loss   dfl_loss  Instances       Size\n"
     ]
    },
    {
     "name": "stderr",
     "output_type": "stream",
     "text": [
      "     59/100      5.34G     0.9105     0.8703       1.33          2        640: 100%|██████████| 872/872 [01:37<00:00,  8.94it/s]\n",
      "                 Class     Images  Instances      Box(P          R      mAP50  mAP50-95): 100%|██████████| 85/85 [00:12<00:00,  6.85it/s]\n"
     ]
    },
    {
     "name": "stdout",
     "output_type": "stream",
     "text": [
      "                   all       2717       4493      0.862      0.754      0.853      0.653\n",
      "\n",
      "      Epoch    GPU_mem   box_loss   cls_loss   dfl_loss  Instances       Size\n"
     ]
    },
    {
     "name": "stderr",
     "output_type": "stream",
     "text": [
      "     60/100      5.34G     0.9017     0.8597      1.324          3        640: 100%|██████████| 872/872 [01:36<00:00,  9.00it/s]\n",
      "                 Class     Images  Instances      Box(P          R      mAP50  mAP50-95): 100%|██████████| 85/85 [00:11<00:00,  7.29it/s]\n"
     ]
    },
    {
     "name": "stdout",
     "output_type": "stream",
     "text": [
      "                   all       2717       4493      0.864      0.755      0.854      0.654\n",
      "\n",
      "      Epoch    GPU_mem   box_loss   cls_loss   dfl_loss  Instances       Size\n"
     ]
    },
    {
     "name": "stderr",
     "output_type": "stream",
     "text": [
      "     61/100      5.34G     0.9048     0.8582      1.324          6        640: 100%|██████████| 872/872 [01:39<00:00,  8.79it/s]\n",
      "                 Class     Images  Instances      Box(P          R      mAP50  mAP50-95): 100%|██████████| 85/85 [00:12<00:00,  6.92it/s]\n"
     ]
    },
    {
     "name": "stdout",
     "output_type": "stream",
     "text": [
      "                   all       2717       4493      0.861      0.759      0.855      0.655\n",
      "\n",
      "      Epoch    GPU_mem   box_loss   cls_loss   dfl_loss  Instances       Size\n"
     ]
    },
    {
     "name": "stderr",
     "output_type": "stream",
     "text": [
      "     62/100      5.34G     0.9116     0.8578      1.325          2        640: 100%|██████████| 872/872 [01:38<00:00,  8.88it/s]\n",
      "                 Class     Images  Instances      Box(P          R      mAP50  mAP50-95): 100%|██████████| 85/85 [00:11<00:00,  7.36it/s]\n"
     ]
    },
    {
     "name": "stdout",
     "output_type": "stream",
     "text": [
      "                   all       2717       4493      0.849      0.767      0.855      0.655\n",
      "\n",
      "      Epoch    GPU_mem   box_loss   cls_loss   dfl_loss  Instances       Size\n"
     ]
    },
    {
     "name": "stderr",
     "output_type": "stream",
     "text": [
      "     63/100      5.34G     0.8991     0.8467      1.321          2        640: 100%|██████████| 872/872 [01:37<00:00,  8.92it/s]\n",
      "                 Class     Images  Instances      Box(P          R      mAP50  mAP50-95): 100%|██████████| 85/85 [00:11<00:00,  7.18it/s]\n"
     ]
    },
    {
     "name": "stdout",
     "output_type": "stream",
     "text": [
      "                   all       2717       4493      0.848       0.77      0.857      0.656\n",
      "\n",
      "      Epoch    GPU_mem   box_loss   cls_loss   dfl_loss  Instances       Size\n"
     ]
    },
    {
     "name": "stderr",
     "output_type": "stream",
     "text": [
      "     64/100      5.34G     0.9013     0.8468       1.32          2        640: 100%|██████████| 872/872 [01:36<00:00,  9.00it/s]\n",
      "                 Class     Images  Instances      Box(P          R      mAP50  mAP50-95): 100%|██████████| 85/85 [00:11<00:00,  7.13it/s]\n"
     ]
    },
    {
     "name": "stdout",
     "output_type": "stream",
     "text": [
      "                   all       2717       4493      0.836      0.778      0.858      0.656\n",
      "\n",
      "      Epoch    GPU_mem   box_loss   cls_loss   dfl_loss  Instances       Size\n"
     ]
    },
    {
     "name": "stderr",
     "output_type": "stream",
     "text": [
      "     65/100      5.34G     0.8967     0.8518      1.317          1        640: 100%|██████████| 872/872 [01:37<00:00,  8.91it/s]\n",
      "                 Class     Images  Instances      Box(P          R      mAP50  mAP50-95): 100%|██████████| 85/85 [00:11<00:00,  7.24it/s]\n"
     ]
    },
    {
     "name": "stdout",
     "output_type": "stream",
     "text": [
      "                   all       2717       4493      0.839      0.776      0.858      0.657\n",
      "\n",
      "      Epoch    GPU_mem   box_loss   cls_loss   dfl_loss  Instances       Size\n"
     ]
    },
    {
     "name": "stderr",
     "output_type": "stream",
     "text": [
      "     66/100      5.69G     0.8853     0.8272      1.309          2        640: 100%|██████████| 872/872 [01:37<00:00,  8.92it/s]\n",
      "                 Class     Images  Instances      Box(P          R      mAP50  mAP50-95): 100%|██████████| 85/85 [00:11<00:00,  7.37it/s]\n"
     ]
    },
    {
     "name": "stdout",
     "output_type": "stream",
     "text": [
      "                   all       2717       4493      0.838      0.776      0.858      0.658\n",
      "\n",
      "      Epoch    GPU_mem   box_loss   cls_loss   dfl_loss  Instances       Size\n"
     ]
    },
    {
     "name": "stderr",
     "output_type": "stream",
     "text": [
      "     67/100      5.69G      0.891       0.83      1.313          4        640: 100%|██████████| 872/872 [01:36<00:00,  9.02it/s]\n",
      "                 Class     Images  Instances      Box(P          R      mAP50  mAP50-95): 100%|██████████| 85/85 [00:11<00:00,  7.53it/s]\n"
     ]
    },
    {
     "name": "stdout",
     "output_type": "stream",
     "text": [
      "                   all       2717       4493       0.81      0.805      0.859      0.658\n",
      "\n",
      "      Epoch    GPU_mem   box_loss   cls_loss   dfl_loss  Instances       Size\n"
     ]
    },
    {
     "name": "stderr",
     "output_type": "stream",
     "text": [
      "     68/100      5.69G     0.8894     0.8216      1.309         11        640: 100%|██████████| 872/872 [01:37<00:00,  8.90it/s]\n",
      "                 Class     Images  Instances      Box(P          R      mAP50  mAP50-95): 100%|██████████| 85/85 [00:11<00:00,  7.09it/s]\n"
     ]
    },
    {
     "name": "stdout",
     "output_type": "stream",
     "text": [
      "                   all       2717       4493      0.805      0.812       0.86      0.659\n",
      "\n",
      "      Epoch    GPU_mem   box_loss   cls_loss   dfl_loss  Instances       Size\n"
     ]
    },
    {
     "name": "stderr",
     "output_type": "stream",
     "text": [
      "     69/100      5.69G     0.8806     0.8237      1.306          2        640: 100%|██████████| 872/872 [01:38<00:00,  8.89it/s]\n",
      "                 Class     Images  Instances      Box(P          R      mAP50  mAP50-95): 100%|██████████| 85/85 [00:11<00:00,  7.27it/s]\n"
     ]
    },
    {
     "name": "stdout",
     "output_type": "stream",
     "text": [
      "                   all       2717       4493      0.806      0.811       0.86      0.659\n",
      "\n",
      "      Epoch    GPU_mem   box_loss   cls_loss   dfl_loss  Instances       Size\n"
     ]
    },
    {
     "name": "stderr",
     "output_type": "stream",
     "text": [
      "     70/100      5.69G     0.8781     0.8135      1.303          8        640: 100%|██████████| 872/872 [01:37<00:00,  8.92it/s]\n",
      "                 Class     Images  Instances      Box(P          R      mAP50  mAP50-95): 100%|██████████| 85/85 [00:11<00:00,  7.42it/s]\n"
     ]
    },
    {
     "name": "stdout",
     "output_type": "stream",
     "text": [
      "                   all       2717       4493      0.805      0.811       0.86      0.659\n",
      "\n",
      "      Epoch    GPU_mem   box_loss   cls_loss   dfl_loss  Instances       Size\n"
     ]
    },
    {
     "name": "stderr",
     "output_type": "stream",
     "text": [
      "     71/100      5.69G     0.8792     0.8001      1.301          5        640: 100%|██████████| 872/872 [01:38<00:00,  8.81it/s]\n",
      "                 Class     Images  Instances      Box(P          R      mAP50  mAP50-95): 100%|██████████| 85/85 [00:11<00:00,  7.30it/s]\n"
     ]
    },
    {
     "name": "stdout",
     "output_type": "stream",
     "text": [
      "                   all       2717       4493      0.804      0.814      0.861      0.659\n",
      "\n",
      "      Epoch    GPU_mem   box_loss   cls_loss   dfl_loss  Instances       Size\n"
     ]
    },
    {
     "name": "stderr",
     "output_type": "stream",
     "text": [
      "     72/100      5.69G     0.8764     0.8015      1.298          2        640: 100%|██████████| 872/872 [01:38<00:00,  8.84it/s]\n",
      "                 Class     Images  Instances      Box(P          R      mAP50  mAP50-95): 100%|██████████| 85/85 [00:11<00:00,  7.21it/s]\n"
     ]
    },
    {
     "name": "stdout",
     "output_type": "stream",
     "text": [
      "                   all       2717       4493      0.809      0.813      0.861       0.66\n",
      "\n",
      "      Epoch    GPU_mem   box_loss   cls_loss   dfl_loss  Instances       Size\n"
     ]
    },
    {
     "name": "stderr",
     "output_type": "stream",
     "text": [
      "     73/100      5.69G     0.8704     0.7995      1.298          1        640: 100%|██████████| 872/872 [01:39<00:00,  8.77it/s]\n",
      "                 Class     Images  Instances      Box(P          R      mAP50  mAP50-95): 100%|██████████| 85/85 [00:11<00:00,  7.41it/s]\n"
     ]
    },
    {
     "name": "stdout",
     "output_type": "stream",
     "text": [
      "                   all       2717       4493      0.809      0.816      0.862      0.661\n",
      "\n",
      "      Epoch    GPU_mem   box_loss   cls_loss   dfl_loss  Instances       Size\n"
     ]
    },
    {
     "name": "stderr",
     "output_type": "stream",
     "text": [
      "     74/100      5.69G      0.859     0.7877      1.291          3        640: 100%|██████████| 872/872 [01:38<00:00,  8.83it/s]\n",
      "                 Class     Images  Instances      Box(P          R      mAP50  mAP50-95): 100%|██████████| 85/85 [00:11<00:00,  7.46it/s]\n"
     ]
    },
    {
     "name": "stdout",
     "output_type": "stream",
     "text": [
      "                   all       2717       4493      0.824      0.803      0.863      0.661\n",
      "\n",
      "      Epoch    GPU_mem   box_loss   cls_loss   dfl_loss  Instances       Size\n"
     ]
    },
    {
     "name": "stderr",
     "output_type": "stream",
     "text": [
      "     75/100      5.69G     0.8589     0.7855      1.287          5        640: 100%|██████████| 872/872 [01:37<00:00,  8.97it/s]\n",
      "                 Class     Images  Instances      Box(P          R      mAP50  mAP50-95): 100%|██████████| 85/85 [00:12<00:00,  7.01it/s]\n"
     ]
    },
    {
     "name": "stdout",
     "output_type": "stream",
     "text": [
      "                   all       2717       4493      0.826      0.802      0.863      0.661\n",
      "\n",
      "      Epoch    GPU_mem   box_loss   cls_loss   dfl_loss  Instances       Size\n"
     ]
    },
    {
     "name": "stderr",
     "output_type": "stream",
     "text": [
      "     76/100      5.69G     0.8655     0.7829      1.289          2        640: 100%|██████████| 872/872 [01:39<00:00,  8.80it/s]\n",
      "                 Class     Images  Instances      Box(P          R      mAP50  mAP50-95): 100%|██████████| 85/85 [00:11<00:00,  7.25it/s]\n"
     ]
    },
    {
     "name": "stdout",
     "output_type": "stream",
     "text": [
      "                   all       2717       4493      0.822      0.804      0.864      0.662\n",
      "\n",
      "      Epoch    GPU_mem   box_loss   cls_loss   dfl_loss  Instances       Size\n"
     ]
    },
    {
     "name": "stderr",
     "output_type": "stream",
     "text": [
      "     77/100      5.69G      0.854     0.7759      1.282          6        640: 100%|██████████| 872/872 [01:36<00:00,  9.02it/s]\n",
      "                 Class     Images  Instances      Box(P          R      mAP50  mAP50-95): 100%|██████████| 85/85 [00:12<00:00,  6.95it/s]\n"
     ]
    },
    {
     "name": "stdout",
     "output_type": "stream",
     "text": [
      "                   all       2717       4493      0.823      0.805      0.864      0.662\n",
      "\n",
      "      Epoch    GPU_mem   box_loss   cls_loss   dfl_loss  Instances       Size\n"
     ]
    },
    {
     "name": "stderr",
     "output_type": "stream",
     "text": [
      "     78/100      5.69G     0.8504     0.7724      1.282          4        640: 100%|██████████| 872/872 [01:38<00:00,  8.84it/s]\n",
      "                 Class     Images  Instances      Box(P          R      mAP50  mAP50-95): 100%|██████████| 85/85 [00:11<00:00,  7.34it/s]\n"
     ]
    },
    {
     "name": "stdout",
     "output_type": "stream",
     "text": [
      "                   all       2717       4493      0.828      0.802      0.864      0.663\n",
      "\n",
      "      Epoch    GPU_mem   box_loss   cls_loss   dfl_loss  Instances       Size\n"
     ]
    },
    {
     "name": "stderr",
     "output_type": "stream",
     "text": [
      "     79/100      5.69G     0.8485     0.7731      1.281          2        640: 100%|██████████| 872/872 [01:38<00:00,  8.86it/s]\n",
      "                 Class     Images  Instances      Box(P          R      mAP50  mAP50-95): 100%|██████████| 85/85 [00:11<00:00,  7.43it/s]\n"
     ]
    },
    {
     "name": "stdout",
     "output_type": "stream",
     "text": [
      "                   all       2717       4493      0.834      0.797      0.865      0.663\n",
      "\n",
      "      Epoch    GPU_mem   box_loss   cls_loss   dfl_loss  Instances       Size\n"
     ]
    },
    {
     "name": "stderr",
     "output_type": "stream",
     "text": [
      "     80/100      5.69G     0.8503     0.7747      1.282          3        640: 100%|██████████| 872/872 [01:37<00:00,  8.90it/s]\n",
      "                 Class     Images  Instances      Box(P          R      mAP50  mAP50-95): 100%|██████████| 85/85 [00:11<00:00,  7.19it/s]\n"
     ]
    },
    {
     "name": "stdout",
     "output_type": "stream",
     "text": [
      "                   all       2717       4493      0.829      0.801      0.864      0.663\n",
      "\n",
      "      Epoch    GPU_mem   box_loss   cls_loss   dfl_loss  Instances       Size\n"
     ]
    },
    {
     "name": "stderr",
     "output_type": "stream",
     "text": [
      "     81/100      5.69G     0.8448     0.7607      1.277          8        640: 100%|██████████| 872/872 [01:38<00:00,  8.84it/s]\n",
      "                 Class     Images  Instances      Box(P          R      mAP50  mAP50-95): 100%|██████████| 85/85 [00:11<00:00,  7.28it/s]\n"
     ]
    },
    {
     "name": "stdout",
     "output_type": "stream",
     "text": [
      "                   all       2717       4493       0.83      0.801      0.865      0.664\n",
      "\n",
      "      Epoch    GPU_mem   box_loss   cls_loss   dfl_loss  Instances       Size\n"
     ]
    },
    {
     "name": "stderr",
     "output_type": "stream",
     "text": [
      "     82/100      5.69G     0.8435      0.758      1.276          1        640: 100%|██████████| 872/872 [01:37<00:00,  8.95it/s]\n",
      "                 Class     Images  Instances      Box(P          R      mAP50  mAP50-95): 100%|██████████| 85/85 [00:12<00:00,  6.90it/s]\n"
     ]
    },
    {
     "name": "stdout",
     "output_type": "stream",
     "text": [
      "                   all       2717       4493       0.83      0.804      0.865      0.664\n",
      "\n",
      "      Epoch    GPU_mem   box_loss   cls_loss   dfl_loss  Instances       Size\n"
     ]
    },
    {
     "name": "stderr",
     "output_type": "stream",
     "text": [
      "     83/100      5.69G     0.8468     0.7572      1.276          1        640: 100%|██████████| 872/872 [01:37<00:00,  8.92it/s]\n",
      "                 Class     Images  Instances      Box(P          R      mAP50  mAP50-95): 100%|██████████| 85/85 [00:12<00:00,  7.05it/s]\n"
     ]
    },
    {
     "name": "stdout",
     "output_type": "stream",
     "text": [
      "                   all       2717       4493      0.826      0.807      0.865      0.665\n",
      "\n",
      "      Epoch    GPU_mem   box_loss   cls_loss   dfl_loss  Instances       Size\n"
     ]
    },
    {
     "name": "stderr",
     "output_type": "stream",
     "text": [
      "     84/100      5.69G     0.8328     0.7466      1.269          4        640: 100%|██████████| 872/872 [01:37<00:00,  8.93it/s]\n",
      "                 Class     Images  Instances      Box(P          R      mAP50  mAP50-95): 100%|██████████| 85/85 [00:11<00:00,  7.46it/s]\n"
     ]
    },
    {
     "name": "stdout",
     "output_type": "stream",
     "text": [
      "                   all       2717       4493       0.83      0.808      0.866      0.665\n",
      "\n",
      "      Epoch    GPU_mem   box_loss   cls_loss   dfl_loss  Instances       Size\n"
     ]
    },
    {
     "name": "stderr",
     "output_type": "stream",
     "text": [
      "     85/100      5.69G     0.8245     0.7359      1.265          2        640: 100%|██████████| 872/872 [01:37<00:00,  8.95it/s]\n",
      "                 Class     Images  Instances      Box(P          R      mAP50  mAP50-95): 100%|██████████| 85/85 [00:11<00:00,  7.40it/s]\n"
     ]
    },
    {
     "name": "stdout",
     "output_type": "stream",
     "text": [
      "                   all       2717       4493      0.829      0.807      0.866      0.665\n",
      "\n",
      "      Epoch    GPU_mem   box_loss   cls_loss   dfl_loss  Instances       Size\n"
     ]
    },
    {
     "name": "stderr",
     "output_type": "stream",
     "text": [
      "     86/100      5.69G     0.8357     0.7455      1.266          2        640: 100%|██████████| 872/872 [01:40<00:00,  8.71it/s]\n",
      "                 Class     Images  Instances      Box(P          R      mAP50  mAP50-95): 100%|██████████| 85/85 [00:11<00:00,  7.39it/s]\n"
     ]
    },
    {
     "name": "stdout",
     "output_type": "stream",
     "text": [
      "                   all       2717       4493      0.829      0.808      0.866      0.665\n",
      "\n",
      "      Epoch    GPU_mem   box_loss   cls_loss   dfl_loss  Instances       Size\n"
     ]
    },
    {
     "name": "stderr",
     "output_type": "stream",
     "text": [
      "     87/100      5.69G     0.8236     0.7285       1.26          2        640: 100%|██████████| 872/872 [01:38<00:00,  8.86it/s]\n",
      "                 Class     Images  Instances      Box(P          R      mAP50  mAP50-95): 100%|██████████| 85/85 [00:11<00:00,  7.29it/s]\n"
     ]
    },
    {
     "name": "stdout",
     "output_type": "stream",
     "text": [
      "                   all       2717       4493      0.829      0.809      0.866      0.666\n",
      "\n",
      "      Epoch    GPU_mem   box_loss   cls_loss   dfl_loss  Instances       Size\n"
     ]
    },
    {
     "name": "stderr",
     "output_type": "stream",
     "text": [
      "     88/100      5.69G     0.8193     0.7333      1.264          1        640: 100%|██████████| 872/872 [01:37<00:00,  8.93it/s]\n",
      "                 Class     Images  Instances      Box(P          R      mAP50  mAP50-95): 100%|██████████| 85/85 [00:11<00:00,  7.31it/s]\n"
     ]
    },
    {
     "name": "stdout",
     "output_type": "stream",
     "text": [
      "                   all       2717       4493       0.83      0.809      0.867      0.666\n",
      "\n",
      "      Epoch    GPU_mem   box_loss   cls_loss   dfl_loss  Instances       Size\n"
     ]
    },
    {
     "name": "stderr",
     "output_type": "stream",
     "text": [
      "     89/100      5.69G     0.8196     0.7337      1.258          1        640: 100%|██████████| 872/872 [01:38<00:00,  8.84it/s]\n",
      "                 Class     Images  Instances      Box(P          R      mAP50  mAP50-95): 100%|██████████| 85/85 [00:11<00:00,  7.44it/s]\n"
     ]
    },
    {
     "name": "stdout",
     "output_type": "stream",
     "text": [
      "                   all       2717       4493      0.831      0.808      0.867      0.666\n",
      "\n",
      "      Epoch    GPU_mem   box_loss   cls_loss   dfl_loss  Instances       Size\n"
     ]
    },
    {
     "name": "stderr",
     "output_type": "stream",
     "text": [
      "     90/100      5.69G     0.8183     0.7239      1.258          5        640: 100%|██████████| 872/872 [01:36<00:00,  8.99it/s]\n",
      "                 Class     Images  Instances      Box(P          R      mAP50  mAP50-95): 100%|██████████| 85/85 [00:11<00:00,  7.24it/s]\n"
     ]
    },
    {
     "name": "stdout",
     "output_type": "stream",
     "text": [
      "                   all       2717       4493      0.833      0.809      0.868      0.666\n",
      "Closing dataloader mosaic\n",
      "\n",
      "      Epoch    GPU_mem   box_loss   cls_loss   dfl_loss  Instances       Size\n"
     ]
    },
    {
     "name": "stderr",
     "output_type": "stream",
     "text": [
      "     91/100      5.69G      0.773     0.6075       1.27          1        640: 100%|██████████| 872/872 [01:38<00:00,  8.82it/s]\n",
      "                 Class     Images  Instances      Box(P          R      mAP50  mAP50-95): 100%|██████████| 85/85 [00:11<00:00,  7.46it/s]\n"
     ]
    },
    {
     "name": "stdout",
     "output_type": "stream",
     "text": [
      "                   all       2717       4493      0.835      0.809      0.868      0.667\n",
      "\n",
      "      Epoch    GPU_mem   box_loss   cls_loss   dfl_loss  Instances       Size\n"
     ]
    },
    {
     "name": "stderr",
     "output_type": "stream",
     "text": [
      "     92/100      5.69G     0.7595     0.5858      1.262          3        640: 100%|██████████| 872/872 [01:37<00:00,  8.93it/s]\n",
      "                 Class     Images  Instances      Box(P          R      mAP50  mAP50-95): 100%|██████████| 85/85 [00:11<00:00,  7.25it/s]\n"
     ]
    },
    {
     "name": "stdout",
     "output_type": "stream",
     "text": [
      "                   all       2717       4493      0.837      0.808      0.868      0.667\n",
      "\n",
      "      Epoch    GPU_mem   box_loss   cls_loss   dfl_loss  Instances       Size\n"
     ]
    },
    {
     "name": "stderr",
     "output_type": "stream",
     "text": [
      "     93/100      5.69G      0.751     0.5717      1.247          2        640: 100%|██████████| 872/872 [01:38<00:00,  8.82it/s]\n",
      "                 Class     Images  Instances      Box(P          R      mAP50  mAP50-95): 100%|██████████| 85/85 [00:12<00:00,  6.80it/s]\n"
     ]
    },
    {
     "name": "stdout",
     "output_type": "stream",
     "text": [
      "                   all       2717       4493      0.835      0.808      0.868      0.668\n",
      "\n",
      "      Epoch    GPU_mem   box_loss   cls_loss   dfl_loss  Instances       Size\n"
     ]
    },
    {
     "name": "stderr",
     "output_type": "stream",
     "text": [
      "     94/100      5.69G     0.7433     0.5645      1.249          1        640: 100%|██████████| 872/872 [01:39<00:00,  8.78it/s]\n",
      "                 Class     Images  Instances      Box(P          R      mAP50  mAP50-95): 100%|██████████| 85/85 [00:12<00:00,  6.88it/s]\n"
     ]
    },
    {
     "name": "stdout",
     "output_type": "stream",
     "text": [
      "                   all       2717       4493      0.835      0.808      0.868      0.668\n",
      "\n",
      "      Epoch    GPU_mem   box_loss   cls_loss   dfl_loss  Instances       Size\n"
     ]
    },
    {
     "name": "stderr",
     "output_type": "stream",
     "text": [
      "     95/100      5.69G     0.7301     0.5592      1.238          1        640: 100%|██████████| 872/872 [01:38<00:00,  8.84it/s]\n",
      "                 Class     Images  Instances      Box(P          R      mAP50  mAP50-95): 100%|██████████| 85/85 [00:11<00:00,  7.27it/s]\n"
     ]
    },
    {
     "name": "stdout",
     "output_type": "stream",
     "text": [
      "                   all       2717       4493      0.837      0.807      0.868      0.668\n",
      "\n",
      "      Epoch    GPU_mem   box_loss   cls_loss   dfl_loss  Instances       Size\n"
     ]
    },
    {
     "name": "stderr",
     "output_type": "stream",
     "text": [
      "     96/100      5.69G     0.7237     0.5482      1.231          5        640: 100%|██████████| 872/872 [01:37<00:00,  8.96it/s]\n",
      "                 Class     Images  Instances      Box(P          R      mAP50  mAP50-95): 100%|██████████| 85/85 [00:12<00:00,  6.79it/s]"
     ]
    },
    {
     "name": "stdout",
     "output_type": "stream",
     "text": [
      "                   all       2717       4493       0.84      0.807      0.869      0.668\n"
     ]
    },
    {
     "name": "stderr",
     "output_type": "stream",
     "text": [
      "\n"
     ]
    },
    {
     "name": "stdout",
     "output_type": "stream",
     "text": [
      "\n",
      "      Epoch    GPU_mem   box_loss   cls_loss   dfl_loss  Instances       Size\n"
     ]
    },
    {
     "name": "stderr",
     "output_type": "stream",
     "text": [
      "     97/100      5.69G     0.7245     0.5426       1.23          1        640: 100%|██████████| 872/872 [01:37<00:00,  8.94it/s]\n",
      "                 Class     Images  Instances      Box(P          R      mAP50  mAP50-95): 100%|██████████| 85/85 [00:11<00:00,  7.36it/s]\n"
     ]
    },
    {
     "name": "stdout",
     "output_type": "stream",
     "text": [
      "                   all       2717       4493      0.839      0.808      0.869      0.669\n",
      "\n",
      "      Epoch    GPU_mem   box_loss   cls_loss   dfl_loss  Instances       Size\n"
     ]
    },
    {
     "name": "stderr",
     "output_type": "stream",
     "text": [
      "     98/100      5.69G     0.7136     0.5341      1.222          1        640: 100%|██████████| 872/872 [01:36<00:00,  9.02it/s]\n",
      "                 Class     Images  Instances      Box(P          R      mAP50  mAP50-95): 100%|██████████| 85/85 [00:11<00:00,  7.15it/s]\n"
     ]
    },
    {
     "name": "stdout",
     "output_type": "stream",
     "text": [
      "                   all       2717       4493      0.843      0.808      0.869       0.67\n",
      "\n",
      "      Epoch    GPU_mem   box_loss   cls_loss   dfl_loss  Instances       Size\n"
     ]
    },
    {
     "name": "stderr",
     "output_type": "stream",
     "text": [
      "     99/100      5.69G     0.7117     0.5362      1.223          3        640: 100%|██████████| 872/872 [01:38<00:00,  8.87it/s]\n",
      "                 Class     Images  Instances      Box(P          R      mAP50  mAP50-95): 100%|██████████| 85/85 [00:11<00:00,  7.21it/s]\n"
     ]
    },
    {
     "name": "stdout",
     "output_type": "stream",
     "text": [
      "                   all       2717       4493      0.845      0.808       0.87       0.67\n",
      "\n",
      "      Epoch    GPU_mem   box_loss   cls_loss   dfl_loss  Instances       Size\n"
     ]
    },
    {
     "name": "stderr",
     "output_type": "stream",
     "text": [
      "    100/100      5.69G     0.7023     0.5256      1.217         21        640:  33%|███▎      | 292/872 [00:34<01:09,  8.37it/s]"
     ]
    }
   ],
   "source": [
    "results = model.train(\n",
    "    data=DATA_YAML,                                                         \n",
    "    imgsz=IMG_SIZE,\n",
    "    batch=BATCH_SIZE,\n",
    "    epochs=EPOCHS,\n",
    "    device=DEVICE,\n",
    "    name='yolov8n-ee'                                                        \n",
    ")"
   ]
  },
  {
   "cell_type": "markdown",
   "id": "8f540873",
   "metadata": {},
   "source": [
    "## Adding Early-Exit layers using ultralytics utilities\n",
    "\n",
    "Here we will reimplement YOLOv8's architecture and will add 3 detect layers in backbone aim to increase its infrence time and decrease its computational overheads while we are tending to maintaion accuracy's rates static as far as its possible."
   ]
  },
  {
   "cell_type": "code",
   "execution_count": 7,
   "id": "51ccdca9",
   "metadata": {
    "ExecuteTime": {
     "end_time": "2025-05-20T16:14:32.432342Z",
     "start_time": "2025-05-20T16:14:32.405344Z"
    }
   },
   "outputs": [],
   "source": [
    "class YOLOv8n_EE(nn.Module):\n",
    "    \"\"\"\n",
    "    YOLOv8n model with Early-Exit branches to allow fast inference when confident detections occur at shallower layers.\n",
    "    Args:\n",
    "        model_yaml (string): path to model's yaml file we will define model's nc, yaml, stride, and names by this file.\n",
    "    \"\"\"\n",
    "    def __init__(self,nc , model_yaml):  \n",
    "        \n",
    "        model = YOLO(model_yaml)\n",
    "        #we should pass the yaml, stride, and names of our model to new model again aim at preserving its vital values for training \n",
    "        self.nc = nc\n",
    "        self.yaml = model.yaml\n",
    "        self.stride = model.stride\n",
    "        self.names = model.names\n",
    "        \n",
    "        super().__init__()\n",
    "        # Backbone: progressively extract features and reduce spatial resolution\n",
    "        \n",
    "        #First Block -----------------------------------------------------------\n",
    "        # Stage 0: 3×3 conv, stride 2, reduces H×W by 2 → feature map P1/2\n",
    "        self.conv0 = Conv(3, 64, k=3, s=2)\n",
    "        # Stage 1: 3×3 conv, stride 2, reduces H×W by 2 → P2/4\n",
    "        self.conv1 = Conv(64, 128, k=3, s=2)\n",
    "        # Feature extraction block (C2f) at P2 resolution\n",
    "        self.c2f2  = C2f(128, 128, n=3, shortcut=True, g=1, e=1.0)\n",
    "        # Early-exit detection head at P2\n",
    "        self.exit0 = Detect(nc=self.nc, ch=[128])\n",
    "\n",
    "        #Second Block -----------------------------------------------------------\n",
    "        # Stage 2: conv → P3/8\n",
    "        self.conv3 = Conv(128, 256, k=3, s=2)\n",
    "        # C2f block at P3\n",
    "        self.c2f4  = C2f(256, 256, n=6, shortcut=True, g=1, e=1.0)\n",
    "        # Early-exit detection head at P3\n",
    "        self.exit1 = Detect(nc=self.nc, ch=[256])\n",
    "\n",
    "        #Third Block -------------------------------------------------------------\n",
    "        # Stage 3: conv → P4/16\n",
    "        self.conv5 = Conv(256, 512, k=3, s=2)\n",
    "        # C2f block at P4\n",
    "        self.c2f6  = C2f(512, 512, n=6, shortcut=True, g=1, e=1.0)\n",
    "        # Early-exit detection head at P4\n",
    "        self.exit2 = Detect(nc=self.nc, ch=[512])\n",
    "\n",
    "        #Final Block of Backbone --------------------------------------------------\n",
    "        # Stage 4: conv → P5/32\n",
    "        self.conv7 = Conv(512, 1024, k=3, s=2)\n",
    "        # C2f block at P5 for high-level features\n",
    "        self.c2f8  = C2f(1024,1024, n=3, shortcut=True, g=1, e=1.0)\n",
    "        # Spatial Pyramid Pooling Fast (SPPF) combines multi-scale context\n",
    "        self.sppf9 = SPPF(1024,1024, k=5)\n",
    "\n",
    "        # Neck + Final Head: feature fusion and multi-scale detection\n",
    "        # Upsample P5 → P4 and fuse with P4 features\n",
    "        self.up10    = nn.Upsample(scale_factor=2, mode='nearest')\n",
    "        self.concat11= Concat(dimension=1)\n",
    "        self.c2f12   = C2f(1024+512, 512, n=3, shortcut=True, g=1, e=0.5)\n",
    "\n",
    "        # Upsample fused P4 → P3 and fuse with P3 features\n",
    "        self.up13    = nn.Upsample(scale_factor=2, mode='nearest')\n",
    "        self.concat14= Concat(dimension=1)\n",
    "        self.c2f15   = C2f(512+256, 256, n=3, shortcut=True, g=1, e=0.5)\n",
    "\n",
    "        # Downsample P3 → P4 and fuse with earlier P4 features\n",
    "        self.down16  = Conv(256, 256, k=3, s=2)\n",
    "        self.concat17= Concat(dimension=1)\n",
    "        self.c2f18   = C2f(256+512, 512, n=3, shortcut=True, g=1, e=0.5)\n",
    "\n",
    "        # Downsample P4 → P5 and fuse with P5 features\n",
    "        self.down19  = Conv(512, 512, k=3, s=2)\n",
    "        self.concat20= Concat(dimension=1)\n",
    "        self.c2f21   = C2f(512+1024,1024, n=3, shortcut=True, g=1, e=0.5)\n",
    "\n",
    "        # Final detection head on three scales: P3, P4, P5\n",
    "        self.detect_final = Detect(nc=self.nc, ch=[256,512,1024])\n",
    "\n",
    "    def forward(self, x, exit_conf_threshold=None):\n",
    "        \"\"\"\n",
    "        Forward pass with optional early exits.\n",
    "        Args:\n",
    "            x (Tensor): Input image tensor.\n",
    "            exit_conf_threshold (float, optional): Confidence threshold for early exit.\n",
    "        Returns:\n",
    "            Depending on training or inference mode, returns tuple of all outputs or a single detection.\n",
    "        \"\"\"\n",
    "        # --- Backbone forward ---\n",
    "        x0 = self.conv0(x)                    # P1\n",
    "        x1 = self.conv1(x0)                   # P2\n",
    "        x2 = self.c2f2(x1)                    # feature at P2\n",
    "        pred0 = self.exit0([x2])              # early-exit head 0\n",
    "\n",
    "        x3 = self.conv3(x2)                   # P3\n",
    "        x4 = self.c2f4(x3)\n",
    "        pred1 = self.exit1([x4])              # early-exit head 1\n",
    "\n",
    "        x5 = self.conv5(x4)                   # P4\n",
    "        x6 = self.c2f6(x5)\n",
    "        pred2 = self.exit2([x6])              # early-exit head 2\n",
    "\n",
    "        x7 = self.conv7(x6)                   # P5\n",
    "        x8 = self.c2f8(x7)\n",
    "        x9 = self.sppf9(x8)                   # enriched P5\n",
    "\n",
    "        # --- Neck: top-down and bottom-up feature fusion ---\n",
    "        u10 = self.up10(x9)                   # upsample P5 → P4\n",
    "        f11 = self.concat11([u10, x6])       # fuse with P4\n",
    "        x12= self.c2f12(f11)\n",
    "\n",
    "        u13 = self.up13(x12)                  # upsample → P3\n",
    "        f14= self.concat14([u13, x4])        # fuse with P3\n",
    "        x15= self.c2f15(f14)\n",
    "\n",
    "        d16= self.down16(x15)                 # downsample → P4\n",
    "        f17= self.concat17([d16, x12])       # fuse\n",
    "        x18= self.c2f18(f17)\n",
    "\n",
    "        d19= self.down19(x18)                 # downsample → P5\n",
    "        f20= self.concat20([d19, x9])        # fuse\n",
    "        x21= self.c2f21(f20)\n",
    "\n",
    "        # Final detection on three feature levels\n",
    "        final = self.detect_final([x15, x18, x21])\n",
    "\n",
    "        if self.training:\n",
    "            # Return all heads for loss computation during training\n",
    "            return (pred0, pred1, pred2, final)\n",
    "\n",
    "        # Inference: check early exits if threshold provided\n",
    "        if exit_conf_threshold is not None:\n",
    "            # If confidence at first exit > threshold, return early\n",
    "            if pred0[0][:,4].max() > exit_conf_threshold:\n",
    "                return pred0\n",
    "            if pred1[0][:,4].max() > exit_conf_threshold:\n",
    "                return pred1\n",
    "            if pred2[0][:,4].max() > exit_conf_threshold:\n",
    "                return pred2\n",
    "        # Otherwise, return final multi-scale predictions\n",
    "        return final\n"
   ]
  },
  {
   "cell_type": "code",
   "execution_count": 8,
   "id": "281549e9",
   "metadata": {
    "ExecuteTime": {
     "end_time": "2025-05-20T19:19:34.701754Z",
     "start_time": "2025-05-20T16:14:40.713662Z"
    }
   },
   "outputs": [
    {
     "name": "stdout",
     "output_type": "stream",
     "text": [
      "New https://pypi.org/project/ultralytics/8.3.140 available 😃 Update with 'pip install -U ultralytics'\n",
      "Ultralytics 8.3.113 🚀 Python-3.8.10 torch-2.4.1+cu121 CUDA:0 (NVIDIA GeForce RTX 3090, 24253MiB)\n",
      "\u001b[34m\u001b[1mengine/trainer: \u001b[0mtask=detect, mode=train, model=yolov8n.pt, data=/root/Desktop/workspace/Realtime Obstacle Detector/dataset/data.yaml, epochs=100, time=None, patience=100, batch=16, imgsz=640, save=True, save_period=-1, cache=False, device=cuda, workers=8, project=None, name=yolov8n-ee4, exist_ok=False, pretrained=True, optimizer=auto, verbose=True, seed=0, deterministic=True, single_cls=False, rect=False, cos_lr=False, close_mosaic=10, resume=False, amp=True, fraction=1.0, profile=False, freeze=None, multi_scale=False, overlap_mask=True, mask_ratio=4, dropout=0.0, val=True, split=val, save_json=False, conf=None, iou=0.7, max_det=300, half=False, dnn=False, plots=True, source=None, vid_stride=1, stream_buffer=False, visualize=False, augment=False, agnostic_nms=False, classes=None, retina_masks=False, embed=None, show=False, save_frames=False, save_txt=False, save_conf=False, save_crop=False, show_labels=True, show_conf=True, show_boxes=True, line_width=None, format=torchscript, keras=False, optimize=False, int8=False, dynamic=False, simplify=True, opset=None, workspace=None, nms=False, lr0=0.01, lrf=0.01, momentum=0.937, weight_decay=0.0005, warmup_epochs=3.0, warmup_momentum=0.8, warmup_bias_lr=0.1, box=7.5, cls=0.5, dfl=1.5, pose=12.0, kobj=1.0, nbs=64, hsv_h=0.015, hsv_s=0.7, hsv_v=0.4, degrees=0.0, translate=0.1, scale=0.5, shear=0.0, perspective=0.0, flipud=0.0, fliplr=0.5, bgr=0.0, mosaic=1.0, mixup=0.0, copy_paste=0.0, copy_paste_mode=flip, auto_augment=randaugment, erasing=0.4, cfg=None, tracker=botsort.yaml, save_dir=runs/detect/yolov8n-ee4\n"
     ]
    },
    {
     "name": "stderr",
     "output_type": "stream",
     "text": [
      "Error.  nthreads cannot be larger than environment variable \"NUMEXPR_MAX_THREADS\" (8)"
     ]
    },
    {
     "name": "stdout",
     "output_type": "stream",
     "text": [
      "Overriding model.yaml nc=80 with nc=18\n",
      "\n",
      "                   from  n    params  module                                       arguments                     \n",
      "  0                  -1  1       464  ultralytics.nn.modules.conv.Conv             [3, 16, 3, 2]                 \n",
      "  1                  -1  1      4672  ultralytics.nn.modules.conv.Conv             [16, 32, 3, 2]                \n",
      "  2                  -1  1      7360  ultralytics.nn.modules.block.C2f             [32, 32, 1, True]             \n",
      "  3                 [2]  1     78882  ultralytics.nn.modules.head.Detect           [18, [32]]                    \n",
      "  4                   2  1     18560  ultralytics.nn.modules.conv.Conv             [32, 64, 3, 2]                \n",
      "  5                  -1  2     49664  ultralytics.nn.modules.block.C2f             [64, 64, 2, True]             \n",
      "  6                 [5]  1    153314  ultralytics.nn.modules.head.Detect           [18, [64]]                    \n",
      "  7                   5  1     73984  ultralytics.nn.modules.conv.Conv             [64, 128, 3, 2]               \n",
      "  8                  -1  2    197632  ultralytics.nn.modules.block.C2f             [128, 128, 2, True]           \n",
      "  9                 [8]  1    412770  ultralytics.nn.modules.head.Detect           [18, [128]]                   \n",
      " 10                   8  1    295424  ultralytics.nn.modules.conv.Conv             [128, 256, 3, 2]              \n",
      " 11                  -1  1    460288  ultralytics.nn.modules.block.C2f             [256, 256, 1, True]           \n",
      " 12                [11]  1   1374050  ultralytics.nn.modules.head.Detect           [18, [256]]                   \n",
      " 13                  11  1    164608  ultralytics.nn.modules.block.SPPF            [256, 256, 5]                 \n",
      " 14                  -1  1         0  torch.nn.modules.upsampling.Upsample         [None, 2, 'nearest']          \n",
      " 15             [-1, 8]  1         0  ultralytics.nn.modules.conv.Concat           [1]                           \n",
      " 16                  -1  1    148224  ultralytics.nn.modules.block.C2f             [384, 128, 1]                 \n",
      " 17                  -1  1         0  torch.nn.modules.upsampling.Upsample         [None, 2, 'nearest']          \n",
      " 18             [-1, 5]  1         0  ultralytics.nn.modules.conv.Concat           [1]                           \n",
      " 19                  -1  1     37248  ultralytics.nn.modules.block.C2f             [192, 64, 1]                  \n",
      " 20                  -1  1     36992  ultralytics.nn.modules.conv.Conv             [64, 64, 3, 2]                \n",
      " 21            [-1, 16]  1         0  ultralytics.nn.modules.conv.Concat           [1]                           \n",
      " 22                  -1  1    123648  ultralytics.nn.modules.block.C2f             [192, 128, 1]                 \n",
      " 23                  -1  1    147712  ultralytics.nn.modules.conv.Conv             [128, 128, 3, 2]              \n",
      " 24            [-1, 13]  1         0  ultralytics.nn.modules.conv.Concat           [1]                           \n",
      " 25                  -1  1    493056  ultralytics.nn.modules.block.C2f             [384, 256, 1]                 \n",
      " 26        [19, 22, 25]  1    754822  ultralytics.nn.modules.head.Detect           [18, [64, 128, 256]]          \n",
      "YOLOv8n_ee summary: 173 layers, 5,033,374 parameters, 5,033,294 gradients, 16.7 GFLOPs\n",
      "\n",
      "Transferred 0/471 items from pretrained weights\n",
      "\u001b[34m\u001b[1mTensorBoard: \u001b[0mStart with 'tensorboard --logdir runs/detect/yolov8n-ee4', view at http://localhost:6006/\n",
      "Freezing layer 'model.3.dfl.conv.weight'\n",
      "Freezing layer 'model.6.dfl.conv.weight'\n",
      "Freezing layer 'model.9.dfl.conv.weight'\n",
      "Freezing layer 'model.12.dfl.conv.weight'\n",
      "Freezing layer 'model.26.dfl.conv.weight'\n",
      "\u001b[34m\u001b[1mAMP: \u001b[0mrunning Automatic Mixed Precision (AMP) checks...\n",
      "\u001b[34m\u001b[1mAMP: \u001b[0mchecks passed ✅\n",
      "\u001b[34m\u001b[1mtrain: \u001b[0mFast image access ✅ (ping: 0.0±0.0 ms, read: 1303.8±525.2 MB/s, size: 63.0 KB)\n"
     ]
    },
    {
     "name": "stderr",
     "output_type": "stream",
     "text": [
      "\u001b[34m\u001b[1mtrain: \u001b[0mScanning /workspace/Realtime Obstacle Detector/dataset/train/labels.cache... 13937 images, 83 backgrounds, 1 corrupt: 100%|██████████| 13938/13938 [00:00<?, ?it/s]"
     ]
    },
    {
     "name": "stdout",
     "output_type": "stream",
     "text": [
      "\u001b[34m\u001b[1mtrain: \u001b[0m/workspace/Realtime Obstacle Detector/dataset/train/images/05537_jpg.rf.db86bf571f23f174b2be34da3c8cae9c.jpg: ignoring corrupt image/label: image file is truncated (31 bytes not processed)\n",
      "WARNING ⚠️ Box and segment counts should be equal, but got len(segments) = 3889, len(boxes) = 25109. To resolve this only boxes will be used and all segments will be removed. To avoid this please supply either a detect or segment dataset, not a detect-segment mixed dataset.\n"
     ]
    },
    {
     "name": "stderr",
     "output_type": "stream",
     "text": [
      "\n"
     ]
    },
    {
     "name": "stdout",
     "output_type": "stream",
     "text": [
      "\u001b[34m\u001b[1mval: \u001b[0mFast image access ✅ (ping: 0.0±0.0 ms, read: 683.1±345.1 MB/s, size: 53.9 KB)\n"
     ]
    },
    {
     "name": "stderr",
     "output_type": "stream",
     "text": [
      "\u001b[34m\u001b[1mval: \u001b[0mScanning /workspace/Realtime Obstacle Detector/dataset/valid/labels.cache... 2717 images, 11 backgrounds, 0 corrupt: 100%|██████████| 2717/2717 [00:00<?, ?it/s]"
     ]
    },
    {
     "name": "stdout",
     "output_type": "stream",
     "text": [
      "WARNING ⚠️ Box and segment counts should be equal, but got len(segments) = 800, len(boxes) = 4493. To resolve this only boxes will be used and all segments will be removed. To avoid this please supply either a detect or segment dataset, not a detect-segment mixed dataset.\n"
     ]
    },
    {
     "name": "stderr",
     "output_type": "stream",
     "text": [
      "\n"
     ]
    },
    {
     "name": "stdout",
     "output_type": "stream",
     "text": [
      "Plotting labels to runs/detect/yolov8n-ee4/labels.jpg... \n",
      "\u001b[34m\u001b[1moptimizer:\u001b[0m 'optimizer=auto' found, ignoring 'lr0=0.01' and 'momentum=0.937' and determining best 'optimizer', 'lr0' and 'momentum' automatically... \n",
      "\u001b[34m\u001b[1moptimizer:\u001b[0m SGD(lr=0.01, momentum=0.9) with parameter groups 73 weight(decay=0.0), 92 weight(decay=0.0005), 87 bias(decay=0.0)\n",
      "\u001b[34m\u001b[1mTensorBoard: \u001b[0mmodel graph visualization added ✅\n",
      "Image sizes 640 train, 640 val\n",
      "Using 8 dataloader workers\n",
      "Logging results to \u001b[1mruns/detect/yolov8n-ee4\u001b[0m\n",
      "Starting training for 100 epochs...\n",
      "\n",
      "      Epoch    GPU_mem   box_loss   cls_loss   dfl_loss  Instances       Size\n"
     ]
    },
    {
     "name": "stderr",
     "output_type": "stream",
     "text": [
      "      1/100      2.63G      3.167      4.757      4.028          1        640: 100%|██████████| 872/872 [01:49<00:00,  7.97it/s]\n",
      "                 Class     Images  Instances      Box(P          R      mAP50  mAP50-95): 100%|██████████| 85/85 [00:17<00:00,  4.80it/s]\n"
     ]
    },
    {
     "name": "stdout",
     "output_type": "stream",
     "text": [
      "                   all       2717       4493    0.00265      0.235    0.00617    0.00146\n",
      "\n",
      "      Epoch    GPU_mem   box_loss   cls_loss   dfl_loss  Instances       Size\n"
     ]
    },
    {
     "name": "stderr",
     "output_type": "stream",
     "text": [
      "      2/100      2.84G      2.227      3.859      2.795          4        640: 100%|██████████| 872/872 [01:45<00:00,  8.28it/s]\n",
      "                 Class     Images  Instances      Box(P          R      mAP50  mAP50-95): 100%|██████████| 85/85 [00:12<00:00,  6.91it/s]\n"
     ]
    },
    {
     "name": "stdout",
     "output_type": "stream",
     "text": [
      "                   all       2717       4493      0.594      0.176      0.163     0.0796\n",
      "\n",
      "      Epoch    GPU_mem   box_loss   cls_loss   dfl_loss  Instances       Size\n"
     ]
    },
    {
     "name": "stderr",
     "output_type": "stream",
     "text": [
      "      3/100      2.84G      1.728      3.035       2.23          7        640: 100%|██████████| 872/872 [01:41<00:00,  8.63it/s]\n",
      "                 Class     Images  Instances      Box(P          R      mAP50  mAP50-95): 100%|██████████| 85/85 [00:12<00:00,  6.76it/s]\n"
     ]
    },
    {
     "name": "stdout",
     "output_type": "stream",
     "text": [
      "                   all       2717       4493      0.455      0.287      0.262      0.135\n",
      "\n",
      "      Epoch    GPU_mem   box_loss   cls_loss   dfl_loss  Instances       Size\n"
     ]
    },
    {
     "name": "stderr",
     "output_type": "stream",
     "text": [
      "      4/100      2.84G      1.567      2.526      2.006          3        640: 100%|██████████| 872/872 [01:39<00:00,  8.77it/s]\n",
      "                 Class     Images  Instances      Box(P          R      mAP50  mAP50-95): 100%|██████████| 85/85 [00:12<00:00,  7.06it/s]\n"
     ]
    },
    {
     "name": "stdout",
     "output_type": "stream",
     "text": [
      "                   all       2717       4493      0.474      0.415      0.391      0.234\n",
      "\n",
      "      Epoch    GPU_mem   box_loss   cls_loss   dfl_loss  Instances       Size\n"
     ]
    },
    {
     "name": "stderr",
     "output_type": "stream",
     "text": [
      "      5/100      2.84G      1.463      2.195      1.871          2        640: 100%|██████████| 872/872 [01:40<00:00,  8.71it/s]\n",
      "                 Class     Images  Instances      Box(P          R      mAP50  mAP50-95): 100%|██████████| 85/85 [00:12<00:00,  6.82it/s]\n"
     ]
    },
    {
     "name": "stdout",
     "output_type": "stream",
     "text": [
      "                   all       2717       4493      0.511      0.419      0.424      0.261\n",
      "\n",
      "      Epoch    GPU_mem   box_loss   cls_loss   dfl_loss  Instances       Size\n"
     ]
    },
    {
     "name": "stderr",
     "output_type": "stream",
     "text": [
      "      6/100      2.84G      1.404      1.996      1.805          3        640: 100%|██████████| 872/872 [01:39<00:00,  8.75it/s]\n",
      "                 Class     Images  Instances      Box(P          R      mAP50  mAP50-95): 100%|██████████| 85/85 [00:12<00:00,  6.77it/s]\n"
     ]
    },
    {
     "name": "stdout",
     "output_type": "stream",
     "text": [
      "                   all       2717       4493       0.65      0.499      0.556      0.356\n",
      "\n",
      "      Epoch    GPU_mem   box_loss   cls_loss   dfl_loss  Instances       Size\n"
     ]
    },
    {
     "name": "stderr",
     "output_type": "stream",
     "text": [
      "      7/100      2.84G      1.345       1.86      1.746          3        640: 100%|██████████| 872/872 [01:38<00:00,  8.87it/s]\n",
      "                 Class     Images  Instances      Box(P          R      mAP50  mAP50-95): 100%|██████████| 85/85 [00:12<00:00,  7.01it/s]\n"
     ]
    },
    {
     "name": "stdout",
     "output_type": "stream",
     "text": [
      "                   all       2717       4493      0.646      0.543      0.577      0.367\n",
      "\n",
      "      Epoch    GPU_mem   box_loss   cls_loss   dfl_loss  Instances       Size\n"
     ]
    },
    {
     "name": "stderr",
     "output_type": "stream",
     "text": [
      "      8/100      2.84G      1.317      1.761      1.718          1        640: 100%|██████████| 872/872 [01:36<00:00,  9.00it/s]\n",
      "                 Class     Images  Instances      Box(P          R      mAP50  mAP50-95): 100%|██████████| 85/85 [00:11<00:00,  7.21it/s]\n"
     ]
    },
    {
     "name": "stdout",
     "output_type": "stream",
     "text": [
      "                   all       2717       4493      0.643      0.586      0.616      0.404\n",
      "\n",
      "      Epoch    GPU_mem   box_loss   cls_loss   dfl_loss  Instances       Size\n"
     ]
    },
    {
     "name": "stderr",
     "output_type": "stream",
     "text": [
      "      9/100      2.84G      1.285      1.686      1.679          4        640: 100%|██████████| 872/872 [01:37<00:00,  8.90it/s]\n",
      "                 Class     Images  Instances      Box(P          R      mAP50  mAP50-95): 100%|██████████| 85/85 [00:12<00:00,  6.62it/s]\n"
     ]
    },
    {
     "name": "stdout",
     "output_type": "stream",
     "text": [
      "                   all       2717       4493       0.64      0.587      0.621      0.413\n",
      "\n",
      "      Epoch    GPU_mem   box_loss   cls_loss   dfl_loss  Instances       Size\n"
     ]
    },
    {
     "name": "stderr",
     "output_type": "stream",
     "text": [
      "     10/100      2.84G      1.254      1.598      1.648          2        640: 100%|██████████| 872/872 [01:37<00:00,  8.91it/s]\n",
      "                 Class     Images  Instances      Box(P          R      mAP50  mAP50-95): 100%|██████████| 85/85 [00:11<00:00,  7.23it/s]\n"
     ]
    },
    {
     "name": "stdout",
     "output_type": "stream",
     "text": [
      "                   all       2717       4493      0.694      0.614      0.656      0.444\n",
      "\n",
      "      Epoch    GPU_mem   box_loss   cls_loss   dfl_loss  Instances       Size\n"
     ]
    },
    {
     "name": "stderr",
     "output_type": "stream",
     "text": [
      "     11/100      2.84G      1.231      1.545       1.63          2        640: 100%|██████████| 872/872 [01:39<00:00,  8.75it/s]\n",
      "                 Class     Images  Instances      Box(P          R      mAP50  mAP50-95): 100%|██████████| 85/85 [00:11<00:00,  7.14it/s]\n"
     ]
    },
    {
     "name": "stdout",
     "output_type": "stream",
     "text": [
      "                   all       2717       4493      0.754      0.611      0.689      0.474\n",
      "\n",
      "      Epoch    GPU_mem   box_loss   cls_loss   dfl_loss  Instances       Size\n"
     ]
    },
    {
     "name": "stderr",
     "output_type": "stream",
     "text": [
      "     12/100      2.84G      1.205      1.492      1.604          7        640: 100%|██████████| 872/872 [01:38<00:00,  8.86it/s]\n",
      "                 Class     Images  Instances      Box(P          R      mAP50  mAP50-95): 100%|██████████| 85/85 [00:11<00:00,  7.16it/s]\n"
     ]
    },
    {
     "name": "stdout",
     "output_type": "stream",
     "text": [
      "                   all       2717       4493      0.738      0.633      0.696       0.48\n",
      "\n",
      "      Epoch    GPU_mem   box_loss   cls_loss   dfl_loss  Instances       Size\n"
     ]
    },
    {
     "name": "stderr",
     "output_type": "stream",
     "text": [
      "     13/100      2.84G      1.201      1.463      1.598          3        640: 100%|██████████| 872/872 [01:36<00:00,  9.00it/s]\n",
      "                 Class     Images  Instances      Box(P          R      mAP50  mAP50-95): 100%|██████████| 85/85 [00:12<00:00,  6.75it/s]\n"
     ]
    },
    {
     "name": "stdout",
     "output_type": "stream",
     "text": [
      "                   all       2717       4493      0.766      0.606      0.701      0.481\n",
      "\n",
      "      Epoch    GPU_mem   box_loss   cls_loss   dfl_loss  Instances       Size\n"
     ]
    },
    {
     "name": "stderr",
     "output_type": "stream",
     "text": [
      "     14/100      2.84G      1.187      1.429      1.586          4        640: 100%|██████████| 872/872 [01:39<00:00,  8.77it/s]\n",
      "                 Class     Images  Instances      Box(P          R      mAP50  mAP50-95): 100%|██████████| 85/85 [00:11<00:00,  7.39it/s]\n"
     ]
    },
    {
     "name": "stdout",
     "output_type": "stream",
     "text": [
      "                   all       2717       4493      0.792      0.644      0.721      0.514\n",
      "\n",
      "      Epoch    GPU_mem   box_loss   cls_loss   dfl_loss  Instances       Size\n"
     ]
    },
    {
     "name": "stderr",
     "output_type": "stream",
     "text": [
      "     15/100      2.84G      1.164      1.398      1.569          2        640: 100%|██████████| 872/872 [01:37<00:00,  8.93it/s]\n",
      "                 Class     Images  Instances      Box(P          R      mAP50  mAP50-95): 100%|██████████| 85/85 [00:12<00:00,  6.86it/s]\n"
     ]
    },
    {
     "name": "stdout",
     "output_type": "stream",
     "text": [
      "                   all       2717       4493      0.785      0.659      0.737      0.517\n",
      "\n",
      "      Epoch    GPU_mem   box_loss   cls_loss   dfl_loss  Instances       Size\n"
     ]
    },
    {
     "name": "stderr",
     "output_type": "stream",
     "text": [
      "     16/100      2.84G      1.163      1.355       1.56          2        640: 100%|██████████| 872/872 [01:37<00:00,  8.95it/s]\n",
      "                 Class     Images  Instances      Box(P          R      mAP50  mAP50-95): 100%|██████████| 85/85 [00:12<00:00,  7.07it/s]\n"
     ]
    },
    {
     "name": "stdout",
     "output_type": "stream",
     "text": [
      "                   all       2717       4493      0.778      0.687      0.742      0.531\n",
      "\n",
      "      Epoch    GPU_mem   box_loss   cls_loss   dfl_loss  Instances       Size\n"
     ]
    },
    {
     "name": "stderr",
     "output_type": "stream",
     "text": [
      "     17/100      2.84G      1.141      1.321      1.542          4        640: 100%|██████████| 872/872 [01:39<00:00,  8.77it/s]\n",
      "                 Class     Images  Instances      Box(P          R      mAP50  mAP50-95): 100%|██████████| 85/85 [00:11<00:00,  7.18it/s]\n"
     ]
    },
    {
     "name": "stdout",
     "output_type": "stream",
     "text": [
      "                   all       2717       4493      0.777      0.696      0.755      0.537\n",
      "\n",
      "      Epoch    GPU_mem   box_loss   cls_loss   dfl_loss  Instances       Size\n"
     ]
    },
    {
     "name": "stderr",
     "output_type": "stream",
     "text": [
      "     18/100      3.12G      1.132      1.306      1.533          4        640: 100%|██████████| 872/872 [01:38<00:00,  8.88it/s]\n",
      "                 Class     Images  Instances      Box(P          R      mAP50  mAP50-95): 100%|██████████| 85/85 [00:11<00:00,  7.14it/s]\n"
     ]
    },
    {
     "name": "stdout",
     "output_type": "stream",
     "text": [
      "                   all       2717       4493       0.77      0.689      0.746      0.532\n",
      "\n",
      "      Epoch    GPU_mem   box_loss   cls_loss   dfl_loss  Instances       Size\n"
     ]
    },
    {
     "name": "stderr",
     "output_type": "stream",
     "text": [
      "     19/100      3.12G      1.122      1.281      1.522          2        640: 100%|██████████| 872/872 [01:33<00:00,  9.32it/s]\n",
      "                 Class     Images  Instances      Box(P          R      mAP50  mAP50-95): 100%|██████████| 85/85 [00:11<00:00,  7.22it/s]\n"
     ]
    },
    {
     "name": "stdout",
     "output_type": "stream",
     "text": [
      "                   all       2717       4493      0.801      0.691      0.767      0.548\n",
      "\n",
      "      Epoch    GPU_mem   box_loss   cls_loss   dfl_loss  Instances       Size\n"
     ]
    },
    {
     "name": "stderr",
     "output_type": "stream",
     "text": [
      "     20/100      3.12G      1.106      1.247      1.512          3        640: 100%|██████████| 872/872 [01:39<00:00,  8.80it/s]\n",
      "                 Class     Images  Instances      Box(P          R      mAP50  mAP50-95): 100%|██████████| 85/85 [00:11<00:00,  7.30it/s]\n"
     ]
    },
    {
     "name": "stdout",
     "output_type": "stream",
     "text": [
      "                   all       2717       4493      0.828      0.665      0.761       0.55\n",
      "\n",
      "      Epoch    GPU_mem   box_loss   cls_loss   dfl_loss  Instances       Size\n"
     ]
    },
    {
     "name": "stderr",
     "output_type": "stream",
     "text": [
      "     21/100      3.12G      1.099      1.235      1.499          2        640: 100%|██████████| 872/872 [01:38<00:00,  8.83it/s]\n",
      "                 Class     Images  Instances      Box(P          R      mAP50  mAP50-95): 100%|██████████| 85/85 [00:11<00:00,  7.27it/s]\n"
     ]
    },
    {
     "name": "stdout",
     "output_type": "stream",
     "text": [
      "                   all       2717       4493      0.778      0.713      0.764      0.551\n",
      "\n",
      "      Epoch    GPU_mem   box_loss   cls_loss   dfl_loss  Instances       Size\n"
     ]
    },
    {
     "name": "stderr",
     "output_type": "stream",
     "text": [
      "     22/100      3.12G       1.09      1.216      1.488          3        640: 100%|██████████| 872/872 [01:38<00:00,  8.83it/s]\n",
      "                 Class     Images  Instances      Box(P          R      mAP50  mAP50-95): 100%|██████████| 85/85 [00:12<00:00,  7.07it/s]\n"
     ]
    },
    {
     "name": "stdout",
     "output_type": "stream",
     "text": [
      "                   all       2717       4493      0.766      0.711      0.778      0.569\n",
      "\n",
      "      Epoch    GPU_mem   box_loss   cls_loss   dfl_loss  Instances       Size\n"
     ]
    },
    {
     "name": "stderr",
     "output_type": "stream",
     "text": [
      "     23/100      3.12G      1.091      1.197       1.49          4        640: 100%|██████████| 872/872 [01:37<00:00,  8.91it/s]\n",
      "                 Class     Images  Instances      Box(P          R      mAP50  mAP50-95): 100%|██████████| 85/85 [00:11<00:00,  7.34it/s]\n"
     ]
    },
    {
     "name": "stdout",
     "output_type": "stream",
     "text": [
      "                   all       2717       4493      0.808      0.709      0.783      0.566\n",
      "\n",
      "      Epoch    GPU_mem   box_loss   cls_loss   dfl_loss  Instances       Size\n"
     ]
    },
    {
     "name": "stderr",
     "output_type": "stream",
     "text": [
      "                 Class     Images  Instances      Box(P          R      mAP50  mAP50-95): 100%|██████████| 85/85 [00:12<00:00,  7.06it/s]\n"
     ]
    },
    {
     "name": "stdout",
     "output_type": "stream",
     "text": [
      "                   all       2717       4493      0.785       0.77      0.817      0.611\n",
      "\n",
      "      Epoch    GPU_mem   box_loss   cls_loss   dfl_loss  Instances       Size\n"
     ]
    },
    {
     "name": "stderr",
     "output_type": "stream",
     "text": [
      "     37/100      3.12G     0.9993      1.021      1.407          2        640: 100%|██████████| 872/872 [01:40<00:00,  8.71it/s]\n",
      "                 Class     Images  Instances      Box(P          R      mAP50  mAP50-95): 100%|██████████| 85/85 [00:11<00:00,  7.32it/s]\n"
     ]
    },
    {
     "name": "stdout",
     "output_type": "stream",
     "text": [
      "                   all       2717       4493      0.778      0.771      0.815      0.616\n",
      "\n",
      "      Epoch    GPU_mem   box_loss   cls_loss   dfl_loss  Instances       Size\n"
     ]
    },
    {
     "name": "stderr",
     "output_type": "stream",
     "text": [
      "     38/100      3.12G     0.9971      1.017      1.402          4        640: 100%|██████████| 872/872 [01:40<00:00,  8.70it/s]\n",
      "                 Class     Images  Instances      Box(P          R      mAP50  mAP50-95): 100%|██████████| 85/85 [00:11<00:00,  7.15it/s]\n"
     ]
    },
    {
     "name": "stdout",
     "output_type": "stream",
     "text": [
      "                   all       2717       4493      0.794      0.781      0.823      0.623\n",
      "\n",
      "      Epoch    GPU_mem   box_loss   cls_loss   dfl_loss  Instances       Size\n"
     ]
    },
    {
     "name": "stderr",
     "output_type": "stream",
     "text": [
      "     39/100      3.12G     0.9849      1.001      1.391          4        640: 100%|██████████| 872/872 [01:38<00:00,  8.88it/s]\n",
      "                 Class     Images  Instances      Box(P          R      mAP50  mAP50-95): 100%|██████████| 85/85 [00:11<00:00,  7.22it/s]\n"
     ]
    },
    {
     "name": "stdout",
     "output_type": "stream",
     "text": [
      "                   all       2717       4493      0.837      0.735      0.824      0.621\n",
      "\n",
      "      Epoch    GPU_mem   box_loss   cls_loss   dfl_loss  Instances       Size\n"
     ]
    },
    {
     "name": "stderr",
     "output_type": "stream",
     "text": [
      "     40/100      3.12G     0.9904      1.011      1.397          1        640: 100%|██████████| 872/872 [01:39<00:00,  8.73it/s]\n",
      "                 Class     Images  Instances      Box(P          R      mAP50  mAP50-95): 100%|██████████| 85/85 [00:12<00:00,  6.86it/s]\n"
     ]
    },
    {
     "name": "stdout",
     "output_type": "stream",
     "text": [
      "                   all       2717       4493      0.801      0.789      0.831      0.632\n",
      "\n",
      "      Epoch    GPU_mem   box_loss   cls_loss   dfl_loss  Instances       Size\n"
     ]
    },
    {
     "name": "stderr",
     "output_type": "stream",
     "text": [
      "     60/100      3.41G     0.9017     0.8597      1.324          3        640: 100%|██████████| 872/872 [01:39<00:00,  8.78it/s]\n",
      "                 Class     Images  Instances      Box(P          R      mAP50  mAP50-95): 100%|██████████| 85/85 [00:11<00:00,  7.44it/s]\n"
     ]
    },
    {
     "name": "stdout",
     "output_type": "stream",
     "text": [
      "                   all       2717       4493      0.864      0.755      0.854      0.654\n",
      "\n",
      "      Epoch    GPU_mem   box_loss   cls_loss   dfl_loss  Instances       Size\n"
     ]
    },
    {
     "name": "stderr",
     "output_type": "stream",
     "text": [
      "     61/100      3.41G     0.9048     0.8582      1.324          6        640: 100%|██████████| 872/872 [01:39<00:00,  8.79it/s]\n",
      "                 Class     Images  Instances      Box(P          R      mAP50  mAP50-95): 100%|██████████| 85/85 [00:11<00:00,  7.46it/s]\n"
     ]
    },
    {
     "name": "stdout",
     "output_type": "stream",
     "text": [
      "                   all       2717       4493      0.861      0.759      0.855      0.655\n",
      "\n",
      "      Epoch    GPU_mem   box_loss   cls_loss   dfl_loss  Instances       Size\n"
     ]
    },
    {
     "name": "stderr",
     "output_type": "stream",
     "text": [
      "     62/100      3.41G     0.9116     0.8578      1.325          2        640: 100%|██████████| 872/872 [01:37<00:00,  8.90it/s]\n",
      "                 Class     Images  Instances      Box(P          R      mAP50  mAP50-95): 100%|██████████| 85/85 [00:11<00:00,  7.32it/s]\n"
     ]
    },
    {
     "name": "stdout",
     "output_type": "stream",
     "text": [
      "                   all       2717       4493      0.849      0.767      0.855      0.655\n",
      "\n",
      "      Epoch    GPU_mem   box_loss   cls_loss   dfl_loss  Instances       Size\n"
     ]
    },
    {
     "name": "stderr",
     "output_type": "stream",
     "text": [
      "     63/100      3.41G     0.8991     0.8467      1.321          2        640: 100%|██████████| 872/872 [01:38<00:00,  8.83it/s]\n",
      "                 Class     Images  Instances      Box(P          R      mAP50  mAP50-95): 100%|██████████| 85/85 [00:12<00:00,  7.01it/s]\n"
     ]
    },
    {
     "name": "stdout",
     "output_type": "stream",
     "text": [
      "                   all       2717       4493      0.848       0.77      0.857      0.656\n",
      "\n",
      "      Epoch    GPU_mem   box_loss   cls_loss   dfl_loss  Instances       Size\n"
     ]
    },
    {
     "name": "stderr",
     "output_type": "stream",
     "text": [
      "     64/100      3.41G     0.9013     0.8468       1.32          2        640: 100%|██████████| 872/872 [01:38<00:00,  8.84it/s]\n",
      "                 Class     Images  Instances      Box(P          R      mAP50  mAP50-95): 100%|██████████| 85/85 [00:12<00:00,  6.57it/s]\n"
     ]
    },
    {
     "name": "stdout",
     "output_type": "stream",
     "text": [
      "                   all       2717       4493      0.836      0.778      0.858      0.656\n",
      "\n",
      "      Epoch    GPU_mem   box_loss   cls_loss   dfl_loss  Instances       Size\n"
     ]
    },
    {
     "name": "stderr",
     "output_type": "stream",
     "text": [
      "     65/100      3.41G     0.8967     0.8518      1.317          1        640: 100%|██████████| 872/872 [01:39<00:00,  8.75it/s]\n",
      "                 Class     Images  Instances      Box(P          R      mAP50  mAP50-95): 100%|██████████| 85/85 [00:11<00:00,  7.16it/s]\n"
     ]
    },
    {
     "name": "stdout",
     "output_type": "stream",
     "text": [
      "                   all       2717       4493      0.839      0.776      0.858      0.657\n",
      "\n",
      "      Epoch    GPU_mem   box_loss   cls_loss   dfl_loss  Instances       Size\n"
     ]
    },
    {
     "name": "stderr",
     "output_type": "stream",
     "text": [
      "     66/100      3.76G     0.8853     0.8272      1.309          2        640: 100%|██████████| 872/872 [01:37<00:00,  8.92it/s]\n",
      "                 Class     Images  Instances      Box(P          R      mAP50  mAP50-95): 100%|██████████| 85/85 [00:11<00:00,  7.45it/s]\n"
     ]
    },
    {
     "name": "stdout",
     "output_type": "stream",
     "text": [
      "                   all       2717       4493      0.838      0.776      0.858      0.658\n",
      "\n",
      "      Epoch    GPU_mem   box_loss   cls_loss   dfl_loss  Instances       Size\n"
     ]
    },
    {
     "name": "stderr",
     "output_type": "stream",
     "text": [
      "     67/100      3.76G      0.891       0.83      1.313          4        640: 100%|██████████| 872/872 [01:37<00:00,  8.97it/s]\n",
      "                 Class     Images  Instances      Box(P          R      mAP50  mAP50-95): 100%|██████████| 85/85 [00:11<00:00,  7.42it/s]\n"
     ]
    },
    {
     "name": "stdout",
     "output_type": "stream",
     "text": [
      "                   all       2717       4493       0.81      0.805      0.859      0.658\n",
      "\n",
      "      Epoch    GPU_mem   box_loss   cls_loss   dfl_loss  Instances       Size\n"
     ]
    },
    {
     "name": "stderr",
     "output_type": "stream",
     "text": [
      "     68/100      3.76G     0.8894     0.8216      1.309         11        640: 100%|██████████| 872/872 [01:37<00:00,  8.93it/s]\n",
      "                 Class     Images  Instances      Box(P          R      mAP50  mAP50-95): 100%|██████████| 85/85 [00:11<00:00,  7.23it/s]\n"
     ]
    },
    {
     "name": "stdout",
     "output_type": "stream",
     "text": [
      "                   all       2717       4493      0.805      0.812       0.86      0.659\n",
      "\n",
      "      Epoch    GPU_mem   box_loss   cls_loss   dfl_loss  Instances       Size\n"
     ]
    },
    {
     "name": "stderr",
     "output_type": "stream",
     "text": [
      "     69/100      3.76G     0.8806     0.8237      1.306          2        640: 100%|██████████| 872/872 [01:38<00:00,  8.90it/s]\n",
      "                 Class     Images  Instances      Box(P          R      mAP50  mAP50-95): 100%|██████████| 85/85 [00:11<00:00,  7.62it/s]\n"
     ]
    },
    {
     "name": "stdout",
     "output_type": "stream",
     "text": [
      "                   all       2717       4493      0.806      0.811       0.86      0.659\n",
      "\n",
      "      Epoch    GPU_mem   box_loss   cls_loss   dfl_loss  Instances       Size\n"
     ]
    },
    {
     "name": "stderr",
     "output_type": "stream",
     "text": [
      "     70/100      3.76G     0.8781     0.8135      1.303          8        640: 100%|██████████| 872/872 [01:33<00:00,  9.34it/s]\n",
      "                 Class     Images  Instances      Box(P          R      mAP50  mAP50-95): 100%|██████████| 85/85 [00:11<00:00,  7.52it/s]\n"
     ]
    },
    {
     "name": "stdout",
     "output_type": "stream",
     "text": [
      "                   all       2717       4493      0.805      0.811       0.86      0.659\n",
      "\n",
      "      Epoch    GPU_mem   box_loss   cls_loss   dfl_loss  Instances       Size\n"
     ]
    },
    {
     "name": "stderr",
     "output_type": "stream",
     "text": [
      "     71/100      3.76G     0.8792     0.8001      1.301          5        640: 100%|██████████| 872/872 [01:36<00:00,  9.06it/s]\n",
      "                 Class     Images  Instances      Box(P          R      mAP50  mAP50-95): 100%|██████████| 85/85 [00:13<00:00,  6.36it/s]\n"
     ]
    },
    {
     "name": "stdout",
     "output_type": "stream",
     "text": [
      "                   all       2717       4493      0.804      0.814      0.861      0.659\n",
      "\n",
      "      Epoch    GPU_mem   box_loss   cls_loss   dfl_loss  Instances       Size\n"
     ]
    },
    {
     "name": "stderr",
     "output_type": "stream",
     "text": [
      "     72/100      3.76G     0.8764     0.8015      1.298          2        640: 100%|██████████| 872/872 [01:35<00:00,  9.13it/s]\n",
      "                 Class     Images  Instances      Box(P          R      mAP50  mAP50-95): 100%|██████████| 85/85 [00:11<00:00,  7.55it/s]"
     ]
    },
    {
     "name": "stdout",
     "output_type": "stream",
     "text": [
      "                   all       2717       4493      0.809      0.813      0.861       0.66\n"
     ]
    },
    {
     "name": "stderr",
     "output_type": "stream",
     "text": [
      "\n"
     ]
    },
    {
     "name": "stdout",
     "output_type": "stream",
     "text": [
      "\n",
      "      Epoch    GPU_mem   box_loss   cls_loss   dfl_loss  Instances       Size\n"
     ]
    },
    {
     "name": "stderr",
     "output_type": "stream",
     "text": [
      "     73/100      3.76G     0.8704     0.7995      1.298          1        640: 100%|██████████| 872/872 [01:36<00:00,  9.04it/s]\n",
      "                 Class     Images  Instances      Box(P          R      mAP50  mAP50-95): 100%|██████████| 85/85 [00:11<00:00,  7.15it/s]\n"
     ]
    },
    {
     "name": "stdout",
     "output_type": "stream",
     "text": [
      "                   all       2717       4493      0.809      0.816      0.862      0.661\n",
      "\n",
      "      Epoch    GPU_mem   box_loss   cls_loss   dfl_loss  Instances       Size\n"
     ]
    },
    {
     "name": "stderr",
     "output_type": "stream",
     "text": [
      "     74/100      3.76G      0.859     0.7877      1.291          3        640: 100%|██████████| 872/872 [01:37<00:00,  8.98it/s]\n",
      "                 Class     Images  Instances      Box(P          R      mAP50  mAP50-95): 100%|██████████| 85/85 [00:11<00:00,  7.48it/s]"
     ]
    },
    {
     "name": "stdout",
     "output_type": "stream",
     "text": [
      "                   all       2717       4493      0.824      0.803      0.863      0.661\n"
     ]
    },
    {
     "name": "stderr",
     "output_type": "stream",
     "text": [
      "\n"
     ]
    },
    {
     "name": "stdout",
     "output_type": "stream",
     "text": [
      "\n",
      "      Epoch    GPU_mem   box_loss   cls_loss   dfl_loss  Instances       Size\n"
     ]
    },
    {
     "name": "stderr",
     "output_type": "stream",
     "text": [
      "     75/100      3.76G     0.8589     0.7855      1.287          5        640: 100%|██████████| 872/872 [01:37<00:00,  8.93it/s]\n",
      "                 Class     Images  Instances      Box(P          R      mAP50  mAP50-95): 100%|██████████| 85/85 [00:11<00:00,  7.35it/s]\n"
     ]
    },
    {
     "name": "stdout",
     "output_type": "stream",
     "text": [
      "                   all       2717       4493      0.826      0.802      0.863      0.661\n",
      "\n",
      "      Epoch    GPU_mem   box_loss   cls_loss   dfl_loss  Instances       Size\n"
     ]
    },
    {
     "name": "stderr",
     "output_type": "stream",
     "text": [
      "     76/100      3.76G     0.8655     0.7829      1.289          2        640: 100%|██████████| 872/872 [01:36<00:00,  9.05it/s]\n",
      "                 Class     Images  Instances      Box(P          R      mAP50  mAP50-95): 100%|██████████| 85/85 [00:11<00:00,  7.23it/s]\n"
     ]
    },
    {
     "name": "stdout",
     "output_type": "stream",
     "text": [
      "                   all       2717       4493      0.822      0.804      0.864      0.662\n",
      "\n",
      "      Epoch    GPU_mem   box_loss   cls_loss   dfl_loss  Instances       Size\n"
     ]
    },
    {
     "name": "stderr",
     "output_type": "stream",
     "text": [
      "     77/100      3.76G      0.854     0.7759      1.282          6        640: 100%|██████████| 872/872 [01:36<00:00,  9.04it/s]\n",
      "                 Class     Images  Instances      Box(P          R      mAP50  mAP50-95): 100%|██████████| 85/85 [00:11<00:00,  7.38it/s]\n"
     ]
    },
    {
     "name": "stdout",
     "output_type": "stream",
     "text": [
      "                   all       2717       4493      0.823      0.805      0.864      0.662\n",
      "\n",
      "      Epoch    GPU_mem   box_loss   cls_loss   dfl_loss  Instances       Size\n"
     ]
    },
    {
     "name": "stderr",
     "output_type": "stream",
     "text": [
      "     78/100      3.76G     0.8504     0.7724      1.282          4        640: 100%|██████████| 872/872 [01:38<00:00,  8.86it/s]\n",
      "                 Class     Images  Instances      Box(P          R      mAP50  mAP50-95): 100%|██████████| 85/85 [00:11<00:00,  7.31it/s]\n"
     ]
    },
    {
     "name": "stdout",
     "output_type": "stream",
     "text": [
      "                   all       2717       4493      0.828      0.802      0.864      0.663\n",
      "\n",
      "      Epoch    GPU_mem   box_loss   cls_loss   dfl_loss  Instances       Size\n"
     ]
    },
    {
     "name": "stderr",
     "output_type": "stream",
     "text": [
      "     79/100      3.76G     0.8485     0.7731      1.281          2        640: 100%|██████████| 872/872 [01:36<00:00,  9.06it/s]\n",
      "                 Class     Images  Instances      Box(P          R      mAP50  mAP50-95): 100%|██████████| 85/85 [00:11<00:00,  7.49it/s]\n"
     ]
    },
    {
     "name": "stdout",
     "output_type": "stream",
     "text": [
      "                   all       2717       4493      0.834      0.797      0.865      0.663\n",
      "\n",
      "      Epoch    GPU_mem   box_loss   cls_loss   dfl_loss  Instances       Size\n"
     ]
    },
    {
     "name": "stderr",
     "output_type": "stream",
     "text": [
      "     80/100      3.76G     0.8503     0.7747      1.282          3        640: 100%|██████████| 872/872 [01:37<00:00,  8.91it/s]\n",
      "                 Class     Images  Instances      Box(P          R      mAP50  mAP50-95): 100%|██████████| 85/85 [00:11<00:00,  7.46it/s]\n"
     ]
    },
    {
     "name": "stdout",
     "output_type": "stream",
     "text": [
      "                   all       2717       4493      0.829      0.801      0.864      0.663\n",
      "\n",
      "      Epoch    GPU_mem   box_loss   cls_loss   dfl_loss  Instances       Size\n"
     ]
    },
    {
     "name": "stderr",
     "output_type": "stream",
     "text": [
      "     81/100      3.76G     0.8448     0.7607      1.277          8        640: 100%|██████████| 872/872 [01:38<00:00,  8.87it/s]\n",
      "                 Class     Images  Instances      Box(P          R      mAP50  mAP50-95): 100%|██████████| 85/85 [00:11<00:00,  7.64it/s]\n"
     ]
    },
    {
     "name": "stdout",
     "output_type": "stream",
     "text": [
      "                   all       2717       4493       0.83      0.801      0.865      0.664\n",
      "\n",
      "      Epoch    GPU_mem   box_loss   cls_loss   dfl_loss  Instances       Size\n"
     ]
    },
    {
     "name": "stderr",
     "output_type": "stream",
     "text": [
      "     82/100      3.76G     0.8435      0.758      1.276          1        640: 100%|██████████| 872/872 [01:36<00:00,  9.08it/s]\n",
      "                 Class     Images  Instances      Box(P          R      mAP50  mAP50-95): 100%|██████████| 85/85 [00:11<00:00,  7.29it/s]\n"
     ]
    },
    {
     "name": "stdout",
     "output_type": "stream",
     "text": [
      "                   all       2717       4493       0.83      0.804      0.865      0.664\n",
      "\n",
      "      Epoch    GPU_mem   box_loss   cls_loss   dfl_loss  Instances       Size\n"
     ]
    },
    {
     "name": "stderr",
     "output_type": "stream",
     "text": [
      "     83/100      3.76G     0.8468     0.7572      1.276          1        640: 100%|██████████| 872/872 [01:35<00:00,  9.14it/s]\n",
      "                 Class     Images  Instances      Box(P          R      mAP50  mAP50-95): 100%|██████████| 85/85 [00:11<00:00,  7.14it/s]\n"
     ]
    },
    {
     "name": "stdout",
     "output_type": "stream",
     "text": [
      "                   all       2717       4493      0.826      0.807      0.865      0.665\n",
      "\n",
      "      Epoch    GPU_mem   box_loss   cls_loss   dfl_loss  Instances       Size\n"
     ]
    },
    {
     "name": "stderr",
     "output_type": "stream",
     "text": [
      "     84/100      3.76G     0.8328     0.7466      1.269          4        640: 100%|██████████| 872/872 [01:35<00:00,  9.15it/s]\n",
      "                 Class     Images  Instances      Box(P          R      mAP50  mAP50-95): 100%|██████████| 85/85 [00:11<00:00,  7.57it/s]\n"
     ]
    },
    {
     "name": "stdout",
     "output_type": "stream",
     "text": [
      "                   all       2717       4493       0.83      0.808      0.866      0.665\n",
      "\n",
      "      Epoch    GPU_mem   box_loss   cls_loss   dfl_loss  Instances       Size\n"
     ]
    },
    {
     "name": "stderr",
     "output_type": "stream",
     "text": [
      "     85/100      3.76G     0.8245     0.7359      1.265          2        640: 100%|██████████| 872/872 [01:38<00:00,  8.83it/s]\n",
      "                 Class     Images  Instances      Box(P          R      mAP50  mAP50-95): 100%|██████████| 85/85 [00:11<00:00,  7.19it/s]\n"
     ]
    },
    {
     "name": "stdout",
     "output_type": "stream",
     "text": [
      "                   all       2717       4493      0.829      0.807      0.866      0.665\n",
      "\n",
      "      Epoch    GPU_mem   box_loss   cls_loss   dfl_loss  Instances       Size\n"
     ]
    },
    {
     "name": "stderr",
     "output_type": "stream",
     "text": [
      "     86/100      3.76G     0.8357     0.7455      1.266          2        640: 100%|██████████| 872/872 [01:35<00:00,  9.14it/s]\n",
      "                 Class     Images  Instances      Box(P          R      mAP50  mAP50-95): 100%|██████████| 85/85 [00:11<00:00,  7.15it/s]\n"
     ]
    },
    {
     "name": "stdout",
     "output_type": "stream",
     "text": [
      "                   all       2717       4493      0.829      0.808      0.866      0.665\n",
      "\n",
      "      Epoch    GPU_mem   box_loss   cls_loss   dfl_loss  Instances       Size\n"
     ]
    },
    {
     "name": "stderr",
     "output_type": "stream",
     "text": [
      "     87/100      3.76G     0.8236     0.7285       1.26          2        640: 100%|██████████| 872/872 [01:35<00:00,  9.10it/s]\n",
      "                 Class     Images  Instances      Box(P          R      mAP50  mAP50-95): 100%|██████████| 85/85 [00:11<00:00,  7.56it/s]"
     ]
    },
    {
     "name": "stdout",
     "output_type": "stream",
     "text": [
      "                   all       2717       4493      0.829      0.809      0.866      0.666\n"
     ]
    },
    {
     "name": "stderr",
     "output_type": "stream",
     "text": [
      "\n"
     ]
    },
    {
     "name": "stdout",
     "output_type": "stream",
     "text": [
      "\n",
      "      Epoch    GPU_mem   box_loss   cls_loss   dfl_loss  Instances       Size\n"
     ]
    },
    {
     "name": "stderr",
     "output_type": "stream",
     "text": [
      "     88/100      3.76G     0.8193     0.7333      1.264          1        640: 100%|██████████| 872/872 [01:37<00:00,  8.94it/s]\n",
      "                 Class     Images  Instances      Box(P          R      mAP50  mAP50-95): 100%|██████████| 85/85 [00:11<00:00,  7.44it/s]\n"
     ]
    },
    {
     "name": "stdout",
     "output_type": "stream",
     "text": [
      "                   all       2717       4493       0.83      0.809      0.867      0.666\n",
      "\n",
      "      Epoch    GPU_mem   box_loss   cls_loss   dfl_loss  Instances       Size\n"
     ]
    },
    {
     "name": "stderr",
     "output_type": "stream",
     "text": [
      "     89/100      3.76G     0.8196     0.7337      1.258          1        640: 100%|██████████| 872/872 [01:37<00:00,  8.92it/s]\n",
      "                 Class     Images  Instances      Box(P          R      mAP50  mAP50-95): 100%|██████████| 85/85 [00:11<00:00,  7.44it/s]\n"
     ]
    },
    {
     "name": "stdout",
     "output_type": "stream",
     "text": [
      "                   all       2717       4493      0.831      0.808      0.867      0.666\n",
      "\n",
      "      Epoch    GPU_mem   box_loss   cls_loss   dfl_loss  Instances       Size\n"
     ]
    },
    {
     "name": "stderr",
     "output_type": "stream",
     "text": [
      "     90/100      3.76G     0.8183     0.7239      1.258          5        640: 100%|██████████| 872/872 [01:37<00:00,  8.94it/s]\n",
      "                 Class     Images  Instances      Box(P          R      mAP50  mAP50-95): 100%|██████████| 85/85 [00:11<00:00,  7.09it/s]"
     ]
    },
    {
     "name": "stdout",
     "output_type": "stream",
     "text": [
      "                   all       2717       4493      0.833      0.809      0.868      0.666\n"
     ]
    },
    {
     "name": "stderr",
     "output_type": "stream",
     "text": [
      "\n"
     ]
    },
    {
     "name": "stdout",
     "output_type": "stream",
     "text": [
      "Closing dataloader mosaic\n",
      "\n",
      "      Epoch    GPU_mem   box_loss   cls_loss   dfl_loss  Instances       Size\n"
     ]
    },
    {
     "name": "stderr",
     "output_type": "stream",
     "text": [
      "     91/100      3.76G      0.773     0.6075       1.27          1        640: 100%|██████████| 872/872 [01:37<00:00,  8.96it/s]\n",
      "                 Class     Images  Instances      Box(P          R      mAP50  mAP50-95): 100%|██████████| 85/85 [00:11<00:00,  7.71it/s]\n"
     ]
    },
    {
     "name": "stdout",
     "output_type": "stream",
     "text": [
      "                   all       2717       4493      0.835      0.809      0.868      0.667\n",
      "\n",
      "      Epoch    GPU_mem   box_loss   cls_loss   dfl_loss  Instances       Size\n"
     ]
    },
    {
     "name": "stderr",
     "output_type": "stream",
     "text": [
      "     92/100      3.76G     0.7595     0.5858      1.262          3        640: 100%|██████████| 872/872 [01:36<00:00,  9.03it/s]\n",
      "                 Class     Images  Instances      Box(P          R      mAP50  mAP50-95): 100%|██████████| 85/85 [00:12<00:00,  6.86it/s]"
     ]
    },
    {
     "name": "stdout",
     "output_type": "stream",
     "text": [
      "                   all       2717       4493      0.837      0.808      0.868      0.667\n"
     ]
    },
    {
     "name": "stderr",
     "output_type": "stream",
     "text": [
      "\n"
     ]
    },
    {
     "name": "stdout",
     "output_type": "stream",
     "text": [
      "\n",
      "      Epoch    GPU_mem   box_loss   cls_loss   dfl_loss  Instances       Size\n"
     ]
    },
    {
     "name": "stderr",
     "output_type": "stream",
     "text": [
      "     93/100      3.76G      0.751     0.5717      1.247          2        640: 100%|██████████| 872/872 [01:36<00:00,  9.06it/s]\n",
      "                 Class     Images  Instances      Box(P          R      mAP50  mAP50-95): 100%|██████████| 85/85 [00:12<00:00,  7.05it/s]\n"
     ]
    },
    {
     "name": "stdout",
     "output_type": "stream",
     "text": [
      "                   all       2717       4493      0.835      0.808      0.868      0.668\n",
      "\n",
      "      Epoch    GPU_mem   box_loss   cls_loss   dfl_loss  Instances       Size\n"
     ]
    },
    {
     "name": "stderr",
     "output_type": "stream",
     "text": [
      "     94/100      3.76G     0.7433     0.5645      1.249          1        640: 100%|██████████| 872/872 [01:35<00:00,  9.11it/s]\n",
      "                 Class     Images  Instances      Box(P          R      mAP50  mAP50-95): 100%|██████████| 85/85 [00:11<00:00,  7.30it/s]\n"
     ]
    },
    {
     "name": "stdout",
     "output_type": "stream",
     "text": [
      "                   all       2717       4493      0.835      0.808      0.868      0.668\n",
      "\n",
      "      Epoch    GPU_mem   box_loss   cls_loss   dfl_loss  Instances       Size\n"
     ]
    },
    {
     "name": "stderr",
     "output_type": "stream",
     "text": [
      "     95/100      3.76G     0.7301     0.5592      1.238          1        640: 100%|██████████| 872/872 [01:37<00:00,  8.97it/s]\n",
      "                 Class     Images  Instances      Box(P          R      mAP50  mAP50-95): 100%|██████████| 85/85 [00:11<00:00,  7.21it/s]\n"
     ]
    },
    {
     "name": "stdout",
     "output_type": "stream",
     "text": [
      "                   all       2717       4493      0.837      0.807      0.868      0.668\n",
      "\n",
      "      Epoch    GPU_mem   box_loss   cls_loss   dfl_loss  Instances       Size\n"
     ]
    },
    {
     "name": "stderr",
     "output_type": "stream",
     "text": [
      "     96/100      3.76G     0.7237     0.5482      1.231          5        640: 100%|██████████| 872/872 [01:37<00:00,  8.95it/s]\n",
      "                 Class     Images  Instances      Box(P          R      mAP50  mAP50-95): 100%|██████████| 85/85 [00:11<00:00,  7.25it/s]\n"
     ]
    },
    {
     "name": "stdout",
     "output_type": "stream",
     "text": [
      "                   all       2717       4493       0.84      0.807      0.869      0.668\n",
      "\n",
      "      Epoch    GPU_mem   box_loss   cls_loss   dfl_loss  Instances       Size\n"
     ]
    },
    {
     "name": "stderr",
     "output_type": "stream",
     "text": [
      "     97/100      3.76G     0.7245     0.5426       1.23          1        640: 100%|██████████| 872/872 [01:37<00:00,  8.94it/s]\n",
      "                 Class     Images  Instances      Box(P          R      mAP50  mAP50-95): 100%|██████████| 85/85 [00:11<00:00,  7.61it/s]\n"
     ]
    },
    {
     "name": "stdout",
     "output_type": "stream",
     "text": [
      "                   all       2717       4493      0.839      0.808      0.869      0.669\n",
      "\n",
      "      Epoch    GPU_mem   box_loss   cls_loss   dfl_loss  Instances       Size\n"
     ]
    },
    {
     "name": "stderr",
     "output_type": "stream",
     "text": [
      "     98/100      3.76G     0.7136     0.5341      1.222          1        640: 100%|██████████| 872/872 [01:38<00:00,  8.87it/s]\n",
      "                 Class     Images  Instances      Box(P          R      mAP50  mAP50-95): 100%|██████████| 85/85 [00:11<00:00,  7.50it/s]"
     ]
    },
    {
     "name": "stdout",
     "output_type": "stream",
     "text": [
      "                   all       2717       4493      0.843      0.808      0.869       0.67\n"
     ]
    },
    {
     "name": "stderr",
     "output_type": "stream",
     "text": [
      "\n"
     ]
    },
    {
     "name": "stdout",
     "output_type": "stream",
     "text": [
      "\n",
      "      Epoch    GPU_mem   box_loss   cls_loss   dfl_loss  Instances       Size\n"
     ]
    },
    {
     "name": "stderr",
     "output_type": "stream",
     "text": [
      "     99/100      3.76G     0.7117     0.5362      1.223          3        640: 100%|██████████| 872/872 [01:37<00:00,  8.98it/s]\n",
      "                 Class     Images  Instances      Box(P          R      mAP50  mAP50-95): 100%|██████████| 85/85 [00:11<00:00,  7.10it/s]\n"
     ]
    },
    {
     "name": "stdout",
     "output_type": "stream",
     "text": [
      "                   all       2717       4493      0.845      0.808       0.87       0.67\n",
      "\n",
      "      Epoch    GPU_mem   box_loss   cls_loss   dfl_loss  Instances       Size\n"
     ]
    },
    {
     "name": "stderr",
     "output_type": "stream",
     "text": [
      "    100/100      3.76G       0.71     0.5322      1.219          1        640: 100%|██████████| 872/872 [01:39<00:00,  8.80it/s]\n",
      "                 Class     Images  Instances      Box(P          R      mAP50  mAP50-95): 100%|██████████| 85/85 [00:11<00:00,  7.56it/s]"
     ]
    },
    {
     "name": "stdout",
     "output_type": "stream",
     "text": [
      "                   all       2717       4493      0.846      0.808       0.87       0.67\n"
     ]
    },
    {
     "name": "stderr",
     "output_type": "stream",
     "text": [
      "\n"
     ]
    },
    {
     "name": "stdout",
     "output_type": "stream",
     "text": [
      "\n",
      "100 epochs completed in 3.071 hours.\n",
      "Optimizer stripped from runs/detect/yolov8n-ee4/weights/last.pt, 10.6MB\n",
      "Optimizer stripped from runs/detect/yolov8n-ee4/weights/best.pt, 10.6MB\n",
      "\n",
      "Validating runs/detect/yolov8n-ee4/weights/best.pt...\n",
      "Ultralytics 8.3.113 🚀 Python-3.8.10 torch-2.4.1+cu121 CUDA:0 (NVIDIA GeForce RTX 3090, 24253MiB)\n",
      "YOLOv8n_ee summary (fused): 100 layers, 5,026,702 parameters, 0 gradients, 16.5 GFLOPs\n"
     ]
    },
    {
     "name": "stderr",
     "output_type": "stream",
     "text": [
      "                 Class     Images  Instances      Box(P          R      mAP50  mAP50-95): 100%|██████████| 85/85 [00:13<00:00,  6.13it/s]\n"
     ]
    },
    {
     "name": "stdout",
     "output_type": "stream",
     "text": [
      "                   all       2717       4493      0.848      0.808       0.87       0.67\n",
      "                  Bike         32         37      0.966      0.775      0.908      0.752\n",
      "              Building         95        101      0.723      0.891      0.854      0.665\n",
      "                   Car        535        981      0.909      0.748      0.863      0.614\n",
      "                Person        347       1033      0.793      0.718      0.793      0.511\n",
      "                Stairs        206        213      0.922      0.941       0.97      0.761\n",
      "          Traffic sign         84        114      0.785      0.772      0.789       0.49\n",
      "       Electrical Pole         60         74      0.858      0.878      0.924      0.629\n",
      "                  Road         82         84       0.72      0.548      0.752      0.509\n",
      "            Motorcycle         51         82      0.776      0.677      0.783      0.541\n",
      "               Dustbin         84        138      0.917       0.87      0.906       0.81\n",
      "                   Dog         56         65      0.864      0.879      0.953      0.768\n",
      "               Manhole        450        475      0.925      0.939      0.965      0.848\n",
      "                  Tree        225        293      0.834      0.829      0.889      0.658\n",
      "            Guard rail         71         92      0.667      0.739      0.757      0.579\n",
      "  Pedestrian crosswalk        317        429      0.832      0.755      0.804       0.63\n",
      "                 Truck         97        122       0.95      0.773      0.853      0.666\n",
      "                   Bus         95        138      0.888      0.819      0.911      0.693\n",
      "                 Bench         22         22      0.927          1      0.995      0.938\n",
      "Speed: 0.1ms preprocess, 1.0ms inference, 0.0ms loss, 0.9ms postprocess per image\n",
      "Results saved to \u001b[1mruns/detect/yolov8n-ee4\u001b[0m\n"
     ]
    },
    {
     "ename": "AttributeError",
     "evalue": "'DetMetrics' object has no attribute 'best'. See valid attributes below.\n\n    Utility class for computing detection metrics such as precision, recall, and mean average precision (mAP).\n\n    Attributes:\n        save_dir (Path): A path to the directory where the output plots will be saved.\n        plot (bool): A flag that indicates whether to plot precision-recall curves for each class.\n        names (dict): A dictionary of class names.\n        box (Metric): An instance of the Metric class for storing detection results.\n        speed (dict): A dictionary for storing execution times of different parts of the detection process.\n        task (str): The task type, set to 'detect'.\n    ",
     "output_type": "error",
     "traceback": [
      "\u001b[0;31m---------------------------------------------------------------------------\u001b[0m",
      "\u001b[0;31mAttributeError\u001b[0m                            Traceback (most recent call last)",
      "Cell \u001b[0;32mIn[8], line 14\u001b[0m\n\u001b[1;32m      3\u001b[0m yolo_ee\u001b[38;5;241m.\u001b[39mmodel \u001b[38;5;241m=\u001b[39m YOLOv8n_EE(nc\u001b[38;5;241m=\u001b[39m \u001b[38;5;241m18\u001b[39m, model_yaml\u001b[38;5;241m=\u001b[39m \u001b[38;5;124m\"\u001b[39m\u001b[38;5;124myolov8n_ee.yaml\u001b[39m\u001b[38;5;124m\"\u001b[39m)\u001b[38;5;241m.\u001b[39mto(DEVICE)\n\u001b[1;32m      5\u001b[0m results \u001b[38;5;241m=\u001b[39m yolo_ee\u001b[38;5;241m.\u001b[39mtrain(\n\u001b[1;32m      6\u001b[0m     data\u001b[38;5;241m=\u001b[39mDATA_YAML, \n\u001b[1;32m      7\u001b[0m     imgsz\u001b[38;5;241m=\u001b[39mIMG_SIZE, \n\u001b[0;32m   (...)\u001b[0m\n\u001b[1;32m     11\u001b[0m     name\u001b[38;5;241m=\u001b[39m\u001b[38;5;124m'\u001b[39m\u001b[38;5;124myolov8n-ee\u001b[39m\u001b[38;5;124m'\u001b[39m\n\u001b[1;32m     12\u001b[0m )\n\u001b[0;32m---> 14\u001b[0m \u001b[38;5;28mprint\u001b[39m(\u001b[38;5;124mf\u001b[39m\u001b[38;5;124m\"\u001b[39m\u001b[38;5;124mBest model saved to: \u001b[39m\u001b[38;5;132;01m{\u001b[39;00mresults\u001b[38;5;241m.\u001b[39mbest\u001b[38;5;132;01m}\u001b[39;00m\u001b[38;5;124m\"\u001b[39m)\n",
      "File \u001b[0;32m/opt/conda/lib/python3.8/site-packages/ultralytics/utils/__init__.py:241\u001b[0m, in \u001b[0;36mSimpleClass.__getattr__\u001b[0;34m(self, attr)\u001b[0m\n\u001b[1;32m    239\u001b[0m \u001b[38;5;124;03m\"\"\"Custom attribute access error message with helpful information.\"\"\"\u001b[39;00m\n\u001b[1;32m    240\u001b[0m name \u001b[38;5;241m=\u001b[39m \u001b[38;5;28mself\u001b[39m\u001b[38;5;241m.\u001b[39m\u001b[38;5;18m__class__\u001b[39m\u001b[38;5;241m.\u001b[39m\u001b[38;5;18m__name__\u001b[39m\n\u001b[0;32m--> 241\u001b[0m \u001b[38;5;28;01mraise\u001b[39;00m \u001b[38;5;167;01mAttributeError\u001b[39;00m(\u001b[38;5;124mf\u001b[39m\u001b[38;5;124m\"\u001b[39m\u001b[38;5;124m'\u001b[39m\u001b[38;5;132;01m{\u001b[39;00mname\u001b[38;5;132;01m}\u001b[39;00m\u001b[38;5;124m'\u001b[39m\u001b[38;5;124m object has no attribute \u001b[39m\u001b[38;5;124m'\u001b[39m\u001b[38;5;132;01m{\u001b[39;00mattr\u001b[38;5;132;01m}\u001b[39;00m\u001b[38;5;124m'\u001b[39m\u001b[38;5;124m. See valid attributes below.\u001b[39m\u001b[38;5;130;01m\\n\u001b[39;00m\u001b[38;5;132;01m{\u001b[39;00m\u001b[38;5;28mself\u001b[39m\u001b[38;5;241m.\u001b[39m\u001b[38;5;18m__doc__\u001b[39m\u001b[38;5;132;01m}\u001b[39;00m\u001b[38;5;124m\"\u001b[39m)\n",
      "\u001b[0;31mAttributeError\u001b[0m: 'DetMetrics' object has no attribute 'best'. See valid attributes below.\n\n    Utility class for computing detection metrics such as precision, recall, and mean average precision (mAP).\n\n    Attributes:\n        save_dir (Path): A path to the directory where the output plots will be saved.\n        plot (bool): A flag that indicates whether to plot precision-recall curves for each class.\n        names (dict): A dictionary of class names.\n        box (Metric): An instance of the Metric class for storing detection results.\n        speed (dict): A dictionary for storing execution times of different parts of the detection process.\n        task (str): The task type, set to 'detect'.\n    "
     ]
    }
   ],
   "source": [
    "yolo_ee = YOLO('yolov8n.pt')\n",
    "#we will pass our new model to pretrained model\n",
    "yolo_ee.model = YOLOv8n_EE(nc= 18, model_yaml= \"yolov8n_ee.yaml\").to(DEVICE)\n",
    "\n",
    "results = yolo_ee.train(\n",
    "    data=DATA_YAML, \n",
    "    imgsz=IMG_SIZE, \n",
    "    batch=BATCH_SIZE,\n",
    "    epochs=EPOCHS, \n",
    "    device=DEVICE, \n",
    "    name='yolov8n-ee'\n",
    ")\n",
    "\n",
    "print(f\"Best model saved to: {results.best}\")"
   ]
  },
  {
   "cell_type": "markdown",
   "id": "b778839c",
   "metadata": {},
   "source": [
    "## Test and Validation"
   ]
  },
  {
   "cell_type": "code",
   "execution_count": 11,
   "id": "d28cf171",
   "metadata": {
    "ExecuteTime": {
     "end_time": "2025-05-20T19:23:39.643792Z",
     "start_time": "2025-05-20T19:23:39.632356Z"
    }
   },
   "outputs": [],
   "source": [
    "def test_and_validation(model, data, test_folder):\n",
    "    \"\"\"\n",
    "    Run prediction on a folder of test images and then validate the model on a test split.\n",
    "\n",
    "    This function performs two main tasks:\n",
    "    1. Testing: Uses the trained model to predict bounding boxes on images in test_folder, saving the annotated outputs to disk.\n",
    "    2. Validation: Evaluates the model on the held-out test set defined by data,  producing metrics such as confusion matrix, precision, recall, etc.\n",
    "\n",
    "    Parameters ->\n",
    "        model(ultralytics.yolo.engine.model.YOLO): The YOLO model instance to validate.\n",
    "        data(str): Path or dictionary specifying the dataset configuration(yaml file).\n",
    "        test_folder(str): Path to the folder containing images for the manual prediction step.\n",
    "    \"\"\"\n",
    "    \n",
    "    #test section\n",
    "    #we will conduct prediction processes over test folder, then we will save its results and drawn bounding boxes\n",
    "    test_results = model.predict(source=test_folder, save=True, show=False)\n",
    "    print(\"Prediction complete. Check the 'runs/detect/predict/' folder for the saved results with bounding boxes.\")\n",
    "\n",
    "    #validation section\n",
    "    #we will conducta simple validation process with confusion matrix and useful statics over model and testing data\n",
    "    validation_results = model.val(data=data, split='test')\n",
    "    print(\"Validation complete. Check the 'runs/detect/valid/' folder for the saved validation statics.\")"
   ]
  },
  {
   "cell_type": "code",
   "execution_count": 12,
   "id": "faed056d",
   "metadata": {
    "ExecuteTime": {
     "end_time": "2025-05-20T19:24:18.035134Z",
     "start_time": "2025-05-20T19:23:40.628581Z"
    }
   },
   "outputs": [
    {
     "name": "stdout",
     "output_type": "stream",
     "text": [
      "\n",
      "WARNING ⚠️ \n",
      "inference results will accumulate in RAM unless `stream=True` is passed, causing potential out-of-memory\n",
      "errors for large sources or long-running streams and videos. See https://docs.ultralytics.com/modes/predict/ for help.\n",
      "\n",
      "Example:\n",
      "    results = model(source=..., stream=True)  # generator of Results objects\n",
      "    for r in results:\n",
      "        boxes = r.boxes  # Boxes object for bbox outputs\n",
      "        masks = r.masks  # Masks object for segment masks outputs\n",
      "        probs = r.probs  # Class probabilities for classification outputs\n",
      "\n",
      "image 1/1157 /root/Desktop/workspace/Realtime Obstacle Detector/dataset/test/images/-0FB0E465-1451-4618-84CD-1A1A88293B08-png_jpg.rf.5bec2d42ef8cd62229fd600b3f806356.jpg: 640x640 1 Car, 10.9ms\n",
      "image 2/1157 /root/Desktop/workspace/Realtime Obstacle Detector/dataset/test/images/-1-_jpg.rf.427be72a35e1abd69e30891ca7690f37.jpg: 640x640 1 Manhole, 10.7ms\n",
      "image 3/1157 /root/Desktop/workspace/Realtime Obstacle Detector/dataset/test/images/-156F82DF-5099-4AEA-8574-19720B40C034-png_jpg.rf.287214abe75b752fceb897a8ccf173eb.jpg: 640x640 2 Cars, 10.0ms\n",
      "image 4/1157 /root/Desktop/workspace/Realtime Obstacle Detector/dataset/test/images/-15F66BCC-7D1B-4C04-82EF-C560EC4C612E-png_jpg.rf.381fac2d57732fe36911af62af90e46f.jpg: 640x640 1 Car, 10.3ms\n",
      "image 5/1157 /root/Desktop/workspace/Realtime Obstacle Detector/dataset/test/images/-18-_jpg.rf.1e7a59318cf2a362292fa4d89e3dbff7.jpg: 640x640 1 Guard rail, 10.6ms\n",
      "image 6/1157 /root/Desktop/workspace/Realtime Obstacle Detector/dataset/test/images/-3827C0BE-B55D-4ADE-9938-9DC7D50A32DD-png_jpg.rf.f1c32ac330a9d223f8f8ae7a94f27149.jpg: 640x640 1 Car, 10.0ms\n",
      "image 7/1157 /root/Desktop/workspace/Realtime Obstacle Detector/dataset/test/images/-410FB936-1128-4721-89DE-79E2F58D3B24-png_jpg.rf.e310d4aa06fd701dcb3502fe569bc3dd.jpg: 640x640 2 Cars, 10.3ms\n",
      "image 8/1157 /root/Desktop/workspace/Realtime Obstacle Detector/dataset/test/images/-41421EB3-10E7-4E8B-9D22-424751A9FE8A-png_jpg.rf.6aee629caaab3df7c84929a02e7c8cf4.jpg: 640x640 1 Car, 9.9ms\n",
      "image 9/1157 /root/Desktop/workspace/Realtime Obstacle Detector/dataset/test/images/-4B741C2C-6B83-4220-B69F-FCD31BA7BD93-png_jpg.rf.43cc80ab890d2e4bd85589267eb4ddf0.jpg: 640x640 1 Road, 1 Manhole, 9.8ms\n",
      "image 10/1157 /root/Desktop/workspace/Realtime Obstacle Detector/dataset/test/images/-531F16FE-7468-484D-8B14-D5229D4851B8-png_jpg.rf.aae7470a5e560ffbec3e8c5d31f8d3a8.jpg: 640x640 1 Car, 9.7ms\n",
      "image 11/1157 /root/Desktop/workspace/Realtime Obstacle Detector/dataset/test/images/-5A06964D-6D40-4132-A769-F21A3B8E1DAA-png_jpg.rf.0463d4ee9ab61d1c13fe5f029b8d0b42.jpg: 640x640 2 Cars, 9.6ms\n",
      "image 12/1157 /root/Desktop/workspace/Realtime Obstacle Detector/dataset/test/images/-B3FF9CBC-6C9F-4BDD-B814-790723E32E98-png_jpg.rf.ae0ef9fb02ca0b8ce94e513562b6a038.jpg: 640x640 1 Car, 9.5ms\n",
      "image 13/1157 /root/Desktop/workspace/Realtime Obstacle Detector/dataset/test/images/-B4C05A41-CD1A-4081-9609-EEFF67F464BE-png_jpg.rf.80d6fefefd10db9327a383e0cd7c7d73.jpg: 640x640 1 Car, 9.6ms\n",
      "image 14/1157 /root/Desktop/workspace/Realtime Obstacle Detector/dataset/test/images/-B59BC424-0AB7-4880-82A8-54AC24CC8C85-png_jpg.rf.d5db04c47f089a521ad76c5da1140200.jpg: 640x640 1 Car, 9.7ms\n",
      "image 15/1157 /root/Desktop/workspace/Realtime Obstacle Detector/dataset/test/images/-BfPbDb0lSK4-_mp4-110_jpg.rf.8517c370ba76046816e467ca45d554cd.jpg: 640x640 5 Persons, 9.7ms\n",
      "image 16/1157 /root/Desktop/workspace/Realtime Obstacle Detector/dataset/test/images/-BfPbDb0lSK4-_mp4-25_jpg.rf.a484b4f19c4c3166a3507c84efd1e06d.jpg: 640x640 3 Persons, 10.9ms\n",
      "image 17/1157 /root/Desktop/workspace/Realtime Obstacle Detector/dataset/test/images/-BfPbDb0lSK4-_mp4-26_jpg.rf.ce061b8bc733b3be181e55fe94027ee7.jpg: 640x640 (no detections), 9.5ms\n",
      "image 18/1157 /root/Desktop/workspace/Realtime Obstacle Detector/dataset/test/images/-BfPbDb0lSK4-_mp4-36_jpg.rf.b6869aa620c750fc8874b5e1f91d983d.jpg: 640x640 9 Persons, 9.4ms\n",
      "image 19/1157 /root/Desktop/workspace/Realtime Obstacle Detector/dataset/test/images/-BfPbDb0lSK4-_mp4-44_jpg.rf.0eb9fb383e24b1e75a33fd40c97d24cc.jpg: 640x640 6 Persons, 9.5ms\n",
      "image 20/1157 /root/Desktop/workspace/Realtime Obstacle Detector/dataset/test/images/-BfPbDb0lSK4-_mp4-46_jpg.rf.a63159ac3b674289c98053023c0d2e6e.jpg: 640x640 8 Persons, 9.8ms\n",
      "image 21/1157 /root/Desktop/workspace/Realtime Obstacle Detector/dataset/test/images/-BfPbDb0lSK4-_mp4-51_jpg.rf.28205ba8059e5fe0b7564221f2d672c1.jpg: 640x640 6 Persons, 10.1ms\n",
      "image 22/1157 /root/Desktop/workspace/Realtime Obstacle Detector/dataset/test/images/-BfPbDb0lSK4-_mp4-72_jpg.rf.32eac15e86504fba6581818ccaf8d64d.jpg: 640x640 7 Persons, 9.8ms\n",
      "image 23/1157 /root/Desktop/workspace/Realtime Obstacle Detector/dataset/test/images/-BfPbDb0lSK4-_mp4-73_jpg.rf.51deb372ba17617cc5bf23d9a1341713.jpg: 640x640 5 Persons, 9.7ms\n",
      "image 24/1157 /root/Desktop/workspace/Realtime Obstacle Detector/dataset/test/images/-BfPbDb0lSK4-_mp4-7_jpg.rf.4b9d3ae0e867694f6f1cca66db67822e.jpg: 640x640 6 Persons, 9.5ms\n",
      "image 25/1157 /root/Desktop/workspace/Realtime Obstacle Detector/dataset/test/images/-BfPbDb0lSK4-_mp4-88_jpg.rf.48332faa6c478bbc0e6ca0eec0696876.jpg: 640x640 7 Persons, 9.5ms\n",
      "image 26/1157 /root/Desktop/workspace/Realtime Obstacle Detector/dataset/test/images/-BfPbDb0lSK4-_mp4-96_jpg.rf.85d667a07ad39e5f3d96ce47829e7006.jpg: 640x640 7 Persons, 9.5ms\n",
      "image 27/1157 /root/Desktop/workspace/Realtime Obstacle Detector/dataset/test/images/-C2D8DECE-2C51-4217-9B45-88F76CBC1D6C-png_jpg.rf.7a9f7b67ff5da53ee04e06aa852511ca.jpg: 640x640 1 Car, 9.6ms\n",
      "image 28/1157 /root/Desktop/workspace/Realtime Obstacle Detector/dataset/test/images/-CF2B7A09-EC0C-4B1D-BDA5-7FD52B39F0F8-png_jpg.rf.108b629e5f72083ac7c5b89cd8282a96.jpg: 640x640 1 Car, 9.5ms\n",
      "image 29/1157 /root/Desktop/workspace/Realtime Obstacle Detector/dataset/test/images/-FFB52469-E780-47C4-887D-EEAD0226DDE5-png_jpg.rf.571ab506e59d705c555071756fe446e0.jpg: 640x640 1 Car, 10.0ms\n",
      "image 30/1157 /root/Desktop/workspace/Realtime Obstacle Detector/dataset/test/images/-_20241008093506_jpg.rf.811f9da3be2b829d73227a8f389bcadf.jpg: 640x640 2 Trees, 1 Guard rail, 9.7ms\n",
      "image 31/1157 /root/Desktop/workspace/Realtime Obstacle Detector/dataset/test/images/0000_theTroy1_031a8776-37b2-42d2-8297-7bf830685593_x625_jpg.rf.9a26ed210356d4a190c77318741932f0.jpg: 640x640 1 Bike, 9.5ms\n",
      "image 32/1157 /root/Desktop/workspace/Realtime Obstacle Detector/dataset/test/images/0097-01076_jpg.rf.b5bdc49c78c5cb513a8839459a4246ec.jpg: 640x640 8 Persons, 9.5ms\n",
      "image 33/1157 /root/Desktop/workspace/Realtime Obstacle Detector/dataset/test/images/00I1OZ5A25ZP_jpg.rf.0bf226785704a8f053d87485dc573291.jpg: 640x640 1 Manhole, 9.5ms\n",
      "image 34/1157 /root/Desktop/workspace/Realtime Obstacle Detector/dataset/test/images/0811_jpg.rf.6699aa77c5dca50a5abf2e8cbd8f53e5.jpg: 416x640 1 Motorcycle, 85.8ms\n",
      "image 35/1157 /root/Desktop/workspace/Realtime Obstacle Detector/dataset/test/images/0813_jpg.rf.578b6cdaab9f73e9e596c3864840a056.jpg: 448x640 1 Motorcycle, 86.2ms\n",
      "image 36/1157 /root/Desktop/workspace/Realtime Obstacle Detector/dataset/test/images/0814_jpg.rf.5c36e50c38fd24ca264aedd414d4d51f.jpg: 448x640 1 Motorcycle, 10.4ms\n",
      "image 37/1157 /root/Desktop/workspace/Realtime Obstacle Detector/dataset/test/images/0815_jpg.rf.3e2fa2c2643a1175660cdf815dfd88d4.jpg: 448x640 1 Motorcycle, 10.1ms\n",
      "image 38/1157 /root/Desktop/workspace/Realtime Obstacle Detector/dataset/test/images/0816_jpg.rf.8d9b95089a833897e589a562f20ea060.jpg: 448x640 1 Motorcycle, 9.9ms\n",
      "image 39/1157 /root/Desktop/workspace/Realtime Obstacle Detector/dataset/test/images/0818_jpg.rf.4caa3ffbb6f09712c650ce7353fd28f7.jpg: 480x640 1 Motorcycle, 82.1ms\n",
      "image 40/1157 /root/Desktop/workspace/Realtime Obstacle Detector/dataset/test/images/0819_jpg.rf.59e5570ed18f8f82cbd2442acb2c578e.jpg: 480x640 1 Motorcycle, 9.8ms\n",
      "image 41/1157 /root/Desktop/workspace/Realtime Obstacle Detector/dataset/test/images/0820_jpg.rf.4cb10e8eaf68aaac2cc3edcffa4d641d.jpg: 480x640 1 Motorcycle, 10.1ms\n",
      "image 42/1157 /root/Desktop/workspace/Realtime Obstacle Detector/dataset/test/images/0821_jpg.rf.4d0a252a86243c9fdb2b8bd9821e8e9d.jpg: 480x640 1 Motorcycle, 9.8ms\n",
      "image 43/1157 /root/Desktop/workspace/Realtime Obstacle Detector/dataset/test/images/0822_jpg.rf.36a8ee8e4d410946ba341cdd949ae343.jpg: 384x640 1 Motorcycle, 82.7ms\n",
      "image 44/1157 /root/Desktop/workspace/Realtime Obstacle Detector/dataset/test/images/0824_jpg.rf.ea5fd66e3de43a78b534e6ad0ddbb3cf.jpg: 512x640 1 Motorcycle, 89.8ms\n",
      "image 45/1157 /root/Desktop/workspace/Realtime Obstacle Detector/dataset/test/images/0825_jpg.rf.64b01eaef48b4e51834da705796448d7.jpg: 448x640 1 Person, 1 Motorcycle, 11.5ms\n",
      "image 46/1157 /root/Desktop/workspace/Realtime Obstacle Detector/dataset/test/images/0826_jpg.rf.f4900880ad883727852497983bf6eda6.jpg: 480x640 1 Motorcycle, 11.6ms\n",
      "image 47/1157 /root/Desktop/workspace/Realtime Obstacle Detector/dataset/test/images/09145341do8o_jpg.rf.facec17cb770ea057875e0cdda6bfdf6.jpg: 640x640 1 Car, 1 Person, 2 Manholes, 11.3ms\n",
      "image 48/1157 /root/Desktop/workspace/Realtime Obstacle Detector/dataset/test/images/0HSOND9FWJDK_jpg.rf.e01c6f25b2273c6bc7ee30fbd853d5fa.jpg: 640x640 1 Manhole, 9.8ms\n",
      "image 49/1157 /root/Desktop/workspace/Realtime Obstacle Detector/dataset/test/images/0_IA8frOENnWPIEOkPtOMA-41-055499120431634-28-961989325551826_png.rf.7d3e7d31c168a7830d7782e2c462d4fc.jpg: 640x640 2 Cars, 1 Road, 9.6ms\n",
      "image 50/1157 /root/Desktop/workspace/Realtime Obstacle Detector/dataset/test/images/1-3-810x540_jpg.rf.e89bb5ce95e70d67950c838129a69b34.jpg: 640x640 3 Bikes, 1 Person, 9.8ms\n",
      "image 51/1157 /root/Desktop/workspace/Realtime Obstacle Detector/dataset/test/images/1000_F_122934059_nf78Nw815G6V1Jht8gdgf7CVqhODb1dE_jpg.rf.161bf69d43905b9738f0b5f889c2396b.jpg: 640x640 1 Person, 9.8ms\n",
      "image 52/1157 /root/Desktop/workspace/Realtime Obstacle Detector/dataset/test/images/1000_F_216234425_q0M6sE7S1pkW1QNwqqRyruUOYbqbDG7t_jpg.rf.a22405c9db24de5e8ca97ac7b761cf86.jpg: 640x640 2 Persons, 9.7ms\n",
      "image 53/1157 /root/Desktop/workspace/Realtime Obstacle Detector/dataset/test/images/1000_F_264625114_RXcjD79rDLsL6SZDVFvbmM30vG42Lpfd_jpg.rf.747588921ab1ef63287402bdd2c751e5.jpg: 640x640 1 Person, 9.4ms\n",
      "image 54/1157 /root/Desktop/workspace/Realtime Obstacle Detector/dataset/test/images/1000_F_280898253_wzVaGWjHLkXOkZJlPhejMC8OYUUl4oar_jpg.rf.3ade4c719c1230a1c39cb53b53a6875d.jpg: 640x640 2 Persons, 9.8ms\n",
      "image 55/1157 /root/Desktop/workspace/Realtime Obstacle Detector/dataset/test/images/1000_F_58129505_fl8BSnSiB57HIkyKdCaK8S3qivIMYsG4_jpg.rf.f2105ed2eab67d6859b1f8293cd97634.jpg: 640x640 1 Person, 13.3ms\n",
      "image 56/1157 /root/Desktop/workspace/Realtime Obstacle Detector/dataset/test/images/1006_png.rf.cc2eba15a0ebc41cfeb47cf75113d60f.jpg: 640x640 1 Tree, 10.1ms\n",
      "image 57/1157 /root/Desktop/workspace/Realtime Obstacle Detector/dataset/test/images/1008_jpg.rf.b6a18c8fc860a6af7dd4be0b89d1c38b.jpg: 640x640 1 Tree, 10.1ms\n",
      "image 58/1157 /root/Desktop/workspace/Realtime Obstacle Detector/dataset/test/images/100_jpg.rf.055925955ef5bc987eec684cc9dfb41d.jpg: 640x640 1 Pedestrian crosswalk, 9.8ms\n",
      "image 59/1157 /root/Desktop/workspace/Realtime Obstacle Detector/dataset/test/images/100_jpg.rf.175c1e409538f88f6bc97fec662b4388.jpg: 640x640 1 Tree, 9.6ms\n",
      "image 60/1157 /root/Desktop/workspace/Realtime Obstacle Detector/dataset/test/images/1011_jpeg.rf.52508c4379ebb7f8b27f3d679211c446.jpg: 640x640 1 Tree, 9.7ms\n",
      "image 61/1157 /root/Desktop/workspace/Realtime Obstacle Detector/dataset/test/images/101_jpg.rf.acc6a92479b46d220cf191c06b7fdf0a.jpg: 640x640 1 Pedestrian crosswalk, 9.7ms\n",
      "image 62/1157 /root/Desktop/workspace/Realtime Obstacle Detector/dataset/test/images/1025_jpg.rf.be513e7031e0070440b8e89af2a2d9ae.jpg: 640x640 1 Tree, 9.8ms\n",
      "image 63/1157 /root/Desktop/workspace/Realtime Obstacle Detector/dataset/test/images/102_jpg.rf.224a5e6d077c5e996d73596440107715.jpg: 640x640 1 Pedestrian crosswalk, 9.6ms\n",
      "image 64/1157 /root/Desktop/workspace/Realtime Obstacle Detector/dataset/test/images/1037_jpg.rf.529a4cb64340f84b0741d15fb5e7dbe8.jpg: 640x640 1 Tree, 9.6ms\n",
      "image 65/1157 /root/Desktop/workspace/Realtime Obstacle Detector/dataset/test/images/1039_jpg.rf.7bc6b1cf95acd8560d472abc4283b058.jpg: 640x640 3 Trees, 9.4ms\n",
      "image 66/1157 /root/Desktop/workspace/Realtime Obstacle Detector/dataset/test/images/1044598-1-_jpg.rf.24e2e53642476ead61d3e2276d617a7a.jpg: 640x640 2 Persons, 9.7ms\n",
      "image 67/1157 /root/Desktop/workspace/Realtime Obstacle Detector/dataset/test/images/104_jpg.rf.90af2c002566eedcd401d5b9c5b09ef3.jpg: 640x640 1 Pedestrian crosswalk, 10.6ms\n",
      "image 68/1157 /root/Desktop/workspace/Realtime Obstacle Detector/dataset/test/images/104_jpg.rf.bb4298debe0c57ce8db70a359096cc7e.jpg: 640x640 1 Pedestrian crosswalk, 10.9ms\n",
      "image 69/1157 /root/Desktop/workspace/Realtime Obstacle Detector/dataset/test/images/105_jpg.rf.91735f98b83599fed938fada4fcf1df8.jpg: 640x640 1 Tree, 11.8ms\n",
      "image 70/1157 /root/Desktop/workspace/Realtime Obstacle Detector/dataset/test/images/109_jpg.rf.b0ef968f481220a98999b0738df6f8b0.jpg: 640x640 2 Pedestrian crosswalks, 11.2ms\n",
      "image 71/1157 /root/Desktop/workspace/Realtime Obstacle Detector/dataset/test/images/110_jpg.rf.0b15511abe4c669fbbf783a3feeaad75.jpg: 640x640 1 Pedestrian crosswalk, 11.1ms\n",
      "image 72/1157 /root/Desktop/workspace/Realtime Obstacle Detector/dataset/test/images/112_jpg.rf.9d9e3b64fdfebb23cf8e32e5db27c1da.jpg: 640x640 1 Pedestrian crosswalk, 11.4ms\n",
      "image 73/1157 /root/Desktop/workspace/Realtime Obstacle Detector/dataset/test/images/112_jpg.rf.b2fbcb76c4ea0a5255fd0456cf8dfc45.jpg: 640x640 1 Pedestrian crosswalk, 10.5ms\n",
      "image 74/1157 /root/Desktop/workspace/Realtime Obstacle Detector/dataset/test/images/113_jpg.rf.e705e92a16caabd67a1d76167a84f0d0.jpg: 640x640 1 Tree, 10.0ms\n",
      "image 75/1157 /root/Desktop/workspace/Realtime Obstacle Detector/dataset/test/images/11_png_jpg.rf.79a1594903119c6a1b44554d8553d400.jpg: 640x640 1 Manhole, 10.8ms\n",
      "image 76/1157 /root/Desktop/workspace/Realtime Obstacle Detector/dataset/test/images/120_jpg.rf.0057e54ea47e6e714f0b608f4093ee1f.jpg: 640x640 1 Pedestrian crosswalk, 10.3ms\n",
      "image 77/1157 /root/Desktop/workspace/Realtime Obstacle Detector/dataset/test/images/120_jpg.rf.b8b8b91a045362e01d4b9cb7b3e66e4c.jpg: 640x640 1 Pedestrian crosswalk, 10.9ms\n",
      "image 78/1157 /root/Desktop/workspace/Realtime Obstacle Detector/dataset/test/images/120_jpg.rf.e15c56d13b98910caef4120dc4ad1f2a.jpg: 640x640 1 Pedestrian crosswalk, 10.5ms\n",
      "image 79/1157 /root/Desktop/workspace/Realtime Obstacle Detector/dataset/test/images/121_jpg.rf.ae76ddf26cf27f3092e4d342ee07cdd1.jpg: 640x640 1 Pedestrian crosswalk, 10.1ms\n",
      "image 80/1157 /root/Desktop/workspace/Realtime Obstacle Detector/dataset/test/images/121_jpg.rf.cfd6c1553d4d73cd777f85473a77b8e0.jpg: 640x640 1 Pedestrian crosswalk, 10.1ms\n",
      "image 81/1157 /root/Desktop/workspace/Realtime Obstacle Detector/dataset/test/images/122_jpg.rf.331cfe2447c1c17da21c6e8f9fd3b172.jpg: 640x640 1 Manhole, 9.9ms\n",
      "image 82/1157 /root/Desktop/workspace/Realtime Obstacle Detector/dataset/test/images/122_jpg.rf.3f53cfcdb196ecab169cedb27cab9cc0.jpg: 640x640 1 Pedestrian crosswalk, 10.4ms\n",
      "image 83/1157 /root/Desktop/workspace/Realtime Obstacle Detector/dataset/test/images/125_jpg.rf.7c84adbae218be29423e214bad5dc729.jpg: 640x640 1 Pedestrian crosswalk, 10.3ms\n",
      "image 84/1157 /root/Desktop/workspace/Realtime Obstacle Detector/dataset/test/images/127_jpg.rf.9cb20fe9d0d5edd117e717900d360b17.jpg: 640x640 1 Manhole, 10.6ms\n",
      "image 85/1157 /root/Desktop/workspace/Realtime Obstacle Detector/dataset/test/images/127_jpg.rf.bd4aadb681a1f158b821ab6011424efe.jpg: 640x640 1 Pedestrian crosswalk, 10.1ms\n",
      "image 86/1157 /root/Desktop/workspace/Realtime Obstacle Detector/dataset/test/images/12_BoysRadioFlyer_1A_jpg.rf.d796f8c4a5e64cdab24b4d68a5e41780.jpg: 640x640 1 Bike, 10.3ms\n",
      "image 87/1157 /root/Desktop/workspace/Realtime Obstacle Detector/dataset/test/images/12_jpeg_jpg.rf.9329127909c064646b5d031f345c6ea5.jpg: 640x640 1 Manhole, 10.5ms\n",
      "image 88/1157 /root/Desktop/workspace/Realtime Obstacle Detector/dataset/test/images/130_jpg.rf.e4c9f8c49b6cdac7fdd30dc571573f9e.jpg: 640x640 1 Manhole, 10.4ms\n",
      "image 89/1157 /root/Desktop/workspace/Realtime Obstacle Detector/dataset/test/images/131_jpg.rf.bb60fa410b55f6a789ff3d9fa0bf52d9.jpg: 640x640 1 Pedestrian crosswalk, 10.0ms\n",
      "image 90/1157 /root/Desktop/workspace/Realtime Obstacle Detector/dataset/test/images/132_jpg.rf.0b85abee929242a30121abf34a72dfee.jpg: 640x640 1 Tree, 10.2ms\n",
      "image 91/1157 /root/Desktop/workspace/Realtime Obstacle Detector/dataset/test/images/133_jpg.rf.ca37bd60432290b6b1371415f1389792.jpg: 640x640 1 Tree, 9.8ms\n",
      "image 92/1157 /root/Desktop/workspace/Realtime Obstacle Detector/dataset/test/images/133_jpg.rf.e8fb6e6cdb361c5bb656e0d90d9c1c04.jpg: 640x640 1 Pedestrian crosswalk, 9.9ms\n",
      "image 93/1157 /root/Desktop/workspace/Realtime Obstacle Detector/dataset/test/images/137_jpg.rf.e9a049926959d115fd549b3f7f8e5c36.jpg: 640x640 1 Person, 1 Pedestrian crosswalk, 10.4ms\n",
      "image 94/1157 /root/Desktop/workspace/Realtime Obstacle Detector/dataset/test/images/13_jpeg.rf.172eca77e6e4088cc461354a745e925b.jpg: 640x640 1 Tree, 10.3ms\n",
      "image 95/1157 /root/Desktop/workspace/Realtime Obstacle Detector/dataset/test/images/13_jpg.rf.bb7ee5c7e7addd48d3f5f6639149434c.jpg: 640x640 1 Pedestrian crosswalk, 10.1ms\n",
      "image 96/1157 /root/Desktop/workspace/Realtime Obstacle Detector/dataset/test/images/13_png_jpg.rf.84a1b397cf76f10cc9998b48f9b55dc3.jpg: 640x640 1 Manhole, 10.2ms\n",
      "image 97/1157 /root/Desktop/workspace/Realtime Obstacle Detector/dataset/test/images/140_jpg.rf.b346c6e10f20f8afe7b8cc2d9be64a1c.jpg: 640x640 1 Pedestrian crosswalk, 10.0ms\n",
      "image 98/1157 /root/Desktop/workspace/Realtime Obstacle Detector/dataset/test/images/141_jpg.rf.d9f9841be392275406087aa1fed8dd76.jpg: 640x640 1 Pedestrian crosswalk, 10.1ms\n",
      "image 99/1157 /root/Desktop/workspace/Realtime Obstacle Detector/dataset/test/images/142_jpg.rf.273b8dfe0bd75e1fade627233db2d7b2.jpg: 640x640 1 Stairs, 10.3ms\n",
      "image 100/1157 /root/Desktop/workspace/Realtime Obstacle Detector/dataset/test/images/142_jpg.rf.ac7c1d3f1876305b15c6e531cd23c0ea.jpg: 640x640 1 Tree, 10.2ms\n",
      "image 101/1157 /root/Desktop/workspace/Realtime Obstacle Detector/dataset/test/images/145_jpg.rf.e9a7999639f0407e89358b901016c60e.jpg: 640x640 1 Pedestrian crosswalk, 10.1ms\n",
      "image 102/1157 /root/Desktop/workspace/Realtime Obstacle Detector/dataset/test/images/150_jpg.rf.9dbb3fa098f8038e54a1111e97be9383.jpg: 640x640 1 Pedestrian crosswalk, 10.0ms\n",
      "image 103/1157 /root/Desktop/workspace/Realtime Obstacle Detector/dataset/test/images/151_jpg.rf.1af06080889eaa2eb03872655c7f9016.jpg: 640x640 1 Tree, 10.1ms\n",
      "image 104/1157 /root/Desktop/workspace/Realtime Obstacle Detector/dataset/test/images/151_jpg.rf.1b810dcb7adb1e2eb2c0cf28c1c81efa.jpg: 640x640 1 Pedestrian crosswalk, 9.9ms\n",
      "image 105/1157 /root/Desktop/workspace/Realtime Obstacle Detector/dataset/test/images/151_jpg.rf.a913bfe14a8227ad64e43c67a14ac350.jpg: 640x640 1 Pedestrian crosswalk, 10.1ms\n",
      "image 106/1157 /root/Desktop/workspace/Realtime Obstacle Detector/dataset/test/images/1538047566766094_jpg.rf.c673656aee1bec5862622937ed7c66f5.jpg: 640x640 1 Guard rail, 10.4ms\n",
      "image 107/1157 /root/Desktop/workspace/Realtime Obstacle Detector/dataset/test/images/156_jpg.rf.be863e91da6895050cec4436406c71f1.jpg: 640x640 1 Tree, 9.6ms\n",
      "image 108/1157 /root/Desktop/workspace/Realtime Obstacle Detector/dataset/test/images/157_jpg.rf.f8092dd85b608341acae5c9ef714f648.jpg: 640x640 1 Pedestrian crosswalk, 10.0ms\n",
      "image 109/1157 /root/Desktop/workspace/Realtime Obstacle Detector/dataset/test/images/15_jpeg.rf.ddf4e0523f270b5265f53337ad6f7ad0.jpg: 640x640 1 Tree, 9.6ms\n",
      "image 110/1157 /root/Desktop/workspace/Realtime Obstacle Detector/dataset/test/images/161_jpg.rf.1d2c700e5d5d55a06f1b292e3ab61c41.jpg: 640x640 1 Pedestrian crosswalk, 9.5ms\n",
      "image 111/1157 /root/Desktop/workspace/Realtime Obstacle Detector/dataset/test/images/164_jpg.rf.a20b8e518e78675b74df9b38bc21b07d.jpg: 640x640 1 Pedestrian crosswalk, 9.4ms\n",
      "image 112/1157 /root/Desktop/workspace/Realtime Obstacle Detector/dataset/test/images/165_jpg.rf.94e949b79511c66ccff4df4fa850a896.jpg: 640x640 1 Pedestrian crosswalk, 9.3ms\n",
      "image 113/1157 /root/Desktop/workspace/Realtime Obstacle Detector/dataset/test/images/1667413896778500529_png_jpg.rf.a32a4187e328739c2ec159c1ffa3336d.jpg: 640x640 1 Guard rail, 9.4ms\n",
      "image 114/1157 /root/Desktop/workspace/Realtime Obstacle Detector/dataset/test/images/1667415778421198423_png_jpg.rf.a0870c9da6031486a03899bea44bcc67.jpg: 640x640 1 Guard rail, 9.5ms\n",
      "image 115/1157 /root/Desktop/workspace/Realtime Obstacle Detector/dataset/test/images/1672324359292936228_png_jpg.rf.116aae1272ab99893763dd4d824698d2.jpg: 640x640 1 Guard rail, 9.4ms\n",
      "image 116/1157 /root/Desktop/workspace/Realtime Obstacle Detector/dataset/test/images/1672325185800133510_png_jpg.rf.c3ae56a89a6dc6a4128c5b254bdf8f5d.jpg: 640x640 1 Guard rail, 9.5ms\n",
      "image 117/1157 /root/Desktop/workspace/Realtime Obstacle Detector/dataset/test/images/1672332779058530287_png_jpg.rf.645510aba81b0798ae04aa1cceca8422.jpg: 640x640 1 Guard rail, 10.1ms\n",
      "image 118/1157 /root/Desktop/workspace/Realtime Obstacle Detector/dataset/test/images/1672339484469891055_png_jpg.rf.e0104ba8c18ebb8fff474f7078f501f8.jpg: 640x640 1 Guard rail, 10.0ms\n",
      "image 119/1157 /root/Desktop/workspace/Realtime Obstacle Detector/dataset/test/images/1673013233645652467_png_jpg.rf.9f187f9c1c025a4559dc81fa050a4c78.jpg: 640x640 1 Guard rail, 10.0ms\n",
      "image 120/1157 /root/Desktop/workspace/Realtime Obstacle Detector/dataset/test/images/1673017008571287682_png_jpg.rf.b1ea7029d723f46bc5ddb0a103d67bec.jpg: 640x640 1 Guard rail, 9.7ms\n",
      "image 121/1157 /root/Desktop/workspace/Realtime Obstacle Detector/dataset/test/images/1673018945219592106_png_jpg.rf.febf61ff5d500d594c7885e81d02f455.jpg: 640x640 1 Guard rail, 10.1ms\n",
      "image 122/1157 /root/Desktop/workspace/Realtime Obstacle Detector/dataset/test/images/1673019195614747261_png_jpg.rf.1127c8d0bb69b6da7af65df2562ec356.jpg: 640x640 1 Guard rail, 10.0ms\n",
      "image 123/1157 /root/Desktop/workspace/Realtime Obstacle Detector/dataset/test/images/1673025189904113287_png_jpg.rf.b738f3c456034c01ff12d3aa31e4113d.jpg: 640x640 1 Guard rail, 9.6ms\n",
      "image 124/1157 /root/Desktop/workspace/Realtime Obstacle Detector/dataset/test/images/167_jpg.rf.5bff20b053d725ad82e2e733d1602162.jpg: 640x640 1 Tree, 9.7ms\n",
      "image 125/1157 /root/Desktop/workspace/Realtime Obstacle Detector/dataset/test/images/168_jpg.rf.c3bdd091db61d3b6a5165f6a7d3bdca9.jpg: 640x640 1 Tree, 9.7ms\n",
      "image 126/1157 /root/Desktop/workspace/Realtime Obstacle Detector/dataset/test/images/168_jpg.rf.f00cda833a44db359c545b3549570b4b.jpg: 640x640 5 Pedestrian crosswalks, 9.8ms\n",
      "image 127/1157 /root/Desktop/workspace/Realtime Obstacle Detector/dataset/test/images/16_jpg.rf.4be538210118a79ab7eb92b2021e3cf7.jpg: 640x640 1 Pedestrian crosswalk, 9.6ms\n",
      "image 128/1157 /root/Desktop/workspace/Realtime Obstacle Detector/dataset/test/images/16_jpg.rf.560ecdbfc0efbd073487fb23acb2a5f3.jpg: 640x640 1 Pedestrian crosswalk, 9.7ms\n",
      "image 129/1157 /root/Desktop/workspace/Realtime Obstacle Detector/dataset/test/images/16_jpg.rf.9aed8a2c34536ca706b2770cb31a7071.jpg: 640x640 1 Pedestrian crosswalk, 9.8ms\n",
      "image 130/1157 /root/Desktop/workspace/Realtime Obstacle Detector/dataset/test/images/16_png_jpg.rf.d1c49ac322c4e392cdca3b76d8e47999.jpg: 640x640 1 Manhole, 9.7ms\n",
      "image 131/1157 /root/Desktop/workspace/Realtime Obstacle Detector/dataset/test/images/170_jpg.rf.37921b5b0b236123389f68e8b691453a.jpg: 640x640 3 Trees, 9.8ms\n",
      "image 132/1157 /root/Desktop/workspace/Realtime Obstacle Detector/dataset/test/images/172_jpg.rf.1408b96d7764e1fcdc3fdeae6ed31a6b.jpg: 640x640 1 Pedestrian crosswalk, 10.0ms\n",
      "image 133/1157 /root/Desktop/workspace/Realtime Obstacle Detector/dataset/test/images/172_jpg.rf.4a2f3b64e23cadf0d951eba9e4754d6b.jpg: 640x640 1 Pedestrian crosswalk, 9.6ms\n",
      "image 134/1157 /root/Desktop/workspace/Realtime Obstacle Detector/dataset/test/images/172_jpg.rf.e402943529bd011180860b0a1efd3e99.jpg: 640x640 1 Tree, 9.8ms\n",
      "image 135/1157 /root/Desktop/workspace/Realtime Obstacle Detector/dataset/test/images/174_jpg.rf.7120d1fabd393a7889dcf0fd808cbb46.jpg: 640x640 1 Pedestrian crosswalk, 9.4ms\n",
      "image 136/1157 /root/Desktop/workspace/Realtime Obstacle Detector/dataset/test/images/174_jpg.rf.ace27816af5c120a270830517e68ec91.jpg: 640x640 1 Pedestrian crosswalk, 9.4ms\n",
      "image 137/1157 /root/Desktop/workspace/Realtime Obstacle Detector/dataset/test/images/175_jpg.rf.c73c66df3e399c9d69a5aa2b1e3f0ded.jpg: 640x640 1 Pedestrian crosswalk, 9.9ms\n",
      "image 138/1157 /root/Desktop/workspace/Realtime Obstacle Detector/dataset/test/images/177_jpg.rf.c584072fe992094566e91716336ec915.jpg: 640x640 1 Tree, 9.6ms\n",
      "image 139/1157 /root/Desktop/workspace/Realtime Obstacle Detector/dataset/test/images/178_jpg.rf.c192b2ca1d3d86ba9274b72ddf26f305.jpg: 640x640 2 Pedestrian crosswalks, 9.7ms\n",
      "image 140/1157 /root/Desktop/workspace/Realtime Obstacle Detector/dataset/test/images/17_jpg.rf.40a2cd516cfa03af6c0daa95662de4c3.jpg: 640x640 1 Manhole, 9.6ms\n",
      "image 141/1157 /root/Desktop/workspace/Realtime Obstacle Detector/dataset/test/images/181_jpg.rf.00fb93308ce80932002a9b968c6ad602.jpg: 640x640 1 Pedestrian crosswalk, 9.7ms\n",
      "image 142/1157 /root/Desktop/workspace/Realtime Obstacle Detector/dataset/test/images/181_jpg.rf.ef9d1f1e7035911b8730562bce2cc7ef.jpg: 640x640 1 Pedestrian crosswalk, 9.5ms\n",
      "image 143/1157 /root/Desktop/workspace/Realtime Obstacle Detector/dataset/test/images/186_jpg.rf.d3f430af253756c7e70345525e3a1ad6.jpg: 640x640 1 Pedestrian crosswalk, 9.7ms\n",
      "image 144/1157 /root/Desktop/workspace/Realtime Obstacle Detector/dataset/test/images/189KTRG98UDR_jpg.rf.92a5f923630223bf9fb3a5434f2d1cf6.jpg: 640x640 1 Manhole, 9.7ms\n",
      "image 145/1157 /root/Desktop/workspace/Realtime Obstacle Detector/dataset/test/images/189_jpg.rf.f0a12e5aaced3f69ff86cf2fb9a8d26e.jpg: 640x640 1 Pedestrian crosswalk, 9.7ms\n",
      "image 146/1157 /root/Desktop/workspace/Realtime Obstacle Detector/dataset/test/images/18_jpg.rf.9fb279deb31bd00671e6ddd0e882f069.jpg: 640x640 1 Pedestrian crosswalk, 9.8ms\n",
      "image 147/1157 /root/Desktop/workspace/Realtime Obstacle Detector/dataset/test/images/18_jpg.rf.dadc67ae829c7aa4ac1cdbb2b953d86c.jpg: 640x640 1 Pedestrian crosswalk, 9.8ms\n",
      "image 148/1157 /root/Desktop/workspace/Realtime Obstacle Detector/dataset/test/images/190_jpg.rf.e33ee0a94110a780d997a8cc6a091c33.jpg: 640x640 1 Pedestrian crosswalk, 9.7ms\n",
      "image 149/1157 /root/Desktop/workspace/Realtime Obstacle Detector/dataset/test/images/193_jpg.rf.cb9afe0437e597d4ee67dff525751b5a.jpg: 640x640 1 Pedestrian crosswalk, 9.7ms\n",
      "image 150/1157 /root/Desktop/workspace/Realtime Obstacle Detector/dataset/test/images/194_jpg.rf.41ed6054e64df446811422e44990b3a1.jpg: 640x640 2 Pedestrian crosswalks, 9.8ms\n",
      "image 151/1157 /root/Desktop/workspace/Realtime Obstacle Detector/dataset/test/images/194_jpg.rf.dcf20d1aba9d76ef5c9ebecd5b90f9a1.jpg: 640x640 2 Pedestrian crosswalks, 10.0ms\n",
      "image 152/1157 /root/Desktop/workspace/Realtime Obstacle Detector/dataset/test/images/196_jpg.rf.f6f1901b20320572318732882cbdfc3d.jpg: 640x640 1 Tree, 9.9ms\n",
      "image 153/1157 /root/Desktop/workspace/Realtime Obstacle Detector/dataset/test/images/199_jpg.rf.48e8f1f9fdb5e4568b7453442d8504ab.jpg: 640x640 1 Pedestrian crosswalk, 9.7ms\n",
      "image 154/1157 /root/Desktop/workspace/Realtime Obstacle Detector/dataset/test/images/1F3XHKMYD2ZN_jpg.rf.2127496bf5ca11043cde012fb9aeabd3.jpg: 640x640 1 Manhole, 9.7ms\n",
      "image 155/1157 /root/Desktop/workspace/Realtime Obstacle Detector/dataset/test/images/1GM56NHWGRDE_jpg.rf.a48fb1ef3cac73d2ca35996a47101e12.jpg: 640x640 3 Manholes, 9.4ms\n",
      "image 156/1157 /root/Desktop/workspace/Realtime Obstacle Detector/dataset/test/images/1IUBK1KOM9P4_jpg.rf.5c0ebe4cbdc48869961475753205ef79.jpg: 640x640 1 Manhole, 9.7ms\n",
      "image 157/1157 /root/Desktop/workspace/Realtime Obstacle Detector/dataset/test/images/1_jpg.rf.50042f369b806437f48451cf962c287c.jpg: 640x640 1 Manhole, 9.6ms\n",
      "image 158/1157 /root/Desktop/workspace/Realtime Obstacle Detector/dataset/test/images/200_jpg.rf.8465c2680ffbf84f4d7bbb3140804190.jpg: 640x640 2 Pedestrian crosswalks, 9.6ms\n",
      "image 159/1157 /root/Desktop/workspace/Realtime Obstacle Detector/dataset/test/images/200_jpg.rf.963c940bf670c648d3770d4a653b679d.jpg: 640x640 2 Pedestrian crosswalks, 9.6ms\n",
      "image 160/1157 /root/Desktop/workspace/Realtime Obstacle Detector/dataset/test/images/20180601174504_638_jpg.rf.c13bd39fe5e407b2c44a30357a249621.jpg: 640x640 2 Electrical Poles, 1 Manhole, 9.6ms\n",
      "image 161/1157 /root/Desktop/workspace/Realtime Obstacle Detector/dataset/test/images/20220403-082028_png.rf.1de8fdef54272211455a297eb742a2e2.jpg: 640x640 1 Dustbin, 1 Pedestrian crosswalk, 9.5ms\n",
      "image 162/1157 /root/Desktop/workspace/Realtime Obstacle Detector/dataset/test/images/20220403-082053_png.rf.eba8fa13327b175b942d35cd57c9d01a.jpg: 640x640 1 Guard rail, 9.5ms\n",
      "image 163/1157 /root/Desktop/workspace/Realtime Obstacle Detector/dataset/test/images/20220403-082139_png.rf.8ebf31a10bc9a50f0324ce12f6e9e3b1.jpg: 640x640 1 Guard rail, 9.4ms\n",
      "image 164/1157 /root/Desktop/workspace/Realtime Obstacle Detector/dataset/test/images/20220403-082149_png.rf.d481c424647688d66b46126df2383ba2.jpg: 640x640 2 Roads, 9.5ms\n",
      "image 165/1157 /root/Desktop/workspace/Realtime Obstacle Detector/dataset/test/images/20220403-082246_png.rf.0d4e65b96c88d98d824cf9a58cc6cc1e.jpg: 640x640 1 Guard rail, 1 Pedestrian crosswalk, 9.3ms\n",
      "image 166/1157 /root/Desktop/workspace/Realtime Obstacle Detector/dataset/test/images/20220403-082426_png.rf.eb63d702ec6d3d46279da4f38c7a1252.jpg: 640x640 1 Road, 9.5ms\n",
      "image 167/1157 /root/Desktop/workspace/Realtime Obstacle Detector/dataset/test/images/20220403-082435_png.rf.da44b4611cc0f1d434a8cb8a009499b8.jpg: 640x640 2 Roads, 9.6ms\n",
      "image 168/1157 /root/Desktop/workspace/Realtime Obstacle Detector/dataset/test/images/20220403-082712_png.rf.44467460b7a5e1e6a46a64cf0a4be3f6.jpg: 640x640 1 Guard rail, 1 Pedestrian crosswalk, 11.4ms\n",
      "image 169/1157 /root/Desktop/workspace/Realtime Obstacle Detector/dataset/test/images/20220403-082723_png.rf.5ce79be6ae220c37666b62d01beb1d5a.jpg: 640x640 1 Guard rail, 1 Pedestrian crosswalk, 11.9ms\n",
      "image 170/1157 /root/Desktop/workspace/Realtime Obstacle Detector/dataset/test/images/20220403-082927_png.rf.34bc2ebc486e586fc54f38ddb9d66918.jpg: 640x640 2 Roads, 10.4ms\n",
      "image 171/1157 /root/Desktop/workspace/Realtime Obstacle Detector/dataset/test/images/20220403-083139_png.rf.fcc1701c7c5ab352d80dee5e06b66c30.jpg: 640x640 1 Guard rail, 1 Pedestrian crosswalk, 13.4ms\n",
      "image 172/1157 /root/Desktop/workspace/Realtime Obstacle Detector/dataset/test/images/20220403-083417_png.rf.4992a7eacb1448aa6d184a3d57513472.jpg: 640x640 1 Road, 12.5ms\n",
      "image 173/1157 /root/Desktop/workspace/Realtime Obstacle Detector/dataset/test/images/20220403-083643_png.rf.b61ae299fb9109aecd736bb43e0b110c.jpg: 640x640 1 Road, 1 Guard rail, 12.7ms\n",
      "image 174/1157 /root/Desktop/workspace/Realtime Obstacle Detector/dataset/test/images/20220403-083718_png.rf.fc1fc2cc95d37e857e417a1e2a7c4918.jpg: 640x640 1 Guard rail, 1 Pedestrian crosswalk, 13.2ms\n",
      "image 175/1157 /root/Desktop/workspace/Realtime Obstacle Detector/dataset/test/images/20220403-083722_png.rf.8e0dd6497911b51943ed3372af7b6568.jpg: 640x640 1 Road, 1 Guard rail, 1 Pedestrian crosswalk, 13.4ms\n",
      "image 176/1157 /root/Desktop/workspace/Realtime Obstacle Detector/dataset/test/images/20220403-083936_png.rf.bfb18fcb9121e0b4838064ab821badc0.jpg: 640x640 1 Pedestrian crosswalk, 13.8ms\n",
      "image 177/1157 /root/Desktop/workspace/Realtime Obstacle Detector/dataset/test/images/20220403-084020_png.rf.78d7eda98ff3c288d2d40eb19b71435d.jpg: 640x640 1 Guard rail, 1 Pedestrian crosswalk, 11.3ms\n",
      "image 178/1157 /root/Desktop/workspace/Realtime Obstacle Detector/dataset/test/images/20220403-084034_png.rf.2cea26552b721ab117ff8b511c71297e.jpg: 640x640 1 Road, 1 Guard rail, 10.5ms\n",
      "image 179/1157 /root/Desktop/workspace/Realtime Obstacle Detector/dataset/test/images/20220403-084053_png.rf.7987774325c4c8ff36d1e8b79f54aecb.jpg: 640x640 2 Roads, 10.1ms\n",
      "image 180/1157 /root/Desktop/workspace/Realtime Obstacle Detector/dataset/test/images/20220403-084311_png.rf.fccc8f715b55771c30c06eaec0397981.jpg: 640x640 1 Person, 2 Guard rails, 1 Pedestrian crosswalk, 9.5ms\n",
      "image 181/1157 /root/Desktop/workspace/Realtime Obstacle Detector/dataset/test/images/20220403-084542_png.rf.41fe185262967ea96c962fee9f07aed0.jpg: 640x640 1 Road, 9.5ms\n",
      "image 182/1157 /root/Desktop/workspace/Realtime Obstacle Detector/dataset/test/images/20220403-084553_png.rf.dfc216410fa6c1eebbf3404098d7fe48.jpg: 640x640 1 Road, 1 Guard rail, 9.4ms\n",
      "image 183/1157 /root/Desktop/workspace/Realtime Obstacle Detector/dataset/test/images/20220403-084619_png.rf.02cfb2af197be4ce6b31b1469bfa4634.jpg: 640x640 1 Guard rail, 1 Pedestrian crosswalk, 9.8ms\n",
      "image 184/1157 /root/Desktop/workspace/Realtime Obstacle Detector/dataset/test/images/20220403-085045_png.rf.a9700ac3d8e7da978aa987ecff987343.jpg: 640x640 1 Guard rail, 9.4ms\n",
      "image 185/1157 /root/Desktop/workspace/Realtime Obstacle Detector/dataset/test/images/20220403-085053_png.rf.645e2514ba3c22d8b5cf6a8a04b8b298.jpg: 640x640 1 Road, 9.5ms\n",
      "image 186/1157 /root/Desktop/workspace/Realtime Obstacle Detector/dataset/test/images/20220403-085112_png.rf.c2aa80e40884b9f33b087f18bc40f6c0.jpg: 640x640 1 Road, 1 Guard rail, 1 Pedestrian crosswalk, 17.5ms\n",
      "image 187/1157 /root/Desktop/workspace/Realtime Obstacle Detector/dataset/test/images/20220403-085151_png.rf.bf9c09781838f122abafa1cde8631a8c.jpg: 640x640 1 Guard rail, 13.1ms\n",
      "image 188/1157 /root/Desktop/workspace/Realtime Obstacle Detector/dataset/test/images/20220403-085418_png.rf.6a84346e0986f62a76d2eacba0451918.jpg: 640x640 1 Guard rail, 1 Pedestrian crosswalk, 13.3ms\n",
      "image 189/1157 /root/Desktop/workspace/Realtime Obstacle Detector/dataset/test/images/20220403-090003_png.rf.6935a25b53de94c6dee2d083534c1e69.jpg: 640x640 1 Guard rail, 13.4ms\n",
      "image 190/1157 /root/Desktop/workspace/Realtime Obstacle Detector/dataset/test/images/20220403-090105_png.rf.a82b7ca825f50a5e339972f2f9ded5a8.jpg: 640x640 1 Pedestrian crosswalk, 14.1ms\n",
      "image 191/1157 /root/Desktop/workspace/Realtime Obstacle Detector/dataset/test/images/20220403-090123_png.rf.cafcf5d8a3f9564d99a949d4118dc199.jpg: 640x640 1 Guard rail, 1 Pedestrian crosswalk, 14.8ms\n",
      "image 192/1157 /root/Desktop/workspace/Realtime Obstacle Detector/dataset/test/images/20220403-090737_png.rf.7fa48428a7ccf6ebd577e57b516ecefc.jpg: 640x640 1 Road, 14.5ms\n",
      "image 193/1157 /root/Desktop/workspace/Realtime Obstacle Detector/dataset/test/images/20220403-090911_png.rf.04e698186365e622b5fb4cfdf2213e18.jpg: 640x640 1 Road, 12.0ms\n",
      "image 194/1157 /root/Desktop/workspace/Realtime Obstacle Detector/dataset/test/images/20220403-090922_png.rf.1405ac9386c3e4a64c90b7ecac48c57e.jpg: 640x640 1 Guard rail, 11.0ms\n",
      "image 195/1157 /root/Desktop/workspace/Realtime Obstacle Detector/dataset/test/images/20230630_220611_jpg.rf.e9ef3c77908c6c13ff91d79e4186879f.jpg: 640x640 1 Bench, 10.4ms\n",
      "image 196/1157 /root/Desktop/workspace/Realtime Obstacle Detector/dataset/test/images/20230630_220829_jpg.rf.dfedfacb89393440b5faa5ff08d2e95a.jpg: 640x640 2 Benchs, 10.9ms\n",
      "image 197/1157 /root/Desktop/workspace/Realtime Obstacle Detector/dataset/test/images/20230630_222239_jpg.rf.6d6f2d37beab6fd7c8b0cf8d32d0f26a.jpg: 640x640 1 Building, 1 Bench, 9.8ms\n",
      "image 198/1157 /root/Desktop/workspace/Realtime Obstacle Detector/dataset/test/images/20230630_222848_jpg.rf.86ec18f1c0100e32949d5ac1d21cd6e0.jpg: 640x640 1 Bench, 9.7ms\n",
      "image 199/1157 /root/Desktop/workspace/Realtime Obstacle Detector/dataset/test/images/20230630_222901_jpg.rf.920790efc45d61554e5919eada5040ba.jpg: 640x640 1 Bench, 9.6ms\n",
      "image 200/1157 /root/Desktop/workspace/Realtime Obstacle Detector/dataset/test/images/20230630_223503_jpg.rf.f9fc529829f032a33334e31cd8e63e3d.jpg: 640x640 1 Manhole, 1 Bench, 9.5ms\n",
      "image 201/1157 /root/Desktop/workspace/Realtime Obstacle Detector/dataset/test/images/20230630_225055_jpg.rf.8bc4dfd26118451394cdd3b49b91ba40.jpg: 640x640 1 Bench, 10.1ms\n",
      "image 202/1157 /root/Desktop/workspace/Realtime Obstacle Detector/dataset/test/images/20230630_225146_jpg.rf.0bf1defd577ef9dca5d0a8aea2372a14.jpg: 640x640 1 Bench, 9.7ms\n",
      "image 203/1157 /root/Desktop/workspace/Realtime Obstacle Detector/dataset/test/images/20230630_225322_jpg.rf.1fab6c65bf3a9d7c6364000ee603dc31.jpg: 640x640 1 Building, 1 Bench, 9.4ms\n",
      "image 204/1157 /root/Desktop/workspace/Realtime Obstacle Detector/dataset/test/images/20230630_225613_jpg.rf.dbc33457a3bc6346b30f697dd822c0be.jpg: 640x640 1 Bench, 9.5ms\n",
      "image 205/1157 /root/Desktop/workspace/Realtime Obstacle Detector/dataset/test/images/20230630_225639_jpg.rf.1821ee59028d7ca4968a499159190bde.jpg: 640x640 1 Bench, 9.7ms\n",
      "image 206/1157 /root/Desktop/workspace/Realtime Obstacle Detector/dataset/test/images/20230630_225646_jpg.rf.ec365c80d5d0414f4a80c38253ec2414.jpg: 640x640 1 Bench, 9.6ms\n",
      "image 207/1157 /root/Desktop/workspace/Realtime Obstacle Detector/dataset/test/images/202_jpg.rf.d350600b702b823d9b17801983de14a8.jpg: 640x640 1 Tree, 9.5ms\n",
      "image 208/1157 /root/Desktop/workspace/Realtime Obstacle Detector/dataset/test/images/21_JPG.rf.5fcaa954f46aee021f0e99f63f0db5df.jpg: 640x640 3 Pedestrian crosswalks, 9.7ms\n",
      "image 209/1157 /root/Desktop/workspace/Realtime Obstacle Detector/dataset/test/images/21_jpg.rf.82c5a42cd0a201c1ef312cb0be247de4.jpg: 640x640 1 Pedestrian crosswalk, 9.6ms\n",
      "image 210/1157 /root/Desktop/workspace/Realtime Obstacle Detector/dataset/test/images/220723-NYC-Tri-Day-01-135-Keith-Morrison-scaled_jpg.rf.be7248c0016221d53560072dcef97421.jpg: 640x640 3 Persons, 9.6ms\n",
      "image 211/1157 /root/Desktop/workspace/Realtime Obstacle Detector/dataset/test/images/231_jpg.rf.030f9fbb5cf6aa5a1ec7ae37e65fbdd5.jpg: 640x640 2 Trees, 9.7ms\n",
      "image 212/1157 /root/Desktop/workspace/Realtime Obstacle Detector/dataset/test/images/23_jpeg_jpg.rf.75ff508731e0e9b23a0bc5621f2202cc.jpg: 640x640 2 Manholes, 10.1ms\n",
      "image 213/1157 /root/Desktop/workspace/Realtime Obstacle Detector/dataset/test/images/242_jpg.rf.ff9d33b1a94813fc7962838dd70d875f.jpg: 640x640 1 Tree, 10.0ms\n",
      "image 214/1157 /root/Desktop/workspace/Realtime Obstacle Detector/dataset/test/images/248_jpg.rf.57b64809b4d93f51563d2c5950c19c2f.jpg: 640x640 1 Tree, 10.1ms\n",
      "image 215/1157 /root/Desktop/workspace/Realtime Obstacle Detector/dataset/test/images/252_jpg.rf.a66daf82df2ba9a1766316407c975eae.jpg: 640x640 1 Tree, 10.0ms\n",
      "image 216/1157 /root/Desktop/workspace/Realtime Obstacle Detector/dataset/test/images/25FUP04JNDUX_jpg.rf.891e23745f323523436a894aeec10fb9.jpg: 640x640 1 Manhole, 10.2ms\n",
      "image 217/1157 /root/Desktop/workspace/Realtime Obstacle Detector/dataset/test/images/25_jpeg_jpg.rf.006856aebbd806686328d3e11c551aca.jpg: 640x640 1 Person, 10.3ms\n",
      "image 218/1157 /root/Desktop/workspace/Realtime Obstacle Detector/dataset/test/images/25_jpg.rf.2edec6bcfac90b07890b85ffed6f1a3f.jpg: 640x640 1 Person, 2 Pedestrian crosswalks, 10.1ms\n",
      "image 219/1157 /root/Desktop/workspace/Realtime Obstacle Detector/dataset/test/images/26_jpg.rf.6104e3d77056640a29b666137c06f829.jpg: 640x640 1 Manhole, 10.2ms\n",
      "image 220/1157 /root/Desktop/workspace/Realtime Obstacle Detector/dataset/test/images/26_jpg.rf.a100d0e122907406647f75000097cb5a.jpg: 640x640 1 Pedestrian crosswalk, 9.9ms\n",
      "image 221/1157 /root/Desktop/workspace/Realtime Obstacle Detector/dataset/test/images/26_jpg.rf.afe587683a552bb0da5cc03d2ae7d0af.jpg: 640x640 1 Pedestrian crosswalk, 9.9ms\n",
      "image 222/1157 /root/Desktop/workspace/Realtime Obstacle Detector/dataset/test/images/2721-9c19c3739217232afb8aaf8789918061_jpg.rf.2541189fce0bd79df4e1b982294bd527.jpg: 640x640 1 Manhole, 9.8ms\n",
      "image 223/1157 /root/Desktop/workspace/Realtime Obstacle Detector/dataset/test/images/27VHNSAHCSQY_jpg.rf.7d0e335d5e029cec461f871226f0714d.jpg: 640x640 1 Manhole, 9.5ms\n",
      "image 224/1157 /root/Desktop/workspace/Realtime Obstacle Detector/dataset/test/images/28_png_jpg.rf.82a7856b68d9592ca98b0b4f9672b09b.jpg: 640x640 1 Manhole, 12.5ms\n",
      "image 225/1157 /root/Desktop/workspace/Realtime Obstacle Detector/dataset/test/images/29P6VTYF5R85_jpg.rf.fd337c02c13f600fcdc4432038bf32c5.jpg: 640x640 1 Manhole, 10.4ms\n",
      "image 226/1157 /root/Desktop/workspace/Realtime Obstacle Detector/dataset/test/images/2GAO7GRL6HI0_jpg.rf.28bd0eb1a5995f2c34ef57c032c946cf.jpg: 640x640 1 Manhole, 13.0ms\n",
      "image 227/1157 /root/Desktop/workspace/Realtime Obstacle Detector/dataset/test/images/2N8YSLL94GI1_jpg.rf.f21906cc18d2100cb7e2c6175c53730a.jpg: 640x640 1 Manhole, 12.5ms\n",
      "image 228/1157 /root/Desktop/workspace/Realtime Obstacle Detector/dataset/test/images/2S3U64Q7T2EP_jpg.rf.505007407b73ddde4904b1e4838a62eb.jpg: 640x640 1 Manhole, 12.5ms\n",
      "image 229/1157 /root/Desktop/workspace/Realtime Obstacle Detector/dataset/test/images/2_jpg.rf.2878415f5759673a7023ac1f9e564b11.jpg: 640x640 1 Manhole, 13.1ms\n",
      "image 230/1157 /root/Desktop/workspace/Realtime Obstacle Detector/dataset/test/images/2_jpg.rf.a86c13e8fd127d839d8ea110fdac2b15.jpg: 640x640 2 Manholes, 13.0ms\n",
      "image 231/1157 /root/Desktop/workspace/Realtime Obstacle Detector/dataset/test/images/302_jpg.rf.fc537c6441077064b179bb089b9846b3.jpg: 640x640 1 Tree, 15.3ms\n",
      "image 232/1157 /root/Desktop/workspace/Realtime Obstacle Detector/dataset/test/images/30_jpg.rf.5e6be3c7b4949fabcf06288f6200090e.jpg: 640x640 2 Persons, 1 Pedestrian crosswalk, 14.2ms\n",
      "image 233/1157 /root/Desktop/workspace/Realtime Obstacle Detector/dataset/test/images/30_jpg.rf.c153a1efd773b87fd6241a9f8bc7bf26.jpg: 640x640 1 Pedestrian crosswalk, 19.1ms\n",
      "image 234/1157 /root/Desktop/workspace/Realtime Obstacle Detector/dataset/test/images/315_jpg.rf.f12cf73ac56bfc0c69165dc7befab35b.jpg: 640x640 1 Tree, 17.9ms\n",
      "image 235/1157 /root/Desktop/workspace/Realtime Obstacle Detector/dataset/test/images/316_jpg.rf.ed0057d88d4039cd2605164aefedf4c7.jpg: 640x640 1 Tree, 12.8ms\n",
      "image 236/1157 /root/Desktop/workspace/Realtime Obstacle Detector/dataset/test/images/31_jpg.rf.234aa5ee01f75b68d64f74626f6f8ea9.jpg: 640x640 1 Person, 1 Manhole, 15.4ms\n",
      "image 237/1157 /root/Desktop/workspace/Realtime Obstacle Detector/dataset/test/images/32_jpeg_jpg.rf.2da3ca146762133c2d28ed88e0323e5b.jpg: 640x640 1 Manhole, 13.1ms\n",
      "image 238/1157 /root/Desktop/workspace/Realtime Obstacle Detector/dataset/test/images/32_jpg.rf.232fd4110b8f671d4ab229ee1b3b000b.jpg: 640x640 1 Building, 1 Manhole, 12.5ms\n",
      "image 239/1157 /root/Desktop/workspace/Realtime Obstacle Detector/dataset/test/images/32_jpg.rf.7c57cd925d06830be3923e45e43bee8a.jpg: 640x640 1 Tree, 10.0ms\n",
      "image 240/1157 /root/Desktop/workspace/Realtime Obstacle Detector/dataset/test/images/336_jpg.rf.9288770c2ba8f62df84f5e7854a58978.jpg: 640x640 2 Trees, 9.9ms\n",
      "image 241/1157 /root/Desktop/workspace/Realtime Obstacle Detector/dataset/test/images/33_jpg.rf.7a30728447e54556989d93c5375a9612.jpg: 640x640 1 Pedestrian crosswalk, 9.9ms\n",
      "image 242/1157 /root/Desktop/workspace/Realtime Obstacle Detector/dataset/test/images/33_jpg.rf.9fca882d99acb7556f700e023240f318.jpg: 640x640 1 Pedestrian crosswalk, 9.9ms\n",
      "image 243/1157 /root/Desktop/workspace/Realtime Obstacle Detector/dataset/test/images/340_jpg.rf.0ce599578398ff59d9552eed07b87361.jpg: 640x640 1 Tree, 9.5ms\n",
      "image 244/1157 /root/Desktop/workspace/Realtime Obstacle Detector/dataset/test/images/343_jpg.rf.0919e0ceeda6d9f7d568f4d991df141d.jpg: 640x640 1 Tree, 9.7ms\n",
      "image 245/1157 /root/Desktop/workspace/Realtime Obstacle Detector/dataset/test/images/345_jpg.rf.d0e778af0208d1c638fbc683647ea7ce.jpg: 640x640 1 Tree, 9.8ms\n",
      "image 246/1157 /root/Desktop/workspace/Realtime Obstacle Detector/dataset/test/images/35_png_jpg.rf.7e0ad15b3749d010b5e0b8aea6005f7c.jpg: 640x640 1 Manhole, 10.0ms\n",
      "image 247/1157 /root/Desktop/workspace/Realtime Obstacle Detector/dataset/test/images/360_F_215331107_Hb9PZLPJq8CHXaevZqPiGU58yVxLZ0Sg_jpg.rf.953576d56bc165bb10652a2d7b1aee95.jpg: 640x640 4 Persons, 10.0ms\n",
      "image 248/1157 /root/Desktop/workspace/Realtime Obstacle Detector/dataset/test/images/37_jpeg_jpg.rf.4742ac976cca07a3ee8b97cb18940574.jpg: 640x640 1 Manhole, 9.8ms\n",
      "image 249/1157 /root/Desktop/workspace/Realtime Obstacle Detector/dataset/test/images/38_jpeg_jpg.rf.30897a6028dc2ea062676a9ace46af2f.jpg: 640x640 1 Manhole, 9.8ms\n",
      "image 250/1157 /root/Desktop/workspace/Realtime Obstacle Detector/dataset/test/images/397_jpg.rf.452a8174e06b36bdaf584748e5560001.jpg: 640x640 1 Tree, 10.4ms\n",
      "image 251/1157 /root/Desktop/workspace/Realtime Obstacle Detector/dataset/test/images/39_png_jpg.rf.ab137a7994fa4f96c0f38ada90ca371b.jpg: 640x640 1 Manhole, 9.9ms\n",
      "image 252/1157 /root/Desktop/workspace/Realtime Obstacle Detector/dataset/test/images/3FCV30RTOZ97_jpg.rf.acf0fa0c4d70eaafbca570d1583750a5.jpg: 640x640 1 Manhole, 9.8ms\n",
      "image 253/1157 /root/Desktop/workspace/Realtime Obstacle Detector/dataset/test/images/3SHD3CMXRHA8_jpg.rf.c1b908139ef982c60da30c280096eff4.jpg: 640x640 1 Manhole, 9.8ms\n",
      "image 254/1157 /root/Desktop/workspace/Realtime Obstacle Detector/dataset/test/images/3STP630EXZEU_jpg.rf.c1b7b5646536f233488ce1707aef4d59.jpg: 640x640 1 Manhole, 9.8ms\n",
      "image 255/1157 /root/Desktop/workspace/Realtime Obstacle Detector/dataset/test/images/3_jpg.rf.4e9a9b228e0009650d5051fcf94fa1a2.jpg: 640x640 (no detections), 9.6ms\n",
      "image 256/1157 /root/Desktop/workspace/Realtime Obstacle Detector/dataset/test/images/409_jpg.rf.51640b8e80ddad3c0c30646f67693d38.jpg: 640x640 3 Trees, 9.6ms\n",
      "image 257/1157 /root/Desktop/workspace/Realtime Obstacle Detector/dataset/test/images/40_jpg.rf.6aa27ec0caab1663dbfd8757002ef06d.jpg: 640x640 1 Pedestrian crosswalk, 9.7ms\n",
      "image 258/1157 /root/Desktop/workspace/Realtime Obstacle Detector/dataset/test/images/414_jpg.rf.7d793684a3d5ebd56be128dfaa591458.jpg: 640x640 2 Trees, 9.8ms\n",
      "image 259/1157 /root/Desktop/workspace/Realtime Obstacle Detector/dataset/test/images/41_jpg.rf.0c80a67627e05c0020894627e9ea2b9b.jpg: 640x640 1 Pedestrian crosswalk, 10.1ms\n",
      "image 260/1157 /root/Desktop/workspace/Realtime Obstacle Detector/dataset/test/images/41_jpg.rf.676c55304834d1f6eedff0bc96b631a1.jpg: 640x640 1 Tree, 10.2ms\n",
      "image 261/1157 /root/Desktop/workspace/Realtime Obstacle Detector/dataset/test/images/41_jpg.rf.d16dbfe0c9482b64205608a7376c6ae8.jpg: 640x640 1 Pedestrian crosswalk, 10.0ms\n",
      "image 262/1157 /root/Desktop/workspace/Realtime Obstacle Detector/dataset/test/images/428_jpg.rf.a9e424132ec4a06f0c9530ba35f76d97.jpg: 640x640 1 Tree, 10.2ms\n",
      "image 263/1157 /root/Desktop/workspace/Realtime Obstacle Detector/dataset/test/images/42_jpeg_jpg.rf.e92b26bd541786c2699014eff7febb02.jpg: 640x640 1 Manhole, 11.3ms\n",
      "image 264/1157 /root/Desktop/workspace/Realtime Obstacle Detector/dataset/test/images/42_png_jpg.rf.4b8e5b978990afda1aec7eb70b4edab7.jpg: 640x640 1 Manhole, 10.2ms\n",
      "image 265/1157 /root/Desktop/workspace/Realtime Obstacle Detector/dataset/test/images/435_jpg.rf.c411023179ca103a82c106c60cf745db.jpg: 640x640 1 Tree, 9.9ms\n",
      "image 266/1157 /root/Desktop/workspace/Realtime Obstacle Detector/dataset/test/images/439_jpg.rf.fd9d17f1dea0e5b593bf3371e6c4444c.jpg: 640x640 1 Tree, 9.7ms\n",
      "image 267/1157 /root/Desktop/workspace/Realtime Obstacle Detector/dataset/test/images/43_jpg.rf.2c42b18f4487932e5a46ecefd454fde2.jpg: 640x640 1 Pedestrian crosswalk, 10.0ms\n",
      "image 268/1157 /root/Desktop/workspace/Realtime Obstacle Detector/dataset/test/images/43_png_jpg.rf.84fc29089eae989ce7f76b85e1fbf7d0.jpg: 640x640 1 Manhole, 9.6ms\n",
      "image 269/1157 /root/Desktop/workspace/Realtime Obstacle Detector/dataset/test/images/443_jpg.rf.d928d6dba7f3fabab8b96c8443760d7c.jpg: 640x640 1 Tree, 9.5ms\n",
      "image 270/1157 /root/Desktop/workspace/Realtime Obstacle Detector/dataset/test/images/455_jpg.rf.7e07e525f7418dc7d6b2cc94a6fd3665.jpg: 640x640 1 Stairs, 9.7ms\n",
      "image 271/1157 /root/Desktop/workspace/Realtime Obstacle Detector/dataset/test/images/45_jpg.rf.7c7746e1f9883915633a820649254cb7.jpg: 640x640 1 Pedestrian crosswalk, 9.9ms\n",
      "image 272/1157 /root/Desktop/workspace/Realtime Obstacle Detector/dataset/test/images/45_jpg.rf.9575a6308f9d6d9bfe2bf267406a8b25.jpg: 640x640 1 Stairs, 9.7ms\n",
      "image 273/1157 /root/Desktop/workspace/Realtime Obstacle Detector/dataset/test/images/45_jpg.rf.a4630128e858ce2ec27d8fe914d486de.jpg: 640x640 1 Stairs, 10.2ms\n",
      "image 274/1157 /root/Desktop/workspace/Realtime Obstacle Detector/dataset/test/images/460_jpg.rf.39a39927699006a4e1c94f0961a3d680.jpg: 640x640 1 Tree, 9.9ms\n",
      "image 275/1157 /root/Desktop/workspace/Realtime Obstacle Detector/dataset/test/images/46_png_jpg.rf.cec547a096220bb2355470171f871bca.jpg: 640x640 1 Manhole, 9.8ms\n",
      "image 276/1157 /root/Desktop/workspace/Realtime Obstacle Detector/dataset/test/images/478_jpg.rf.f27c1b8cdd22ce55200624d7a7154f97.jpg: 640x640 1 Tree, 9.8ms\n",
      "image 277/1157 /root/Desktop/workspace/Realtime Obstacle Detector/dataset/test/images/47_jpeg_jpg.rf.5e3893b4c01d3f4a75365b2c309f6782.jpg: 640x640 2 Manholes, 9.8ms\n",
      "image 278/1157 /root/Desktop/workspace/Realtime Obstacle Detector/dataset/test/images/47_jpg.rf.a51ab6dbe11dbb111a9b59125b72563e.jpg: 640x640 2 Pedestrian crosswalks, 9.7ms\n",
      "image 279/1157 /root/Desktop/workspace/Realtime Obstacle Detector/dataset/test/images/48_jpg.rf.6e9b39db7a9596ce8fc1970143036665.jpg: 640x640 1 Manhole, 9.8ms\n",
      "image 280/1157 /root/Desktop/workspace/Realtime Obstacle Detector/dataset/test/images/48_jpg.rf.88c8ece51aee9c0dd8ff818f8b7a3b03.jpg: 640x640 3 Pedestrian crosswalks, 9.4ms\n",
      "image 281/1157 /root/Desktop/workspace/Realtime Obstacle Detector/dataset/test/images/48_jpg.rf.a3bd9447d1e761f87c3cc75b137ccf9f.jpg: 640x640 3 Pedestrian crosswalks, 9.6ms\n",
      "image 282/1157 /root/Desktop/workspace/Realtime Obstacle Detector/dataset/test/images/48_jpg.rf.fa1e2f2f196a51f1a81ba6c2da40ac25.jpg: 640x640 3 Pedestrian crosswalks, 9.6ms\n",
      "image 283/1157 /root/Desktop/workspace/Realtime Obstacle Detector/dataset/test/images/493_jpg.rf.c8e2f33c2b7628295a3ee7a651319b8b.jpg: 640x640 1 Tree, 9.5ms\n",
      "image 284/1157 /root/Desktop/workspace/Realtime Obstacle Detector/dataset/test/images/49_jpg.rf.c4bd2214c38a5313828cc92f422f818e.jpg: 640x640 1 Pedestrian crosswalk, 9.8ms\n",
      "image 285/1157 /root/Desktop/workspace/Realtime Obstacle Detector/dataset/test/images/4G2IM754SWV4_jpg.rf.c9fa36d427fe4b72fe26177b02cebeeb.jpg: 640x640 1 Manhole, 9.7ms\n",
      "image 286/1157 /root/Desktop/workspace/Realtime Obstacle Detector/dataset/test/images/4I6LWI5729IU_jpg.rf.5ce35b21ac9d1e1dbbd65ee58f212ab1.jpg: 640x640 1 Manhole, 9.5ms\n",
      "image 287/1157 /root/Desktop/workspace/Realtime Obstacle Detector/dataset/test/images/4UOI10VKOOS3_jpg.rf.6409b23d27621ba3dfdf83eb28e9f7cf.jpg: 640x640 1 Manhole, 9.7ms\n",
      "image 288/1157 /root/Desktop/workspace/Realtime Obstacle Detector/dataset/test/images/4_png_jpg.rf.429702e881c49862d8625d154fd18a8a.jpg: 640x640 (no detections), 9.6ms\n",
      "image 289/1157 /root/Desktop/workspace/Realtime Obstacle Detector/dataset/test/images/501_jpg.rf.f64e553182dffa333fc3fc411088b3ba.jpg: 640x640 1 Bike, 1 Tree, 9.7ms\n",
      "image 290/1157 /root/Desktop/workspace/Realtime Obstacle Detector/dataset/test/images/505_jpg.rf.3d81a57d466cf2fe25e8c7500ed4911a.jpg: 640x640 1 Tree, 9.7ms\n",
      "image 291/1157 /root/Desktop/workspace/Realtime Obstacle Detector/dataset/test/images/51_jpg.rf.6353d96a105d34b404a156252fb46660.jpg: 640x640 1 Manhole, 9.7ms\n",
      "image 292/1157 /root/Desktop/workspace/Realtime Obstacle Detector/dataset/test/images/51_jpg.rf.d18c995550985ff25293beb389263c89.jpg: 640x640 1 Pedestrian crosswalk, 10.0ms\n",
      "image 293/1157 /root/Desktop/workspace/Realtime Obstacle Detector/dataset/test/images/52_jpg.rf.f5f33d41a14008a95af8eed72f74bb19.jpg: 640x640 1 Pedestrian crosswalk, 9.7ms\n",
      "image 294/1157 /root/Desktop/workspace/Realtime Obstacle Detector/dataset/test/images/536VKYO3LXWHQXNXQQKQ6KWVHE_jpg.rf.519845ffc80367f15d2965b652a96b6a.jpg: 640x640 8 Persons, 9.6ms\n",
      "image 295/1157 /root/Desktop/workspace/Realtime Obstacle Detector/dataset/test/images/53_jpg.rf.1c3f522eec8e8edc4172e6c8f52c5202.jpg: 640x640 1 Pedestrian crosswalk, 9.6ms\n",
      "image 296/1157 /root/Desktop/workspace/Realtime Obstacle Detector/dataset/test/images/540_jpg.rf.1f41ed339137c7a5b77aba1b911dcad0.jpg: 640x640 1 Tree, 9.6ms\n",
      "image 297/1157 /root/Desktop/workspace/Realtime Obstacle Detector/dataset/test/images/54_jpeg_jpg.rf.241a0da1cca198cb20f6d39052cfd244.jpg: 640x640 3 Manholes, 9.7ms\n",
      "image 298/1157 /root/Desktop/workspace/Realtime Obstacle Detector/dataset/test/images/54_jpg.rf.ee5f07c5f3e4c88c6334efd260629014.jpg: 640x640 1 Pedestrian crosswalk, 9.6ms\n",
      "image 299/1157 /root/Desktop/workspace/Realtime Obstacle Detector/dataset/test/images/54_png_jpg.rf.bc283c67862d0661e3132681a046c9cd.jpg: 640x640 1 Manhole, 9.6ms\n",
      "image 300/1157 /root/Desktop/workspace/Realtime Obstacle Detector/dataset/test/images/553_jpg.rf.d311ceb3220bf80f9e9bb4c5da9b3494.jpg: 640x640 1 Tree, 10.2ms\n",
      "image 301/1157 /root/Desktop/workspace/Realtime Obstacle Detector/dataset/test/images/555_jpg.rf.df0e39ae1666c126de6b34dd83850a27.jpg: 640x640 1 Tree, 9.7ms\n",
      "image 302/1157 /root/Desktop/workspace/Realtime Obstacle Detector/dataset/test/images/556_jpg.rf.678d4d0896cf7d41a82644a678e2bace.jpg: 640x640 1 Tree, 9.6ms\n",
      "image 303/1157 /root/Desktop/workspace/Realtime Obstacle Detector/dataset/test/images/55L8N83R4AO3_jpg.rf.a98bbc99a44bb397b1f96d993e98ca88.jpg: 640x640 1 Manhole, 9.7ms\n",
      "image 304/1157 /root/Desktop/workspace/Realtime Obstacle Detector/dataset/test/images/55_jpg.rf.02891f95de1c9183844270af4c4f7fd2.jpg: 640x640 1 Pedestrian crosswalk, 9.7ms\n",
      "image 305/1157 /root/Desktop/workspace/Realtime Obstacle Detector/dataset/test/images/55_jpg.rf.61a1809430a518aff5bfe1421c41d6f7.jpg: 640x640 1 Pedestrian crosswalk, 9.7ms\n",
      "image 306/1157 /root/Desktop/workspace/Realtime Obstacle Detector/dataset/test/images/56G2WQSN41LA_jpg.rf.4817408a6a6ae84ef62556f6e7e97d26.jpg: 640x640 1 Manhole, 9.7ms\n",
      "image 307/1157 /root/Desktop/workspace/Realtime Obstacle Detector/dataset/test/images/572_jpg.rf.412b50e4ba03f5b48d77b5e8d115fecb.jpg: 640x640 1 Tree, 9.9ms\n",
      "image 308/1157 /root/Desktop/workspace/Realtime Obstacle Detector/dataset/test/images/57_jpg.rf.0a40d991b7029b67877c89f79cdd02d4.jpg: 640x640 1 Pedestrian crosswalk, 9.7ms\n",
      "image 309/1157 /root/Desktop/workspace/Realtime Obstacle Detector/dataset/test/images/57_jpg.rf.82729c4dc9c4f2da15f0a2ebc134f1ea.jpg: 640x640 1 Manhole, 9.7ms\n",
      "image 310/1157 /root/Desktop/workspace/Realtime Obstacle Detector/dataset/test/images/57_jpg.rf.87eed0222e197984a9e1a57ad31353aa.jpg: 640x640 1 Pedestrian crosswalk, 10.2ms\n",
      "image 311/1157 /root/Desktop/workspace/Realtime Obstacle Detector/dataset/test/images/594_jpg.rf.a03b88caa39494b6d333849f71e56184.jpg: 640x640 1 Tree, 9.9ms\n",
      "image 312/1157 /root/Desktop/workspace/Realtime Obstacle Detector/dataset/test/images/597_jpg.rf.8fa06121296eaf5c876f04028da5beb8.jpg: 640x640 1 Tree, 9.8ms\n",
      "image 313/1157 /root/Desktop/workspace/Realtime Obstacle Detector/dataset/test/images/5_jpg.rf.76d8e629ed05b4dec0a6654db9916826.jpg: 640x640 1 Pedestrian crosswalk, 10.3ms\n",
      "image 314/1157 /root/Desktop/workspace/Realtime Obstacle Detector/dataset/test/images/602_jpg.rf.6f5835caa82621bc562e8865e4e6d165.jpg: 640x640 1 Tree, 9.8ms\n",
      "image 315/1157 /root/Desktop/workspace/Realtime Obstacle Detector/dataset/test/images/60_jpg.rf.c781caf9bfe73f3ae9ff94fec5130e98.jpg: 640x640 1 Dustbin, 1 Manhole, 1 Pedestrian crosswalk, 9.8ms\n",
      "image 316/1157 /root/Desktop/workspace/Realtime Obstacle Detector/dataset/test/images/60_png_jpg.rf.97282fd5146a63321aa3e179fefc2eb6.jpg: 640x640 1 Manhole, 10.4ms\n",
      "image 317/1157 /root/Desktop/workspace/Realtime Obstacle Detector/dataset/test/images/6108-05871624en_Masterfile_jpg.rf.83d45d327d27f9d63c0f4ae02fa543fb.jpg: 640x640 3 Persons, 10.3ms\n",
      "image 318/1157 /root/Desktop/workspace/Realtime Obstacle Detector/dataset/test/images/61_jpg.rf.1a5fd412cc280716187a1e65cd884c74.jpg: 640x640 1 Pedestrian crosswalk, 9.8ms\n",
      "image 319/1157 /root/Desktop/workspace/Realtime Obstacle Detector/dataset/test/images/61_jpg.rf.c3f9b7808bfc5d56313897cc41b62ec6.jpg: 640x640 1 Pedestrian crosswalk, 9.9ms\n",
      "image 320/1157 /root/Desktop/workspace/Realtime Obstacle Detector/dataset/test/images/623e87bd034f47f68d91441ef86f2aa8_jpeg_jpg.rf.262baf75cf38061723a9f3dd045ffaa5.jpg: 640x640 1 Manhole, 10.1ms\n",
      "image 321/1157 /root/Desktop/workspace/Realtime Obstacle Detector/dataset/test/images/627_jpg.rf.4efa8c3f71861c34b74b81cd5ab187f6.jpg: 640x640 1 Tree, 9.8ms\n",
      "image 322/1157 /root/Desktop/workspace/Realtime Obstacle Detector/dataset/test/images/630_jpg.rf.e7fb9ac2aeb561bcf74785f9f6c18e31.jpg: 640x640 1 Tree, 9.8ms\n",
      "image 323/1157 /root/Desktop/workspace/Realtime Obstacle Detector/dataset/test/images/631_jpg.rf.9f28d6d5558539ff62bdc5511a35447f.jpg: 640x640 3 Trees, 14.9ms\n",
      "image 324/1157 /root/Desktop/workspace/Realtime Obstacle Detector/dataset/test/images/635_jpg.rf.07d729dbde132129e553eba69bf38989.jpg: 640x640 1 Tree, 12.8ms\n",
      "image 325/1157 /root/Desktop/workspace/Realtime Obstacle Detector/dataset/test/images/652_jpg.rf.38811c50ab7530cde9a63db7010d6b81.jpg: 640x640 1 Tree, 12.6ms\n",
      "image 326/1157 /root/Desktop/workspace/Realtime Obstacle Detector/dataset/test/images/655_jpeg.rf.70addc6d73c6812fe2c07a9791111f0d.jpg: 640x640 1 Tree, 12.6ms\n",
      "image 327/1157 /root/Desktop/workspace/Realtime Obstacle Detector/dataset/test/images/65USAHD3FSNI_jpg.rf.86ac31fb588258431cb5d962675717db.jpg: 640x640 1 Manhole, 12.5ms\n",
      "image 328/1157 /root/Desktop/workspace/Realtime Obstacle Detector/dataset/test/images/66_jpg.rf.8282a1c27652bdfd2d4b18e3dab0f20b.jpg: 640x640 1 Pedestrian crosswalk, 13.4ms\n",
      "image 329/1157 /root/Desktop/workspace/Realtime Obstacle Detector/dataset/test/images/675_jpeg.rf.6cd1ff3c05b94f5ba401e67952ce4c24.jpg: 640x640 1 Tree, 12.5ms\n",
      "image 330/1157 /root/Desktop/workspace/Realtime Obstacle Detector/dataset/test/images/680_jpg.rf.869aa6a41acda5bca3693fc127d521f7.jpg: 640x640 1 Tree, 13.6ms\n",
      "image 331/1157 /root/Desktop/workspace/Realtime Obstacle Detector/dataset/test/images/681_jpg.rf.5ec07b59f01b92af4cdfbf7ea3e7c22e.jpg: 640x640 1 Tree, 13.0ms\n",
      "image 332/1157 /root/Desktop/workspace/Realtime Obstacle Detector/dataset/test/images/69_jpg.rf.1d1f0c43c4f262251dbd064e6e0b26b2.jpg: 640x640 1 Pedestrian crosswalk, 12.6ms\n",
      "image 333/1157 /root/Desktop/workspace/Realtime Obstacle Detector/dataset/test/images/69_jpg.rf.957ff65edc080a34ca786ba10757a6f1.jpg: 640x640 1 Pedestrian crosswalk, 12.6ms\n",
      "image 334/1157 /root/Desktop/workspace/Realtime Obstacle Detector/dataset/test/images/6I3GAWQ7QLE8_jpg.rf.6142d66ca4ce2e6e6c2afcb4efa18b55.jpg: 640x640 1 Manhole, 12.5ms\n",
      "image 335/1157 /root/Desktop/workspace/Realtime Obstacle Detector/dataset/test/images/6LKKBBFSKHXD_jpg.rf.bfaebc6a8fd54b986874c575a0f2748e.jpg: 640x640 1 Manhole, 12.4ms\n",
      "image 336/1157 /root/Desktop/workspace/Realtime Obstacle Detector/dataset/test/images/6XBIQDQ3NIY7_jpg.rf.856b3bca997efa19bc6026a83fb39e31.jpg: 640x640 1 Manhole, 12.4ms\n",
      "image 337/1157 /root/Desktop/workspace/Realtime Obstacle Detector/dataset/test/images/6ZN9OV9PHCZZ_jpg.rf.c8c3fbad53fbe41fe80b5c00494f203d.jpg: 640x640 1 Manhole, 12.4ms\n",
      "image 338/1157 /root/Desktop/workspace/Realtime Obstacle Detector/dataset/test/images/6_jpg.rf.a0ea44147391e1e597f12a0936fe6f07.jpg: 640x640 2 Manholes, 12.8ms\n",
      "image 339/1157 /root/Desktop/workspace/Realtime Obstacle Detector/dataset/test/images/6_jpg.rf.fe28c934b226f1b812501db01a6b44b6.jpg: 640x640 1 Pedestrian crosswalk, 12.5ms\n",
      "image 340/1157 /root/Desktop/workspace/Realtime Obstacle Detector/dataset/test/images/709_jpg.rf.415aab750a841918e26aaa8781519e13.jpg: 640x640 1 Tree, 12.6ms\n",
      "image 341/1157 /root/Desktop/workspace/Realtime Obstacle Detector/dataset/test/images/70_jpg.rf.1b0724e6fea6e7a3fe6d1a19e04972f4.jpg: 640x640 4 Pedestrian crosswalks, 12.5ms\n",
      "image 342/1157 /root/Desktop/workspace/Realtime Obstacle Detector/dataset/test/images/70_jpg.rf.5cd7aaa55d25c8054f06cabaaa1c63e3.jpg: 640x640 4 Pedestrian crosswalks, 12.4ms\n",
      "image 343/1157 /root/Desktop/workspace/Realtime Obstacle Detector/dataset/test/images/721_jpg.rf.168d907e42daf2ce7d9d5e2a217954c8.jpg: 640x640 1 Tree, 12.0ms\n",
      "image 344/1157 /root/Desktop/workspace/Realtime Obstacle Detector/dataset/test/images/72_jpg.rf.d4a482816870318a206a00491b11542c.jpg: 640x640 1 Pedestrian crosswalk, 9.5ms\n",
      "image 345/1157 /root/Desktop/workspace/Realtime Obstacle Detector/dataset/test/images/73_png_jpg.rf.98ed3ed5b58209c957545c8c3ebe43c3.jpg: 640x640 2 Manholes, 9.5ms\n",
      "image 346/1157 /root/Desktop/workspace/Realtime Obstacle Detector/dataset/test/images/742_jpg.rf.d8c37b89da7a311309beb0419829eb93.jpg: 640x640 1 Tree, 9.6ms\n",
      "image 347/1157 /root/Desktop/workspace/Realtime Obstacle Detector/dataset/test/images/745_jpg.rf.57f4c92a0f466d07d7e78bf3c5f45040.jpg: 640x640 1 Tree, 9.5ms\n",
      "image 348/1157 /root/Desktop/workspace/Realtime Obstacle Detector/dataset/test/images/75_jpg.rf.dbe47d471aeae88ab5bb68193eae0df0.jpg: 640x640 1 Pedestrian crosswalk, 9.4ms\n",
      "image 349/1157 /root/Desktop/workspace/Realtime Obstacle Detector/dataset/test/images/761_jpg.rf.cca78ec76509d1a785b9acc1cf4b8604.jpg: 640x640 1 Tree, 9.6ms\n",
      "image 350/1157 /root/Desktop/workspace/Realtime Obstacle Detector/dataset/test/images/764_jpg.rf.b67fde51537102959867721690f135fb.jpg: 640x640 1 Tree, 9.4ms\n",
      "image 351/1157 /root/Desktop/workspace/Realtime Obstacle Detector/dataset/test/images/767_jpg.rf.e7f881151ac55f9671b45858c5e80f9d.jpg: 640x640 1 Tree, 9.4ms\n",
      "image 352/1157 /root/Desktop/workspace/Realtime Obstacle Detector/dataset/test/images/768_jpg.rf.3e36587c13977f240cd6fd03aebccf95.jpg: 640x640 1 Tree, 9.5ms\n",
      "image 353/1157 /root/Desktop/workspace/Realtime Obstacle Detector/dataset/test/images/76_jpg.rf.00881df78f5cd2e0939f9903fa84bf5c.jpg: 640x640 1 Pedestrian crosswalk, 9.4ms\n",
      "image 354/1157 /root/Desktop/workspace/Realtime Obstacle Detector/dataset/test/images/76_jpg.rf.d69f9821128c643f4b4fc19aaca1ceb7.jpg: 640x640 1 Pedestrian crosswalk, 9.6ms\n",
      "image 355/1157 /root/Desktop/workspace/Realtime Obstacle Detector/dataset/test/images/77J98QOX6K1N_jpg.rf.1da87b9730960c1f484ad9653ec8e787.jpg: 640x640 1 Manhole, 9.7ms\n",
      "image 356/1157 /root/Desktop/workspace/Realtime Obstacle Detector/dataset/test/images/77_jpg.rf.0e0f76f6d32addcf5228c3b34215b5e0.jpg: 640x640 1 Pedestrian crosswalk, 10.2ms\n",
      "image 357/1157 /root/Desktop/workspace/Realtime Obstacle Detector/dataset/test/images/77_jpg.rf.1bcb1b208ea55aa885026824996c5d37.jpg: 640x640 1 Tree, 10.0ms\n",
      "image 358/1157 /root/Desktop/workspace/Realtime Obstacle Detector/dataset/test/images/788_jpg.rf.68e409b488e9282e7f4e3d0d8ca5c528.jpg: 640x640 1 Tree, 11.7ms\n",
      "image 359/1157 /root/Desktop/workspace/Realtime Obstacle Detector/dataset/test/images/79_png_jpg.rf.7684c51fcaa8d7e78727734797f049cc.jpg: 640x640 1 Manhole, 10.3ms\n",
      "image 360/1157 /root/Desktop/workspace/Realtime Obstacle Detector/dataset/test/images/7B6DMMKO2YG7_jpg.rf.f3010d61d8b2f5eb521edc89fbe1dce4.jpg: 640x640 1 Manhole, 10.2ms\n",
      "image 361/1157 /root/Desktop/workspace/Realtime Obstacle Detector/dataset/test/images/7IE4B323ETPY_jpg.rf.b2042cf125ba6a87e975dfbe646518ce.jpg: 640x640 1 Manhole, 10.5ms\n",
      "image 362/1157 /root/Desktop/workspace/Realtime Obstacle Detector/dataset/test/images/7TX8EM9X3V35_jpg.rf.03456a3c47558969497f47b7e87af5d8.jpg: 640x640 1 Manhole, 9.8ms\n",
      "image 363/1157 /root/Desktop/workspace/Realtime Obstacle Detector/dataset/test/images/7e48ed88da8a7066_output_jpg.rf.2e9b548270bbe78d0353fd639ef8597a.jpg: 640x640 1 Person, 1 Stairs, 9.7ms\n",
      "image 364/1157 /root/Desktop/workspace/Realtime Obstacle Detector/dataset/test/images/800px_COLOURBOX1269954_jpg.rf.a1e6ab82ee9e7e764ac620efd395773e.jpg: 640x640 2 Persons, 10.0ms\n",
      "image 365/1157 /root/Desktop/workspace/Realtime Obstacle Detector/dataset/test/images/807_jpg.rf.9c57017bf2727498277c46f025895404.jpg: 640x640 1 Tree, 9.7ms\n",
      "image 366/1157 /root/Desktop/workspace/Realtime Obstacle Detector/dataset/test/images/80_png_jpg.rf.c43a8c0e63c5e9e52ae35196b91424e1.jpg: 640x640 1 Manhole, 9.6ms\n",
      "image 367/1157 /root/Desktop/workspace/Realtime Obstacle Detector/dataset/test/images/811_jpg.rf.a595046e934e63e1ee58a070691e2030.jpg: 640x640 1 Tree, 9.5ms\n",
      "image 368/1157 /root/Desktop/workspace/Realtime Obstacle Detector/dataset/test/images/819_jpg.rf.a45744da197c4b705ede36a766a92e06.jpg: 640x640 1 Tree, 9.5ms\n",
      "image 369/1157 /root/Desktop/workspace/Realtime Obstacle Detector/dataset/test/images/81_jpg.rf.a5d8b5f2e2d74cf4533eba80872bf29c.jpg: 640x640 1 Tree, 9.7ms\n",
      "image 370/1157 /root/Desktop/workspace/Realtime Obstacle Detector/dataset/test/images/81_png_jpg.rf.b47b5c0b144301f54265e440b1996ad1.jpg: 640x640 1 Manhole, 9.7ms\n",
      "image 371/1157 /root/Desktop/workspace/Realtime Obstacle Detector/dataset/test/images/823_jpg.rf.38e21722f8316c6c8006629d3551765f.jpg: 640x640 3 Trees, 9.9ms\n",
      "image 372/1157 /root/Desktop/workspace/Realtime Obstacle Detector/dataset/test/images/82_jpg.rf.d71de12cab4039f2c33cf7e5b30f661e.jpg: 640x640 1 Pedestrian crosswalk, 9.4ms\n",
      "image 373/1157 /root/Desktop/workspace/Realtime Obstacle Detector/dataset/test/images/838_jpg.rf.e4991e54a27fb53cb867ff09783a1619.jpg: 640x640 1 Tree, 9.5ms\n",
      "image 374/1157 /root/Desktop/workspace/Realtime Obstacle Detector/dataset/test/images/83_jpg.rf.0caa7964cac0f43e9dc450aa9b06fd28.jpg: 640x640 1 Tree, 9.6ms\n",
      "image 375/1157 /root/Desktop/workspace/Realtime Obstacle Detector/dataset/test/images/83_jpg.rf.2566a5fe560305a53574ad09bcc78a13.jpg: 640x640 1 Pedestrian crosswalk, 9.4ms\n",
      "image 376/1157 /root/Desktop/workspace/Realtime Obstacle Detector/dataset/test/images/869_jpg.rf.6c0ddc948d34f935bea87a90e6e78c1e.jpg: 640x640 1 Tree, 9.7ms\n",
      "image 377/1157 /root/Desktop/workspace/Realtime Obstacle Detector/dataset/test/images/86_jpg.rf.1b07af6366a0129b905a11f53bae0587.jpg: 640x640 1 Tree, 9.5ms\n",
      "image 378/1157 /root/Desktop/workspace/Realtime Obstacle Detector/dataset/test/images/86_png_jpg.rf.3d68e4314e33aedf9ac9afc777799008.jpg: 640x640 1 Manhole, 9.6ms\n",
      "image 379/1157 /root/Desktop/workspace/Realtime Obstacle Detector/dataset/test/images/87_jpg.rf.bf46b635cb81f35dafdc78fc7ca23860.jpg: 640x640 1 Manhole, 9.5ms\n",
      "image 380/1157 /root/Desktop/workspace/Realtime Obstacle Detector/dataset/test/images/88_jpg.rf.d7ce5ff3b32eccf58a51ddda8d865199.jpg: 640x640 1 Pedestrian crosswalk, 9.4ms\n",
      "image 381/1157 /root/Desktop/workspace/Realtime Obstacle Detector/dataset/test/images/896_jpg.rf.c8cfcba050b2d505c55cfcdee474a28d.jpg: 640x640 1 Tree, 9.4ms\n",
      "image 382/1157 /root/Desktop/workspace/Realtime Obstacle Detector/dataset/test/images/89_jpg.rf.3ef38968a0b87dbd799bf0e41aed40e5.jpg: 640x640 1 Pedestrian crosswalk, 9.4ms\n",
      "image 383/1157 /root/Desktop/workspace/Realtime Obstacle Detector/dataset/test/images/89_jpg.rf.e43f9631c21225ad45b0e9fff0c5f422.jpg: 640x640 1 Manhole, 9.4ms\n",
      "image 384/1157 /root/Desktop/workspace/Realtime Obstacle Detector/dataset/test/images/89_png_jpg.rf.d1674e64bc15ae6b84f9d074c94f1a59.jpg: 640x640 1 Manhole, 9.5ms\n",
      "image 385/1157 /root/Desktop/workspace/Realtime Obstacle Detector/dataset/test/images/8SCCP2IKYHHB_jpg.rf.694348281e677f815077874f8768129e.jpg: 640x640 1 Manhole, 9.9ms\n",
      "image 386/1157 /root/Desktop/workspace/Realtime Obstacle Detector/dataset/test/images/8_jpg.rf.f2830ca867d813eaa8fc82e09e5be9ac.jpg: 640x640 1 Pedestrian crosswalk, 9.8ms\n",
      "image 387/1157 /root/Desktop/workspace/Realtime Obstacle Detector/dataset/test/images/90_jpg.rf.4b235209edb0fa23a7b4317bd0c5bb7a.jpg: 640x640 1 Pedestrian crosswalk, 9.7ms\n",
      "image 388/1157 /root/Desktop/workspace/Realtime Obstacle Detector/dataset/test/images/916c24ec22249ec6195c12bf84cdca65_png.rf.96e06d2c3be2eda73b58d0c071516d2a.jpg: 640x640 5 Traffic signs, 9.4ms\n",
      "image 389/1157 /root/Desktop/workspace/Realtime Obstacle Detector/dataset/test/images/91_jpg.rf.bd8cc86986b69162be27b4787711be37.jpg: 640x640 1 Pedestrian crosswalk, 9.6ms\n",
      "image 390/1157 /root/Desktop/workspace/Realtime Obstacle Detector/dataset/test/images/923_jpg.rf.f870d37a572331b7869bd56c4df8d13e.jpg: 640x640 1 Tree, 9.4ms\n",
      "image 391/1157 /root/Desktop/workspace/Realtime Obstacle Detector/dataset/test/images/927569e0-ce9e-512d-91e0-c7aabf295938_jpeg.rf.4cd184deff03efc07474dc4e2f1e8d49.jpg: 640x640 2 Traffic signs, 1 Truck, 9.3ms\n",
      "image 392/1157 /root/Desktop/workspace/Realtime Obstacle Detector/dataset/test/images/9293a8f198234270_jpg.rf.9c2e3de1667de21a839e8d69ae9fca75.jpg: 640x640 1 Guard rail, 9.4ms\n",
      "image 393/1157 /root/Desktop/workspace/Realtime Obstacle Detector/dataset/test/images/930YYB7GT7DG_jpg.rf.57b69f88d85e91f22d5530ce5d01e1dd.jpg: 640x640 1 Manhole, 9.5ms\n",
      "image 394/1157 /root/Desktop/workspace/Realtime Obstacle Detector/dataset/test/images/930_jpg.rf.24340cfd1035f4d40dffe174ce754a25.jpg: 640x640 1 Tree, 9.5ms\n",
      "image 395/1157 /root/Desktop/workspace/Realtime Obstacle Detector/dataset/test/images/93_jpg.rf.93654a588f4cfc9109ed3dccdd3b2056.jpg: 640x640 2 Pedestrian crosswalks, 9.4ms\n",
      "image 396/1157 /root/Desktop/workspace/Realtime Obstacle Detector/dataset/test/images/93_jpg.rf.c6ebb9065d5518f79595fc721ea5b341.jpg: 640x640 2 Pedestrian crosswalks, 9.7ms\n",
      "image 397/1157 /root/Desktop/workspace/Realtime Obstacle Detector/dataset/test/images/940_jpg.rf.f5b2ef999c21428d2bc16681cfa29645.jpg: 640x640 1 Tree, 10.0ms\n",
      "image 398/1157 /root/Desktop/workspace/Realtime Obstacle Detector/dataset/test/images/94_jpg.rf.2300bc651d134cce05253049371a2c71.jpg: 640x640 1 Pedestrian crosswalk, 9.7ms\n",
      "image 399/1157 /root/Desktop/workspace/Realtime Obstacle Detector/dataset/test/images/95879f30-ffb5-4d83-b7c6-629d17b284ef_jpg.rf.0551bc83c897867f6232a1ff0a12f31a.jpg: 640x640 2 Guard rails, 9.6ms\n",
      "image 400/1157 /root/Desktop/workspace/Realtime Obstacle Detector/dataset/test/images/95_jpg.rf.df34c7772f7c1158d96776ae488212be.jpg: 640x640 1 Pedestrian crosswalk, 9.5ms\n",
      "image 401/1157 /root/Desktop/workspace/Realtime Obstacle Detector/dataset/test/images/968_jpg.rf.44f190428a32b183b331dc50bc3bda64.jpg: 640x640 1 Tree, 9.6ms\n",
      "image 402/1157 /root/Desktop/workspace/Realtime Obstacle Detector/dataset/test/images/96_png_jpg.rf.4cf6200fd9c170ac2ebbceca202dc2f8.jpg: 640x640 1 Manhole, 9.5ms\n",
      "image 403/1157 /root/Desktop/workspace/Realtime Obstacle Detector/dataset/test/images/97275_15179639902012308465_image0404220114_jpg.rf.3efd0be4ba3b17492a57d697b35b8f64.jpg: 640x640 4 Traffic signs, 9.6ms\n",
      "image 404/1157 /root/Desktop/workspace/Realtime Obstacle Detector/dataset/test/images/987_jpg.rf.b890fe1df4d39f8c17a550f2fde4dd75.jpg: 640x640 1 Tree, 9.5ms\n",
      "image 405/1157 /root/Desktop/workspace/Realtime Obstacle Detector/dataset/test/images/99_jpg.rf.8144044387c03630c942631aad82dcb2.jpg: 640x640 1 Car, 1 Manhole, 1 Truck, 9.6ms\n",
      "image 406/1157 /root/Desktop/workspace/Realtime Obstacle Detector/dataset/test/images/9CMU3NMVXFOC_jpg.rf.87a25be19d0fdacd1c7abd48fcb03f40.jpg: 640x640 1 Manhole, 9.7ms\n",
      "image 407/1157 /root/Desktop/workspace/Realtime Obstacle Detector/dataset/test/images/9U9HQZ3EM4JV_jpg.rf.a671bd524dfb0e10b11d228b0e1148c2.jpg: 640x640 1 Manhole, 9.6ms\n",
      "image 408/1157 /root/Desktop/workspace/Realtime Obstacle Detector/dataset/test/images/AAGQO701FOKK_jpg.rf.ecf36f58b191855365477b45bae6f5aa.jpg: 640x640 1 Manhole, 10.0ms\n",
      "image 409/1157 /root/Desktop/workspace/Realtime Obstacle Detector/dataset/test/images/AMONEQ5JZOVW_jpg.rf.99b4d7b945c9986299df4b86e99fc214.jpg: 640x640 1 Manhole, 10.2ms\n",
      "image 410/1157 /root/Desktop/workspace/Realtime Obstacle Detector/dataset/test/images/AURA-191-White-WZ2-BW-2_jpg.rf.73311caff361cbf97b4631d68e3988d4.jpg: 640x640 2 Traffic signs, 9.8ms\n",
      "image 411/1157 /root/Desktop/workspace/Realtime Obstacle Detector/dataset/test/images/AYFsUesU-2_jpg.rf.bcb0474e63724a46f5491fc37e359e4b.jpg: 640x640 2 Cars, 9.9ms\n",
      "image 412/1157 /root/Desktop/workspace/Realtime Obstacle Detector/dataset/test/images/AYHcOK51-1_jpg.rf.affe25dc1eee08ee753fe59235dfb357.jpg: 640x640 1 Car, 9.7ms\n",
      "image 413/1157 /root/Desktop/workspace/Realtime Obstacle Detector/dataset/test/images/AYIoA3b5-3_jpg.rf.6a7ddde6607aa77b3f8e8012d2c9c6b9.jpg: 640x640 1 Car, 9.7ms\n",
      "image 414/1157 /root/Desktop/workspace/Realtime Obstacle Detector/dataset/test/images/AYJoTWVQ_jpg.rf.fa4c7a43ca4da14dba637ca79ea3505c.jpg: 640x640 1 Car, 9.6ms\n",
      "image 415/1157 /root/Desktop/workspace/Realtime Obstacle Detector/dataset/test/images/AYRIBzxE-2_jpg.rf.ffd80e30b73ed1348bf37ca5b3a16339.jpg: 640x640 1 Car, 9.8ms\n",
      "image 416/1157 /root/Desktop/workspace/Realtime Obstacle Detector/dataset/test/images/AYRUSuTa-1_jpg.rf.5c59717b57ba95a82a61d0927e6a2a7f.jpg: 640x640 2 Cars, 9.9ms\n",
      "image 417/1157 /root/Desktop/workspace/Realtime Obstacle Detector/dataset/test/images/AYUEU1Wj_jpg.rf.390186096ae7d2e5534ca081b731cb0b.jpg: 640x640 1 Car, 9.9ms\n",
      "image 418/1157 /root/Desktop/workspace/Realtime Obstacle Detector/dataset/test/images/AYVEJAkK_jpg.rf.9372836040d9df53af24e18eeaef54cd.jpg: 640x640 1 Car, 9.7ms\n",
      "image 419/1157 /root/Desktop/workspace/Realtime Obstacle Detector/dataset/test/images/AYVIChLq-1_jpg.rf.7919ab9808980a8dc98d2a233a2d9a95.jpg: 640x640 5 Cars, 9.7ms\n",
      "image 420/1157 /root/Desktop/workspace/Realtime Obstacle Detector/dataset/test/images/AYVgRaI7-2_jpg.rf.7087b0f6397edad076e8600d3b8125c1.jpg: 640x640 1 Car, 9.5ms\n",
      "image 421/1157 /root/Desktop/workspace/Realtime Obstacle Detector/dataset/test/images/AYW80SAE-3_jpg.rf.878ee748ba923f7397d75b9b86a7fd96.jpg: 640x640 1 Car, 9.7ms\n",
      "image 422/1157 /root/Desktop/workspace/Realtime Obstacle Detector/dataset/test/images/AYW8moRb_jpg.rf.2d610864ad05ea1ce632de53c45e4bdf.jpg: 640x640 1 Car, 9.7ms\n",
      "image 423/1157 /root/Desktop/workspace/Realtime Obstacle Detector/dataset/test/images/AYWUpqeH-1_jpg.rf.d404fe17891c6915a9705aba134afccc.jpg: 640x640 1 Car, 9.7ms\n",
      "image 424/1157 /root/Desktop/workspace/Realtime Obstacle Detector/dataset/test/images/AYWsn-kF_jpg.rf.b6505a4c684ecb1df7ee965756539ae0.jpg: 640x640 1 Car, 10.1ms\n",
      "image 425/1157 /root/Desktop/workspace/Realtime Obstacle Detector/dataset/test/images/AYXo75gc-5_jpg.rf.7d875e3e0ed51eb6bbae944fd1126341.jpg: 640x640 1 Car, 9.7ms\n",
      "image 426/1157 /root/Desktop/workspace/Realtime Obstacle Detector/dataset/test/images/AYYQjChz-1_jpg.rf.f9cb7a452a0e63682610030024d0ed0a.jpg: 640x640 1 Car, 9.8ms\n",
      "image 427/1157 /root/Desktop/workspace/Realtime Obstacle Detector/dataset/test/images/AYYU2QS5UH3N_jpg.rf.44b33f08ebf37296deb75f8847309018.jpg: 640x640 1 Manhole, 9.5ms\n",
      "image 428/1157 /root/Desktop/workspace/Realtime Obstacle Detector/dataset/test/images/AYYsjjQJ_jpg.rf.19d9e0f3d3e8bdf2767912d608ef8eba.jpg: 640x640 5 Cars, 9.5ms\n",
      "image 429/1157 /root/Desktop/workspace/Realtime Obstacle Detector/dataset/test/images/AYZgXeLt-1_jpg.rf.0d83a4d7e5abe3504aff3891e0ac9da5.jpg: 640x640 2 Cars, 10.2ms\n",
      "image 430/1157 /root/Desktop/workspace/Realtime Obstacle Detector/dataset/test/images/AYa0F40-_jpg.rf.9968e299d0ecf902faa07db5afd231d4.jpg: 640x640 2 Cars, 9.6ms\n",
      "image 431/1157 /root/Desktop/workspace/Realtime Obstacle Detector/dataset/test/images/AYaIc07I_jpg.rf.c3c3b18e7bf117d8af973cf0930df810.jpg: 640x640 1 Car, 9.6ms\n",
      "image 432/1157 /root/Desktop/workspace/Realtime Obstacle Detector/dataset/test/images/AYaY1-RD-3_jpg.rf.a6ac06e579a928879db378c95dfb75d2.jpg: 640x640 5 Cars, 9.5ms\n",
      "image 433/1157 /root/Desktop/workspace/Realtime Obstacle Detector/dataset/test/images/AYaY8YBs_jpg.rf.3dc58f48901040e12665f6e6479ceddf.jpg: 640x640 1 Car, 9.4ms\n",
      "image 434/1157 /root/Desktop/workspace/Realtime Obstacle Detector/dataset/test/images/AYacMLRx-3_jpg.rf.a2da278979e02c8deb06e0c63e05a693.jpg: 640x640 1 Car, 9.7ms\n",
      "image 435/1157 /root/Desktop/workspace/Realtime Obstacle Detector/dataset/test/images/AYas_8dQ_jpg.rf.eab41eaeae04fb2e21e51919feaa2454.jpg: 640x640 1 Car, 9.5ms\n",
      "image 436/1157 /root/Desktop/workspace/Realtime Obstacle Detector/dataset/test/images/AYb0bza1_jpg.rf.a1d499847401042e5704976a6532e052.jpg: 640x640 1 Car, 9.6ms\n",
      "image 437/1157 /root/Desktop/workspace/Realtime Obstacle Detector/dataset/test/images/AYb0eKW9_jpg.rf.09fe3a57a973ca6b0b656b51f9991291.jpg: 640x640 3 Cars, 9.5ms\n",
      "image 438/1157 /root/Desktop/workspace/Realtime Obstacle Detector/dataset/test/images/AYb4eedo-1_jpg.rf.39935f9db037e647e67d0869f4ee401d.jpg: 640x640 1 Car, 9.6ms\n",
      "image 439/1157 /root/Desktop/workspace/Realtime Obstacle Detector/dataset/test/images/AYb8968K_jpg.rf.8cfee83738f6144db7f379367670a636.jpg: 640x640 2 Cars, 9.7ms\n",
      "image 440/1157 /root/Desktop/workspace/Realtime Obstacle Detector/dataset/test/images/AYb8LQqG_jpg.rf.38b373e163aba4b4239dca2c805caafc.jpg: 640x640 1 Car, 12.5ms\n",
      "image 441/1157 /root/Desktop/workspace/Realtime Obstacle Detector/dataset/test/images/AYb8OlWR_jpg.rf.a0eaba220d413a36f80b6606b2858991.jpg: 640x640 3 Cars, 18.3ms\n",
      "image 442/1157 /root/Desktop/workspace/Realtime Obstacle Detector/dataset/test/images/AYbEtEJZ-2_jpg.rf.1c549e26f52fd24dc2fb9b01f18d8a2c.jpg: 640x640 1 Car, 12.9ms\n",
      "image 443/1157 /root/Desktop/workspace/Realtime Obstacle Detector/dataset/test/images/AYbI-tqY-1_jpg.rf.e6148c06267e6b361eda8c92be306ff2.jpg: 640x640 1 Car, 12.3ms\n",
      "image 444/1157 /root/Desktop/workspace/Realtime Obstacle Detector/dataset/test/images/AYbINSFy-3--1-_jpg.rf.4e50220fb550c0a1e1aa1dfed3d24089.jpg: 640x640 2 Cars, 12.9ms\n",
      "image 445/1157 /root/Desktop/workspace/Realtime Obstacle Detector/dataset/test/images/AYbIrUfd-3_jpg.rf.76844a342e34dde7797dbdc362cbe469.jpg: 640x640 2 Cars, 1 Manhole, 12.7ms\n",
      "image 446/1157 /root/Desktop/workspace/Realtime Obstacle Detector/dataset/test/images/AYbM95Yr-1_jpg.rf.b6eb768234e4484cba279c2dbc7afd37.jpg: 640x640 1 Car, 13.0ms\n",
      "image 447/1157 /root/Desktop/workspace/Realtime Obstacle Detector/dataset/test/images/AYbMtU8A_jpg.rf.2c3cebc170a7d75e5b89fdf4d07f56c9.jpg: 640x640 1 Car, 13.6ms\n",
      "image 448/1157 /root/Desktop/workspace/Realtime Obstacle Detector/dataset/test/images/AYbQeyIF-1_jpg.rf.d3c39d907eb9a4cb61a90640afaf0f18.jpg: 640x640 4 Cars, 12.5ms\n",
      "image 449/1157 /root/Desktop/workspace/Realtime Obstacle Detector/dataset/test/images/AYbUtsZQ-2_jpg.rf.600ac0a145d7587cba3e738e1aa3d115.jpg: 640x640 2 Cars, 12.6ms\n",
      "image 450/1157 /root/Desktop/workspace/Realtime Obstacle Detector/dataset/test/images/AYbYOooF_jpg.rf.0e4f97700d707589d4f2b3d40db7118a.jpg: 640x640 2 Cars, 12.8ms\n",
      "image 451/1157 /root/Desktop/workspace/Realtime Obstacle Detector/dataset/test/images/AYbYfJLJ-1_jpg.rf.abf023881614d37c5c4e1725850dd8a9.jpg: 640x640 2 Cars, 13.2ms\n",
      "image 452/1157 /root/Desktop/workspace/Realtime Obstacle Detector/dataset/test/images/AYbYv_lE-1_jpg.rf.2d9ec8e204a02eb28434fe7d262f51a3.jpg: 640x640 1 Car, 13.5ms\n",
      "image 453/1157 /root/Desktop/workspace/Realtime Obstacle Detector/dataset/test/images/AYbc-6E_-5_jpg.rf.e570c4e51c3d4d841821e1a79674d599.jpg: 640x640 1 Car, 14.2ms\n",
      "image 454/1157 /root/Desktop/workspace/Realtime Obstacle Detector/dataset/test/images/AYbcbeG4-5_jpg.rf.63f013b9f0cd337368b4dc9b33b84a45.jpg: 640x640 2 Cars, 12.8ms\n",
      "image 455/1157 /root/Desktop/workspace/Realtime Obstacle Detector/dataset/test/images/AYbcdMP6-3_jpg.rf.99088a4492557e044a812c425b56b0ce.jpg: 640x640 1 Car, 11.3ms\n",
      "image 456/1157 /root/Desktop/workspace/Realtime Obstacle Detector/dataset/test/images/AYbocoyl_jpg.rf.fb1b4bb0ac7b8224d1845969686f3766.jpg: 640x640 3 Cars, 10.3ms\n",
      "image 457/1157 /root/Desktop/workspace/Realtime Obstacle Detector/dataset/test/images/AYbofOI1-1_jpg.rf.53da315be310d7ad115d5939958f7b59.jpg: 640x640 1 Car, 10.1ms\n",
      "image 458/1157 /root/Desktop/workspace/Realtime Obstacle Detector/dataset/test/images/AYbsdDOG-5_jpg.rf.97fca2ba0f25eb3f024f256361be4476.jpg: 640x640 2 Cars, 9.7ms\n",
      "image 459/1157 /root/Desktop/workspace/Realtime Obstacle Detector/dataset/test/images/AYbwPZrM_jpg.rf.b164be468bdc7ed05ae22dcf498ea283.jpg: 640x640 3 Cars, 9.4ms\n",
      "image 460/1157 /root/Desktop/workspace/Realtime Obstacle Detector/dataset/test/images/AYcMQ1b9-2_jpg.rf.d01d01e5d59ee1d4bac48704bea9cfd3.jpg: 640x640 2 Cars, 9.4ms\n",
      "image 461/1157 /root/Desktop/workspace/Realtime Obstacle Detector/dataset/test/images/AYcUgWzy_jpg.rf.2186d1b6d0a7ce1beabfba21e5e5b975.jpg: 640x640 1 Car, 1 Bus, 9.4ms\n",
      "image 462/1157 /root/Desktop/workspace/Realtime Obstacle Detector/dataset/test/images/AYcYw-ZU-3_jpg.rf.2d026b8804a036de67bca84842324eeb.jpg: 640x640 2 Cars, 9.4ms\n",
      "image 463/1157 /root/Desktop/workspace/Realtime Obstacle Detector/dataset/test/images/AYcsASJ0-2_jpg.rf.bbcb70f1dc3d26bea524766c8b8a3a24.jpg: 640x640 1 Car, 10.8ms\n",
      "image 464/1157 /root/Desktop/workspace/Realtime Obstacle Detector/dataset/test/images/AYcwgE-o-2_jpg.rf.000457ac494a3701d4bf6e896aa47e13.jpg: 640x640 1 Car, 9.4ms\n",
      "image 465/1157 /root/Desktop/workspace/Realtime Obstacle Detector/dataset/test/images/AYcwgE-o_jpg.rf.2a6d947c199fcfe72235519706c9c192.jpg: 640x640 7 Cars, 9.3ms\n",
      "image 466/1157 /root/Desktop/workspace/Realtime Obstacle Detector/dataset/test/images/B0S7ZUIRLHXA_jpg.rf.02f18677a1f0ee8b2ec66fa6e70636c5.jpg: 640x640 1 Manhole, 9.4ms\n",
      "image 467/1157 /root/Desktop/workspace/Realtime Obstacle Detector/dataset/test/images/B25K-620_jpg.rf.d1a470c9c04a850248a26e9c9daf9038.jpg: 640x640 1 Person, 9.5ms\n",
      "image 468/1157 /root/Desktop/workspace/Realtime Obstacle Detector/dataset/test/images/BA-1-_jpg.rf.22251774a06578d4167abc828332f6cc.jpg: 640x640 1 Traffic sign, 9.4ms\n",
      "image 469/1157 /root/Desktop/workspace/Realtime Obstacle Detector/dataset/test/images/BA-1-_jpg.rf.bfe15357df534204f6e0ff94e0cd40f5.jpg: 640x640 1 Traffic sign, 9.4ms\n",
      "image 470/1157 /root/Desktop/workspace/Realtime Obstacle Detector/dataset/test/images/BA-2-_jpg.rf.fef960270f5abe20b8973d034d3ab277.jpg: 640x640 1 Traffic sign, 9.5ms\n",
      "image 471/1157 /root/Desktop/workspace/Realtime Obstacle Detector/dataset/test/images/BG885XWKFWJB_jpg.rf.f52d761340e9247c91ab7297c2a0dcb5.jpg: 640x640 1 Manhole, 9.7ms\n",
      "image 472/1157 /root/Desktop/workspace/Realtime Obstacle Detector/dataset/test/images/BHF62CHD1J02_jpg.rf.3b30efca40c6b8cc560318f76de8249b.jpg: 640x640 1 Manhole, 9.4ms\n",
      "image 473/1157 /root/Desktop/workspace/Realtime Obstacle Detector/dataset/test/images/BM6CUQKWBIBA_jpg.rf.aa1b0c39f96286d25758e84cd733acb5.jpg: 640x640 1 Manhole, 9.5ms\n",
      "image 474/1157 /root/Desktop/workspace/Realtime Obstacle Detector/dataset/test/images/BNWSNUV7MBG1_jpg.rf.9671c1e25d2b55d20e255edf984f6fb5.jpg: 640x640 1 Manhole, 9.5ms\n",
      "image 475/1157 /root/Desktop/workspace/Realtime Obstacle Detector/dataset/test/images/C-1-_jpg.rf.79262296c867718cad48ebcaae306ca9.jpg: 640x640 1 Traffic sign, 1 Pedestrian crosswalk, 9.2ms\n",
      "image 476/1157 /root/Desktop/workspace/Realtime Obstacle Detector/dataset/test/images/C3TG3HDLLM3X_jpg.rf.791990e391b25d1493f54d32609e2a1f.jpg: 640x640 1 Manhole, 9.2ms\n",
      "image 477/1157 /root/Desktop/workspace/Realtime Obstacle Detector/dataset/test/images/CRR4GVTCNLOE_jpg.rf.9311993dce3df3c96707255a318fcd0b.jpg: 640x640 1 Manhole, 9.3ms\n",
      "image 478/1157 /root/Desktop/workspace/Realtime Obstacle Detector/dataset/test/images/CRRO9KR3K6WM_jpg.rf.94260cd8eeded298e0a50ae5017d5d69.jpg: 640x640 1 Manhole, 9.3ms\n",
      "image 479/1157 /root/Desktop/workspace/Realtime Obstacle Detector/dataset/test/images/CUEUIAPES4WJ_jpg.rf.9372d78514b4a072626a08b62f778fb5.jpg: 640x640 1 Manhole, 9.1ms\n",
      "image 480/1157 /root/Desktop/workspace/Realtime Obstacle Detector/dataset/test/images/CZ0C9UMCLAGP_jpg.rf.c9847f662657b5306531fa42157fce67.jpg: 640x640 (no detections), 9.2ms\n",
      "image 481/1157 /root/Desktop/workspace/Realtime Obstacle Detector/dataset/test/images/CarImage8807761_637250519968589522_3_thumb_450_300_jpeg_jpg.rf.080b3e576b7b2ef825f58db46d07619e.jpg: 640x640 1 Car, 9.3ms\n",
      "image 482/1157 /root/Desktop/workspace/Realtime Obstacle Detector/dataset/test/images/CarImage9393911_0_thumb_450_300_jpeg_jpg.rf.a20b977c4ea98092a6c56afab483de6f.jpg: 640x640 2 Cars, 9.3ms\n",
      "image 483/1157 /root/Desktop/workspace/Realtime Obstacle Detector/dataset/test/images/CarImage9534587_637622149949569438_1_thumb_450_300_jpeg_jpg.rf.11f3c7406514b84f1ac7dc77d096ffcf.jpg: 640x640 1 Car, 9.5ms\n",
      "image 484/1157 /root/Desktop/workspace/Realtime Obstacle Detector/dataset/test/images/CarImage9588363_637657596672802055_4_thumb_450_300_jpeg_jpg.rf.6763aef0bd31c207fd8291e47c015e0d.jpg: 640x640 3 Cars, 9.3ms\n",
      "image 485/1157 /root/Desktop/workspace/Realtime Obstacle Detector/dataset/test/images/CarImage9717473_1_thumb_450_300_jpg.rf.2ff2c67097801aa35f1116248dfaf76e.jpg: 640x640 2 Cars, 9.3ms\n",
      "image 486/1157 /root/Desktop/workspace/Realtime Obstacle Detector/dataset/test/images/CarImage9725907_637723970006254213_0_thumb_450_300_jpeg_jpg.rf.a203698501f72176ca2c48517d798955.jpg: 640x640 1 Car, 9.3ms\n",
      "image 487/1157 /root/Desktop/workspace/Realtime Obstacle Detector/dataset/test/images/CarImage9743903_637749273819103846_0_thumb_450_300-JPG_jpg.rf.fb881842fa552535a2f6d6e117f5605a.jpg: 640x640 1 Car, 9.2ms\n",
      "image 488/1157 /root/Desktop/workspace/Realtime Obstacle Detector/dataset/test/images/CarImage9771900_637767402458639639_0_thumb_450_300_jpeg_jpg.rf.91d60c1cd2f83ffe5c8f2c789989a6f0.jpg: 640x640 2 Cars, 14.1ms\n",
      "image 489/1157 /root/Desktop/workspace/Realtime Obstacle Detector/dataset/test/images/CarImage9778862_042102_thumb_450_300_jpg.rf.bb137c937a80cf2a83caf648c41fdf23.jpg: 640x640 1 Car, 12.8ms\n",
      "image 490/1157 /root/Desktop/workspace/Realtime Obstacle Detector/dataset/test/images/CarImage9779895_0_thumb_240_160_jpg.rf.db687575a47da12e8a35e564313f5546.jpg: 640x640 2 Cars, 12.5ms\n",
      "image 491/1157 /root/Desktop/workspace/Realtime Obstacle Detector/dataset/test/images/CarImage9785004_0_thumb_240_160-JPG_jpg.rf.64e708a794b20719dd93f9bb108f2e34.jpg: 640x640 1 Car, 12.8ms\n",
      "image 492/1157 /root/Desktop/workspace/Realtime Obstacle Detector/dataset/test/images/CarImage9794142_637763209326434105_2_thumb_240_160_jpg.rf.5efb4d19e6cbeeef96eac33fc0359d75.jpg: 640x640 1 Car, 1 Guard rail, 13.7ms\n",
      "image 493/1157 /root/Desktop/workspace/Realtime Obstacle Detector/dataset/test/images/CarImage9794975_1_thumb_240_160_jpeg_jpg.rf.c95a716d0f56465a5985ec234b93801c.jpg: 640x640 2 Cars, 13.2ms\n",
      "image 494/1157 /root/Desktop/workspace/Realtime Obstacle Detector/dataset/test/images/CarImage9800055_0_thumb_240_160_jpeg_jpg.rf.98163270cbe95be97cc33dd8dbbc026a.jpg: 640x640 1 Car, 13.1ms\n",
      "image 495/1157 /root/Desktop/workspace/Realtime Obstacle Detector/dataset/test/images/CarImage9800517_0_thumb_240_160_jpg.rf.e746823563ce243eb387787713a36919.jpg: 640x640 1 Car, 10.5ms\n",
      "image 496/1157 /root/Desktop/workspace/Realtime Obstacle Detector/dataset/test/images/CarImage9800531_0_thumb_240_160_jpeg_jpg.rf.f41c4275053260dff6546eb3d2f067a7.jpg: 640x640 2 Cars, 10.1ms\n",
      "image 497/1157 /root/Desktop/workspace/Realtime Obstacle Detector/dataset/test/images/CarImage9800629_0_thumb_240_160_jpeg_jpg.rf.850cc02e45be013071eed51a61171334.jpg: 640x640 2 Cars, 9.8ms\n",
      "image 498/1157 /root/Desktop/workspace/Realtime Obstacle Detector/dataset/test/images/CarImage9800648_3_thumb_240_160_jpg.rf.f78d088fd5628cb09afc2354865f1ae8.jpg: 640x640 1 Car, 9.6ms\n",
      "image 499/1157 /root/Desktop/workspace/Realtime Obstacle Detector/dataset/test/images/CarImage9800687_0_thumb_240_160_jpg.rf.164a6d06ed07445c10bc13b24d9684e2.jpg: 640x640 2 Cars, 9.7ms\n",
      "image 500/1157 /root/Desktop/workspace/Realtime Obstacle Detector/dataset/test/images/CarImage9800699_0_thumb_240_160_jpg.rf.332f43f772eed5f3f1b43c645188d94c.jpg: 640x640 1 Car, 9.5ms\n",
      "image 501/1157 /root/Desktop/workspace/Realtime Obstacle Detector/dataset/test/images/CarImage9800708_0_thumb_240_160_png_jpg.rf.a2edf7ee56eafdd1a6774fbfa0ae6dd6.jpg: 640x640 1 Car, 9.5ms\n",
      "image 502/1157 /root/Desktop/workspace/Realtime Obstacle Detector/dataset/test/images/CarImage9800735_0_thumb_450_300_jpeg_jpg.rf.e199517c4fff3e21bea0f5980be8034b.jpg: 640x640 1 Car, 9.5ms\n",
      "image 503/1157 /root/Desktop/workspace/Realtime Obstacle Detector/dataset/test/images/CarImage9800757_0_thumb_450_300_jpg.rf.51c45850856f9b27ace0c250eeee444a.jpg: 640x640 2 Cars, 10.1ms\n",
      "image 504/1157 /root/Desktop/workspace/Realtime Obstacle Detector/dataset/test/images/CarImage9800766_0_thumb_450_300_jpg.rf.a91d7258381438862c6f9c1fdeeff875.jpg: 640x640 1 Car, 9.5ms\n",
      "image 505/1157 /root/Desktop/workspace/Realtime Obstacle Detector/dataset/test/images/CarImage9800775_0_thumb_240_160_jpg.rf.041763ebe3acf2dc5ad005a6857a81b1.jpg: 640x640 1 Car, 9.5ms\n",
      "image 506/1157 /root/Desktop/workspace/Realtime Obstacle Detector/dataset/test/images/CarImage9800813_0_thumb_240_160_jpeg_jpg.rf.86bac922bb4652c886e392ecf354394c.jpg: 640x640 1 Car, 10.3ms\n",
      "image 507/1157 /root/Desktop/workspace/Realtime Obstacle Detector/dataset/test/images/CarImage9800818_0_thumb_240_160_jpg.rf.8230af3384661c1b89b50bf4c3e0df18.jpg: 640x640 1 Car, 9.6ms\n",
      "image 508/1157 /root/Desktop/workspace/Realtime Obstacle Detector/dataset/test/images/CarImage9800835_637767425664474693_2_thumb_240_160_jpg.rf.050d53c468e648e97ea6011acea6e79b.jpg: 640x640 2 Cars, 9.6ms\n",
      "image 509/1157 /root/Desktop/workspace/Realtime Obstacle Detector/dataset/test/images/CarImage9800860_2_thumb_240_160_jpg.rf.3cd4790d3f546fd90583867d41e20e82.jpg: 640x640 2 Cars, 10.4ms\n",
      "image 510/1157 /root/Desktop/workspace/Realtime Obstacle Detector/dataset/test/images/D0RD4M2DZTIZ_jpg.rf.e2790418cabd448f706aba67d9395948.jpg: 640x640 1 Manhole, 9.8ms\n",
      "image 511/1157 /root/Desktop/workspace/Realtime Obstacle Detector/dataset/test/images/D7RBX0IXS07E_jpg.rf.ba963221ac9409c001b430e79f4ea19e.jpg: 640x640 1 Manhole, 11.0ms\n",
      "image 512/1157 /root/Desktop/workspace/Realtime Obstacle Detector/dataset/test/images/DD-26-_jpg.rf.fa3927c416f9c0d00dd25537930b3677.jpg: 640x640 1 Traffic sign, 11.0ms\n",
      "image 513/1157 /root/Desktop/workspace/Realtime Obstacle Detector/dataset/test/images/DD-29-_jpg.rf.ac31420b09cde41a744132beb94f0e55.jpg: 640x640 1 Traffic sign, 11.3ms\n",
      "image 514/1157 /root/Desktop/workspace/Realtime Obstacle Detector/dataset/test/images/DD-47-_jpg.rf.a8bc7305d58d3e5e193d94f0bd8df670.jpg: 640x640 1 Traffic sign, 11.1ms\n",
      "image 515/1157 /root/Desktop/workspace/Realtime Obstacle Detector/dataset/test/images/DD-5-_jpg.rf.7ae6172ac8cb5f8084e04efb78401f4d.jpg: 640x640 1 Traffic sign, 10.7ms\n",
      "image 516/1157 /root/Desktop/workspace/Realtime Obstacle Detector/dataset/test/images/DD-6-_jpeg_jpg.rf.13abfcfc621067de8a97714a2f1aa32a.jpg: 640x640 1 Traffic sign, 10.4ms\n",
      "image 517/1157 /root/Desktop/workspace/Realtime Obstacle Detector/dataset/test/images/DP3F9G5Q8PCB_jpg.rf.bd39f167b3541a09655c75239b7a3a09.jpg: 640x640 1 Manhole, 9.9ms\n",
      "image 518/1157 /root/Desktop/workspace/Realtime Obstacle Detector/dataset/test/images/DSC01141_jpg.rf.4b287f2a53b1fac1b5659e166d8b069d.jpg: 640x640 8 Persons, 9.9ms\n",
      "image 519/1157 /root/Desktop/workspace/Realtime Obstacle Detector/dataset/test/images/DSC06068_jpg.rf.44bc57e36511242d0922deaa5e28401a.jpg: 640x640 30 Persons, 9.6ms\n",
      "image 520/1157 /root/Desktop/workspace/Realtime Obstacle Detector/dataset/test/images/DSC08465_jpg.rf.35891f2a188fd3414983bd2423bd8261.jpg: 640x640 28 Persons, 9.6ms\n",
      "image 521/1157 /root/Desktop/workspace/Realtime Obstacle Detector/dataset/test/images/DSC09941_jpg.rf.54723338ac15fcb6a72a1420c7d3e319.jpg: 640x640 9 Persons, 9.8ms\n",
      "image 522/1157 /root/Desktop/workspace/Realtime Obstacle Detector/dataset/test/images/FERRY-15-_jpg.rf.4d158243bd78b5619f49b5725355fa02.jpg: 640x640 1 Traffic sign, 9.7ms\n",
      "image 523/1157 /root/Desktop/workspace/Realtime Obstacle Detector/dataset/test/images/FERRY-17-_jpg.rf.4db5522f8d5b911b45db23174e4b7dcd.jpg: 640x640 1 Traffic sign, 10.2ms\n",
      "image 524/1157 /root/Desktop/workspace/Realtime Obstacle Detector/dataset/test/images/FFMAU4FL750R_jpg.rf.5cc47d103b6c7057a557221da3196fab.jpg: 640x640 1 Manhole, 10.0ms\n",
      "image 525/1157 /root/Desktop/workspace/Realtime Obstacle Detector/dataset/test/images/FJGEMEZJR0BO_jpg.rf.b0f54f76a9fbf1199a16d7a03672d2f8.jpg: 640x640 1 Manhole, 9.7ms\n",
      "image 526/1157 /root/Desktop/workspace/Realtime Obstacle Detector/dataset/test/images/FKW4N5ER99Q1_jpg.rf.05cd65e8ee8be29de16019ee4aaad28b.jpg: 640x640 1 Manhole, 9.7ms\n",
      "image 527/1157 /root/Desktop/workspace/Realtime Obstacle Detector/dataset/test/images/FP801RD70F15_jpg.rf.830780ebed24652caed7b54801021f88.jpg: 640x640 1 Manhole, 9.9ms\n",
      "image 528/1157 /root/Desktop/workspace/Realtime Obstacle Detector/dataset/test/images/FQ737Y1D7QCO_jpg.rf.522860651613c75b3b19470e0153cac4.jpg: 640x640 1 Manhole, 10.6ms\n",
      "image 529/1157 /root/Desktop/workspace/Realtime Obstacle Detector/dataset/test/images/FROCKS-1-_jpeg_jpg.rf.3795171605f8e90ef7c49533e651178c.jpg: 640x640 1 Traffic sign, 9.9ms\n",
      "image 530/1157 /root/Desktop/workspace/Realtime Obstacle Detector/dataset/test/images/FROCKS-3-_jpeg_jpg.rf.50dfba3bfab5fa57014ea0a2c2ee609c.jpg: 640x640 1 Traffic sign, 9.7ms\n",
      "image 531/1157 /root/Desktop/workspace/Realtime Obstacle Detector/dataset/test/images/FROCKS-5-_jpg.rf.8b73d3b8baaa5412dbd5bb6f6e8c1fc5.jpg: 640x640 1 Traffic sign, 9.8ms\n",
      "image 532/1157 /root/Desktop/workspace/Realtime Obstacle Detector/dataset/test/images/FROCKS-6-_jpg.rf.4ab7b86dccbc659f1337c2264cbe7f87.jpg: 640x640 1 Traffic sign, 2 Manholes, 9.8ms\n",
      "image 533/1157 /root/Desktop/workspace/Realtime Obstacle Detector/dataset/test/images/FROCKS-7-_jpeg_jpg.rf.2de4e75c01f2e69ad5ad640e7eb8aba7.jpg: 640x640 1 Traffic sign, 10.3ms\n",
      "image 534/1157 /root/Desktop/workspace/Realtime Obstacle Detector/dataset/test/images/FROCKS-7-_jpeg_jpg.rf.3c3c31b50be16358df4f57347f7de776.jpg: 640x640 1 Traffic sign, 9.7ms\n",
      "image 535/1157 /root/Desktop/workspace/Realtime Obstacle Detector/dataset/test/images/FSZF66EUEN6U_jpg.rf.3733dd2e8588852f148a64b758fd96fa.jpg: 640x640 1 Manhole, 9.4ms\n",
      "image 536/1157 /root/Desktop/workspace/Realtime Obstacle Detector/dataset/test/images/GD4JUNJV1A0T_jpg.rf.5cb9d864517fae0ccd49b54b642f8b8a.jpg: 640x640 1 Manhole, 9.8ms\n",
      "image 537/1157 /root/Desktop/workspace/Realtime Obstacle Detector/dataset/test/images/GHQC1X71A4PV_jpg.rf.8cc9e54dbbb5d0f6f58fd6b24819b1ad.jpg: 640x640 1 Manhole, 10.2ms\n",
      "image 538/1157 /root/Desktop/workspace/Realtime Obstacle Detector/dataset/test/images/GIVEWAY-103-_jpg.rf.b76f02c484b4166b6a4c860888c4cb3b.jpg: 640x640 1 Traffic sign, 10.2ms\n",
      "image 539/1157 /root/Desktop/workspace/Realtime Obstacle Detector/dataset/test/images/GIVEWAY-35-_jpg.rf.bb32e5f11a686e910a1915d42f41837d.jpg: 640x640 1 Traffic sign, 9.8ms\n",
      "image 540/1157 /root/Desktop/workspace/Realtime Obstacle Detector/dataset/test/images/GUEST_99575ea4-ee3b-439e-9dda-926b966036c8_jpeg.rf.7b6890ae673dfb90d61eeccb13c2d95e.jpg: 640x640 1 Bike, 9.7ms\n",
      "image 541/1157 /root/Desktop/workspace/Realtime Obstacle Detector/dataset/test/images/Gear-Priority-Bicycles-APOLLO_LIFESTYLE_EXPORTS_v2-58_jpg.rf.d937edc45e030c9aa6ee8c1e2209f350.jpg: 640x640 1 Bike, 10.0ms\n",
      "image 542/1157 /root/Desktop/workspace/Realtime Obstacle Detector/dataset/test/images/HAOB1A03A8QY_jpg.rf.da153d90138e0fbd874d0603900fab7b.jpg: 640x640 1 Manhole, 9.7ms\n",
      "image 543/1157 /root/Desktop/workspace/Realtime Obstacle Detector/dataset/test/images/HF2MJ9UD7KZJ_jpg.rf.cedd51144630e91a164445184c48aca0.jpg: 640x640 1 Manhole, 10.2ms\n",
      "image 544/1157 /root/Desktop/workspace/Realtime Obstacle Detector/dataset/test/images/HHBJHPOULAEE_jpg.rf.2cd2e28c75a0555e2802e47105312453.jpg: 640x640 1 Manhole, 9.7ms\n",
      "image 545/1157 /root/Desktop/workspace/Realtime Obstacle Detector/dataset/test/images/HOSPI-2-_jpg.rf.cf9f6cadff90f2f7ad3a8781dcc98988.jpg: 640x640 1 Traffic sign, 9.7ms\n",
      "image 546/1157 /root/Desktop/workspace/Realtime Obstacle Detector/dataset/test/images/I5WL0XUU7XNQ_jpg.rf.2c3f53b0b7898e48af8bf1daca9564d4.jpg: 640x640 1 Manhole, 9.6ms\n",
      "image 547/1157 /root/Desktop/workspace/Realtime Obstacle Detector/dataset/test/images/IMG-11_jpg.rf.0ac26a775a84e51144b73ed19a2f8a7c.jpg: 640x640 11 Persons, 14.1ms\n",
      "image 548/1157 /root/Desktop/workspace/Realtime Obstacle Detector/dataset/test/images/IMG_0549_jpg.rf.93db5dc56e55a8066bd5a561f1825d0b.jpg: 640x640 2 Stairss, 12.7ms\n",
      "image 549/1157 /root/Desktop/workspace/Realtime Obstacle Detector/dataset/test/images/IMG_0555_jpg.rf.2db3d99c26f6f9890eb6247808794b7f.jpg: 640x640 1 Stairs, 12.3ms\n",
      "image 550/1157 /root/Desktop/workspace/Realtime Obstacle Detector/dataset/test/images/IMG_0617_jpg.rf.edbd5e04dbd78a7ffa6154f64fd73a0b.jpg: 640x640 1 Stairs, 12.6ms\n",
      "image 551/1157 /root/Desktop/workspace/Realtime Obstacle Detector/dataset/test/images/IMG_0788_jpg.rf.1302f0e3324684ad7856145bba665f1b.jpg: 640x640 1 Stairs, 12.6ms\n",
      "image 552/1157 /root/Desktop/workspace/Realtime Obstacle Detector/dataset/test/images/IMG_0803_jpg.rf.387aff7c5da4a8dba1d1592eee258d9a.jpg: 640x640 1 Stairs, 13.4ms\n",
      "image 553/1157 /root/Desktop/workspace/Realtime Obstacle Detector/dataset/test/images/IMG_0818_jpg.rf.6bb2bd54134365b8197e0bd11aa41230.jpg: 640x640 1 Stairs, 13.6ms\n",
      "image 554/1157 /root/Desktop/workspace/Realtime Obstacle Detector/dataset/test/images/IMG_0819_jpg.rf.16d1a88e67f94b1ce9cc7260fdf660d3.jpg: 640x640 2 Stairss, 13.9ms\n",
      "image 555/1157 /root/Desktop/workspace/Realtime Obstacle Detector/dataset/test/images/IMG_0860_jpg.rf.29e1499a71329df830e629ae3afe51f6.jpg: 640x640 5 Persons, 10.6ms\n",
      "image 556/1157 /root/Desktop/workspace/Realtime Obstacle Detector/dataset/test/images/IMG_5495_jpg.rf.b7fda2561b3c096258fbe2dde06941fd.jpg: 640x640 2 Stairss, 10.1ms\n",
      "image 557/1157 /root/Desktop/workspace/Realtime Obstacle Detector/dataset/test/images/IMG_5504_jpg.rf.5b68dcbf4a351f9ae7bd97a7690db7e6.jpg: 640x640 1 Stairs, 9.8ms\n",
      "image 558/1157 /root/Desktop/workspace/Realtime Obstacle Detector/dataset/test/images/IMG_5508_jpg.rf.6d796ac4c7418c2fd4b0c3568cff9e02.jpg: 640x640 2 Stairss, 9.4ms\n",
      "image 559/1157 /root/Desktop/workspace/Realtime Obstacle Detector/dataset/test/images/IMG_5519_jpg.rf.3693d1f2123cc7b4a2551f85a2fa750c.jpg: 640x640 1 Stairs, 9.4ms\n",
      "image 560/1157 /root/Desktop/workspace/Realtime Obstacle Detector/dataset/test/images/IMG_5521_jpg.rf.ce06d6fe915719638069b90268aa6cda.jpg: 640x640 2 Stairss, 9.2ms\n",
      "image 561/1157 /root/Desktop/workspace/Realtime Obstacle Detector/dataset/test/images/IMG_5527_jpg.rf.1c5185ff0385f6f89b9f2dd979c50248.jpg: 640x640 3 Stairss, 9.1ms\n",
      "image 562/1157 /root/Desktop/workspace/Realtime Obstacle Detector/dataset/test/images/IMG_5528_jpg.rf.91d82ace188a777fc70ad14312d403f8.jpg: 640x640 3 Stairss, 9.2ms\n",
      "image 563/1157 /root/Desktop/workspace/Realtime Obstacle Detector/dataset/test/images/IQXZ80BDGALA_jpg.rf.37b2ae909cd722e3ba5ddaf428645886.jpg: 640x640 1 Manhole, 9.3ms\n",
      "image 564/1157 /root/Desktop/workspace/Realtime Obstacle Detector/dataset/test/images/ISFJPU3W18ZM_jpg.rf.733ebe02b1dc5192a7b7a48f0da34cd3.jpg: 640x640 1 Manhole, 9.3ms\n",
      "image 565/1157 /root/Desktop/workspace/Realtime Obstacle Detector/dataset/test/images/IUNJPDX8IR0C_jpg.rf.17e1039fcb9158b3f194aa6a21ff6307.jpg: 640x640 1 Manhole, 9.2ms\n",
      "image 566/1157 /root/Desktop/workspace/Realtime Obstacle Detector/dataset/test/images/JWVXGQPJT1ZH_jpg.rf.b849dc2504034350c8469954307e8ccd.jpg: 640x640 1 Manhole, 9.0ms\n",
      "image 567/1157 /root/Desktop/workspace/Realtime Obstacle Detector/dataset/test/images/JYEX3WPC8GJQ_jpg.rf.8e3fa99fcc993037b6a31a6c9e891ed1.jpg: 640x640 1 Manhole, 9.1ms\n",
      "image 568/1157 /root/Desktop/workspace/Realtime Obstacle Detector/dataset/test/images/JZ3LJ8111WCI_jpg.rf.1f59b0a3bd1abd7fbc4cab1eb270d991.jpg: 640x640 1 Manhole, 9.4ms\n",
      "image 569/1157 /root/Desktop/workspace/Realtime Obstacle Detector/dataset/test/images/JZQDBFO1DQ97_jpg.rf.32fe83b2b8a93f42a85d4fcaa91b654e.jpg: 640x640 1 Manhole, 9.6ms\n",
      "image 570/1157 /root/Desktop/workspace/Realtime Obstacle Detector/dataset/test/images/Jogging-trails_jpg.rf.228ca229927e52b0675de8ff925e04f1.jpg: 640x640 2 Persons, 14.9ms\n",
      "image 571/1157 /root/Desktop/workspace/Realtime Obstacle Detector/dataset/test/images/K0T001TAY21N_jpg.rf.2983e3d40c8a5bd4d497da74b69d423b.jpg: 640x640 1 Manhole, 12.8ms\n",
      "image 572/1157 /root/Desktop/workspace/Realtime Obstacle Detector/dataset/test/images/KQM8029CE2S5_jpg.rf.de0d6b83f6c5e2e6a718040d1760f062.jpg: 640x640 1 Manhole, 12.6ms\n",
      "image 573/1157 /root/Desktop/workspace/Realtime Obstacle Detector/dataset/test/images/KSQBS2GECID2_jpg.rf.49a3c1163abb10d6748864351be0cb20.jpg: 640x640 1 Manhole, 12.7ms\n",
      "image 574/1157 /root/Desktop/workspace/Realtime Obstacle Detector/dataset/test/images/KTIQXVGHZYDS_jpg.rf.41d30965651fd91dcf4a87a997a998c5.jpg: 640x640 1 Manhole, 12.7ms\n",
      "image 575/1157 /root/Desktop/workspace/Realtime Obstacle Detector/dataset/test/images/KXB6C3O5O3K4_jpg.rf.01a0ef4966f6b39f2aeeff1d6924b482.jpg: 640x640 2 Manholes, 12.2ms\n",
      "image 576/1157 /root/Desktop/workspace/Realtime Obstacle Detector/dataset/test/images/KakaoTalk_20230407_154711521_04_jpg.rf.d46bf2fd838ff2e9f6c4a5db0aaede48.jpg: 640x640 1 Manhole, 12.7ms\n",
      "image 577/1157 /root/Desktop/workspace/Realtime Obstacle Detector/dataset/test/images/KakaoTalk_20230414_175428809_18_jpg.rf.4ffecd939a4058262655775beaf728d4.jpg: 640x640 1 Manhole, 12.7ms\n",
      "image 578/1157 /root/Desktop/workspace/Realtime Obstacle Detector/dataset/test/images/KakaoTalk_20230414_175540680_15_jpg.rf.9fe7d8a10b279c7e84d77b857e2975e0.jpg: 640x640 2 Manholes, 10.0ms\n",
      "image 579/1157 /root/Desktop/workspace/Realtime Obstacle Detector/dataset/test/images/KakaoTalk_20230414_175712907_07_jpg.rf.62d99575882dd63dc8f5b54e5d116c25.jpg: 640x640 1 Manhole, 10.4ms\n",
      "image 580/1157 /root/Desktop/workspace/Realtime Obstacle Detector/dataset/test/images/KakaoTalk_20230414_175720342_03_jpg.rf.76cb33e6c34dbc05590cd5b9e0867414.jpg: 640x640 1 Manhole, 9.5ms\n",
      "image 581/1157 /root/Desktop/workspace/Realtime Obstacle Detector/dataset/test/images/KakaoTalk_20230414_175720342_06_jpg.rf.2466f3dd56421bd6d8aa28af9a75e688.jpg: 640x640 2 Manholes, 9.7ms\n",
      "image 582/1157 /root/Desktop/workspace/Realtime Obstacle Detector/dataset/test/images/Kid-Running_jpeg.rf.651c633c1b864dd1af429d6ddc65f934.jpg: 640x640 3 Persons, 9.5ms\n",
      "image 583/1157 /root/Desktop/workspace/Realtime Obstacle Detector/dataset/test/images/L0ZHBGRY26HX_jpg.rf.d6dae674e2d276d0d14a15d8a8f63be3.jpg: 640x640 1 Manhole, 9.4ms\n",
      "image 584/1157 /root/Desktop/workspace/Realtime Obstacle Detector/dataset/test/images/LJ3ROMKJJDRJ_jpg.rf.c06d7b30f0a2354f8933dee3635139d5.jpg: 640x640 1 Manhole, 9.5ms\n",
      "image 585/1157 /root/Desktop/workspace/Realtime Obstacle Detector/dataset/test/images/LXJBILMVDN6T_jpg.rf.8a27af56eb24482999d1c4cb76772a63.jpg: 640x640 1 Manhole, 9.7ms\n",
      "image 586/1157 /root/Desktop/workspace/Realtime Obstacle Detector/dataset/test/images/M5GXZSH8KAWU_jpg.rf.5d8eb6202fcf21576c52bbcd5faa2c17.jpg: 640x640 1 Manhole, 9.7ms\n",
      "image 587/1157 /root/Desktop/workspace/Realtime Obstacle Detector/dataset/test/images/MAE4WKCUVHUH_jpg.rf.76e0a3c5d8d5cf88e44a8511e2d10977.jpg: 640x640 1 Manhole, 9.4ms\n",
      "image 588/1157 /root/Desktop/workspace/Realtime Obstacle Detector/dataset/test/images/MCVH1I78BELK_jpg.rf.f423d164ac49e19828232257e03d5fd5.jpg: 640x640 2 Manholes, 9.5ms\n",
      "image 589/1157 /root/Desktop/workspace/Realtime Obstacle Detector/dataset/test/images/MFH9CSOUVX1E_jpg.rf.2b8f96eca7ea73c52a04266ebacb4130.jpg: 640x640 1 Person, 1 Manhole, 9.5ms\n",
      "image 590/1157 /root/Desktop/workspace/Realtime Obstacle Detector/dataset/test/images/MPKEZ6014ZXL_jpg.rf.61eaeef80c088696e399278d70ef8d8b.jpg: 640x640 1 Manhole, 9.6ms\n",
      "image 591/1157 /root/Desktop/workspace/Realtime Obstacle Detector/dataset/test/images/MWVLC711AL1I_jpg.rf.950afdf7ba4a174d19b7eded8d7c458f.jpg: 640x640 1 Manhole, 9.8ms\n",
      "image 592/1157 /root/Desktop/workspace/Realtime Obstacle Detector/dataset/test/images/N21Y09TBTO56_jpg.rf.d4049f1017558dacd60834bb3956064c.jpg: 640x640 1 Manhole, 9.8ms\n",
      "image 593/1157 /root/Desktop/workspace/Realtime Obstacle Detector/dataset/test/images/N5CQ40HIJUFJ_jpg.rf.a813c6fea5f8a9c37d26c7f9f36d0b10.jpg: 640x640 1 Manhole, 9.5ms\n",
      "image 594/1157 /root/Desktop/workspace/Realtime Obstacle Detector/dataset/test/images/N7VFPLWBFG0Y_jpg.rf.bcad641c8fbbe2a19a0003da6cb20d83.jpg: 640x640 1 Manhole, 9.5ms\n",
      "image 595/1157 /root/Desktop/workspace/Realtime Obstacle Detector/dataset/test/images/NARROWBRID-23-_jpg.rf.2589c3daf0ce0252eb29b12c5e802066.jpg: 640x640 2 Traffic signs, 1 Guard rail, 9.5ms\n",
      "image 596/1157 /root/Desktop/workspace/Realtime Obstacle Detector/dataset/test/images/NARROWBRID-23-_jpg.rf.478f91f70c822c508dacfb3bed5513e3.jpg: 640x640 1 Traffic sign, 9.5ms\n",
      "image 597/1157 /root/Desktop/workspace/Realtime Obstacle Detector/dataset/test/images/NARROWROADAH-2-_jpg.rf.5a4b5b5fb538350411e0177cb05a1b37.jpg: 640x640 1 Traffic sign, 9.7ms\n",
      "image 598/1157 /root/Desktop/workspace/Realtime Obstacle Detector/dataset/test/images/NATJG595ZAWF_jpg.rf.fb8e62f210a2714ba610e5ddce4646af.jpg: 640x640 1 Manhole, 9.7ms\n",
      "image 599/1157 /root/Desktop/workspace/Realtime Obstacle Detector/dataset/test/images/NC8LXSN40VAE_jpg.rf.41d42f1b5df148fa120694c3be8b011d.jpg: 640x640 1 Manhole, 9.6ms\n",
      "image 600/1157 /root/Desktop/workspace/Realtime Obstacle Detector/dataset/test/images/NDCMHS46KPQJ_jpg.rf.95cf2e9596ad37beed3f81195f10374e.jpg: 640x640 1 Manhole, 9.6ms\n",
      "image 601/1157 /root/Desktop/workspace/Realtime Obstacle Detector/dataset/test/images/NL7P1TK9LKNH_jpg.rf.9dd7f1fc00f27eade6c117e3e0c84594.jpg: 640x640 1 Manhole, 9.5ms\n",
      "image 602/1157 /root/Desktop/workspace/Realtime Obstacle Detector/dataset/test/images/NN56BY3L53GB_jpg.rf.f78f60f7892fc3e2304fd4354540af48.jpg: 640x640 1 Manhole, 9.9ms\n",
      "image 603/1157 /root/Desktop/workspace/Realtime Obstacle Detector/dataset/test/images/NP-15-_jpg.rf.754485de9a599d9aebd461f6c30c6b1d.jpg: 640x640 1 Traffic sign, 9.6ms\n",
      "image 604/1157 /root/Desktop/workspace/Realtime Obstacle Detector/dataset/test/images/NP-17-_jpg.rf.8d486881c5e0c93f7490935f5f871f69.jpg: 640x640 1 Traffic sign, 10.1ms\n",
      "image 605/1157 /root/Desktop/workspace/Realtime Obstacle Detector/dataset/test/images/NP-18-_jpg.rf.9e6f19ae7bc12a5e6936a0b71be89da2.jpg: 640x640 1 Traffic sign, 9.8ms\n",
      "image 606/1157 /root/Desktop/workspace/Realtime Obstacle Detector/dataset/test/images/NP-23-_jpg.rf.b3f62f05cc0c85576d9bf9f40e5f64b8.jpg: 640x640 (no detections), 10.7ms\n",
      "image 607/1157 /root/Desktop/workspace/Realtime Obstacle Detector/dataset/test/images/NP-34-_jpg.rf.6b05d12f83f22359c314a51f98402519.jpg: 640x640 1 Traffic sign, 9.6ms\n",
      "image 608/1157 /root/Desktop/workspace/Realtime Obstacle Detector/dataset/test/images/NP-36-_jpg.rf.427cc06ce5a234df8a0a6c79f1030919.jpg: 640x640 1 Traffic sign, 12.8ms\n",
      "image 609/1157 /root/Desktop/workspace/Realtime Obstacle Detector/dataset/test/images/NP-41-_jpg.rf.a8cda99a7d6587a590232df04cfa5c5a.jpg: 640x640 2 Traffic signs, 9.7ms\n",
      "image 610/1157 /root/Desktop/workspace/Realtime Obstacle Detector/dataset/test/images/NP-42-_jpg.rf.07005f6762dd0ea0d9461106f459be1b.jpg: 640x640 1 Traffic sign, 9.5ms\n",
      "image 611/1157 /root/Desktop/workspace/Realtime Obstacle Detector/dataset/test/images/NP-47-_jpg.rf.df7a7861aa0a5c65ac19217d4cf10b64.jpg: 640x640 1 Traffic sign, 9.5ms\n",
      "image 612/1157 /root/Desktop/workspace/Realtime Obstacle Detector/dataset/test/images/NP-5-_jpg.rf.a692fbe93c44a63331eec47b98aa13f3.jpg: 640x640 1 Traffic sign, 9.7ms\n",
      "image 613/1157 /root/Desktop/workspace/Realtime Obstacle Detector/dataset/test/images/NP-50-_jpg.rf.5c43a30142e1a96d3e55679000bc9168.jpg: 640x640 1 Traffic sign, 9.6ms\n",
      "image 614/1157 /root/Desktop/workspace/Realtime Obstacle Detector/dataset/test/images/NP-51-_jpg.rf.2dfb90da43fd4cac7ef4f88f4d01f728.jpg: 640x640 1 Traffic sign, 1 Tree, 9.9ms\n",
      "image 615/1157 /root/Desktop/workspace/Realtime Obstacle Detector/dataset/test/images/NP-8-_jpg.rf.c8c86ba9d8efa731e796e275df6bed9a.jpg: 640x640 1 Traffic sign, 9.9ms\n",
      "image 616/1157 /root/Desktop/workspace/Realtime Obstacle Detector/dataset/test/images/NQY03J6CXL8M_jpg.rf.c3ebb086e3a5b3714792814119f59285.jpg: 640x640 1 Manhole, 11.6ms\n",
      "image 617/1157 /root/Desktop/workspace/Realtime Obstacle Detector/dataset/test/images/NSB4KEDGEGHX_jpg.rf.ad8f68792aa3a8009e8eb49b29a89690.jpg: 640x640 1 Manhole, 9.8ms\n",
      "image 618/1157 /root/Desktop/workspace/Realtime Obstacle Detector/dataset/test/images/NTSR-6-_jpeg_jpg.rf.26fa89b756289036fa477ad0a37a68da.jpg: 640x640 1 Traffic sign, 1 Guard rail, 1 Bench, 9.6ms\n",
      "image 619/1157 /root/Desktop/workspace/Realtime Obstacle Detector/dataset/test/images/NUA376WL93HD_jpg.rf.9e4ba4320b72962f36f95d0e08529290.jpg: 640x640 1 Manhole, 9.5ms\n",
      "image 620/1157 /root/Desktop/workspace/Realtime Obstacle Detector/dataset/test/images/OIP-C-13-_jpg.rf.885b69c7a60e212c5a2cb92ddf2cf524.jpg: 640x640 1 Manhole, 10.5ms\n",
      "image 621/1157 /root/Desktop/workspace/Realtime Obstacle Detector/dataset/test/images/OIP-C-2-_jpg.rf.0d329c8a691e1e6fdbf576bc0ffbb2a8.jpg: 640x640 1 Manhole, 9.8ms\n",
      "image 622/1157 /root/Desktop/workspace/Realtime Obstacle Detector/dataset/test/images/ONHI0NPOEO7A_jpg.rf.84957aa30133d9892858106977fa4d37.jpg: 640x640 1 Manhole, 10.0ms\n",
      "image 623/1157 /root/Desktop/workspace/Realtime Obstacle Detector/dataset/test/images/OU3MDANBLBPD_jpg.rf.cee2de689b23b0bf66964bbacb6216df.jpg: 640x640 1 Manhole, 9.7ms\n",
      "image 624/1157 /root/Desktop/workspace/Realtime Obstacle Detector/dataset/test/images/OY58IE03J7BA_jpg.rf.6b2a76017afb9d0fba352675f5473df7.jpg: 640x640 1 Manhole, 9.7ms\n",
      "image 625/1157 /root/Desktop/workspace/Realtime Obstacle Detector/dataset/test/images/P1E00E3X91ET_jpg.rf.5519cab5d274f3631f6f8dcd4b43918b.jpg: 640x640 1 Manhole, 9.6ms\n",
      "image 626/1157 /root/Desktop/workspace/Realtime Obstacle Detector/dataset/test/images/P5U6YNHPWZVV_jpg.rf.1991aa474c10dff926a1de78f258402f.jpg: 640x640 1 Person, 1 Manhole, 9.6ms\n",
      "image 627/1157 /root/Desktop/workspace/Realtime Obstacle Detector/dataset/test/images/P8XT9X7RDNRK_jpg.rf.9f6e56511ca76139a0f0cac404853fdc.jpg: 640x640 1 Manhole, 10.0ms\n",
      "image 628/1157 /root/Desktop/workspace/Realtime Obstacle Detector/dataset/test/images/PEDC-11-_png.rf.fce8cebbd5357a305bd733bf7463e1e7.jpg: 640x640 1 Pedestrian crosswalk, 9.9ms\n",
      "image 629/1157 /root/Desktop/workspace/Realtime Obstacle Detector/dataset/test/images/PEDC-15-_png.rf.91fc260df72040cb45d7ca14fc11da10.jpg: 640x640 1 Pedestrian crosswalk, 9.9ms\n",
      "image 630/1157 /root/Desktop/workspace/Realtime Obstacle Detector/dataset/test/images/PEDC-20-_jpg.rf.ddc9d9e7f9f7f1ca89d123b0d7de9e55.jpg: 640x640 1 Pedestrian crosswalk, 10.0ms\n",
      "image 631/1157 /root/Desktop/workspace/Realtime Obstacle Detector/dataset/test/images/PEDC-21-_jpg.rf.ccd6ba89a5c63a63a956f8fc15aaec2d.jpg: 640x640 1 Traffic sign, 1 Pedestrian crosswalk, 9.8ms\n",
      "image 632/1157 /root/Desktop/workspace/Realtime Obstacle Detector/dataset/test/images/PEDC-31-_png.rf.09ae937138c0a7990fae05eacf0a8cb8.jpg: 640x640 1 Pedestrian crosswalk, 9.6ms\n",
      "image 633/1157 /root/Desktop/workspace/Realtime Obstacle Detector/dataset/test/images/PEDC-34-_png.rf.97d77a958c78b73166836ca838f2a0c8.jpg: 640x640 1 Pedestrian crosswalk, 9.6ms\n",
      "image 634/1157 /root/Desktop/workspace/Realtime Obstacle Detector/dataset/test/images/PEDC-42-_png.rf.f532c5d58bd6f965b14a3bdcdc476384.jpg: 640x640 1 Pedestrian crosswalk, 9.5ms\n",
      "image 635/1157 /root/Desktop/workspace/Realtime Obstacle Detector/dataset/test/images/PEDC-45-_png.rf.2544b7ed054544b97a6df8a26c1e728a.jpg: 640x640 1 Pedestrian crosswalk, 9.5ms\n",
      "image 636/1157 /root/Desktop/workspace/Realtime Obstacle Detector/dataset/test/images/PEDC-48-_png.rf.ee32a58240f42bca0c36ddc60034c0f8.jpg: 640x640 1 Pedestrian crosswalk, 9.6ms\n",
      "image 637/1157 /root/Desktop/workspace/Realtime Obstacle Detector/dataset/test/images/PEDC-6-_jpg.rf.a3c1af7df694a81ca06962d4ae35b861.jpg: 640x640 1 Traffic sign, 1 Pedestrian crosswalk, 9.7ms\n",
      "image 638/1157 /root/Desktop/workspace/Realtime Obstacle Detector/dataset/test/images/PEDC-7-_jpg.rf.c93109ae227e6e58fa9e295b31acb822.jpg: 640x640 1 Car, 1 Traffic sign, 1 Tree, 9.7ms\n",
      "image 639/1157 /root/Desktop/workspace/Realtime Obstacle Detector/dataset/test/images/PLC-12-_jpg.rf.4c56b80121da18ae7ae548f7b6ff4c74.jpg: 640x640 2 Traffic signs, 9.7ms\n",
      "image 640/1157 /root/Desktop/workspace/Realtime Obstacle Detector/dataset/test/images/PLSM-32-_jpg.rf.b8717ba478a211aa4d9d91b0bd26e888.jpg: 640x640 4 Traffic signs, 9.7ms\n",
      "image 641/1157 /root/Desktop/workspace/Realtime Obstacle Detector/dataset/test/images/PLSM-47-_jpg.rf.73e1459b407b531f082fef76d4d20dac.jpg: 640x640 1 Traffic sign, 10.0ms\n",
      "image 642/1157 /root/Desktop/workspace/Realtime Obstacle Detector/dataset/test/images/PTS-1-_jpg.rf.badcde2d5bb0881a91f5669910d5d7a2.jpg: 640x640 1 Traffic sign, 9.7ms\n",
      "image 643/1157 /root/Desktop/workspace/Realtime Obstacle Detector/dataset/test/images/PTS-2-_jpg.rf.c2d502bf4728eada1e0119b43cf59507.jpg: 640x640 1 Traffic sign, 1 Tree, 9.5ms\n",
      "image 644/1157 /root/Desktop/workspace/Realtime Obstacle Detector/dataset/test/images/PUYHW3SS4586_jpg.rf.0cafe54c165130de108aa26da732832a.jpg: 640x640 1 Manhole, 9.5ms\n",
      "image 645/1157 /root/Desktop/workspace/Realtime Obstacle Detector/dataset/test/images/PV7LRB7G582T_jpg.rf.a86fd5d991cac37c7936cc5a080bce04.jpg: 640x640 1 Manhole, 9.5ms\n",
      "image 646/1157 /root/Desktop/workspace/Realtime Obstacle Detector/dataset/test/images/Q94JV2KUJPDN_jpg.rf.4043782ad4925741a2c1b6283eb944b1.jpg: 640x640 1 Manhole, 9.6ms\n",
      "image 647/1157 /root/Desktop/workspace/Realtime Obstacle Detector/dataset/test/images/QBAHHCD4A3QT_jpg.rf.f964f4b027b4b15c3286e1b6ceb246b3.jpg: 640x640 1 Manhole, 9.7ms\n",
      "image 648/1157 /root/Desktop/workspace/Realtime Obstacle Detector/dataset/test/images/QE7UQJT6ZB7D_jpg.rf.1349d51762006603475c524a8f9786a9.jpg: 640x640 1 Manhole, 9.6ms\n",
      "image 649/1157 /root/Desktop/workspace/Realtime Obstacle Detector/dataset/test/images/QNFNT0Q484CA_jpg.rf.c4c4490278568c48ec884897a4573f9c.jpg: 640x640 1 Manhole, 9.4ms\n",
      "image 650/1157 /root/Desktop/workspace/Realtime Obstacle Detector/dataset/test/images/QO8BL4KW0IDO_jpg.rf.bbb9b3f5d432c17b2dd0e2392c12d2d7.jpg: 640x640 1 Manhole, 9.7ms\n",
      "image 651/1157 /root/Desktop/workspace/Realtime Obstacle Detector/dataset/test/images/QOMXIBQ8OJG5_jpg.rf.769a853d2c5f70e9b2ec6d2a34f795a7.jpg: 640x640 1 Manhole, 9.9ms\n",
      "image 652/1157 /root/Desktop/workspace/Realtime Obstacle Detector/dataset/test/images/QY4-KqBq_jpg.rf.796db45b55a7ff7283578521fa3d16a4.jpg: 640x640 1 Bus, 9.8ms\n",
      "image 653/1157 /root/Desktop/workspace/Realtime Obstacle Detector/dataset/test/images/QY4aNich_jpg.rf.38a7fb2bc5ccb927baa1ea447edd35f1.jpg: 640x640 2 Buss, 9.6ms\n",
      "image 654/1157 /root/Desktop/workspace/Realtime Obstacle Detector/dataset/test/images/QY4yj8iX-1_jpg.rf.f37cbefa0b4fd900e71fa9541a5bad11.jpg: 640x640 1 Bus, 9.8ms\n",
      "image 655/1157 /root/Desktop/workspace/Realtime Obstacle Detector/dataset/test/images/QYMTWP2L_jpg.rf.49d29b10e2a73be5ac78233c0ef49be2.jpg: 640x640 1 Car, 2 Buss, 9.8ms\n",
      "image 656/1157 /root/Desktop/workspace/Realtime Obstacle Detector/dataset/test/images/QYP3xLAz-2_jpg.rf.859e8fb7181826e2bfb7783195e16814.jpg: 640x640 1 Car, 1 Manhole, 9.9ms\n",
      "image 657/1157 /root/Desktop/workspace/Realtime Obstacle Detector/dataset/test/images/QYPv1TJS-1_jpg.rf.ca950bac29492ba6ac5981c5633de1bd.jpg: 640x640 1 Bus, 9.9ms\n",
      "image 658/1157 /root/Desktop/workspace/Realtime Obstacle Detector/dataset/test/images/QYPvzwoN_jpg.rf.32e13fdae495e7ef56186ccfe89ed948.jpg: 640x640 1 Bus, 13.0ms\n",
      "image 659/1157 /root/Desktop/workspace/Realtime Obstacle Detector/dataset/test/images/QYQrCiSA_jpg.rf.90f29f1b30d00fe3e85b491b111f4f7d.jpg: 640x640 1 Bus, 9.7ms\n",
      "image 660/1157 /root/Desktop/workspace/Realtime Obstacle Detector/dataset/test/images/QYRPZs6x-3_jpg.rf.4268c85945e610033d016541db8bc3b4.jpg: 640x640 1 Truck, 2 Buss, 9.6ms\n",
      "image 661/1157 /root/Desktop/workspace/Realtime Obstacle Detector/dataset/test/images/QYTDmsp8-2_jpg.rf.a2b80be37f69586c49318991796b7940.jpg: 640x640 1 Bus, 9.3ms\n",
      "image 662/1157 /root/Desktop/workspace/Realtime Obstacle Detector/dataset/test/images/QYTDmsp8_jpg.rf.cc48354c9b34498a2e6efdb220afad59.jpg: 640x640 2 Buss, 9.6ms\n",
      "image 663/1157 /root/Desktop/workspace/Realtime Obstacle Detector/dataset/test/images/R-12-_jpg.rf.be9f057c6c13a4178b80d43e5bee2f20.jpg: 640x640 1 Manhole, 9.5ms\n",
      "image 664/1157 /root/Desktop/workspace/Realtime Obstacle Detector/dataset/test/images/R-8-_jpg.rf.e92a8fa846ac8541d3ee922ed7209760.jpg: 640x640 1 Manhole, 9.5ms\n",
      "image 665/1157 /root/Desktop/workspace/Realtime Obstacle Detector/dataset/test/images/R818FVWYDDR6_jpg.rf.457f74ec082285d67d8892eaa31dc710.jpg: 640x640 1 Manhole, 9.8ms\n",
      "image 666/1157 /root/Desktop/workspace/Realtime Obstacle Detector/dataset/test/images/RA7KKLXCLGBO_jpg.rf.3f40bc3a69c76ecb514f4d63556d0379.jpg: 640x640 1 Manhole, 9.7ms\n",
      "image 667/1157 /root/Desktop/workspace/Realtime Obstacle Detector/dataset/test/images/SAM_1113_JPG_jpg.rf.f7f9f9f1fe59f3d2ed59756c77b44601.jpg: 640x640 1 Manhole, 9.8ms\n",
      "image 668/1157 /root/Desktop/workspace/Realtime Obstacle Detector/dataset/test/images/SAM_1280_JPG_jpg.rf.d14d33ca31f6c023732f7f7b7a55d6a4.jpg: 640x640 1 Manhole, 9.4ms\n",
      "image 669/1157 /root/Desktop/workspace/Realtime Obstacle Detector/dataset/test/images/SAM_1346_JPG_jpg.rf.5b2d5d9307448ce44399f24496e5a6d5.jpg: 640x640 1 Manhole, 9.5ms\n",
      "image 670/1157 /root/Desktop/workspace/Realtime Obstacle Detector/dataset/test/images/SAM_1378_JPG_jpg.rf.046a3026ac4873bf21a7412bb316d300.jpg: 640x640 1 Manhole, 9.4ms\n",
      "image 671/1157 /root/Desktop/workspace/Realtime Obstacle Detector/dataset/test/images/SAM_1389_JPG_jpg.rf.2f60c8b0a4c1eb664faca4b711a8c896.jpg: 640x640 1 Manhole, 9.5ms\n",
      "image 672/1157 /root/Desktop/workspace/Realtime Obstacle Detector/dataset/test/images/SAM_1440_JPG_jpg.rf.596891713bfa7020966309284578d410.jpg: 640x640 1 Manhole, 9.7ms\n",
      "image 673/1157 /root/Desktop/workspace/Realtime Obstacle Detector/dataset/test/images/SAM_1461_JPG_jpg.rf.9101b522dd7d872b917db0776ea7741e.jpg: 640x640 1 Manhole, 9.5ms\n",
      "image 674/1157 /root/Desktop/workspace/Realtime Obstacle Detector/dataset/test/images/SAM_1657_JPG_jpg.rf.62f2b2b0931880b74020cfdd00e50653.jpg: 640x640 1 Manhole, 9.7ms\n",
      "image 675/1157 /root/Desktop/workspace/Realtime Obstacle Detector/dataset/test/images/SPEED_LIM-1038-_png.rf.992ebd90cd2e38d4721630a0f38f1aef.jpg: 640x640 1 Traffic sign, 9.6ms\n",
      "image 676/1157 /root/Desktop/workspace/Realtime Obstacle Detector/dataset/test/images/SPEED_LIM-1119-_png.rf.46eaf4c8d32f10759bb3d147c600cba6.jpg: 640x640 1 Traffic sign, 9.3ms\n",
      "image 677/1157 /root/Desktop/workspace/Realtime Obstacle Detector/dataset/test/images/SPEED_LIM-115-_png.rf.9a6c7a4b773eb9ed1558397cb0c87af2.jpg: 640x640 1 Traffic sign, 9.5ms\n",
      "image 678/1157 /root/Desktop/workspace/Realtime Obstacle Detector/dataset/test/images/SPEED_LIM-1161-_png.rf.ef9047bcd01899d9880e5423c2b5d9e6.jpg: 640x640 1 Traffic sign, 9.4ms\n",
      "image 679/1157 /root/Desktop/workspace/Realtime Obstacle Detector/dataset/test/images/SPEED_LIM-22-_png.rf.75e0ef380eded6f69ac482ef46a91e29.jpg: 640x640 1 Traffic sign, 9.4ms\n",
      "image 680/1157 /root/Desktop/workspace/Realtime Obstacle Detector/dataset/test/images/SPEED_LIM-327-_png.rf.96306cff88817397beb43ef5bc73f291.jpg: 640x640 1 Traffic sign, 9.4ms\n",
      "image 681/1157 /root/Desktop/workspace/Realtime Obstacle Detector/dataset/test/images/SPEED_LIM-388-_png.rf.20b94cf6d0a2fcca8e239b54be5cf0c3.jpg: 640x640 1 Traffic sign, 9.5ms\n",
      "image 682/1157 /root/Desktop/workspace/Realtime Obstacle Detector/dataset/test/images/SPEED_LIM-5-_jpg.rf.322b40825419bb0355f33fda3194717c.jpg: 640x640 1 Traffic sign, 9.5ms\n",
      "image 683/1157 /root/Desktop/workspace/Realtime Obstacle Detector/dataset/test/images/SPEED_LIM-737-_png.rf.40a614d3211d0e9707510590e6a57cb1.jpg: 640x640 1 Traffic sign, 9.4ms\n",
      "image 684/1157 /root/Desktop/workspace/Realtime Obstacle Detector/dataset/test/images/SPEED_LIM-799-_png.rf.d97090ebaef0e72b61326e88e29caff9.jpg: 640x640 1 Traffic sign, 9.6ms\n",
      "image 685/1157 /root/Desktop/workspace/Realtime Obstacle Detector/dataset/test/images/SPEED_LIM-836-_png.rf.b676af65b9bc53ab3922ea57e58d6c7d.jpg: 640x640 1 Traffic sign, 9.7ms\n",
      "image 686/1157 /root/Desktop/workspace/Realtime Obstacle Detector/dataset/test/images/STOP-13-_jpg.rf.11a31e65320980074658a8d0b0196028.jpg: 640x640 1 Person, 1 Manhole, 9.6ms\n",
      "image 687/1157 /root/Desktop/workspace/Realtime Obstacle Detector/dataset/test/images/STOP-14-_jpg.rf.e6b2d44cc281b446946b8b3fe8bd420f.jpg: 640x640 3 Persons, 9.6ms\n",
      "image 688/1157 /root/Desktop/workspace/Realtime Obstacle Detector/dataset/test/images/STOP-16-_jpg.rf.5ff9ece8b352918e19c29a052de53771.jpg: 640x640 1 Traffic sign, 9.3ms\n",
      "image 689/1157 /root/Desktop/workspace/Realtime Obstacle Detector/dataset/test/images/STOP-16-_png.rf.d17b5a906ff3f186e8b0382438bee8b0.jpg: 640x640 1 Traffic sign, 9.6ms\n",
      "image 690/1157 /root/Desktop/workspace/Realtime Obstacle Detector/dataset/test/images/STOP-20-_jpg.rf.1943e676b34c04a7f072aab7b134fae0.jpg: 640x640 1 Traffic sign, 9.5ms\n",
      "image 691/1157 /root/Desktop/workspace/Realtime Obstacle Detector/dataset/test/images/STOP-21-_jpg.rf.571e3ef6a17c2bdde0371e243d6720d6.jpg: 640x640 1 Traffic sign, 10.0ms\n",
      "image 692/1157 /root/Desktop/workspace/Realtime Obstacle Detector/dataset/test/images/STOP-21-_png.rf.289dabb3621de41c08a5a7bc21119098.jpg: 640x640 1 Traffic sign, 9.8ms\n",
      "image 693/1157 /root/Desktop/workspace/Realtime Obstacle Detector/dataset/test/images/STOP-28-_png.rf.9fda77ff125ad8ae744d941c15dedf57.jpg: 640x640 1 Traffic sign, 9.9ms\n",
      "image 694/1157 /root/Desktop/workspace/Realtime Obstacle Detector/dataset/test/images/STOP-36-_png.rf.b1983320750bbdb19e0d348660487650.jpg: 640x640 1 Traffic sign, 9.4ms\n",
      "image 695/1157 /root/Desktop/workspace/Realtime Obstacle Detector/dataset/test/images/STOP-46-_png.rf.a0ee5f189d6290f213294426f3907413.jpg: 640x640 1 Traffic sign, 9.4ms\n",
      "image 696/1157 /root/Desktop/workspace/Realtime Obstacle Detector/dataset/test/images/STOP-48-_png.rf.037509633659816bbc6a1d77db49b901.jpg: 640x640 1 Traffic sign, 9.3ms\n",
      "image 697/1157 /root/Desktop/workspace/Realtime Obstacle Detector/dataset/test/images/STOP-50-_png.rf.a40bc14af4f27d5c70c4003f7668921c.jpg: 640x640 1 Traffic sign, 9.4ms\n",
      "image 698/1157 /root/Desktop/workspace/Realtime Obstacle Detector/dataset/test/images/STOP-51-_png.rf.3dccff49999f8554d461ef6a2e55321a.jpg: 640x640 1 Traffic sign, 9.7ms\n",
      "image 699/1157 /root/Desktop/workspace/Realtime Obstacle Detector/dataset/test/images/STOP-65-_png.rf.75ad9e65edd851466be655736c159c46.jpg: 640x640 1 Traffic sign, 9.5ms\n",
      "image 700/1157 /root/Desktop/workspace/Realtime Obstacle Detector/dataset/test/images/STOP-66-_png.rf.2225d3742f5e30acc695722ceb627faf.jpg: 640x640 1 Traffic sign, 9.6ms\n",
      "image 701/1157 /root/Desktop/workspace/Realtime Obstacle Detector/dataset/test/images/STOP-68-_png.rf.5b1f03ba83fbd629c9d27e781d0c3402.jpg: 640x640 1 Traffic sign, 9.6ms\n",
      "image 702/1157 /root/Desktop/workspace/Realtime Obstacle Detector/dataset/test/images/STOP-76-_png.rf.ca0e81acfd3b406f22e94e4179352904.jpg: 640x640 1 Traffic sign, 9.5ms\n",
      "image 703/1157 /root/Desktop/workspace/Realtime Obstacle Detector/dataset/test/images/STOP-80-_png.rf.dbc9f2dc94dd6ff5e115db2ba3041d9f.jpg: 640x640 1 Traffic sign, 9.8ms\n",
      "image 704/1157 /root/Desktop/workspace/Realtime Obstacle Detector/dataset/test/images/STOP-82-_png.rf.db0459217d3fb3cf4897d07fc0f8767a.jpg: 640x640 1 Traffic sign, 9.8ms\n",
      "image 705/1157 /root/Desktop/workspace/Realtime Obstacle Detector/dataset/test/images/STOP-99-_png.rf.150f8d862c900d993e31aa501a96b6d3.jpg: 640x640 1 Traffic sign, 9.8ms\n",
      "image 706/1157 /root/Desktop/workspace/Realtime Obstacle Detector/dataset/test/images/Sepeda-Lipat-Pacific-Noris-Indonesia-16_jpg.rf.e8fe1acdba3f7a7366886c75b4ab149f.jpg: 640x640 1 Bike, 9.8ms\n",
      "image 707/1157 /root/Desktop/workspace/Realtime Obstacle Detector/dataset/test/images/Snipaste_2023-12-28_14-27-28_png_jpg.rf.fdc15bc6d0c17d2d9dda6256984bf8ca.jpg: 640x640 1 Manhole, 9.8ms\n",
      "image 708/1157 /root/Desktop/workspace/Realtime Obstacle Detector/dataset/test/images/Snipaste_2023-12-28_14-30-25_png_jpg.rf.0f698a7090645cdebb6ace4904e56473.jpg: 640x640 1 Manhole, 10.2ms\n",
      "image 709/1157 /root/Desktop/workspace/Realtime Obstacle Detector/dataset/test/images/TRuck--17-_jpg.rf.23bf09e7deac31f7575a253dd692c72d.jpg: 640x640 1 Truck, 9.8ms\n",
      "image 710/1157 /root/Desktop/workspace/Realtime Obstacle Detector/dataset/test/images/TRuck--269-_jpg.rf.318d766a657d6d273e7a3d33f283375a.jpg: 640x640 1 Truck, 9.5ms\n",
      "image 711/1157 /root/Desktop/workspace/Realtime Obstacle Detector/dataset/test/images/TRuck--275-_jpg.rf.a7d904fd92a88e69cd9daf804ee9499b.jpg: 640x640 2 Trucks, 3 Buss, 9.7ms\n",
      "image 712/1157 /root/Desktop/workspace/Realtime Obstacle Detector/dataset/test/images/TRuck--279-_jpg.rf.c6c078982f5e85c91730b123797666ec.jpg: 640x640 2 Trucks, 9.9ms\n",
      "image 713/1157 /root/Desktop/workspace/Realtime Obstacle Detector/dataset/test/images/TRuck--281-_jpg.rf.b25627552639aa2303549b196db3c918.jpg: 640x640 1 Car, 9.6ms\n",
      "image 714/1157 /root/Desktop/workspace/Realtime Obstacle Detector/dataset/test/images/TRuck--285-_jpg.rf.de309272e0fe3ad85da94614b6c058b8.jpg: 640x640 1 Truck, 10.1ms\n",
      "image 715/1157 /root/Desktop/workspace/Realtime Obstacle Detector/dataset/test/images/TRuck--286-_jpg.rf.0f16b0e549def3d69ce367b7d20c775f.jpg: 640x640 1 Truck, 9.8ms\n",
      "image 716/1157 /root/Desktop/workspace/Realtime Obstacle Detector/dataset/test/images/TRuck--36-_jpg.rf.e96686165abc6a8667710e82b66a8bac.jpg: 640x640 1 Truck, 9.6ms\n",
      "image 717/1157 /root/Desktop/workspace/Realtime Obstacle Detector/dataset/test/images/TRuck--453-_jpg.rf.57f7e2d7dc6fd07a7ab023b5fbea888a.jpg: 640x640 1 Truck, 9.6ms\n",
      "image 718/1157 /root/Desktop/workspace/Realtime Obstacle Detector/dataset/test/images/TRuck--455-_jpg.rf.78fdfb45c660cf2c5ccabb6f41efd63c.jpg: 640x640 1 Truck, 9.6ms\n",
      "image 719/1157 /root/Desktop/workspace/Realtime Obstacle Detector/dataset/test/images/TRuck--492-_jpg.rf.0f7999458aa57f46b325d222260747b7.jpg: 640x640 1 Truck, 9.5ms\n",
      "image 720/1157 /root/Desktop/workspace/Realtime Obstacle Detector/dataset/test/images/TRuck--494-_jpg.rf.0981c3731b58cf30ca8ae6f16d184a1e.jpg: 640x640 4 Persons, 1 Truck, 9.4ms\n",
      "image 721/1157 /root/Desktop/workspace/Realtime Obstacle Detector/dataset/test/images/TRuck--497-_jpg.rf.56dc940848a80ffded2d19d2e9e85e7b.jpg: 640x640 1 Truck, 9.3ms\n",
      "image 722/1157 /root/Desktop/workspace/Realtime Obstacle Detector/dataset/test/images/TRuck--505-_jpg.rf.186b25bac2e57d012d07b2af32708107.jpg: 640x640 1 Truck, 9.4ms\n",
      "image 723/1157 /root/Desktop/workspace/Realtime Obstacle Detector/dataset/test/images/UBBWCV79OE4N_jpg.rf.dd7d3da1ddb67799c7655a13150f0ebd.jpg: 640x640 1 Manhole, 9.9ms\n",
      "image 724/1157 /root/Desktop/workspace/Realtime Obstacle Detector/dataset/test/images/UD8IV4W0IDOT_jpg.rf.17b4ce46888636fe91840b1b8cf912d5.jpg: 640x640 1 Manhole, 9.6ms\n",
      "image 725/1157 /root/Desktop/workspace/Realtime Obstacle Detector/dataset/test/images/ULSC84Y4XFJ5_jpg.rf.5e907fe050d9e31f9aeeca259cd2d9b3.jpg: 640x640 1 Manhole, 9.5ms\n",
      "image 726/1157 /root/Desktop/workspace/Realtime Obstacle Detector/dataset/test/images/UXPCYETCC247_jpg.rf.0427047e2be3e8dbee9667edf9137c53.jpg: 640x640 1 Manhole, 9.6ms\n",
      "image 727/1157 /root/Desktop/workspace/Realtime Obstacle Detector/dataset/test/images/UY38I0YCD3AA_jpg.rf.1d96e10beff380d098a7a4a3f57b380f.jpg: 640x640 1 Manhole, 9.6ms\n",
      "image 728/1157 /root/Desktop/workspace/Realtime Obstacle Detector/dataset/test/images/Untitled-design-copy-1_png.rf.ad5d0c8a1320d79c59cf3415196ffa77.jpg: 640x640 4 Persons, 9.5ms\n",
      "image 729/1157 /root/Desktop/workspace/Realtime Obstacle Detector/dataset/test/images/Untitled6_jpeg.rf.503d9991305d9bd9830484a9cf2f26bd.jpg: 640x640 1 Pedestrian crosswalk, 9.5ms\n",
      "image 730/1157 /root/Desktop/workspace/Realtime Obstacle Detector/dataset/test/images/VB41H1U346VL_jpg.rf.976395d4e913347d955fc6b5335ae790.jpg: 640x640 1 Manhole, 10.2ms\n",
      "image 731/1157 /root/Desktop/workspace/Realtime Obstacle Detector/dataset/test/images/VBCAUXTVAPHG_jpg.rf.8a1c1e45b3ec2a93014d57e8dc22f6cd.jpg: 640x640 2 Manholes, 9.7ms\n",
      "image 732/1157 /root/Desktop/workspace/Realtime Obstacle Detector/dataset/test/images/VBN2NZPHEI1V_jpg.rf.9d1e7018a097643e5ad26e2d1b3cbbde.jpg: 640x640 1 Manhole, 9.8ms\n",
      "image 733/1157 /root/Desktop/workspace/Realtime Obstacle Detector/dataset/test/images/VHT4PFL2GWQF_jpg.rf.d42228fa1bd63b428e5931916c8bbf4a.jpg: 640x640 1 Manhole, 9.5ms\n",
      "image 734/1157 /root/Desktop/workspace/Realtime Obstacle Detector/dataset/test/images/VS7XX3J8XIAT_jpg.rf.f2e099cc19016a2be307710ad024dd97.jpg: 640x640 1 Manhole, 9.5ms\n",
      "image 735/1157 /root/Desktop/workspace/Realtime Obstacle Detector/dataset/test/images/VUqmbo8vTT8_jpg.rf.3bfb1a1ce87b1a8344cb159e93a08422.jpg: 640x640 32 Persons, 9.5ms\n",
      "image 736/1157 /root/Desktop/workspace/Realtime Obstacle Detector/dataset/test/images/VZR2NEDD6P6P_jpg.rf.6f3ca9f8da2351dc87a336b2004204bd.jpg: 640x640 1 Manhole, 9.6ms\n",
      "image 737/1157 /root/Desktop/workspace/Realtime Obstacle Detector/dataset/test/images/WJDTZFALR3BX_jpg.rf.24eb808b28002d61d7c901b23b675e54.jpg: 640x640 1 Manhole, 9.5ms\n",
      "image 738/1157 /root/Desktop/workspace/Realtime Obstacle Detector/dataset/test/images/WT807OIY9O41_jpg.rf.f9b202b85967b6bdb02671cbd6a7112c.jpg: 640x640 1 Manhole, 9.4ms\n",
      "image 739/1157 /root/Desktop/workspace/Realtime Obstacle Detector/dataset/test/images/WYCN0AXP2Z3J_jpg.rf.21d966d8ee6f546345d230c81002e95b.jpg: 640x640 1 Manhole, 11.5ms\n",
      "image 740/1157 /root/Desktop/workspace/Realtime Obstacle Detector/dataset/test/images/WYFACK1LN46S_jpg.rf.5d328cb46a88ff4386d6013357566dbf.jpg: 640x640 1 Manhole, 11.5ms\n",
      "image 741/1157 /root/Desktop/workspace/Realtime Obstacle Detector/dataset/test/images/Walk-To-Jog-To-Run-750x460_jpg.rf.5a22aa34c90e3992694222246b02af5e.jpg: 640x640 2 Persons, 10.9ms\n",
      "image 742/1157 /root/Desktop/workspace/Realtime Obstacle Detector/dataset/test/images/X8OB074FY4LE_jpg.rf.ff4403263365e4f0371250d0a34a2c9e.jpg: 640x640 1 Manhole, 11.3ms\n",
      "image 743/1157 /root/Desktop/workspace/Realtime Obstacle Detector/dataset/test/images/XHF9QBMHS3Y4_jpg.rf.b2ae15c3ca502cdf7ed3e528a7d2cc79.jpg: 640x640 1 Manhole, 10.2ms\n",
      "image 744/1157 /root/Desktop/workspace/Realtime Obstacle Detector/dataset/test/images/XK728CXSRDO0_jpg.rf.1d7f4f6e6719af73df839ad9288c76f7.jpg: 640x640 1 Manhole, 9.9ms\n",
      "image 745/1157 /root/Desktop/workspace/Realtime Obstacle Detector/dataset/test/images/XYD4P5FUEPRP_jpg.rf.75c251ca15d617c0dc6fbb6e190399f2.jpg: 640x640 1 Manhole, 12.3ms\n",
      "image 746/1157 /root/Desktop/workspace/Realtime Obstacle Detector/dataset/test/images/Y4RURUMU5H88_jpg.rf.04dafadfda2433c9555b10e821a22175.jpg: 640x640 1 Manhole, 10.2ms\n",
      "image 747/1157 /root/Desktop/workspace/Realtime Obstacle Detector/dataset/test/images/YR4055D0FGT4_jpg.rf.c275d335f038648f84b80726bad6da09.jpg: 640x640 1 Manhole, 10.4ms\n",
      "image 748/1157 /root/Desktop/workspace/Realtime Obstacle Detector/dataset/test/images/YW4Q0JJ4E5MW_jpg.rf.58269ffb3b9576f2658fd3ec11874f80.jpg: 640x640 1 Manhole, 9.4ms\n",
      "image 749/1157 /root/Desktop/workspace/Realtime Obstacle Detector/dataset/test/images/Z3MLD5C7SGOC_jpg.rf.524b19d4ea6bfb35e4c21eb340fdfa86.jpg: 640x640 1 Manhole, 9.4ms\n",
      "image 750/1157 /root/Desktop/workspace/Realtime Obstacle Detector/dataset/test/images/ZBRLB20MIEHE_jpg.rf.9adcb4611fa7931f9bd2a78a5344ecbc.jpg: 640x640 1 Manhole, 9.4ms\n",
      "image 751/1157 /root/Desktop/workspace/Realtime Obstacle Detector/dataset/test/images/ZIBQR9L4BK3C_jpg.rf.4c4bb87f35ca933898b385a2c255a5bc.jpg: 640x640 1 Manhole, 9.5ms\n",
      "image 752/1157 /root/Desktop/workspace/Realtime Obstacle Detector/dataset/test/images/ZR7OAZWPO49X_jpg.rf.6796708ac00e157d2b832d2546029d0f.jpg: 640x640 1 Manhole, 9.8ms\n",
      "image 753/1157 /root/Desktop/workspace/Realtime Obstacle Detector/dataset/test/images/ZXDTHRZ3ANX1_jpg.rf.07dfd5fccfaf1e59b2a0ff847cdb7886.jpg: 640x640 1 Manhole, 9.5ms\n",
      "image 754/1157 /root/Desktop/workspace/Realtime Obstacle Detector/dataset/test/images/a2_059_jpg.rf.b00c074157cd417c24b2bb6a1f0f17a0.jpg: 640x640 1 Stairs, 9.8ms\n",
      "image 755/1157 /root/Desktop/workspace/Realtime Obstacle Detector/dataset/test/images/added_1673017007866899439_png_jpg.rf.e87aef9940b913292166a1619761e70c.jpg: 640x640 1 Guard rail, 9.7ms\n",
      "image 756/1157 /root/Desktop/workspace/Realtime Obstacle Detector/dataset/test/images/alabai-central-asian-shepherd-puppy-standing-portrait-white-wall-young-pretty-puppy-pets-love-concept_155003-24674_jpg.rf.40c9c798643bc50b607e7bfd35f0c124.jpg: 640x640 1 Dog, 9.6ms\n",
      "image 757/1157 /root/Desktop/workspace/Realtime Obstacle Detector/dataset/test/images/aug_1667415778868020675_png_jpg.rf.767c337ab566d97b47a4bd92f6582475.jpg: 640x640 1 Guard rail, 9.9ms\n",
      "image 758/1157 /root/Desktop/workspace/Realtime Obstacle Detector/dataset/test/images/aug_1672325185855804827_png_jpg.rf.95dded9b7d35900cbaa03b534308b000.jpg: 640x640 1 Guard rail, 9.6ms\n",
      "image 759/1157 /root/Desktop/workspace/Realtime Obstacle Detector/dataset/test/images/aug_1673013073150609076_png_jpg.rf.c3eeb2bb05f29a17419a3ca631a56e87.jpg: 640x640 1 Guard rail, 9.6ms\n",
      "image 760/1157 /root/Desktop/workspace/Realtime Obstacle Detector/dataset/test/images/aug_1673015439843560725_png_jpg.rf.50d7ba36dc1fbec3574ad22a39c5cf83.jpg: 640x640 1 Guard rail, 9.4ms\n",
      "image 761/1157 /root/Desktop/workspace/Realtime Obstacle Detector/dataset/test/images/aug_1673015439960517834_png_jpg.rf.82910f1e324667267dd274a2aca0b940.jpg: 640x640 1 Guard rail, 9.5ms\n",
      "image 762/1157 /root/Desktop/workspace/Realtime Obstacle Detector/dataset/test/images/aug_1673017855374039487_png_jpg.rf.0eea36f03588f00de571977280373268.jpg: 640x640 1 Guard rail, 9.4ms\n",
      "image 763/1157 /root/Desktop/workspace/Realtime Obstacle Detector/dataset/test/images/aug_1673018487994028228_png_jpg.rf.b68436336487f1743439a37ab867f9bf.jpg: 640x640 1 Guard rail, 9.4ms\n",
      "image 764/1157 /root/Desktop/workspace/Realtime Obstacle Detector/dataset/test/images/beagle-tricolor-puppy-is-posing_155003-31772_jpg.rf.8c19ad60f856c79f11f10151d5ee608d.jpg: 640x640 1 Dog, 9.5ms\n",
      "image 765/1157 /root/Desktop/workspace/Realtime Obstacle Detector/dataset/test/images/beautiful-female-black-shirt-holding-shopping-cart-white_181624-23908_jpg.rf.562674e3431545374e8bac98113674e6.jpg: 640x640 1 Person, 9.6ms\n",
      "image 766/1157 /root/Desktop/workspace/Realtime Obstacle Detector/dataset/test/images/beautiful-girl-playing-with-her-beloved-dog-park_146671-19639_jpg.rf.053c0bbd14bc8312f6d90f5735d49bb1.jpg: 640x640 1 Person, 1 Dog, 10.0ms\n",
      "image 767/1157 /root/Desktop/workspace/Realtime Obstacle Detector/dataset/test/images/beautiful-pet-portrait-small-dog-cat_23-2149218510_jpg.rf.46022f01f72da6b90fb587a83a13a46b.jpg: 640x640 2 Dogs, 9.6ms\n",
      "image 768/1157 /root/Desktop/workspace/Realtime Obstacle Detector/dataset/test/images/beautiful-pet-portrait-small-dog-cat_23-2149218511_jpg.rf.b3868f515d6d18bdc8ce86e66e57d576.jpg: 640x640 3 Dogs, 9.6ms\n",
      "image 769/1157 /root/Desktop/workspace/Realtime Obstacle Detector/dataset/test/images/beautiful-pet-portrait-small-dog_23-2149218429_jpg.rf.77e9641d2c61be808ab0585829dd88f7.jpg: 640x640 1 Dog, 9.5ms\n",
      "image 770/1157 /root/Desktop/workspace/Realtime Obstacle Detector/dataset/test/images/bf58feca-2954-4ce4-9aed-6d9f825e7b4a_jpg.rf.805f92b3f813c5fa70568dd082e20db8.jpg: 640x640 1 Guard rail, 9.6ms\n",
      "image 771/1157 /root/Desktop/workspace/Realtime Obstacle Detector/dataset/test/images/brisk-walking_jpg.rf.a617d3da65afd6c95861f7854fecc80b.jpg: 640x640 2 Persons, 9.8ms\n",
      "image 772/1157 /root/Desktop/workspace/Realtime Obstacle Detector/dataset/test/images/bus--10-_png_jpg.rf.2f22fe27c86591392ba046bb193b3114.jpg: 640x640 4 Persons, 1 Dustbin, 2 Buss, 9.6ms\n",
      "image 773/1157 /root/Desktop/workspace/Realtime Obstacle Detector/dataset/test/images/bus--107-_jpg.rf.fa2f26ccf7d60977e32e4b5ca417f36c.jpg: 640x640 1 Bus, 9.6ms\n",
      "image 774/1157 /root/Desktop/workspace/Realtime Obstacle Detector/dataset/test/images/bus--108-_jpg.rf.be2230ec8070fcb83ecee1ae27e651bc.jpg: 640x640 4 Buss, 9.5ms\n",
      "image 775/1157 /root/Desktop/workspace/Realtime Obstacle Detector/dataset/test/images/bus--125-_jpg.rf.18447255a56b3c2bc8223a484dc09974.jpg: 640x640 1 Car, 1 Bus, 9.9ms\n",
      "image 776/1157 /root/Desktop/workspace/Realtime Obstacle Detector/dataset/test/images/bus--135-_jpg.rf.fe925de51744bff2bc2ea6238568a227.jpg: 640x640 1 Tree, 1 Bus, 9.5ms\n",
      "image 777/1157 /root/Desktop/workspace/Realtime Obstacle Detector/dataset/test/images/bus--180-_jpg.rf.969c93ca93ee314c0db1715eaec846cd.jpg: 640x640 1 Bus, 9.4ms\n",
      "image 778/1157 /root/Desktop/workspace/Realtime Obstacle Detector/dataset/test/images/bus--183-_jpg.rf.c7d90d681d5408f9b473287fd0b5cea1.jpg: 640x640 2 Buss, 9.3ms\n",
      "image 779/1157 /root/Desktop/workspace/Realtime Obstacle Detector/dataset/test/images/bus--197-_jpg.rf.880ded36444ef29509e9128bdf3997ef.jpg: 640x640 1 Car, 1 Truck, 2 Buss, 9.3ms\n",
      "image 780/1157 /root/Desktop/workspace/Realtime Obstacle Detector/dataset/test/images/bus--199-_jpg.rf.4ed78c98fdd7dadf79ae2beee32ac3fe.jpg: 640x640 3 Buss, 9.3ms\n",
      "image 781/1157 /root/Desktop/workspace/Realtime Obstacle Detector/dataset/test/images/bus--2-_jpg.rf.a9b621f6fa36babf50e1be4cc3938a2e.jpg: 640x640 2 Buss, 9.3ms\n",
      "image 782/1157 /root/Desktop/workspace/Realtime Obstacle Detector/dataset/test/images/bus--206-_jpg.rf.a23ca3d7b7276f0d7d69bffa5cd3aa78.jpg: 640x640 1 Truck, 1 Bus, 9.5ms\n",
      "image 783/1157 /root/Desktop/workspace/Realtime Obstacle Detector/dataset/test/images/bus--209-_jpg.rf.a5e0aead67a3c0bc66f027f4ee71a758.jpg: 640x640 1 Bus, 9.5ms\n",
      "image 784/1157 /root/Desktop/workspace/Realtime Obstacle Detector/dataset/test/images/bus--220-_jpg.rf.fc936032b7768cd500002e06eeca4a5d.jpg: 640x640 1 Bus, 9.5ms\n",
      "image 785/1157 /root/Desktop/workspace/Realtime Obstacle Detector/dataset/test/images/bus--240-_jpg.rf.055f01951388b36fed972eb7524db3c1.jpg: 640x640 1 Car, 1 Bus, 9.5ms\n",
      "image 786/1157 /root/Desktop/workspace/Realtime Obstacle Detector/dataset/test/images/bus--284-_jpg.rf.86e2659f20f4c83315dd9cfc06d6432a.jpg: 640x640 1 Bus, 9.7ms\n",
      "image 787/1157 /root/Desktop/workspace/Realtime Obstacle Detector/dataset/test/images/bus--3-_jpeg_jpg.rf.a385ec3ea4859f5de8f350cb0c33d4d7.jpg: 640x640 1 Bus, 9.7ms\n",
      "image 788/1157 /root/Desktop/workspace/Realtime Obstacle Detector/dataset/test/images/bus--48-_jpg.rf.35860b4c84e2e5b91d4cba7c68ac3955.jpg: 640x640 1 Bus, 9.6ms\n",
      "image 789/1157 /root/Desktop/workspace/Realtime Obstacle Detector/dataset/test/images/bus--7-_jpg.rf.c3e5b45e0722734df60912108206ffc7.jpg: 640x640 2 Buss, 9.5ms\n",
      "image 790/1157 /root/Desktop/workspace/Realtime Obstacle Detector/dataset/test/images/can-t-touch-invisible-american-spaniel-puppy-cute-groomed-fluffy-doggy-pet-is-playing-isolated-gray-background-studio-photoshot-negative-space-insert-your-text-image_155003-33877_jpg.rf.4bab1893c597e0a82750ad1d38880ff8.jpg: 640x640 1 Dog, 9.6ms\n",
      "image 791/1157 /root/Desktop/workspace/Realtime Obstacle Detector/dataset/test/images/casual-girl-carrying-backpack-posing-studio-background-having-travel-bags-journey-full-body-young-adult-standing-greenscreen-backdrop-leisure-activity-camera_482257-62436_jpg.rf.f05d1702d15a3c80fc554e722cc57211.jpg: 640x640 4 Persons, 9.6ms\n",
      "image 792/1157 /root/Desktop/workspace/Realtime Obstacle Detector/dataset/test/images/cheerful-female-model-discusses-awesome-news-with-close-friend-holds-smartphone-near-ear-looks-right-joyfully_273609-27309_jpg.rf.1624662bea30cce186f64e10ff5b5aa0.jpg: 640x640 1 Person, 9.4ms\n",
      "image 793/1157 /root/Desktop/workspace/Realtime Obstacle Detector/dataset/test/images/chew-valley-10k-leaders-2023-664911_jpg.rf.6a1870e697fb1b18dbc0a858374d0104.jpg: 640x640 5 Persons, 9.6ms\n",
      "image 794/1157 /root/Desktop/workspace/Realtime Obstacle Detector/dataset/test/images/cute-brown-dog-pet-shop_23-2148872594_jpg.rf.3196857305dd87a7e32d72cfee3e9332.jpg: 640x640 1 Dog, 9.6ms\n",
      "image 795/1157 /root/Desktop/workspace/Realtime Obstacle Detector/dataset/test/images/cute-dog-portrait-studio_23-2149016938_jpg.rf.a4c1bf289ed60fc000064a039a765019.jpg: 640x640 1 Dog, 9.5ms\n",
      "image 796/1157 /root/Desktop/workspace/Realtime Obstacle Detector/dataset/test/images/cute-pug-laying-down-couch-home_231208-7820_jpg.rf.baafa3382616ac8662ea1beaee5416fd.jpg: 640x640 1 Dog, 9.6ms\n",
      "image 797/1157 /root/Desktop/workspace/Realtime Obstacle Detector/dataset/test/images/cute-puppy-maltipoo-dog-posing-isolated-white-background_155003-46004_jpg.rf.74f3f6ee967869414c89df64bdc77956.jpg: 640x640 1 Dog, 9.6ms\n",
      "image 798/1157 /root/Desktop/workspace/Realtime Obstacle Detector/dataset/test/images/cute-purebred-dogs-studio_23-2149016880_jpg.rf.d4e5205b8835aa323f15201cd6bf296f.jpg: 640x640 2 Dogs, 9.6ms\n",
      "image 799/1157 /root/Desktop/workspace/Realtime Obstacle Detector/dataset/test/images/dance-with-extraction-welsh-corgi-pembroke-puppy-motion-cute-fluffy-doggy-pet-is-playing-isolated-white-background-studio-photoshot-negative-space-insert-your-text-image_155003-34631_jpg.rf.1cea4d15eb3d0fddd05e3551d296f7f1.jpg: 640x640 1 Dog, 9.6ms\n",
      "image 800/1157 /root/Desktop/workspace/Realtime Obstacle Detector/dataset/test/images/dc73eb32ed41167_jpeg_jpg.rf.30ea96e31e33f83a2449112504b37b3a.jpg: 640x640 1 Person, 2 Manholes, 9.6ms\n",
      "image 801/1157 /root/Desktop/workspace/Realtime Obstacle Detector/dataset/test/images/delivery-concept-handsome-african-american-delivery-man-isolated-grey-studio-background-copy-space_1258-1275_jpg.rf.0f9b39167c16767d309e13a113da840d.jpg: 640x640 1 Person, 9.4ms\n",
      "image 802/1157 /root/Desktop/workspace/Realtime Obstacle Detector/dataset/test/images/doberman-pinscher-funny-emotional-dog-studio_155003-28804_jpg.rf.1f226507bf03cdc6696ac154237faa49.jpg: 640x640 1 Dog, 9.9ms\n",
      "image 803/1157 /root/Desktop/workspace/Realtime Obstacle Detector/dataset/test/images/dustbin_000135_jpg.rf.185bc005716434c83f0caef7a983ab2a.jpg: 640x640 3 Dustbins, 10.5ms\n",
      "image 804/1157 /root/Desktop/workspace/Realtime Obstacle Detector/dataset/test/images/elm10_webp.rf.880e0be0bdba840eafe3970875b59fcc.jpg: 640x640 1 Tree, 10.1ms\n",
      "image 805/1157 /root/Desktop/workspace/Realtime Obstacle Detector/dataset/test/images/elm2_jpeg.rf.dce54dcbb37a7de70c18e0fbf8476d6b.jpg: 640x640 1 Tree, 9.8ms\n",
      "image 806/1157 /root/Desktop/workspace/Realtime Obstacle Detector/dataset/test/images/forklift-in-warehouse_jpg.rf.5bd84a2c5fbd9b79da8c704a3a4d16e5.jpg: 640x640 1 Person, 9.4ms\n",
      "image 807/1157 /root/Desktop/workspace/Realtime Obstacle Detector/dataset/test/images/front-view-woman-shopping-with-face-mask_23-2149729510_jpg.rf.afa7a47664bd4abd02a934c8d7ee5eb8.jpg: 640x640 1 Person, 10.2ms\n",
      "image 808/1157 /root/Desktop/workspace/Realtime Obstacle Detector/dataset/test/images/full-length-portrait-happy-man-running_171337-2332_jpg.rf.bf14fa94feca99f921c9473a0a36110c.jpg: 640x640 1 Person, 10.3ms\n",
      "image 809/1157 /root/Desktop/workspace/Realtime Obstacle Detector/dataset/test/images/gYeLeLTy_jpg.rf.ed715beca5bb6c3a2f8f5609607a57dd.jpg: 640x640 2 Cars, 9.9ms\n",
      "image 810/1157 /root/Desktop/workspace/Realtime Obstacle Detector/dataset/test/images/gYezHGLN-2_jpg.rf.c3c4de29db7731014ab6961e87d70439.jpg: 640x640 (no detections), 10.2ms\n",
      "image 811/1157 /root/Desktop/workspace/Realtime Obstacle Detector/dataset/test/images/gYf_-c3o_jpg.rf.94cbe973beeffcf2f64a553c603d7c5b.jpg: 640x640 1 Truck, 10.3ms\n",
      "image 812/1157 /root/Desktop/workspace/Realtime Obstacle Detector/dataset/test/images/gYfr5sEi_jpg.rf.31e3c009ef0cd25e2b0179c240459541.jpg: 640x640 1 Truck, 9.9ms\n",
      "image 813/1157 /root/Desktop/workspace/Realtime Obstacle Detector/dataset/test/images/gYg3CjVg-5_jpg.rf.92c36caf9859396e9673a218252eef9f.jpg: 640x640 4 Cars, 9.3ms\n",
      "image 814/1157 /root/Desktop/workspace/Realtime Obstacle Detector/dataset/test/images/gYgvPPvG-3_jpg.rf.8a1d2c6b69fe6e081eeea6e8612a65cc.jpg: 640x640 1 Car, 9.7ms\n",
      "image 815/1157 /root/Desktop/workspace/Realtime Obstacle Detector/dataset/test/images/gYhPBMpN-4_jpg.rf.343605a9dd3d2cb1826ff537e489c77b.jpg: 640x640 1 Car, 9.8ms\n",
      "image 816/1157 /root/Desktop/workspace/Realtime Obstacle Detector/dataset/test/images/gYhfj_-g_jpg.rf.a02a5bce702a605b5b9f372d91a9f319.jpg: 640x640 1 Car, 9.8ms\n",
      "image 817/1157 /root/Desktop/workspace/Realtime Obstacle Detector/dataset/test/images/gYhzRDYs_jpg.rf.b574d45ea28e79bd65281b504aa423c5.jpg: 640x640 1 Car, 9.7ms\n",
      "image 818/1157 /root/Desktop/workspace/Realtime Obstacle Detector/dataset/test/images/guard174_jpg.rf.5fab536fabfda27fffe9c0a4a5f44135.jpg: 640x640 1 Guard rail, 1 Pedestrian crosswalk, 9.6ms\n",
      "image 819/1157 /root/Desktop/workspace/Realtime Obstacle Detector/dataset/test/images/guard57_jpg.rf.f21532744bf3b84abe66368a02998a2b.jpg: 640x640 1 Guard rail, 9.7ms\n",
      "image 820/1157 /root/Desktop/workspace/Realtime Obstacle Detector/dataset/test/images/guard68_jpg.rf.46eb95e3f47885702d31119a4e0d6860.jpg: 640x640 2 Guard rails, 9.9ms\n",
      "image 821/1157 /root/Desktop/workspace/Realtime Obstacle Detector/dataset/test/images/handsome-bearded-stylish-man-walking-isolated-dressed-sweatshirt-with-travel-bag-wearing-jeans-sunglasses_285396-4294_jpg.rf.eebd755a3d48562a169a424abfe3163e.jpg: 640x640 1 Person, 10.0ms\n",
      "image 822/1157 /root/Desktop/workspace/Realtime Obstacle Detector/dataset/test/images/hb0dkg0ye9uvoepeyioe_jpg.rf.75e4dd5662a0e28979ad3d79ccc5f9f4.jpg: 640x640 6 Persons, 10.3ms\n",
      "image 823/1157 /root/Desktop/workspace/Realtime Obstacle Detector/dataset/test/images/hipster-style-bearded-man-black-shirt-studio-white-background_158595-1822_jpg.rf.ce1fd56aa7ab93aa1862b8e4f08e4ca1.jpg: 640x640 1 Person, 9.7ms\n",
      "image 824/1157 /root/Desktop/workspace/Realtime Obstacle Detector/dataset/test/images/husky-relaxing-couch_23-2148115495_jpg.rf.d209c2e015b9ed95d34ed4750fced130.jpg: 640x640 1 Dog, 9.9ms\n",
      "image 825/1157 /root/Desktop/workspace/Realtime Obstacle Detector/dataset/test/images/iStock_72902643_wide_jpg.rf.9bf078cdce0d50c4eedd362199e5df00.jpg: 640x640 4 Persons, 9.8ms\n",
      "image 826/1157 /root/Desktop/workspace/Realtime Obstacle Detector/dataset/test/images/ilustrasi-jogging_169_jpeg.rf.2b4d066310b19d0e77e4d37ecc9d4623.jpg: 640x640 2 Persons, 10.1ms\n",
      "image 827/1157 /root/Desktop/workspace/Realtime Obstacle Detector/dataset/test/images/image--1-_jpeg.rf.bc07109cc96085b4fd26a4d30a6d86c3.jpg: 640x640 1 Bike, 9.4ms\n",
      "image 828/1157 /root/Desktop/workspace/Realtime Obstacle Detector/dataset/test/images/image--11-_jpeg.rf.d2b56bcb9f68cc3e29476ba0e6d764a7.jpg: 640x640 1 Bike, 9.5ms\n",
      "image 829/1157 /root/Desktop/workspace/Realtime Obstacle Detector/dataset/test/images/image--8-_jpeg.rf.a2f6db1bc81f422e7d24c66e4c1102fc.jpg: 640x640 1 Bike, 9.6ms\n",
      "image 830/1157 /root/Desktop/workspace/Realtime Obstacle Detector/dataset/test/images/image104.rf.2cbf3bb21e3d852f4340b38dc7116f2d.jpg: 640x640 1 Person, 2 Electrical Poles, 9.8ms\n",
      "image 831/1157 /root/Desktop/workspace/Realtime Obstacle Detector/dataset/test/images/image117_jpg.rf.e179464690e72861c76a471ce22e4af6.jpg: 640x640 1 Electrical Pole, 9.7ms\n",
      "image 832/1157 /root/Desktop/workspace/Realtime Obstacle Detector/dataset/test/images/image119_jpg.rf.b8cbf4485f237ac6b75ebac2cdbd7e4a.jpg: 640x640 1 Electrical Pole, 9.6ms\n",
      "image 833/1157 /root/Desktop/workspace/Realtime Obstacle Detector/dataset/test/images/image121.rf.92341878faceedbe1dbc24061490638f.jpg: 640x640 1 Electrical Pole, 11.6ms\n",
      "image 834/1157 /root/Desktop/workspace/Realtime Obstacle Detector/dataset/test/images/image18_jpg.rf.e3ac7e00258e88b12e49e9ca8b517d00.jpg: 640x640 1 Electrical Pole, 9.9ms\n",
      "image 835/1157 /root/Desktop/workspace/Realtime Obstacle Detector/dataset/test/images/image25_jpg.rf.b7532ad95c7989147ba5644620474b22.jpg: 640x640 1 Electrical Pole, 10.1ms\n",
      "image 836/1157 /root/Desktop/workspace/Realtime Obstacle Detector/dataset/test/images/image29_jpg.rf.68c59eea2e04e446487dd4e1693d3f8c.jpg: 640x640 1 Person, 1 Electrical Pole, 9.5ms\n",
      "image 837/1157 /root/Desktop/workspace/Realtime Obstacle Detector/dataset/test/images/image2_jpg.rf.11aba161f6ae817ce99726a52f1c142a.jpg: 640x640 1 Car, 1 Electrical Pole, 9.8ms\n",
      "image 838/1157 /root/Desktop/workspace/Realtime Obstacle Detector/dataset/test/images/image30.rf.8495f96f3ce367394ca78be46f4f596c.jpg: 640x640 1 Electrical Pole, 10.3ms\n",
      "image 839/1157 /root/Desktop/workspace/Realtime Obstacle Detector/dataset/test/images/image34.rf.67ca041af169f7abb46fce912d546d22.jpg: 640x640 1 Electrical Pole, 9.6ms\n",
      "image 840/1157 /root/Desktop/workspace/Realtime Obstacle Detector/dataset/test/images/image36_jpg.rf.421214ec8c4875425652fe07793c1fb0.jpg: 640x640 3 Cars, 1 Electrical Pole, 9.6ms\n",
      "image 841/1157 /root/Desktop/workspace/Realtime Obstacle Detector/dataset/test/images/image3_jpg.rf.cb98837ef613beb2ac4801564d4aa5fe.jpg: 640x640 2 Electrical Poles, 9.7ms\n",
      "image 842/1157 /root/Desktop/workspace/Realtime Obstacle Detector/dataset/test/images/image40_jpg.rf.e1e2abe80694432a1cb033e2db11d03e.jpg: 640x640 1 Electrical Pole, 9.4ms\n",
      "image 843/1157 /root/Desktop/workspace/Realtime Obstacle Detector/dataset/test/images/image41.rf.b9985e58e8df433b3141aec237db89a8.jpg: 640x640 1 Electrical Pole, 9.4ms\n",
      "image 844/1157 /root/Desktop/workspace/Realtime Obstacle Detector/dataset/test/images/image47.rf.7e6b83abf1d7223da617803bdfff4135.jpg: 640x640 1 Electrical Pole, 9.5ms\n",
      "image 845/1157 /root/Desktop/workspace/Realtime Obstacle Detector/dataset/test/images/image53.rf.e7a826ff4f3028b03d0662c694def8df.jpg: 640x640 2 Electrical Poles, 9.6ms\n",
      "image 846/1157 /root/Desktop/workspace/Realtime Obstacle Detector/dataset/test/images/image55.rf.feb82d51a72bb41c08ac495587775b40.jpg: 640x640 1 Electrical Pole, 10.1ms\n",
      "image 847/1157 /root/Desktop/workspace/Realtime Obstacle Detector/dataset/test/images/image61_jpg.rf.a640ae74f5e1864ad4721521b79663af.jpg: 640x640 1 Electrical Pole, 9.8ms\n",
      "image 848/1157 /root/Desktop/workspace/Realtime Obstacle Detector/dataset/test/images/image64_jpg.rf.8d310abae8a14c7f38c168c9cd9b6b69.jpg: 640x640 2 Electrical Poles, 9.8ms\n",
      "image 849/1157 /root/Desktop/workspace/Realtime Obstacle Detector/dataset/test/images/image65.rf.9d9e46b9efb05ca5920fd7e24924d20b.jpg: 640x640 1 Electrical Pole, 10.0ms\n",
      "image 850/1157 /root/Desktop/workspace/Realtime Obstacle Detector/dataset/test/images/image66_jpg.rf.987acf4aeef5dc0aa2d821e1d8f3961e.jpg: 640x640 1 Electrical Pole, 9.6ms\n",
      "image 851/1157 /root/Desktop/workspace/Realtime Obstacle Detector/dataset/test/images/image71_jpg.rf.a75ac3e4285fa522b1d656d2b901ea85.jpg: 640x640 1 Electrical Pole, 9.8ms\n",
      "image 852/1157 /root/Desktop/workspace/Realtime Obstacle Detector/dataset/test/images/image72_jpg.rf.aae009a5c2723c908155eea76f6ed593.jpg: 640x640 1 Car, 1 Electrical Pole, 9.8ms\n",
      "image 853/1157 /root/Desktop/workspace/Realtime Obstacle Detector/dataset/test/images/image85_jpg.rf.19337ba0e8f597de03142a2027dad6db.jpg: 640x640 1 Person, 1 Electrical Pole, 9.6ms\n",
      "image 854/1157 /root/Desktop/workspace/Realtime Obstacle Detector/dataset/test/images/image_0007_jpg.rf.681852c492a7ca8f9652acd0c64b8424.jpg: 640x640 1 Building, 10.0ms\n",
      "image 855/1157 /root/Desktop/workspace/Realtime Obstacle Detector/dataset/test/images/image_0051_jpg.rf.109e690469ee98cfbbcda661e45018ac.jpg: 640x640 1 Building, 9.7ms\n",
      "image 856/1157 /root/Desktop/workspace/Realtime Obstacle Detector/dataset/test/images/image_0068_jpg.rf.271e28b4fa3a38d86c8496236cc46060.jpg: 640x640 1 Building, 9.4ms\n",
      "image 857/1157 /root/Desktop/workspace/Realtime Obstacle Detector/dataset/test/images/image_0069_jpg.rf.40d80ffb6d99e44a1ff806a5faef81bd.jpg: 640x640 1 Building, 9.7ms\n",
      "image 858/1157 /root/Desktop/workspace/Realtime Obstacle Detector/dataset/test/images/image_0071_jpg.rf.33d82c3594c0ea5ac69c215c7f1e5721.jpg: 640x640 1 Building, 9.9ms\n",
      "image 859/1157 /root/Desktop/workspace/Realtime Obstacle Detector/dataset/test/images/image_0093_jpg.rf.38647741d7aa57d5ac84839420986659.jpg: 640x640 1 Building, 10.0ms\n",
      "image 860/1157 /root/Desktop/workspace/Realtime Obstacle Detector/dataset/test/images/image_0104_jpg.rf.6ec716df3af31675f8ee19e55bea142a.jpg: 640x640 1 Building, 10.2ms\n",
      "image 861/1157 /root/Desktop/workspace/Realtime Obstacle Detector/dataset/test/images/image_0157_jpg.rf.95f486bfaffee892d3b083e919bfdef2.jpg: 640x640 1 Building, 10.1ms\n",
      "image 862/1157 /root/Desktop/workspace/Realtime Obstacle Detector/dataset/test/images/image_0222_jpg.rf.0e1acf783bd5229b0a1c34a5dc5c294f.jpg: 640x640 1 Building, 10.3ms\n",
      "image 863/1157 /root/Desktop/workspace/Realtime Obstacle Detector/dataset/test/images/image_0249_jpg.rf.6083f1cace2a5ef90ea5377211ff83a6.jpg: 640x640 1 Building, 13.0ms\n",
      "image 864/1157 /root/Desktop/workspace/Realtime Obstacle Detector/dataset/test/images/image_0259_jpg.rf.2f1d49e166ffd1bbb2d436fc955c6fc8.jpg: 640x640 1 Building, 12.2ms\n",
      "image 865/1157 /root/Desktop/workspace/Realtime Obstacle Detector/dataset/test/images/image_0280_jpg.rf.f3e59632b99e98af9b52d0c61adba253.jpg: 640x640 1 Building, 12.3ms\n",
      "image 866/1157 /root/Desktop/workspace/Realtime Obstacle Detector/dataset/test/images/image_0286_jpg.rf.8d255a2e0ecea9eb332d10e4c2ae6cb4.jpg: 640x640 1 Building, 12.3ms\n",
      "image 867/1157 /root/Desktop/workspace/Realtime Obstacle Detector/dataset/test/images/image_0340_jpg.rf.7108865ee509e9e0aad0af32aeab29d3.jpg: 640x640 1 Building, 12.3ms\n",
      "image 868/1157 /root/Desktop/workspace/Realtime Obstacle Detector/dataset/test/images/image_0386_jpg.rf.f05bac8480b6fd7c71091accfd1bd3bf.jpg: 640x640 1 Building, 12.2ms\n",
      "image 869/1157 /root/Desktop/workspace/Realtime Obstacle Detector/dataset/test/images/image_0388_jpg.rf.69452fda887af1c9a72501ae896a4448.jpg: 640x640 1 Building, 12.2ms\n",
      "image 870/1157 /root/Desktop/workspace/Realtime Obstacle Detector/dataset/test/images/image_0399_jpg.rf.d8195fdcc37d7c8177902e84dd771d2d.jpg: 640x640 1 Building, 12.4ms\n",
      "image 871/1157 /root/Desktop/workspace/Realtime Obstacle Detector/dataset/test/images/image_0499_jpg.rf.c588c9664941ece5392afa2488e490d6.jpg: 640x640 1 Building, 9.3ms\n",
      "image 872/1157 /root/Desktop/workspace/Realtime Obstacle Detector/dataset/test/images/image_0543_jpg.rf.b55a754ac194a4cab8056864628731dd.jpg: 640x640 1 Building, 9.4ms\n",
      "image 873/1157 /root/Desktop/workspace/Realtime Obstacle Detector/dataset/test/images/image_0544_jpg.rf.f52f424c47dac642d3dac53305f110ac.jpg: 640x640 1 Building, 9.8ms\n",
      "image 874/1157 /root/Desktop/workspace/Realtime Obstacle Detector/dataset/test/images/image_0548_jpg.rf.bf11e748507862adfadd4d3a2bc8da0b.jpg: 640x640 1 Building, 9.4ms\n",
      "image 875/1157 /root/Desktop/workspace/Realtime Obstacle Detector/dataset/test/images/image_0556_jpg.rf.c9844dd3e78309c5d76f3bd3938fa518.jpg: 640x640 1 Building, 9.3ms\n",
      "image 876/1157 /root/Desktop/workspace/Realtime Obstacle Detector/dataset/test/images/image_0573_jpg.rf.16785b35fab17d38efd67b75a3ef4cc7.jpg: 640x640 2 Buildings, 9.4ms\n",
      "image 877/1157 /root/Desktop/workspace/Realtime Obstacle Detector/dataset/test/images/image_0682_jpg.rf.f345113dd0f8214a7dbf315dfd83fcfd.jpg: 640x640 1 Building, 9.5ms\n",
      "image 878/1157 /root/Desktop/workspace/Realtime Obstacle Detector/dataset/test/images/image_0701_jpg.rf.917c784f999969edd6381548ca02ad16.jpg: 640x640 1 Building, 9.2ms\n",
      "image 879/1157 /root/Desktop/workspace/Realtime Obstacle Detector/dataset/test/images/image_0705_jpg.rf.d67c5d3ef97f5b38d72a8d3de221e8be.jpg: 640x640 1 Building, 9.2ms\n",
      "image 880/1157 /root/Desktop/workspace/Realtime Obstacle Detector/dataset/test/images/image_0722_jpg.rf.da72a855f95ee6de1d6f3932ac3890b4.jpg: 640x640 1 Building, 9.2ms\n",
      "image 881/1157 /root/Desktop/workspace/Realtime Obstacle Detector/dataset/test/images/image_0724_jpg.rf.aa47864be34ba0919bf5329b1bcf2196.jpg: 640x640 1 Building, 9.3ms\n",
      "image 882/1157 /root/Desktop/workspace/Realtime Obstacle Detector/dataset/test/images/image_0734_jpg.rf.85322a8210269e4bb0b1578156332805.jpg: 640x640 1 Building, 9.6ms\n",
      "image 883/1157 /root/Desktop/workspace/Realtime Obstacle Detector/dataset/test/images/image_0747_jpg.rf.f490e1efa6e75dbf9114ab7c4161558b.jpg: 640x640 1 Building, 9.3ms\n",
      "image 884/1157 /root/Desktop/workspace/Realtime Obstacle Detector/dataset/test/images/image_0750_jpg.rf.1fd48a1ec7c68bc42550c373dbd05890.jpg: 640x640 1 Building, 9.4ms\n",
      "image 885/1157 /root/Desktop/workspace/Realtime Obstacle Detector/dataset/test/images/image_0907_jpg.rf.6c82cdec5f1ff7eecb943e1ce55c73e3.jpg: 640x640 1 Building, 9.4ms\n",
      "image 886/1157 /root/Desktop/workspace/Realtime Obstacle Detector/dataset/test/images/image_0940_jpg.rf.6eb68f735030211b0ef7bec645f0aaca.jpg: 640x640 1 Building, 11.0ms\n",
      "image 887/1157 /root/Desktop/workspace/Realtime Obstacle Detector/dataset/test/images/image_0955_jpg.rf.d2c4cbd3ca934f394c58ad521f84ec20.jpg: 640x640 1 Building, 1 Dustbin, 9.5ms\n",
      "image 888/1157 /root/Desktop/workspace/Realtime Obstacle Detector/dataset/test/images/image_0958_jpg.rf.287869713f2cb6fbd494b2fba1c98bcb.jpg: 640x640 1 Building, 1 Tree, 9.4ms\n",
      "image 889/1157 /root/Desktop/workspace/Realtime Obstacle Detector/dataset/test/images/image_0991_jpg.rf.6873315e232bb87ba6edbaa53681fa3e.jpg: 640x640 2 Buildings, 9.4ms\n",
      "image 890/1157 /root/Desktop/workspace/Realtime Obstacle Detector/dataset/test/images/images--32-_jpeg.rf.d064b5f5577f53804db76745804e2b60.jpg: 640x640 1 Bike, 9.4ms\n",
      "image 891/1157 /root/Desktop/workspace/Realtime Obstacle Detector/dataset/test/images/images--34-_jpeg.rf.8f1fff621ed57bf1aa7e6aca04aa8ff5.jpg: 640x640 1 Bike, 9.3ms\n",
      "image 892/1157 /root/Desktop/workspace/Realtime Obstacle Detector/dataset/test/images/images--5-_jpeg.rf.5de93bdcd8dbdea1e29a845ad2157ab2.jpg: 640x640 1 Bike, 9.3ms\n",
      "image 893/1157 /root/Desktop/workspace/Realtime Obstacle Detector/dataset/test/images/images--6-_jpeg.rf.2b4f16512ba6676b4f43d1b000e1b499.jpg: 640x640 1 Bike, 9.2ms\n",
      "image 894/1157 /root/Desktop/workspace/Realtime Obstacle Detector/dataset/test/images/images--9-_jpeg.rf.747880afd1f69ba09a4f0cbe945d7234.jpg: 640x640 1 Bike, 9.1ms\n",
      "image 895/1157 /root/Desktop/workspace/Realtime Obstacle Detector/dataset/test/images/images-10-_jpeg.rf.46935b98d4ba4ea6fc2bf94c0f20a45a.jpg: 640x640 3 Persons, 9.4ms\n",
      "image 896/1157 /root/Desktop/workspace/Realtime Obstacle Detector/dataset/test/images/images-10-_jpg.rf.cec9942eb3cf40009824b07c03f786f4.jpg: 640x640 1 Manhole, 9.6ms\n",
      "image 897/1157 /root/Desktop/workspace/Realtime Obstacle Detector/dataset/test/images/images-11-_jpg.rf.1257bd8d34125e3e87fc3516c47254e4.jpg: 640x640 1 Manhole, 10.6ms\n",
      "image 898/1157 /root/Desktop/workspace/Realtime Obstacle Detector/dataset/test/images/images-13-_jpg.rf.5e1ff3ba8427ab047156ef4295e3bcf7.jpg: 640x640 1 Manhole, 9.4ms\n",
      "image 899/1157 /root/Desktop/workspace/Realtime Obstacle Detector/dataset/test/images/images-17-_jpg.rf.b2691cdebb3a7d89c01f24f1d0f1af40.jpg: 640x640 1 Guard rail, 9.6ms\n",
      "image 900/1157 /root/Desktop/workspace/Realtime Obstacle Detector/dataset/test/images/images-23-_jpg.rf.1c43860fdead1ce2dd4dd33808be6b9f.jpg: 640x640 1 Person, 9.2ms\n",
      "image 901/1157 /root/Desktop/workspace/Realtime Obstacle Detector/dataset/test/images/images-3-_jpg.rf.cd4686c04932ff2bddd8b806ab23fc00.jpg: 640x640 1 Manhole, 9.4ms\n",
      "image 902/1157 /root/Desktop/workspace/Realtime Obstacle Detector/dataset/test/images/images-38-_jpg.rf.951bbbeee994755689dbed490600b427.jpg: 640x640 1 Manhole, 1 Guard rail, 9.4ms\n",
      "image 903/1157 /root/Desktop/workspace/Realtime Obstacle Detector/dataset/test/images/images-4-_jpg.rf.26c694dd8bcd6f1ffa1f742bb05c33e3.jpg: 640x640 1 Manhole, 9.3ms\n",
      "image 904/1157 /root/Desktop/workspace/Realtime Obstacle Detector/dataset/test/images/images-45-_jpg.rf.f4ec033f1bb396827e555bba48dba540.jpg: 640x640 1 Pedestrian crosswalk, 9.3ms\n",
      "image 905/1157 /root/Desktop/workspace/Realtime Obstacle Detector/dataset/test/images/images-75-_jpg.rf.466e5504a4e544f138509d5a661e267f.jpg: 640x640 1 Guard rail, 12.3ms\n",
      "image 906/1157 /root/Desktop/workspace/Realtime Obstacle Detector/dataset/test/images/images-8-_jpg.rf.340c1851c3533bf5ba8957fa70713d24.jpg: 640x640 1 Manhole, 9.4ms\n",
      "image 907/1157 /root/Desktop/workspace/Realtime Obstacle Detector/dataset/test/images/images-9-_jpg.rf.6478452e4cb22f062ef94a8706158462.jpg: 640x640 1 Manhole, 9.7ms\n",
      "image 908/1157 /root/Desktop/workspace/Realtime Obstacle Detector/dataset/test/images/images-9-_jpg.rf.cc7040438e6c91eebbd9ee0312a309d7.jpg: 640x640 1 Person, 9.4ms\n",
      "image 909/1157 /root/Desktop/workspace/Realtime Obstacle Detector/dataset/test/images/images22_jpeg_jpg.rf.8a7e509c9f90c90a463da1e117f6b857.jpg: 640x640 1 Guard rail, 9.2ms\n",
      "image 910/1157 /root/Desktop/workspace/Realtime Obstacle Detector/dataset/test/images/images23_jpeg_jpg.rf.2c74e955d1722f3711744828b3fe08a3.jpg: 640x640 1 Guard rail, 9.4ms\n",
      "image 911/1157 /root/Desktop/workspace/Realtime Obstacle Detector/dataset/test/images/images25_jpg.rf.a6fe5df37c686b28eb939b2081f34217.jpg: 640x640 1 Bike, 10.8ms\n",
      "image 912/1157 /root/Desktop/workspace/Realtime Obstacle Detector/dataset/test/images/images29_jpg.rf.b0026681422f8e4a1e9b7f0bf9e2d612.jpg: 640x640 1 Bike, 1 Truck, 9.8ms\n",
      "image 913/1157 /root/Desktop/workspace/Realtime Obstacle Detector/dataset/test/images/images37_jpeg_jpg.rf.486c7b1a18a01229f93c2445d350c694.jpg: 640x640 1 Guard rail, 9.6ms\n",
      "image 914/1157 /root/Desktop/workspace/Realtime Obstacle Detector/dataset/test/images/images51_jpeg_jpg.rf.06032a3ff807986a8417ffb0aec4eca6.jpg: 640x640 1 Guard rail, 9.6ms\n",
      "image 915/1157 /root/Desktop/workspace/Realtime Obstacle Detector/dataset/test/images/images54_jpeg_jpg.rf.b198b3456a673fff8bb16a8ed9d73273.jpg: 640x640 1 Guard rail, 9.4ms\n",
      "image 916/1157 /root/Desktop/workspace/Realtime Obstacle Detector/dataset/test/images/images69_jpeg_jpg.rf.9066a15c80418f2432ab7d920540554f.jpg: 640x640 1 Guard rail, 9.2ms\n",
      "image 917/1157 /root/Desktop/workspace/Realtime Obstacle Detector/dataset/test/images/irancar--122-_jpg.rf.8ccb972b87b814d57284a1e42b9ab365.jpg: 640x640 4 Cars, 9.6ms\n",
      "image 918/1157 /root/Desktop/workspace/Realtime Obstacle Detector/dataset/test/images/irancar--13-_jpg.rf.becf6a1d02388ee34e1b38338974b77b.jpg: 640x640 7 Cars, 9.5ms\n",
      "image 919/1157 /root/Desktop/workspace/Realtime Obstacle Detector/dataset/test/images/irancar--177-_jpg.rf.4c044af7f7c0f80efb2b495be5365b1d.jpg: 640x640 1 Car, 9.4ms\n",
      "image 920/1157 /root/Desktop/workspace/Realtime Obstacle Detector/dataset/test/images/irancar--18-_jpg.rf.dcbd54e78b51453aabaf30c875209788.jpg: 640x640 1 Car, 9.6ms\n",
      "image 921/1157 /root/Desktop/workspace/Realtime Obstacle Detector/dataset/test/images/irancar--190-_jpg.rf.9ff6fceffac9f4a0e5443ad86f17b831.jpg: 640x640 2 Cars, 9.7ms\n",
      "image 922/1157 /root/Desktop/workspace/Realtime Obstacle Detector/dataset/test/images/irancar--192-_jpg.rf.f38b177728510ce0f7967f946ffe5d19.jpg: 640x640 1 Car, 10.0ms\n",
      "image 923/1157 /root/Desktop/workspace/Realtime Obstacle Detector/dataset/test/images/irancar--2-_jpg.rf.313f7a7886b30ab2df3e264d415b66b0.jpg: 640x640 1 Car, 9.7ms\n",
      "image 924/1157 /root/Desktop/workspace/Realtime Obstacle Detector/dataset/test/images/irancar--36-_jpg.rf.55318cf85c661d4e97aaaa1524760ca3.jpg: 640x640 1 Car, 9.3ms\n",
      "image 925/1157 /root/Desktop/workspace/Realtime Obstacle Detector/dataset/test/images/irancar--38-_jpg.rf.54c005845c7cbe88c8a6697698c34e50.jpg: 640x640 3 Cars, 9.3ms\n",
      "image 926/1157 /root/Desktop/workspace/Realtime Obstacle Detector/dataset/test/images/irancar--99-_jpg.rf.0024f3c41553d45504f658149ee25f18.jpg: 640x640 1 Car, 9.2ms\n",
      "image 927/1157 /root/Desktop/workspace/Realtime Obstacle Detector/dataset/test/images/istockphoto-1225270151-612x612_jpg.rf.ef09c98630ef97d82d62a7d63df7e51a.jpg: 640x640 1 Person, 10.3ms\n",
      "image 928/1157 /root/Desktop/workspace/Realtime Obstacle Detector/dataset/test/images/istockphoto-1271689034-612x612_jpg.rf.0779dc221417b9e1f2316bf8204e192e.jpg: 640x640 5 Persons, 9.8ms\n",
      "image 929/1157 /root/Desktop/workspace/Realtime Obstacle Detector/dataset/test/images/istockphoto-1341077450-612x612_jpg.rf.59feeeb7df41e82abc15b986363cc67a.jpg: 640x640 1 Person, 9.4ms\n",
      "image 930/1157 /root/Desktop/workspace/Realtime Obstacle Detector/dataset/test/images/istockphoto-518505346-170667a_jpg.rf.9f1ce4cecef8d46e0509a232639fdc16.jpg: 640x640 1 Person, 9.3ms\n",
      "image 931/1157 /root/Desktop/workspace/Realtime Obstacle Detector/dataset/test/images/istockphoto-544600984-612x612_jpg.rf.7db383c8620fc985c469a309d5e62a2a.jpg: 640x640 2 Persons, 9.2ms\n",
      "image 932/1157 /root/Desktop/workspace/Realtime Obstacle Detector/dataset/test/images/istockphoto-931399924-170667a_jpg.rf.c160532badd21e4f1e55f4613117da60.jpg: 640x640 2 Persons, 9.2ms\n",
      "image 933/1157 /root/Desktop/workspace/Realtime Obstacle Detector/dataset/test/images/istockphoto-970440616-612x612_jpg.rf.198bcf1d0e2875d6789c3925c7ca6454.jpg: 640x640 2 Persons, 9.5ms\n",
      "image 934/1157 /root/Desktop/workspace/Realtime Obstacle Detector/dataset/test/images/joyful-girl-moms-jeans-runs-pink-background-dark-haired-girl-posing-with-instax-camera_197531-13555_jpg.rf.83a8ffbc1bab4910d820f86d63b91f1d.jpg: 640x640 1 Person, 9.5ms\n",
      "image 935/1157 /root/Desktop/workspace/Realtime Obstacle Detector/dataset/test/images/labrador-retrieve_155003-145_jpg.rf.3caa0b3314c57dfab33d45e9d77e84a5.jpg: 640x640 1 Dog, 9.4ms\n",
      "image 936/1157 /root/Desktop/workspace/Realtime Obstacle Detector/dataset/test/images/looking-husky-companion-dog-is-posing-cute-playful-white-grey-doggy-pet-playing-white-studio-background-concept-motion-action-movement-pets-love-looks-happy-delighted-funny_155003-34733_jpg.rf.ab2cbb4a38719803d87ca60af2e17ad1.jpg: 640x640 1 Dog, 9.8ms\n",
      "image 937/1157 /root/Desktop/workspace/Realtime Obstacle Detector/dataset/test/images/lovepik-business-man-walking-png-image_401627514_wh1200_png.rf.f592e4921d4745215ad0ca075d3b3024.jpg: 640x640 1 Person, 9.7ms\n",
      "image 938/1157 /root/Desktop/workspace/Realtime Obstacle Detector/dataset/test/images/man-with-shopping-cart_23-2147688989_jpg.rf.a889648bddb0e7aad1c9f8d5c4329d67.jpg: 640x640 1 Person, 9.7ms\n",
      "image 939/1157 /root/Desktop/workspace/Realtime Obstacle Detector/dataset/test/images/man-woman-with-medical-masks-out-grocery-shopping-with-shopping-cart_23-2149483206_jpg.rf.ebd25affdf8a95b3eea33dcec243de38.jpg: 640x640 2 Persons, 10.0ms\n",
      "image 940/1157 /root/Desktop/workspace/Realtime Obstacle Detector/dataset/test/images/mand-holding-cup_jpg.rf.8f52392970871057ac4e0ef15df117cf.jpg: 640x640 1 Person, 9.5ms\n",
      "image 941/1157 /root/Desktop/workspace/Realtime Obstacle Detector/dataset/test/images/medium-shot-women-wearing-hijabs_23-2149122791_jpg.rf.0d72b46350bc3fc4a61806f6743fca52.jpg: 640x640 3 Persons, 9.6ms\n",
      "image 942/1157 /root/Desktop/workspace/Realtime Obstacle Detector/dataset/test/images/modern-muslim-woman-wearing-headscarf-walking-street_1303-27589_jpg.rf.80f4b7a68e83d3907935d804294ff694.jpg: 640x640 2 Persons, 9.6ms\n",
      "image 943/1157 /root/Desktop/workspace/Realtime Obstacle Detector/dataset/test/images/mother-with-daughter-grocery-store_1303-17236_jpg.rf.3492aa1e317aaf7c4603cebc2c9891fd.jpg: 640x640 1 Person, 9.4ms\n",
      "image 944/1157 /root/Desktop/workspace/Realtime Obstacle Detector/dataset/test/images/my_photo-112_jpg.rf.7b0ae5fdbc3338c1cde78e3568e7c5f0.jpg: 480x640 3 Persons, 2 Traffic signs, 1 Road, 1 Motorcycle, 2 Trees, 11.5ms\n",
      "image 945/1157 /root/Desktop/workspace/Realtime Obstacle Detector/dataset/test/images/my_photo-123_jpg.rf.c87df7e8a3b49dd61007a4ec4378570f.jpg: 480x640 1 Person, 1 Road, 5 Motorcycles, 3 Trees, 9.5ms\n",
      "image 946/1157 /root/Desktop/workspace/Realtime Obstacle Detector/dataset/test/images/my_photo-142_jpg.rf.ac37e77c1693b24e9ebf1c893ed8e62b.jpg: 480x640 1 Building, 1 Road, 2 Trees, 10.8ms\n",
      "image 947/1157 /root/Desktop/workspace/Realtime Obstacle Detector/dataset/test/images/my_photo-145_jpg.rf.45edd048c70b53df8009a6986a749262.jpg: 480x640 1 Building, 1 Car, 1 Road, 2 Trees, 9.7ms\n",
      "image 948/1157 /root/Desktop/workspace/Realtime Obstacle Detector/dataset/test/images/my_photo-146_jpg.rf.4136c9b4e050ebae753805c86dcb6317.jpg: 480x640 3 Buildings, 1 Road, 3 Trees, 10.1ms\n",
      "image 949/1157 /root/Desktop/workspace/Realtime Obstacle Detector/dataset/test/images/my_photo-157_jpg.rf.e9aa5997a5a5b1db8e84aeb7e4968b74.jpg: 480x640 1 Building, 1 Car, 1 Road, 2 Trees, 9.6ms\n",
      "image 950/1157 /root/Desktop/workspace/Realtime Obstacle Detector/dataset/test/images/my_photo-168_jpg.rf.69162dc4ad321a26a7cc68dbf6de1ab8.jpg: 480x640 3 Buildings, 1 Car, 3 Electrical Poles, 1 Road, 1 Motorcycle, 9.7ms\n",
      "image 951/1157 /root/Desktop/workspace/Realtime Obstacle Detector/dataset/test/images/my_photo-192_jpg.rf.b4e40d0bc4c8a6317c3408ccd5e50233.jpg: 480x640 1 Building, 1 Car, 1 Road, 1 Tree, 9.5ms\n",
      "image 952/1157 /root/Desktop/workspace/Realtime Obstacle Detector/dataset/test/images/my_photo-199_jpg.rf.fccd86bdb5c743b40f97686ae56a52e3.jpg: 480x640 1 Building, 1 Car, 1 Road, 2 Motorcycles, 2 Trees, 9.6ms\n",
      "image 953/1157 /root/Desktop/workspace/Realtime Obstacle Detector/dataset/test/images/my_photo-200_jpg.rf.a57c810d19dd024cc48f81cf7b969a1b.jpg: 480x640 3 Buildings, 1 Road, 1 Motorcycle, 3 Trees, 9.4ms\n",
      "image 954/1157 /root/Desktop/workspace/Realtime Obstacle Detector/dataset/test/images/my_photo-204_jpg.rf.b9285e819d518262a25e7c380a683617.jpg: 480x640 1 Building, 1 Road, 5 Trees, 9.5ms\n",
      "image 955/1157 /root/Desktop/workspace/Realtime Obstacle Detector/dataset/test/images/my_photo-205_jpg.rf.4569536ea78eabc5d2aeb65f70151254.jpg: 480x640 1 Building, 1 Road, 6 Trees, 9.4ms\n",
      "image 956/1157 /root/Desktop/workspace/Realtime Obstacle Detector/dataset/test/images/my_photo-234_jpg.rf.eb6006fa4813b6978059a944f38dab60.jpg: 480x640 1 Car, 1 Person, 1 Road, 2 Motorcycles, 9.5ms\n",
      "image 957/1157 /root/Desktop/workspace/Realtime Obstacle Detector/dataset/test/images/my_photo-235_jpg.rf.4a558ebdf7d44106bb3c37b286bfaef2.jpg: 480x640 1 Car, 1 Road, 1 Motorcycle, 9.5ms\n",
      "image 958/1157 /root/Desktop/workspace/Realtime Obstacle Detector/dataset/test/images/my_photo-25_jpg.rf.f1e5e73eaa7aedc65eb47f831ad59469.jpg: 480x640 1 Building, 2 Persons, 2 Electrical Poles, 1 Road, 3 Motorcycles, 2 Trees, 9.7ms\n",
      "image 959/1157 /root/Desktop/workspace/Realtime Obstacle Detector/dataset/test/images/my_photo-31_jpg.rf.6f6ae5aa0b2f54361b07a49a7ea44160.jpg: 480x640 3 Persons, 2 Roads, 1 Motorcycle, 10.0ms\n",
      "image 960/1157 /root/Desktop/workspace/Realtime Obstacle Detector/dataset/test/images/my_photo-4_jpg.rf.0efd8100cfafefaac53f0a1fcbd8dd5a.jpg: 480x640 1 Car, 1 Electrical Pole, 1 Road, 2 Motorcycles, 3 Trees, 10.2ms\n",
      "image 961/1157 /root/Desktop/workspace/Realtime Obstacle Detector/dataset/test/images/my_photo-60_jpg.rf.54f54247c82656628aa363628bde4413.jpg: 480x640 2 Persons, 4 Electrical Poles, 1 Dustbin, 3 Trees, 9.6ms\n",
      "image 962/1157 /root/Desktop/workspace/Realtime Obstacle Detector/dataset/test/images/my_photo-64_jpg.rf.b43db38c987c565419810251b096fb10.jpg: 480x640 1 Building, 3 Traffic signs, 1 Road, 5 Trees, 9.9ms\n",
      "image 963/1157 /root/Desktop/workspace/Realtime Obstacle Detector/dataset/test/images/my_photo-65_jpg.rf.c4ede895e7b25913d0603aced93f8fd3.jpg: 480x640 1 Building, 1 Traffic sign, 1 Road, 4 Trees, 11.1ms\n",
      "image 964/1157 /root/Desktop/workspace/Realtime Obstacle Detector/dataset/test/images/my_photo-89_jpg.rf.01195fb7ef24a9e0903d2688d1847c78.jpg: 480x640 1 Building, 2 Traffic signs, 1 Road, 3 Trees, 10.0ms\n",
      "image 965/1157 /root/Desktop/workspace/Realtime Obstacle Detector/dataset/test/images/my_photo-8_jpg.rf.5b1d22357fff1f6f4e5085c0d02ec2ec.jpg: 480x640 1 Person, 1 Road, 2 Motorcycles, 1 Tree, 9.8ms\n",
      "image 966/1157 /root/Desktop/workspace/Realtime Obstacle Detector/dataset/test/images/my_photo-93_jpg.rf.b4703f90f3403bc5ebd85bc67c498fef.jpg: 480x640 1 Building, 2 Traffic signs, 1 Road, 2 Trees, 9.8ms\n",
      "image 967/1157 /root/Desktop/workspace/Realtime Obstacle Detector/dataset/test/images/my_photo-94_jpg.rf.b828e34ec63fa7a3ec9fde968a4877fc.jpg: 480x640 1 Building, 2 Traffic signs, 1 Road, 3 Trees, 9.7ms\n",
      "image 968/1157 /root/Desktop/workspace/Realtime Obstacle Detector/dataset/test/images/oak2_webp.rf.1809a01ab1db0f16d43fc9d1d9a2d186.jpg: 640x640 1 Tree, 11.1ms\n",
      "image 969/1157 /root/Desktop/workspace/Realtime Obstacle Detector/dataset/test/images/owner-serving-food-bowl-their-pet-dog_23-2149392632_jpg.rf.da358d92fafe6b0e7980dff290f05808.jpg: 640x640 1 Dog, 9.7ms\n",
      "image 970/1157 /root/Desktop/workspace/Realtime Obstacle Detector/dataset/test/images/pexels-run-ffwpu-2539281_jpg.rf.232bb15c0f600915f11c3da0b596db7e.jpg: 640x640 4 Persons, 10.2ms\n",
      "image 971/1157 /root/Desktop/workspace/Realtime Obstacle Detector/dataset/test/images/photo-1532341556711-1c37110eaaac_jpeg.rf.f801806e105fa83bcd0d425448d44485.jpg: 640x640 2 Persons, 9.7ms\n",
      "image 972/1157 /root/Desktop/workspace/Realtime Obstacle Detector/dataset/test/images/photo-1637684824451-ad20a773da6e_jpg.rf.19e9eb586f3ae98c0bc0ff18db5ae98f.jpg: 640x640 1 Person, 9.8ms\n",
      "image 973/1157 /root/Desktop/workspace/Realtime Obstacle Detector/dataset/test/images/photo_2023-07-01_14-00-12_jpg.rf.14e77fb2e7bad68b0d625c0479e6b010.jpg: 640x640 1 Building, 10.0ms\n",
      "image 974/1157 /root/Desktop/workspace/Realtime Obstacle Detector/dataset/test/images/photo_2023-07-01_14-00-17-2-_jpg.rf.b04c4b8cee1c4e8e33651e85e7c763ab.jpg: 640x640 1 Building, 1 Traffic sign, 1 Pedestrian crosswalk, 9.9ms\n",
      "image 975/1157 /root/Desktop/workspace/Realtime Obstacle Detector/dataset/test/images/photo_2023-07-01_14-00-22-2-_jpg.rf.85295bc6ae891dfb2d192eed427bc494.jpg: 640x640 1 Building, 9.4ms\n",
      "image 976/1157 /root/Desktop/workspace/Realtime Obstacle Detector/dataset/test/images/photo_2023-07-01_14-00-22_jpg.rf.de79b38d04496d1bccf5dd9e7c853acd.jpg: 640x640 1 Building, 9.6ms\n",
      "image 977/1157 /root/Desktop/workspace/Realtime Obstacle Detector/dataset/test/images/photo_2023-07-01_14-00-33_jpg.rf.a3139b5ff33d262d7a780cd044b208d6.jpg: 640x640 1 Building, 9.3ms\n",
      "image 978/1157 /root/Desktop/workspace/Realtime Obstacle Detector/dataset/test/images/photo_2023-07-01_14-00-40-2-_jpg.rf.6a78650b7d93556424a830d318cef940.jpg: 640x640 1 Building, 9.4ms\n",
      "image 979/1157 /root/Desktop/workspace/Realtime Obstacle Detector/dataset/test/images/photo_2023-07-01_14-00-50-2-_jpg.rf.b6fa11b1725ed096c6414ce00801a59a.jpg: 640x640 2 Buildings, 2 Cars, 9.6ms\n",
      "image 980/1157 /root/Desktop/workspace/Realtime Obstacle Detector/dataset/test/images/photo_2023-07-01_14-00-57_jpg.rf.3e2119e67ceedd018a711eee21f6561e.jpg: 640x640 1 Building, 9.5ms\n",
      "image 981/1157 /root/Desktop/workspace/Realtime Obstacle Detector/dataset/test/images/photo_2023-07-01_14-01-00_jpg.rf.de5d86a528fb7af74a41aadfee48e0ef.jpg: 640x640 1 Building, 9.3ms\n",
      "image 982/1157 /root/Desktop/workspace/Realtime Obstacle Detector/dataset/test/images/photo_2023-07-22_22-47-44-2-_jpg.rf.199e2def4ebf0111d3fcf7e20f78be3a.jpg: 640x640 1 Building, 9.2ms\n",
      "image 983/1157 /root/Desktop/workspace/Realtime Obstacle Detector/dataset/test/images/portrait-beautiful-young-asian-woman-with-shopping-cart_74190-11007-1-_jpg.rf.e63ec9118b3eac6bbd9e76ec312fc4bd.jpg: 640x640 2 Persons, 9.4ms\n",
      "image 984/1157 /root/Desktop/workspace/Realtime Obstacle Detector/dataset/test/images/portrait-labrador-retriever-dog_53876-64762_jpg.rf.be170051d93950e75ba84b3912cf5b1f.jpg: 640x640 1 Dog, 9.5ms\n",
      "image 985/1157 /root/Desktop/workspace/Realtime Obstacle Detector/dataset/test/images/powerwalking_jpg.rf.52a7a4fb118212ad8f3c9045e2d3bf71.jpg: 640x640 2 Persons, 9.3ms\n",
      "image 986/1157 /root/Desktop/workspace/Realtime Obstacle Detector/dataset/test/images/pug-dog-isolated-white-background_2829-11406_jpg.rf.0a2140eec02d0501e047865c0f529a3c.jpg: 640x640 1 Dog, 9.3ms\n",
      "image 987/1157 /root/Desktop/workspace/Realtime Obstacle Detector/dataset/test/images/rear-view-young-man-dancing_1149-1254_jpg.rf.d4e11ab9d3bd226e2e1b966d71f1d456.jpg: 640x640 1 Person, 9.6ms\n",
      "image 988/1157 /root/Desktop/workspace/Realtime Obstacle Detector/dataset/test/images/refus-de-priorite-a-un-pieton-que-risquez-vous-1654163876_jpg.rf.fa13b75597e5f4ab97d01e1f3f7ca12a.jpg: 640x640 1 Car, 1 Pedestrian crosswalk, 9.7ms\n",
      "image 989/1157 /root/Desktop/workspace/Realtime Obstacle Detector/dataset/test/images/renjing_388_jpg.rf.d9558c1a74a33ab9d20369cad63ed215.jpg: 640x640 1 Person, 1 Manhole, 9.6ms\n",
      "image 990/1157 /root/Desktop/workspace/Realtime Obstacle Detector/dataset/test/images/renjing_411_jpg.rf.65cb39c3245d7614a05301ba7cdec71e.jpg: 640x640 2 Manholes, 1 Truck, 9.4ms\n",
      "image 991/1157 /root/Desktop/workspace/Realtime Obstacle Detector/dataset/test/images/renjing_419_jpg.rf.dede44ca922def10411b681e85157f96.jpg: 640x640 1 Person, 1 Manhole, 1 Pedestrian crosswalk, 9.4ms\n",
      "image 992/1157 /root/Desktop/workspace/Realtime Obstacle Detector/dataset/test/images/renjing_424_jpg.rf.bf99740e30e181bdd1b1b93dbd723546.jpg: 640x640 1 Manhole, 9.5ms\n",
      "image 993/1157 /root/Desktop/workspace/Realtime Obstacle Detector/dataset/test/images/renjing_462_jpg.rf.9766c296fe056e77768b7c3ee64f172f.jpg: 640x640 1 Manhole, 9.6ms\n",
      "image 994/1157 /root/Desktop/workspace/Realtime Obstacle Detector/dataset/test/images/seniors-walking-exercise_jpg.rf.8f30b75f9f563734f6e34cb217113ae5.jpg: 640x640 2 Persons, 9.6ms\n",
      "image 995/1157 /root/Desktop/workspace/Realtime Obstacle Detector/dataset/test/images/shopping-woman-looking-shelves-supermarket-with-shopping-cart-portrait-young-girl-market-store-fruits-vegetables-section_627829-6362_jpg.rf.319204aa0d7d84983137fa898eaa7e55.jpg: 640x640 1 Person, 9.3ms\n",
      "image 996/1157 /root/Desktop/workspace/Realtime Obstacle Detector/dataset/test/images/short-haired-blonde-sitting-dog_1194-1088_jpg.rf.843e340507afd1138796207dc25c18a5.jpg: 640x640 1 Dog, 9.3ms\n",
      "image 997/1157 /root/Desktop/workspace/Realtime Obstacle Detector/dataset/test/images/small-funny-dog-beagle-posing-isolated-white-wall_155003-33570_jpg.rf.dbda55fea0dbec72f133d50afd178de1.jpg: 640x640 1 Dog, 9.5ms\n",
      "image 998/1157 /root/Desktop/workspace/Realtime Obstacle Detector/dataset/test/images/sportive-dog-performing-during-lure-coursing-competition_155003-43979_jpg.rf.3c11053a2b0079e1171a2c41b78b76bb.jpg: 640x640 1 Dog, 9.5ms\n",
      "image 999/1157 /root/Desktop/workspace/Realtime Obstacle Detector/dataset/test/images/sportive-dog-performing-during-show-competition_155003-41385_jpg.rf.7d0e1d8e4ba447b89a22c048bc2a9a30.jpg: 640x640 1 Dog, 9.5ms\n",
      "image 1000/1157 /root/Desktop/workspace/Realtime Obstacle Detector/dataset/test/images/stair114_jpg.rf.0befe77b2f800b28eb39039b6cc1a4b8.jpg: 640x640 1 Stairs, 9.4ms\n",
      "image 1001/1157 /root/Desktop/workspace/Realtime Obstacle Detector/dataset/test/images/stair117_jpg.rf.073ea981a9ad9b2bec8491f1ad9bf7c8.jpg: 640x640 1 Stairs, 9.6ms\n",
      "image 1002/1157 /root/Desktop/workspace/Realtime Obstacle Detector/dataset/test/images/stair125_jpg.rf.8cc1db6895e92db114eb0e53ea1d18b9.jpg: 640x640 1 Stairs, 9.7ms\n",
      "image 1003/1157 /root/Desktop/workspace/Realtime Obstacle Detector/dataset/test/images/stair127_jpg.rf.d5e834bbf5e2f54b805f7afa752f66b5.jpg: 640x640 1 Stairs, 9.9ms\n",
      "image 1004/1157 /root/Desktop/workspace/Realtime Obstacle Detector/dataset/test/images/stair136_jpg.rf.61cd37d2ddf6d0db9c178faecc31d328.jpg: 640x640 1 Stairs, 9.7ms\n",
      "image 1005/1157 /root/Desktop/workspace/Realtime Obstacle Detector/dataset/test/images/stair139_jpg.rf.39a208b050a52bc30681d8d9290df18d.jpg: 640x640 1 Stairs, 10.0ms\n",
      "image 1006/1157 /root/Desktop/workspace/Realtime Obstacle Detector/dataset/test/images/stair147_jpg.rf.2ad98863a1c8f415859919a943f5cbb7.jpg: 640x640 1 Stairs, 9.5ms\n",
      "image 1007/1157 /root/Desktop/workspace/Realtime Obstacle Detector/dataset/test/images/stair150_jpg.rf.fa6387ed0b20ec3d59ab9656d6257761.jpg: 640x640 1 Stairs, 10.2ms\n",
      "image 1008/1157 /root/Desktop/workspace/Realtime Obstacle Detector/dataset/test/images/stair167_jpg.rf.a9cab8f8212d327b03e45a5800ff8823.jpg: 640x640 1 Stairs, 9.8ms\n",
      "image 1009/1157 /root/Desktop/workspace/Realtime Obstacle Detector/dataset/test/images/stair172_jpg.rf.7169a1a41ea2bad2a256cfe8e0c2a1af.jpg: 640x640 2 Stairss, 9.9ms\n",
      "image 1010/1157 /root/Desktop/workspace/Realtime Obstacle Detector/dataset/test/images/stair176_jpg.rf.beeb8aa639986872249ca74cd6f8d1b3.jpg: 640x640 1 Stairs, 9.9ms\n",
      "image 1011/1157 /root/Desktop/workspace/Realtime Obstacle Detector/dataset/test/images/stair184_jpg.rf.9a09f56551cb52d13bd2109721284d5f.jpg: 640x640 1 Stairs, 9.8ms\n",
      "image 1012/1157 /root/Desktop/workspace/Realtime Obstacle Detector/dataset/test/images/stair188_jpg.rf.f65e748803bbd71945d66eb547a0fd66.jpg: 640x640 1 Stairs, 9.7ms\n",
      "image 1013/1157 /root/Desktop/workspace/Realtime Obstacle Detector/dataset/test/images/stair194_jpg.rf.3cd5f7497b9a6e635210d298299c09c7.jpg: 640x640 1 Stairs, 9.6ms\n",
      "image 1014/1157 /root/Desktop/workspace/Realtime Obstacle Detector/dataset/test/images/stair202_jpg.rf.9b82b7e02aecb49e21a5bc5c9a1efcf1.jpg: 640x640 1 Stairs, 9.7ms\n",
      "image 1015/1157 /root/Desktop/workspace/Realtime Obstacle Detector/dataset/test/images/stair206_jpg.rf.7e7e7c95c0ade4e8e6cd1c5d01833a24.jpg: 640x640 1 Stairs, 9.4ms\n",
      "image 1016/1157 /root/Desktop/workspace/Realtime Obstacle Detector/dataset/test/images/stair207_jpg.rf.c291377b620011a6b775e93ca6032dbf.jpg: 640x640 1 Stairs, 9.3ms\n",
      "image 1017/1157 /root/Desktop/workspace/Realtime Obstacle Detector/dataset/test/images/stair218_jpg.rf.3d0f87e6ab43b589f9846dc3eb6da8a8.jpg: 640x640 1 Stairs, 9.6ms\n",
      "image 1018/1157 /root/Desktop/workspace/Realtime Obstacle Detector/dataset/test/images/stair223_jpg.rf.2207ff67df5e7da8dd0fa9fc86584f8f.jpg: 640x640 1 Stairs, 9.5ms\n",
      "image 1019/1157 /root/Desktop/workspace/Realtime Obstacle Detector/dataset/test/images/stair228_jpg.rf.4a5633f2b7da6bbb28d5baef446ab863.jpg: 640x640 1 Stairs, 9.5ms\n",
      "image 1020/1157 /root/Desktop/workspace/Realtime Obstacle Detector/dataset/test/images/stair233_jpg.rf.03a92cd5442bda817bf0d1ba963cb58f.jpg: 640x640 2 Stairss, 9.7ms\n",
      "image 1021/1157 /root/Desktop/workspace/Realtime Obstacle Detector/dataset/test/images/stair241_jpg.rf.bce2660b015e2cf8ca220e7ff22cb024.jpg: 640x640 1 Stairs, 9.3ms\n",
      "image 1022/1157 /root/Desktop/workspace/Realtime Obstacle Detector/dataset/test/images/stair251_jpg.rf.02161f3953db3d693198135e1b288025.jpg: 640x640 1 Stairs, 9.6ms\n",
      "image 1023/1157 /root/Desktop/workspace/Realtime Obstacle Detector/dataset/test/images/stair260_jpg.rf.60566198f514d5b53a6fc18e98f50302.jpg: 640x640 1 Stairs, 9.8ms\n",
      "image 1024/1157 /root/Desktop/workspace/Realtime Obstacle Detector/dataset/test/images/stair262_jpg.rf.25ce9f5b24236e4dbdef1790934c4177.jpg: 640x640 1 Stairs, 9.6ms\n",
      "image 1025/1157 /root/Desktop/workspace/Realtime Obstacle Detector/dataset/test/images/stair27_jpg.rf.f379db1bf6f319b8efcaef101685e9e6.jpg: 640x640 1 Stairs, 9.6ms\n",
      "image 1026/1157 /root/Desktop/workspace/Realtime Obstacle Detector/dataset/test/images/stair286_jpg.rf.c87cf40ada0f54c572de9135ce763ed3.jpg: 640x640 1 Stairs, 9.6ms\n",
      "image 1027/1157 /root/Desktop/workspace/Realtime Obstacle Detector/dataset/test/images/stair288_jpg.rf.968d8ce92882d49da0f71da161fe8dcd.jpg: 640x640 1 Stairs, 9.7ms\n",
      "image 1028/1157 /root/Desktop/workspace/Realtime Obstacle Detector/dataset/test/images/stair294_jpg.rf.d9d1f9f8d8d1f87223fd8246f39331ce.jpg: 640x640 1 Stairs, 9.5ms\n",
      "image 1029/1157 /root/Desktop/workspace/Realtime Obstacle Detector/dataset/test/images/stair300_jpg.rf.88795444bf8a9127eba4021876a5ee4c.jpg: 640x640 1 Stairs, 9.5ms\n",
      "image 1030/1157 /root/Desktop/workspace/Realtime Obstacle Detector/dataset/test/images/stair307_jpg.rf.d7c791ab82db13d50e8fad51873a3ee4.jpg: 640x640 1 Stairs, 9.7ms\n",
      "image 1031/1157 /root/Desktop/workspace/Realtime Obstacle Detector/dataset/test/images/stair316_jpg.rf.6cc4f2807c9dfcc1cf0d2d94159d799d.jpg: 640x640 1 Stairs, 9.4ms\n",
      "image 1032/1157 /root/Desktop/workspace/Realtime Obstacle Detector/dataset/test/images/stair326_jpg.rf.f0705ecd3bab184319ed57beb1a8844c.jpg: 640x640 1 Stairs, 9.4ms\n",
      "image 1033/1157 /root/Desktop/workspace/Realtime Obstacle Detector/dataset/test/images/stair329_jpg.rf.95061bdda4bfb48ef99f5747d458d69a.jpg: 640x640 1 Stairs, 9.3ms\n",
      "image 1034/1157 /root/Desktop/workspace/Realtime Obstacle Detector/dataset/test/images/stair330_jpg.rf.f2f05e1bd9e6586b70f7ba1920dae843.jpg: 640x640 1 Stairs, 9.4ms\n",
      "image 1035/1157 /root/Desktop/workspace/Realtime Obstacle Detector/dataset/test/images/stair332_jpg.rf.ff5d6ded9b72368d72278cbae7ceca0a.jpg: 640x640 1 Stairs, 9.4ms\n",
      "image 1036/1157 /root/Desktop/workspace/Realtime Obstacle Detector/dataset/test/images/stair333_jpg.rf.b73f6263689af92d4193c2eb5cf4d2cb.jpg: 640x640 1 Stairs, 9.4ms\n",
      "image 1037/1157 /root/Desktop/workspace/Realtime Obstacle Detector/dataset/test/images/stair337_jpg.rf.8d307a5cc056f2a32c810a4ffcdaac55.jpg: 640x640 1 Stairs, 9.4ms\n",
      "image 1038/1157 /root/Desktop/workspace/Realtime Obstacle Detector/dataset/test/images/stair339_jpg.rf.d4619fc9658690ef00d9146ac1f4ef1c.jpg: 640x640 1 Stairs, 9.6ms\n",
      "image 1039/1157 /root/Desktop/workspace/Realtime Obstacle Detector/dataset/test/images/stair346_jpg.rf.312a45fc9b3049222cf07f13a1cf85a4.jpg: 640x640 1 Stairs, 9.7ms\n",
      "image 1040/1157 /root/Desktop/workspace/Realtime Obstacle Detector/dataset/test/images/stair357_jpg.rf.265eda66daeaaee32c421f1c8d9e792e.jpg: 640x640 1 Stairs, 9.5ms\n",
      "image 1041/1157 /root/Desktop/workspace/Realtime Obstacle Detector/dataset/test/images/stair358_jpg.rf.25a865c6b524f25dcac8413ad8958d72.jpg: 640x640 1 Stairs, 9.5ms\n",
      "image 1042/1157 /root/Desktop/workspace/Realtime Obstacle Detector/dataset/test/images/stair360_jpg.rf.b6778b8f79f9aaeac156fd290219fa04.jpg: 640x640 1 Stairs, 9.7ms\n",
      "image 1043/1157 /root/Desktop/workspace/Realtime Obstacle Detector/dataset/test/images/stair362_jpg.rf.0b3fb9532a7e02daef3512f8ed30edc4.jpg: 640x640 2 Stairss, 9.8ms\n",
      "image 1044/1157 /root/Desktop/workspace/Realtime Obstacle Detector/dataset/test/images/stair368_jpg.rf.f5ac7c151da17f8f220d9b8f3c1f8b77.jpg: 640x640 1 Stairs, 9.7ms\n",
      "image 1045/1157 /root/Desktop/workspace/Realtime Obstacle Detector/dataset/test/images/stair372_jpg.rf.640063f09cbbea34620f98c41d8e48a7.jpg: 640x640 1 Stairs, 9.6ms\n",
      "image 1046/1157 /root/Desktop/workspace/Realtime Obstacle Detector/dataset/test/images/stair376_jpg.rf.6d72e40d87f7463027bf55e5e768273c.jpg: 640x640 1 Stairs, 9.5ms\n",
      "image 1047/1157 /root/Desktop/workspace/Realtime Obstacle Detector/dataset/test/images/stair378_jpg.rf.a7ebeb4371a2e12cfa59c2838fd60fc8.jpg: 640x640 1 Stairs, 9.5ms\n",
      "image 1048/1157 /root/Desktop/workspace/Realtime Obstacle Detector/dataset/test/images/stair389_jpg.rf.022a10ed9799ec0b3c4be2d4bfb5158d.jpg: 640x640 1 Stairs, 9.7ms\n",
      "image 1049/1157 /root/Desktop/workspace/Realtime Obstacle Detector/dataset/test/images/stair393_jpg.rf.aace3cc64b9983b166948f6dcf465ca0.jpg: 640x640 1 Stairs, 9.7ms\n",
      "image 1050/1157 /root/Desktop/workspace/Realtime Obstacle Detector/dataset/test/images/stair395_jpg.rf.8ee004eb7539ec2175a2700a0bb2285c.jpg: 640x640 1 Stairs, 9.5ms\n",
      "image 1051/1157 /root/Desktop/workspace/Realtime Obstacle Detector/dataset/test/images/stair398_jpg.rf.96185957608aa49834f6ad973f7c3e3c.jpg: 640x640 1 Stairs, 9.3ms\n",
      "image 1052/1157 /root/Desktop/workspace/Realtime Obstacle Detector/dataset/test/images/stair399_jpg.rf.02ea25db1d2e7ecefa2b718f1a6b4410.jpg: 640x640 1 Stairs, 9.3ms\n",
      "image 1053/1157 /root/Desktop/workspace/Realtime Obstacle Detector/dataset/test/images/stair400_jpg.rf.92b4502e5a77a2b501e51bc004502d1b.jpg: 640x640 1 Stairs, 9.5ms\n",
      "image 1054/1157 /root/Desktop/workspace/Realtime Obstacle Detector/dataset/test/images/stair404_jpg.rf.d6be42ec0f41f40965c31251f954dfb3.jpg: 640x640 1 Stairs, 9.4ms\n",
      "image 1055/1157 /root/Desktop/workspace/Realtime Obstacle Detector/dataset/test/images/stair406_jpg.rf.e6b5348678bc54189078e664ee5f364b.jpg: 640x640 1 Stairs, 9.4ms\n",
      "image 1056/1157 /root/Desktop/workspace/Realtime Obstacle Detector/dataset/test/images/stair408_jpg.rf.7988e3486b64600eeb05c146b1fcf604.jpg: 640x640 1 Stairs, 9.6ms\n",
      "image 1057/1157 /root/Desktop/workspace/Realtime Obstacle Detector/dataset/test/images/stair410_jpg.rf.1599904413858360247656ce8e7ce1cf.jpg: 640x640 1 Stairs, 9.7ms\n",
      "image 1058/1157 /root/Desktop/workspace/Realtime Obstacle Detector/dataset/test/images/stair414_jpg.rf.25baefee9b71584cddacbca563ddfc81.jpg: 640x640 1 Stairs, 9.4ms\n",
      "image 1059/1157 /root/Desktop/workspace/Realtime Obstacle Detector/dataset/test/images/stair419_jpg.rf.99048f9a7fd4dd0b61652e84d374f5f2.jpg: 640x640 1 Stairs, 9.3ms\n",
      "image 1060/1157 /root/Desktop/workspace/Realtime Obstacle Detector/dataset/test/images/stair431_jpg.rf.01a68a9e95473d5169232660566ed4c6.jpg: 640x640 1 Stairs, 9.6ms\n",
      "image 1061/1157 /root/Desktop/workspace/Realtime Obstacle Detector/dataset/test/images/stair44_jpg.rf.11516b9171e2f108cb28d2fc13f38561.jpg: 640x640 1 Stairs, 9.6ms\n",
      "image 1062/1157 /root/Desktop/workspace/Realtime Obstacle Detector/dataset/test/images/stair451_jpg.rf.57ae45daa58e47952a1757edf396d936.jpg: 640x640 1 Stairs, 9.5ms\n",
      "image 1063/1157 /root/Desktop/workspace/Realtime Obstacle Detector/dataset/test/images/stair461_jpg.rf.082bc85e362d084c94f1e675c8f4d8ae.jpg: 640x640 2 Stairss, 9.5ms\n",
      "image 1064/1157 /root/Desktop/workspace/Realtime Obstacle Detector/dataset/test/images/stair462_jpg.rf.0089f61851c545dc3251ef0e33072fc3.jpg: 640x640 1 Stairs, 9.8ms\n",
      "image 1065/1157 /root/Desktop/workspace/Realtime Obstacle Detector/dataset/test/images/stair464_jpg.rf.76550afded837721136a81161ef7c855.jpg: 640x640 1 Stairs, 9.9ms\n",
      "image 1066/1157 /root/Desktop/workspace/Realtime Obstacle Detector/dataset/test/images/stair469_jpg.rf.4e4b9e7a2c561625544a1d5ea0fc189d.jpg: 640x640 1 Stairs, 9.8ms\n",
      "image 1067/1157 /root/Desktop/workspace/Realtime Obstacle Detector/dataset/test/images/stair46_jpg.rf.ba1e1453416ef1eb1cc067ed6b4766da.jpg: 640x640 1 Stairs, 9.6ms\n",
      "image 1068/1157 /root/Desktop/workspace/Realtime Obstacle Detector/dataset/test/images/stair477_jpg.rf.0deba3c9fb4da62fe82c93efcb6c342f.jpg: 640x640 1 Stairs, 9.7ms\n",
      "image 1069/1157 /root/Desktop/workspace/Realtime Obstacle Detector/dataset/test/images/stair483_jpg.rf.959d63f87ac0c1f33b1c0aed7b0af44b.jpg: 640x640 2 Stairss, 9.6ms\n",
      "image 1070/1157 /root/Desktop/workspace/Realtime Obstacle Detector/dataset/test/images/stair484_jpg.rf.e7745bc11be667dd03a7c6f1b7b923db.jpg: 640x640 1 Stairs, 9.5ms\n",
      "image 1071/1157 /root/Desktop/workspace/Realtime Obstacle Detector/dataset/test/images/stair486_jpg.rf.a0a6d7a8e348538115f71dc559d2871a.jpg: 640x640 1 Stairs, 9.5ms\n",
      "image 1072/1157 /root/Desktop/workspace/Realtime Obstacle Detector/dataset/test/images/stair489_jpg.rf.70c5e1278f46f191bdd4d9599fff9fdd.jpg: 640x640 1 Stairs, 9.6ms\n",
      "image 1073/1157 /root/Desktop/workspace/Realtime Obstacle Detector/dataset/test/images/stair48_jpg.rf.e8c8f545eff835cd60d945281346eb14.jpg: 640x640 1 Stairs, 9.3ms\n",
      "image 1074/1157 /root/Desktop/workspace/Realtime Obstacle Detector/dataset/test/images/stair490_jpg.rf.ea2c8864f6c4b97fe34ac0a5875936a4.jpg: 640x640 1 Stairs, 9.4ms\n",
      "image 1075/1157 /root/Desktop/workspace/Realtime Obstacle Detector/dataset/test/images/stair494_jpg.rf.7b9c425347b755e467ef52404b0ef118.jpg: 640x640 1 Stairs, 9.8ms\n",
      "image 1076/1157 /root/Desktop/workspace/Realtime Obstacle Detector/dataset/test/images/stair4_jpg.rf.2a6a9c04367184aef5bf989cc01bf550.jpg: 640x640 1 Stairs, 10.0ms\n",
      "image 1077/1157 /root/Desktop/workspace/Realtime Obstacle Detector/dataset/test/images/stair504_jpg.rf.a0cdaddf0dc9bbe00df6bf58b8763aef.jpg: 640x640 1 Stairs, 9.5ms\n",
      "image 1078/1157 /root/Desktop/workspace/Realtime Obstacle Detector/dataset/test/images/stair510_jpg.rf.53f69773ab2629c6ffb5cb26a4f665a2.jpg: 640x640 1 Stairs, 9.3ms\n",
      "image 1079/1157 /root/Desktop/workspace/Realtime Obstacle Detector/dataset/test/images/stair512_jpg.rf.d2367ba5bf0e6614ed4a5166edcf67fb.jpg: 640x640 1 Stairs, 9.7ms\n",
      "image 1080/1157 /root/Desktop/workspace/Realtime Obstacle Detector/dataset/test/images/stair516_jpg.rf.d938cd34f608a43d4c7c8647cff93d74.jpg: 640x640 2 Stairss, 9.7ms\n",
      "image 1081/1157 /root/Desktop/workspace/Realtime Obstacle Detector/dataset/test/images/stair51_jpg.rf.6ab9979c4fa55461b3463d05d40d2427.jpg: 640x640 1 Stairs, 9.6ms\n",
      "image 1082/1157 /root/Desktop/workspace/Realtime Obstacle Detector/dataset/test/images/stair521_jpg.rf.0708431d5c4c330f747a3b8ff424770a.jpg: 640x640 1 Stairs, 9.6ms\n",
      "image 1083/1157 /root/Desktop/workspace/Realtime Obstacle Detector/dataset/test/images/stair527_jpg.rf.3f524dd6805d9b57cac74ba0e4158933.jpg: 640x640 1 Stairs, 9.5ms\n",
      "image 1084/1157 /root/Desktop/workspace/Realtime Obstacle Detector/dataset/test/images/stair528_jpg.rf.c8412bbecfbda02da68cd2a459e33cf6.jpg: 640x640 1 Stairs, 9.4ms\n",
      "image 1085/1157 /root/Desktop/workspace/Realtime Obstacle Detector/dataset/test/images/stair533_jpg.rf.811f31d1e98793ce6fca6ee1878aadc9.jpg: 640x640 1 Stairs, 9.4ms\n",
      "image 1086/1157 /root/Desktop/workspace/Realtime Obstacle Detector/dataset/test/images/stair535_jpg.rf.7f2dedb96790fb9b8fc7018764fdbfc8.jpg: 640x640 1 Stairs, 9.6ms\n",
      "image 1087/1157 /root/Desktop/workspace/Realtime Obstacle Detector/dataset/test/images/stair536_jpg.rf.f7129e0386f44c7356f4c68a65b35cb7.jpg: 640x640 1 Stairs, 9.7ms\n",
      "image 1088/1157 /root/Desktop/workspace/Realtime Obstacle Detector/dataset/test/images/stair539_jpg.rf.ce38de123b3d3d96fde6edac351ce409.jpg: 640x640 1 Stairs, 10.1ms\n",
      "image 1089/1157 /root/Desktop/workspace/Realtime Obstacle Detector/dataset/test/images/stair53_jpg.rf.29c4c06ae60dddc9a5ebab44ce14ed46.jpg: 640x640 1 Stairs, 9.5ms\n",
      "image 1090/1157 /root/Desktop/workspace/Realtime Obstacle Detector/dataset/test/images/stair544_jpg.rf.05297c9f43a78eec801adb34ac57c646.jpg: 640x640 1 Stairs, 9.4ms\n",
      "image 1091/1157 /root/Desktop/workspace/Realtime Obstacle Detector/dataset/test/images/stair57_jpg.rf.7abbb11b4b913879bd4f24be8db65e24.jpg: 640x640 1 Stairs, 9.5ms\n",
      "image 1092/1157 /root/Desktop/workspace/Realtime Obstacle Detector/dataset/test/images/stair69_jpg.rf.facba73f1c8dcecf52a6d125c29b75b4.jpg: 640x640 1 Stairs, 9.4ms\n",
      "image 1093/1157 /root/Desktop/workspace/Realtime Obstacle Detector/dataset/test/images/stair6_jpg.rf.2ed13ac22a942f922cbf1c75a896b076.jpg: 640x640 1 Stairs, 9.6ms\n",
      "image 1094/1157 /root/Desktop/workspace/Realtime Obstacle Detector/dataset/test/images/stair79_jpg.rf.d9e51e0dd6b66feb07bc9490ac1e64c8.jpg: 640x640 1 Stairs, 10.1ms\n",
      "image 1095/1157 /root/Desktop/workspace/Realtime Obstacle Detector/dataset/test/images/stair84_jpg.rf.73326eaad2c7f63fd9c821dd629e1fad.jpg: 640x640 1 Stairs, 9.5ms\n",
      "image 1096/1157 /root/Desktop/workspace/Realtime Obstacle Detector/dataset/test/images/stair86_jpg.rf.31ee708ce1ad5f6475bf5b4be56aa373.jpg: 640x640 1 Stairs, 9.4ms\n",
      "image 1097/1157 /root/Desktop/workspace/Realtime Obstacle Detector/dataset/test/images/stair87_jpg.rf.40356e90806a875b548406e7b5d30b3c.jpg: 640x640 2 Stairss, 9.5ms\n",
      "image 1098/1157 /root/Desktop/workspace/Realtime Obstacle Detector/dataset/test/images/stair93_jpg.rf.4805b54de5235e9be91588d2a2435c7f.jpg: 640x640 1 Stairs, 9.4ms\n",
      "image 1099/1157 /root/Desktop/workspace/Realtime Obstacle Detector/dataset/test/images/stair99_jpg.rf.3b6a1574a243323fca23adc6a38a9a9e.jpg: 640x640 1 Stairs, 9.4ms\n",
      "image 1100/1157 /root/Desktop/workspace/Realtime Obstacle Detector/dataset/test/images/stock-photo-full-length-side-view-portrait-of-trendy-young-black-woman-walking-outdoors-and-listening-to-music-453933130_jpg.rf.7485444e8907ccb8227bdcb88ad78306.jpg: 640x640 1 Person, 9.6ms\n",
      "image 1101/1157 /root/Desktop/workspace/Realtime Obstacle Detector/dataset/test/images/stryd_8_1400x_jpg.rf.8947d3a66bbf7ced941c664da349d217.jpg: 640x640 2 Persons, 9.5ms\n",
      "image 1102/1157 /root/Desktop/workspace/Realtime Obstacle Detector/dataset/test/images/studio-shot-maltipu-dog-isolated-white-studio_155003-43324_jpg.rf.f4ed40aa306b72634173357f240196a8.jpg: 640x640 1 Dog, 9.3ms\n",
      "image 1103/1157 /root/Desktop/workspace/Realtime Obstacle Detector/dataset/test/images/t01309335368a0bd334_jpg.rf.e426fb6e83f643581873ef3c17e65c62.jpg: 640x640 1 Building, 1 Manhole, 1 Pedestrian crosswalk, 9.6ms\n",
      "image 1104/1157 /root/Desktop/workspace/Realtime Obstacle Detector/dataset/test/images/t01ed0ca9fe9cc385e1_jpg.rf.1e11a4c603b826e640c22b0c4106e241.jpg: 640x640 2 Manholes, 9.3ms\n",
      "image 1105/1157 /root/Desktop/workspace/Realtime Obstacle Detector/dataset/test/images/th-2-_jpeg.rf.a803bd6255b4e18c41e9e08c2c2450c3.jpg: 640x640 1 Dustbin, 9.4ms\n",
      "image 1106/1157 /root/Desktop/workspace/Realtime Obstacle Detector/dataset/test/images/th-31-_jpeg.rf.c48341ea9981b5a5713225f98970cc8d.jpg: 640x640 2 Dustbins, 9.4ms\n",
      "image 1107/1157 /root/Desktop/workspace/Realtime Obstacle Detector/dataset/test/images/th-54-_jpeg.rf.4ecbb6a34cd6ca12ef71c08d8c810a7d.jpg: 640x640 2 Dustbins, 9.3ms\n",
      "image 1108/1157 /root/Desktop/workspace/Realtime Obstacle Detector/dataset/test/images/th-70-_jpeg.rf.9372a2a833e7d603696b4ccbbebe3ee0.jpg: 640x640 1 Dustbin, 9.9ms\n",
      "image 1109/1157 /root/Desktop/workspace/Realtime Obstacle Detector/dataset/test/images/th-71-_jpeg.rf.3720ef67f6f12d1e64b894ba8b224f4e.jpg: 640x640 2 Dustbins, 9.4ms\n",
      "image 1110/1157 /root/Desktop/workspace/Realtime Obstacle Detector/dataset/test/images/th-74-_jpeg.rf.2869e10f9482079c0f090cc24f637a69.jpg: 640x640 4 Dustbins, 9.9ms\n",
      "image 1111/1157 /root/Desktop/workspace/Realtime Obstacle Detector/dataset/test/images/th-77-_jpeg.rf.a495056ed1f56b459acf3f723d6fa135.jpg: 640x640 1 Dustbin, 9.3ms\n",
      "image 1112/1157 /root/Desktop/workspace/Realtime Obstacle Detector/dataset/test/images/th-80-_jpeg.rf.ca122017414fd4fbec796d79a01d19b1.jpg: 640x640 2 Dustbins, 9.8ms\n",
      "image 1113/1157 /root/Desktop/workspace/Realtime Obstacle Detector/dataset/test/images/th-83-_jpeg.rf.40d64283fa2a168fadbb252e81d680a7.jpg: 640x640 1 Dustbin, 9.7ms\n",
      "image 1114/1157 /root/Desktop/workspace/Realtime Obstacle Detector/dataset/test/images/th-86-_jpeg.rf.2eb024858b59f0d6fe4f3227c50af505.jpg: 640x640 1 Dustbin, 2 Manholes, 9.6ms\n",
      "image 1115/1157 /root/Desktop/workspace/Realtime Obstacle Detector/dataset/test/images/tired-after-good-walk-chocolate-labrador-retriever-dog-sits-yawn_155003-30115_jpg.rf.316a70c01fd430b9ad665af29b6a497c.jpg: 640x640 1 Dog, 9.7ms\n",
      "image 1116/1157 /root/Desktop/workspace/Realtime Obstacle Detector/dataset/test/images/traffic--89-_jpg.rf.a1337bc2e0dc897b580ead5ddd02ac9f.jpg: 640x640 3 Cars, 9.7ms\n",
      "image 1117/1157 /root/Desktop/workspace/Realtime Obstacle Detector/dataset/test/images/training-AI-CROPPED_mp4-259_jpg.rf.8728b126895a6840af0c1d2168859980.jpg: 640x640 1 Building, 2 Pedestrian crosswalks, 9.7ms\n",
      "image 1118/1157 /root/Desktop/workspace/Realtime Obstacle Detector/dataset/test/images/training-AI-CROPPED_mp4-349_jpg.rf.38c264ce0ae42fab1a69f7d582b5630d.jpg: 640x640 2 Pedestrian crosswalks, 9.6ms\n",
      "image 1119/1157 /root/Desktop/workspace/Realtime Obstacle Detector/dataset/test/images/training-AI-CROPPED_mp4-366_jpg.rf.099ee4894cf6c859cb0217d3bb12c7bc.jpg: 640x640 3 Persons, 4 Pedestrian crosswalks, 9.4ms\n",
      "image 1120/1157 /root/Desktop/workspace/Realtime Obstacle Detector/dataset/test/images/training-AI-CROPPED_mp4-371_jpg.rf.73f1a1dce4db02ef5d55f5c3cd3b638a.jpg: 640x640 2 Pedestrian crosswalks, 9.4ms\n",
      "image 1121/1157 /root/Desktop/workspace/Realtime Obstacle Detector/dataset/test/images/training-AI-CROPPED_mp4-399_jpg.rf.157e3a09b1db0262a3c84aec1794b93e.jpg: 640x640 6 Pedestrian crosswalks, 9.6ms\n",
      "image 1122/1157 /root/Desktop/workspace/Realtime Obstacle Detector/dataset/test/images/training-AI-CROPPED_mp4-447_jpg.rf.d03fdc4c24bbbde4f49ae3a3b7298f78.jpg: 640x640 (no detections), 9.5ms\n",
      "image 1123/1157 /root/Desktop/workspace/Realtime Obstacle Detector/dataset/test/images/training-AI-CROPPED_mp4-465_jpg.rf.2c3288b740abe26b75211bd33cb135bf.jpg: 640x640 1 Building, 1 Pedestrian crosswalk, 9.3ms\n",
      "image 1124/1157 /root/Desktop/workspace/Realtime Obstacle Detector/dataset/test/images/training-AI-CROPPED_mp4-468_jpg.rf.b4e32589be049f8f2a5b749ce1d31703.jpg: 640x640 (no detections), 9.4ms\n",
      "image 1125/1157 /root/Desktop/workspace/Realtime Obstacle Detector/dataset/test/images/training-AI-CROPPED_mp4-519_jpg.rf.95b2c62dd0aeef71d89a4704e3564857.jpg: 640x640 1 Building, 9.5ms\n",
      "image 1126/1157 /root/Desktop/workspace/Realtime Obstacle Detector/dataset/test/images/training-AI-CROPPED_mp4-549_jpg.rf.9ff6c9ee94245dded6c95b7e31ab4d82.jpg: 640x640 (no detections), 9.6ms\n",
      "image 1127/1157 /root/Desktop/workspace/Realtime Obstacle Detector/dataset/test/images/training-AI-CROPPED_mp4-568_jpg.rf.b893f36d8796c6de026ffb5f0b82a4ba.jpg: 640x640 (no detections), 9.6ms\n",
      "image 1128/1157 /root/Desktop/workspace/Realtime Obstacle Detector/dataset/test/images/training-AI-CROPPED_mp4-569_jpg.rf.0f78a5111aa3751b0a35ed1c78affe6b.jpg: 640x640 (no detections), 9.5ms\n",
      "image 1129/1157 /root/Desktop/workspace/Realtime Obstacle Detector/dataset/test/images/training-AI-CROPPED_mp4-571_jpg.rf.6a6592c7c952096af0143c0d53bf9f2e.jpg: 640x640 1 Building, 1 Car, 9.6ms\n",
      "image 1130/1157 /root/Desktop/workspace/Realtime Obstacle Detector/dataset/test/images/training-AI-CROPPED_mp4-605_jpg.rf.1e6de6f829b13ec61d099193211bb85f.jpg: 640x640 1 Pedestrian crosswalk, 10.0ms\n",
      "image 1131/1157 /root/Desktop/workspace/Realtime Obstacle Detector/dataset/test/images/training-AI-CROPPED_mp4-609_jpg.rf.d79708a1bdc1a18f53ad83ca4be10606.jpg: 640x640 1 Traffic sign, 3 Pedestrian crosswalks, 9.7ms\n",
      "image 1132/1157 /root/Desktop/workspace/Realtime Obstacle Detector/dataset/test/images/training-AI-CROPPED_mp4-60_jpg.rf.11477d3d2c4d19e59d4bbf39a859d00b.jpg: 640x640 (no detections), 9.6ms\n",
      "image 1133/1157 /root/Desktop/workspace/Realtime Obstacle Detector/dataset/test/images/training-AI-CROPPED_mp4-62_jpg.rf.d0e42eaff3e9c47c7c72dac506ffe656.jpg: 640x640 3 Pedestrian crosswalks, 9.5ms\n",
      "image 1134/1157 /root/Desktop/workspace/Realtime Obstacle Detector/dataset/test/images/training-AI-CROPPED_mp4-764_jpg.rf.acc93b5d8922b0fc2fb2311c6a9d16bd.jpg: 640x640 (no detections), 9.6ms\n",
      "image 1135/1157 /root/Desktop/workspace/Realtime Obstacle Detector/dataset/test/images/training-AI-CROPPED_mp4-768_jpg.rf.441abb351ffc0cfb682a3f4e3f84af02.jpg: 640x640 (no detections), 9.5ms\n",
      "image 1136/1157 /root/Desktop/workspace/Realtime Obstacle Detector/dataset/test/images/training-AI-CROPPED_mp4-769_jpg.rf.c098b12a2f1b82fc04dcfa29579bc797.jpg: 640x640 (no detections), 9.6ms\n",
      "image 1137/1157 /root/Desktop/workspace/Realtime Obstacle Detector/dataset/test/images/training-AI-CROPPED_mp4-770_jpg.rf.8064aad28c0924ccf08b6c54ed17b63a.jpg: 640x640 (no detections), 9.5ms\n",
      "image 1138/1157 /root/Desktop/workspace/Realtime Obstacle Detector/dataset/test/images/training-AI-CROPPED_mp4-775_jpg.rf.de55d26f946bf1959209c813d69b5eb3.jpg: 640x640 1 Pedestrian crosswalk, 9.6ms\n",
      "image 1139/1157 /root/Desktop/workspace/Realtime Obstacle Detector/dataset/test/images/training-AI-CROPPED_mp4-925_jpg.rf.1583d50faeb0294f8badb1474637031f.jpg: 640x640 (no detections), 9.7ms\n",
      "image 1140/1157 /root/Desktop/workspace/Realtime Obstacle Detector/dataset/test/images/training-AI-CROPPED_mp4-9_jpg.rf.e17962e1c974806e361c87a0b3198ea4.jpg: 640x640 (no detections), 9.8ms\n",
      "image 1141/1157 /root/Desktop/workspace/Realtime Obstacle Detector/dataset/test/images/u-2859208879-3554308002-fm-253-fmt-auto-app-138-f-JPEG_png_jpg.rf.6d7f9b81377ddc9383005883dd8e9222.jpg: 640x640 1 Manhole, 9.6ms\n",
      "image 1142/1157 /root/Desktop/workspace/Realtime Obstacle Detector/dataset/test/images/u-4030942693-1658039537-fm-253-fmt-auto-app-138-f-JPEG_png_jpg.rf.7c1304bf1579f4a128c882d846a8db8b.jpg: 640x640 1 Manhole, 9.7ms\n",
      "image 1143/1157 /root/Desktop/workspace/Realtime Obstacle Detector/dataset/test/images/u-626791001-345996971-fm-253-fmt-auto-app-138-f-JPEG_png_jpg.rf.08071a497b6a07c504bb53516a6164d8.jpg: 640x640 1 Manhole, 9.5ms\n",
      "image 1144/1157 /root/Desktop/workspace/Realtime Obstacle Detector/dataset/test/images/u-645306782-94898589-fm-253-fmt-auto-app-138-f-JPEG_png_jpg.rf.6e437a1ca6d766aa2c0bb0d71d6739a7.jpg: 640x640 3 Manholes, 9.9ms\n",
      "image 1145/1157 /root/Desktop/workspace/Realtime Obstacle Detector/dataset/test/images/veloster_--10-_jpg.rf.c9a44389ddf52a28502d3001b4e73a12.jpg: 640x640 2 Cars, 9.5ms\n",
      "image 1146/1157 /root/Desktop/workspace/Realtime Obstacle Detector/dataset/test/images/view-adorable-dog-with-bowl-food_23-2150798725_jpg.rf.fa7f1cdb8e4c557b2129fbac0d7c205c.jpg: 640x640 1 Dog, 9.4ms\n",
      "image 1147/1157 /root/Desktop/workspace/Realtime Obstacle Detector/dataset/test/images/wX5nY3rs-7_jpg.rf.3dfecbc186bac2f292bdf57ffb4a675c.jpg: 640x640 1 Car, 9.6ms\n",
      "image 1148/1157 /root/Desktop/workspace/Realtime Obstacle Detector/dataset/test/images/wX5zaBGy-1_jpg.rf.ac7dccb254aa729fecd433f60e6a63d2.jpg: 640x640 1 Car, 9.4ms\n",
      "image 1149/1157 /root/Desktop/workspace/Realtime Obstacle Detector/dataset/test/images/wX6LLgEg-4_jpg.rf.d6089d04e7fea08fb6c72daaf243686e.jpg: 640x640 2 Cars, 9.5ms\n",
      "image 1150/1157 /root/Desktop/workspace/Realtime Obstacle Detector/dataset/test/images/walk-in-truth_jpg.rf.d47eeb8501ed41e6150f824a9c3ed23f.jpg: 640x640 3 Persons, 9.7ms\n",
      "image 1151/1157 /root/Desktop/workspace/Realtime Obstacle Detector/dataset/test/images/washing-pet-dog-home_23-2149627207_jpg.rf.46f09cb1b54d769ed24ad93d8b0bf2c2.jpg: 640x640 1 Dog, 9.7ms\n",
      "image 1152/1157 /root/Desktop/workspace/Realtime Obstacle Detector/dataset/test/images/white-dog_95678-2_jpg.rf.ba2df783a9ac0362451ebe9656470667.jpg: 640x640 1 Dog, 9.7ms\n",
      "image 1153/1157 /root/Desktop/workspace/Realtime Obstacle Detector/dataset/test/images/woman-beige-t-shirt-dress-casual-wear-fashion-full-body_53876-102167_jpg.rf.fb6c45b8d30a81f750dbf1ea5fbe5def.jpg: 640x640 3 Persons, 9.5ms\n",
      "image 1154/1157 /root/Desktop/workspace/Realtime Obstacle Detector/dataset/test/images/yar5_jpg.rf.e43d3b72359da396a6d3f49faff3913c.jpg: 640x640 3 Traffic signs, 9.6ms\n",
      "image 1155/1157 /root/Desktop/workspace/Realtime Obstacle Detector/dataset/test/images/youtube-44_jpg.rf.a29eee09ce02d4e2c50fde40b61444dd.jpg: 640x640 1 Car, 9.6ms\n",
      "image 1156/1157 /root/Desktop/workspace/Realtime Obstacle Detector/dataset/test/images/youtube-59_jpg.rf.08b6a1f677f0a09e8a43a2b8d1c576ca.jpg: 640x640 2 Cars, 9.5ms\n",
      "image 1157/1157 /root/Desktop/workspace/Realtime Obstacle Detector/dataset/test/images/youtube-62_jpg.rf.f383cc4e1059568c547e0b4c4954c986.jpg: 640x640 1 Car, 9.5ms\n",
      "Speed: 2.6ms preprocess, 10.4ms inference, 1.1ms postprocess per image at shape (1, 3, 640, 640)\n",
      "Results saved to \u001b[1mruns/detect/predict3\u001b[0m\n",
      "Prediction complete. Check the 'runs/detect/predict/' folder for the saved results with bounding boxes.\n",
      "Ultralytics 8.3.113 🚀 Python-3.8.10 torch-2.4.1+cu121 CUDA:0 (NVIDIA GeForce RTX 3090, 24253MiB)\n",
      "\u001b[34m\u001b[1mval: \u001b[0mFast image access ✅ (ping: 0.0±0.0 ms, read: 1430.9±395.8 MB/s, size: 67.8 KB)\n"
     ]
    },
    {
     "name": "stderr",
     "output_type": "stream",
     "text": [
      "\u001b[34m\u001b[1mval: \u001b[0mScanning /workspace/Realtime Obstacle Detector/dataset/test/labels.cache... 1157 images, 5 backgrounds, 0 corrupt: 100%|██████████| 1157/1157 [00:00<?, ?it/s]"
     ]
    },
    {
     "name": "stdout",
     "output_type": "stream",
     "text": [
      "WARNING ⚠️ Box and segment counts should be equal, but got len(segments) = 404, len(boxes) = 1728. To resolve this only boxes will be used and all segments will be removed. To avoid this please supply either a detect or segment dataset, not a detect-segment mixed dataset.\n"
     ]
    },
    {
     "name": "stderr",
     "output_type": "stream",
     "text": [
      "\n",
      "                 Class     Images  Instances      Box(P          R      mAP50  mAP50-95): 100%|██████████| 73/73 [00:08<00:00,  8.61it/s]\n"
     ]
    },
    {
     "name": "stdout",
     "output_type": "stream",
     "text": [
      "                   all       1157       1728      0.865      0.824      0.881      0.694\n",
      "                  Bike         16         18      0.917      0.833      0.958      0.864\n",
      "              Building         54         54      0.786      0.926       0.92       0.78\n",
      "                   Car        142        240      0.909      0.753       0.87      0.616\n",
      "                Person         88        320      0.833       0.75       0.85      0.561\n",
      "                Stairs        121        123      0.934      0.976      0.987      0.803\n",
      "          Traffic sign         84        104      0.888      0.875      0.905      0.657\n",
      "       Electrical Pole         29         30      0.797      0.833      0.894       0.64\n",
      "                  Road         36         37      0.853      0.627      0.768      0.548\n",
      "            Motorcycle         24         37      0.901      0.703      0.822       0.54\n",
      "               Dustbin         12         30      0.888      0.567      0.667      0.436\n",
      "                   Dog         29         30      0.926          1      0.969      0.898\n",
      "               Manhole        226        237      0.949      0.928      0.967      0.863\n",
      "                  Tree        114        150      0.831      0.853      0.873      0.641\n",
      "            Guard rail         47         49       0.83      0.899      0.935      0.723\n",
      "  Pedestrian crosswalk        153        189       0.87      0.812      0.867       0.72\n",
      "                 Truck         18         22      0.607      0.636      0.718      0.561\n",
      "                   Bus         30         46      0.952      0.866        0.9      0.707\n",
      "                 Bench         12         12      0.891          1      0.995      0.938\n",
      "Speed: 0.6ms preprocess, 2.9ms inference, 0.0ms loss, 0.7ms postprocess per image\n",
      "Results saved to \u001b[1mruns/detect/val13\u001b[0m\n",
      "Validation complete. Check the 'runs/detect/valid/' folder for the saved validation statics.\n"
     ]
    }
   ],
   "source": [
    "test_and_validation(\n",
    "    model=YOLO(\"/root/Desktop/workspace/Realtime Obstacle Detector/runs/detect/yolov8n-ee4/weights/best.pt\"), \n",
    "    data=\"/root/Desktop/workspace/Realtime Obstacle Detector/dataset/data.yaml\", \n",
    "    test_folder=\"/root/Desktop/workspace/Realtime Obstacle Detector/dataset/test/images/\"\n",
    ")"
   ]
  },
  {
   "cell_type": "code",
   "execution_count": 14,
   "id": "78f4e28f",
   "metadata": {
    "ExecuteTime": {
     "end_time": "2025-05-20T19:27:40.514563Z",
     "start_time": "2025-05-20T19:27:08.040993Z"
    }
   },
   "outputs": [
    {
     "name": "stdout",
     "output_type": "stream",
     "text": [
      "\n",
      "WARNING ⚠️ \n",
      "inference results will accumulate in RAM unless `stream=True` is passed, causing potential out-of-memory\n",
      "errors for large sources or long-running streams and videos. See https://docs.ultralytics.com/modes/predict/ for help.\n",
      "\n",
      "Example:\n",
      "    results = model(source=..., stream=True)  # generator of Results objects\n",
      "    for r in results:\n",
      "        boxes = r.boxes  # Boxes object for bbox outputs\n",
      "        masks = r.masks  # Masks object for segment masks outputs\n",
      "        probs = r.probs  # Class probabilities for classification outputs\n",
      "\n",
      "image 1/1157 /root/Desktop/workspace/Realtime Obstacle Detector/dataset/test/images/-0FB0E465-1451-4618-84CD-1A1A88293B08-png_jpg.rf.5bec2d42ef8cd62229fd600b3f806356.jpg: 640x640 1 Car, 8.9ms\n",
      "image 2/1157 /root/Desktop/workspace/Realtime Obstacle Detector/dataset/test/images/-1-_jpg.rf.427be72a35e1abd69e30891ca7690f37.jpg: 640x640 1 Manhole, 7.6ms\n",
      "image 3/1157 /root/Desktop/workspace/Realtime Obstacle Detector/dataset/test/images/-156F82DF-5099-4AEA-8574-19720B40C034-png_jpg.rf.287214abe75b752fceb897a8ccf173eb.jpg: 640x640 2 Cars, 1 Truck, 7.6ms\n",
      "image 4/1157 /root/Desktop/workspace/Realtime Obstacle Detector/dataset/test/images/-15F66BCC-7D1B-4C04-82EF-C560EC4C612E-png_jpg.rf.381fac2d57732fe36911af62af90e46f.jpg: 640x640 1 Car, 7.0ms\n",
      "image 5/1157 /root/Desktop/workspace/Realtime Obstacle Detector/dataset/test/images/-18-_jpg.rf.1e7a59318cf2a362292fa4d89e3dbff7.jpg: 640x640 1 Guard rail, 6.6ms\n",
      "image 6/1157 /root/Desktop/workspace/Realtime Obstacle Detector/dataset/test/images/-3827C0BE-B55D-4ADE-9938-9DC7D50A32DD-png_jpg.rf.f1c32ac330a9d223f8f8ae7a94f27149.jpg: 640x640 1 Car, 6.6ms\n",
      "image 7/1157 /root/Desktop/workspace/Realtime Obstacle Detector/dataset/test/images/-410FB936-1128-4721-89DE-79E2F58D3B24-png_jpg.rf.e310d4aa06fd701dcb3502fe569bc3dd.jpg: 640x640 2 Cars, 6.5ms\n",
      "image 8/1157 /root/Desktop/workspace/Realtime Obstacle Detector/dataset/test/images/-41421EB3-10E7-4E8B-9D22-424751A9FE8A-png_jpg.rf.6aee629caaab3df7c84929a02e7c8cf4.jpg: 640x640 2 Cars, 6.4ms\n",
      "image 9/1157 /root/Desktop/workspace/Realtime Obstacle Detector/dataset/test/images/-4B741C2C-6B83-4220-B69F-FCD31BA7BD93-png_jpg.rf.43cc80ab890d2e4bd85589267eb4ddf0.jpg: 640x640 1 Car, 1 Road, 6.4ms\n",
      "image 10/1157 /root/Desktop/workspace/Realtime Obstacle Detector/dataset/test/images/-531F16FE-7468-484D-8B14-D5229D4851B8-png_jpg.rf.aae7470a5e560ffbec3e8c5d31f8d3a8.jpg: 640x640 2 Cars, 6.7ms\n",
      "image 11/1157 /root/Desktop/workspace/Realtime Obstacle Detector/dataset/test/images/-5A06964D-6D40-4132-A769-F21A3B8E1DAA-png_jpg.rf.0463d4ee9ab61d1c13fe5f029b8d0b42.jpg: 640x640 2 Cars, 6.6ms\n",
      "image 12/1157 /root/Desktop/workspace/Realtime Obstacle Detector/dataset/test/images/-B3FF9CBC-6C9F-4BDD-B814-790723E32E98-png_jpg.rf.ae0ef9fb02ca0b8ce94e513562b6a038.jpg: 640x640 1 Car, 6.4ms\n",
      "image 13/1157 /root/Desktop/workspace/Realtime Obstacle Detector/dataset/test/images/-B4C05A41-CD1A-4081-9609-EEFF67F464BE-png_jpg.rf.80d6fefefd10db9327a383e0cd7c7d73.jpg: 640x640 1 Car, 6.3ms\n",
      "image 14/1157 /root/Desktop/workspace/Realtime Obstacle Detector/dataset/test/images/-B59BC424-0AB7-4880-82A8-54AC24CC8C85-png_jpg.rf.d5db04c47f089a521ad76c5da1140200.jpg: 640x640 1 Car, 6.6ms\n",
      "image 15/1157 /root/Desktop/workspace/Realtime Obstacle Detector/dataset/test/images/-BfPbDb0lSK4-_mp4-110_jpg.rf.8517c370ba76046816e467ca45d554cd.jpg: 640x640 6 Persons, 6.8ms\n",
      "image 16/1157 /root/Desktop/workspace/Realtime Obstacle Detector/dataset/test/images/-BfPbDb0lSK4-_mp4-25_jpg.rf.a484b4f19c4c3166a3507c84efd1e06d.jpg: 640x640 3 Persons, 6.8ms\n",
      "image 17/1157 /root/Desktop/workspace/Realtime Obstacle Detector/dataset/test/images/-BfPbDb0lSK4-_mp4-26_jpg.rf.ce061b8bc733b3be181e55fe94027ee7.jpg: 640x640 1 Pedestrian crosswalk, 6.8ms\n",
      "image 18/1157 /root/Desktop/workspace/Realtime Obstacle Detector/dataset/test/images/-BfPbDb0lSK4-_mp4-36_jpg.rf.b6869aa620c750fc8874b5e1f91d983d.jpg: 640x640 7 Persons, 6.7ms\n",
      "image 19/1157 /root/Desktop/workspace/Realtime Obstacle Detector/dataset/test/images/-BfPbDb0lSK4-_mp4-44_jpg.rf.0eb9fb383e24b1e75a33fd40c97d24cc.jpg: 640x640 5 Persons, 6.5ms\n",
      "image 20/1157 /root/Desktop/workspace/Realtime Obstacle Detector/dataset/test/images/-BfPbDb0lSK4-_mp4-46_jpg.rf.a63159ac3b674289c98053023c0d2e6e.jpg: 640x640 7 Persons, 7.1ms\n",
      "image 21/1157 /root/Desktop/workspace/Realtime Obstacle Detector/dataset/test/images/-BfPbDb0lSK4-_mp4-51_jpg.rf.28205ba8059e5fe0b7564221f2d672c1.jpg: 640x640 5 Persons, 6.3ms\n",
      "image 22/1157 /root/Desktop/workspace/Realtime Obstacle Detector/dataset/test/images/-BfPbDb0lSK4-_mp4-72_jpg.rf.32eac15e86504fba6581818ccaf8d64d.jpg: 640x640 4 Persons, 6.3ms\n",
      "image 23/1157 /root/Desktop/workspace/Realtime Obstacle Detector/dataset/test/images/-BfPbDb0lSK4-_mp4-73_jpg.rf.51deb372ba17617cc5bf23d9a1341713.jpg: 640x640 5 Persons, 6.6ms\n",
      "image 24/1157 /root/Desktop/workspace/Realtime Obstacle Detector/dataset/test/images/-BfPbDb0lSK4-_mp4-7_jpg.rf.4b9d3ae0e867694f6f1cca66db67822e.jpg: 640x640 7 Persons, 6.5ms\n",
      "image 25/1157 /root/Desktop/workspace/Realtime Obstacle Detector/dataset/test/images/-BfPbDb0lSK4-_mp4-88_jpg.rf.48332faa6c478bbc0e6ca0eec0696876.jpg: 640x640 7 Persons, 6.7ms\n",
      "image 26/1157 /root/Desktop/workspace/Realtime Obstacle Detector/dataset/test/images/-BfPbDb0lSK4-_mp4-96_jpg.rf.85d667a07ad39e5f3d96ce47829e7006.jpg: 640x640 5 Persons, 7.6ms\n",
      "image 27/1157 /root/Desktop/workspace/Realtime Obstacle Detector/dataset/test/images/-C2D8DECE-2C51-4217-9B45-88F76CBC1D6C-png_jpg.rf.7a9f7b67ff5da53ee04e06aa852511ca.jpg: 640x640 1 Car, 6.6ms\n",
      "image 28/1157 /root/Desktop/workspace/Realtime Obstacle Detector/dataset/test/images/-CF2B7A09-EC0C-4B1D-BDA5-7FD52B39F0F8-png_jpg.rf.108b629e5f72083ac7c5b89cd8282a96.jpg: 640x640 1 Car, 6.5ms\n",
      "image 29/1157 /root/Desktop/workspace/Realtime Obstacle Detector/dataset/test/images/-FFB52469-E780-47C4-887D-EEAD0226DDE5-png_jpg.rf.571ab506e59d705c555071756fe446e0.jpg: 640x640 1 Car, 6.5ms\n",
      "image 30/1157 /root/Desktop/workspace/Realtime Obstacle Detector/dataset/test/images/-_20241008093506_jpg.rf.811f9da3be2b829d73227a8f389bcadf.jpg: 640x640 2 Trees, 1 Guard rail, 6.4ms\n",
      "image 31/1157 /root/Desktop/workspace/Realtime Obstacle Detector/dataset/test/images/0000_theTroy1_031a8776-37b2-42d2-8297-7bf830685593_x625_jpg.rf.9a26ed210356d4a190c77318741932f0.jpg: 640x640 1 Bike, 8.0ms\n",
      "image 32/1157 /root/Desktop/workspace/Realtime Obstacle Detector/dataset/test/images/0097-01076_jpg.rf.b5bdc49c78c5cb513a8839459a4246ec.jpg: 640x640 15 Persons, 6.6ms\n",
      "image 33/1157 /root/Desktop/workspace/Realtime Obstacle Detector/dataset/test/images/00I1OZ5A25ZP_jpg.rf.0bf226785704a8f053d87485dc573291.jpg: 640x640 1 Manhole, 6.6ms\n",
      "image 34/1157 /root/Desktop/workspace/Realtime Obstacle Detector/dataset/test/images/0811_jpg.rf.6699aa77c5dca50a5abf2e8cbd8f53e5.jpg: 416x640 1 Motorcycle, 7.8ms\n",
      "image 35/1157 /root/Desktop/workspace/Realtime Obstacle Detector/dataset/test/images/0813_jpg.rf.578b6cdaab9f73e9e596c3864840a056.jpg: 448x640 1 Motorcycle, 7.5ms\n",
      "image 36/1157 /root/Desktop/workspace/Realtime Obstacle Detector/dataset/test/images/0814_jpg.rf.5c36e50c38fd24ca264aedd414d4d51f.jpg: 448x640 1 Motorcycle, 6.6ms\n",
      "image 37/1157 /root/Desktop/workspace/Realtime Obstacle Detector/dataset/test/images/0815_jpg.rf.3e2fa2c2643a1175660cdf815dfd88d4.jpg: 448x640 2 Motorcycles, 6.6ms\n",
      "image 38/1157 /root/Desktop/workspace/Realtime Obstacle Detector/dataset/test/images/0816_jpg.rf.8d9b95089a833897e589a562f20ea060.jpg: 448x640 1 Motorcycle, 6.6ms\n",
      "image 39/1157 /root/Desktop/workspace/Realtime Obstacle Detector/dataset/test/images/0818_jpg.rf.4caa3ffbb6f09712c650ce7353fd28f7.jpg: 480x640 1 Motorcycle, 7.4ms\n",
      "image 40/1157 /root/Desktop/workspace/Realtime Obstacle Detector/dataset/test/images/0819_jpg.rf.59e5570ed18f8f82cbd2442acb2c578e.jpg: 480x640 1 Motorcycle, 6.6ms\n",
      "image 41/1157 /root/Desktop/workspace/Realtime Obstacle Detector/dataset/test/images/0820_jpg.rf.4cb10e8eaf68aaac2cc3edcffa4d641d.jpg: 480x640 1 Motorcycle, 6.8ms\n",
      "image 42/1157 /root/Desktop/workspace/Realtime Obstacle Detector/dataset/test/images/0821_jpg.rf.4d0a252a86243c9fdb2b8bd9821e8e9d.jpg: 480x640 1 Motorcycle, 6.5ms\n",
      "image 43/1157 /root/Desktop/workspace/Realtime Obstacle Detector/dataset/test/images/0822_jpg.rf.36a8ee8e4d410946ba341cdd949ae343.jpg: 384x640 1 Motorcycle, 7.8ms\n",
      "image 44/1157 /root/Desktop/workspace/Realtime Obstacle Detector/dataset/test/images/0824_jpg.rf.ea5fd66e3de43a78b534e6ad0ddbb3cf.jpg: 512x640 1 Motorcycle, 7.5ms\n",
      "image 45/1157 /root/Desktop/workspace/Realtime Obstacle Detector/dataset/test/images/0825_jpg.rf.64b01eaef48b4e51834da705796448d7.jpg: 448x640 1 Motorcycle, 11.5ms\n",
      "image 46/1157 /root/Desktop/workspace/Realtime Obstacle Detector/dataset/test/images/0826_jpg.rf.f4900880ad883727852497983bf6eda6.jpg: 480x640 1 Motorcycle, 7.3ms\n",
      "image 47/1157 /root/Desktop/workspace/Realtime Obstacle Detector/dataset/test/images/09145341do8o_jpg.rf.facec17cb770ea057875e0cdda6bfdf6.jpg: 640x640 1 Car, 1 Person, 2 Manholes, 7.2ms\n",
      "image 48/1157 /root/Desktop/workspace/Realtime Obstacle Detector/dataset/test/images/0HSOND9FWJDK_jpg.rf.e01c6f25b2273c6bc7ee30fbd853d5fa.jpg: 640x640 1 Manhole, 6.5ms\n",
      "image 49/1157 /root/Desktop/workspace/Realtime Obstacle Detector/dataset/test/images/0_IA8frOENnWPIEOkPtOMA-41-055499120431634-28-961989325551826_png.rf.7d3e7d31c168a7830d7782e2c462d4fc.jpg: 640x640 2 Cars, 1 Road, 1 Manhole, 6.4ms\n",
      "image 50/1157 /root/Desktop/workspace/Realtime Obstacle Detector/dataset/test/images/1-3-810x540_jpg.rf.e89bb5ce95e70d67950c838129a69b34.jpg: 640x640 1 Bike, 6.5ms\n",
      "image 51/1157 /root/Desktop/workspace/Realtime Obstacle Detector/dataset/test/images/1000_F_122934059_nf78Nw815G6V1Jht8gdgf7CVqhODb1dE_jpg.rf.161bf69d43905b9738f0b5f889c2396b.jpg: 640x640 1 Person, 6.5ms\n",
      "image 52/1157 /root/Desktop/workspace/Realtime Obstacle Detector/dataset/test/images/1000_F_216234425_q0M6sE7S1pkW1QNwqqRyruUOYbqbDG7t_jpg.rf.a22405c9db24de5e8ca97ac7b761cf86.jpg: 640x640 2 Persons, 6.3ms\n",
      "image 53/1157 /root/Desktop/workspace/Realtime Obstacle Detector/dataset/test/images/1000_F_264625114_RXcjD79rDLsL6SZDVFvbmM30vG42Lpfd_jpg.rf.747588921ab1ef63287402bdd2c751e5.jpg: 640x640 1 Person, 6.5ms\n",
      "image 54/1157 /root/Desktop/workspace/Realtime Obstacle Detector/dataset/test/images/1000_F_280898253_wzVaGWjHLkXOkZJlPhejMC8OYUUl4oar_jpg.rf.3ade4c719c1230a1c39cb53b53a6875d.jpg: 640x640 2 Persons, 6.2ms\n",
      "image 55/1157 /root/Desktop/workspace/Realtime Obstacle Detector/dataset/test/images/1000_F_58129505_fl8BSnSiB57HIkyKdCaK8S3qivIMYsG4_jpg.rf.f2105ed2eab67d6859b1f8293cd97634.jpg: 640x640 1 Person, 6.2ms\n",
      "image 56/1157 /root/Desktop/workspace/Realtime Obstacle Detector/dataset/test/images/1006_png.rf.cc2eba15a0ebc41cfeb47cf75113d60f.jpg: 640x640 1 Tree, 6.5ms\n",
      "image 57/1157 /root/Desktop/workspace/Realtime Obstacle Detector/dataset/test/images/1008_jpg.rf.b6a18c8fc860a6af7dd4be0b89d1c38b.jpg: 640x640 1 Tree, 6.3ms\n",
      "image 58/1157 /root/Desktop/workspace/Realtime Obstacle Detector/dataset/test/images/100_jpg.rf.055925955ef5bc987eec684cc9dfb41d.jpg: 640x640 2 Pedestrian crosswalks, 6.4ms\n",
      "image 59/1157 /root/Desktop/workspace/Realtime Obstacle Detector/dataset/test/images/100_jpg.rf.175c1e409538f88f6bc97fec662b4388.jpg: 640x640 1 Tree, 6.3ms\n",
      "image 60/1157 /root/Desktop/workspace/Realtime Obstacle Detector/dataset/test/images/1011_jpeg.rf.52508c4379ebb7f8b27f3d679211c446.jpg: 640x640 1 Tree, 6.3ms\n",
      "image 61/1157 /root/Desktop/workspace/Realtime Obstacle Detector/dataset/test/images/101_jpg.rf.acc6a92479b46d220cf191c06b7fdf0a.jpg: 640x640 1 Pedestrian crosswalk, 6.4ms\n",
      "image 62/1157 /root/Desktop/workspace/Realtime Obstacle Detector/dataset/test/images/1025_jpg.rf.be513e7031e0070440b8e89af2a2d9ae.jpg: 640x640 1 Tree, 6.6ms\n",
      "image 63/1157 /root/Desktop/workspace/Realtime Obstacle Detector/dataset/test/images/102_jpg.rf.224a5e6d077c5e996d73596440107715.jpg: 640x640 1 Pedestrian crosswalk, 7.4ms\n",
      "image 64/1157 /root/Desktop/workspace/Realtime Obstacle Detector/dataset/test/images/1037_jpg.rf.529a4cb64340f84b0741d15fb5e7dbe8.jpg: 640x640 2 Trees, 6.5ms\n",
      "image 65/1157 /root/Desktop/workspace/Realtime Obstacle Detector/dataset/test/images/1039_jpg.rf.7bc6b1cf95acd8560d472abc4283b058.jpg: 640x640 2 Trees, 6.5ms\n",
      "image 66/1157 /root/Desktop/workspace/Realtime Obstacle Detector/dataset/test/images/1044598-1-_jpg.rf.24e2e53642476ead61d3e2276d617a7a.jpg: 640x640 2 Persons, 6.5ms\n",
      "image 67/1157 /root/Desktop/workspace/Realtime Obstacle Detector/dataset/test/images/104_jpg.rf.90af2c002566eedcd401d5b9c5b09ef3.jpg: 640x640 1 Pedestrian crosswalk, 6.4ms\n",
      "image 68/1157 /root/Desktop/workspace/Realtime Obstacle Detector/dataset/test/images/104_jpg.rf.bb4298debe0c57ce8db70a359096cc7e.jpg: 640x640 1 Pedestrian crosswalk, 6.5ms\n",
      "image 69/1157 /root/Desktop/workspace/Realtime Obstacle Detector/dataset/test/images/105_jpg.rf.91735f98b83599fed938fada4fcf1df8.jpg: 640x640 1 Tree, 6.3ms\n",
      "image 70/1157 /root/Desktop/workspace/Realtime Obstacle Detector/dataset/test/images/109_jpg.rf.b0ef968f481220a98999b0738df6f8b0.jpg: 640x640 2 Pedestrian crosswalks, 6.2ms\n",
      "image 71/1157 /root/Desktop/workspace/Realtime Obstacle Detector/dataset/test/images/110_jpg.rf.0b15511abe4c669fbbf783a3feeaad75.jpg: 640x640 1 Pedestrian crosswalk, 6.3ms\n",
      "image 72/1157 /root/Desktop/workspace/Realtime Obstacle Detector/dataset/test/images/112_jpg.rf.9d9e3b64fdfebb23cf8e32e5db27c1da.jpg: 640x640 2 Pedestrian crosswalks, 6.3ms\n",
      "image 73/1157 /root/Desktop/workspace/Realtime Obstacle Detector/dataset/test/images/112_jpg.rf.b2fbcb76c4ea0a5255fd0456cf8dfc45.jpg: 640x640 2 Pedestrian crosswalks, 6.6ms\n",
      "image 74/1157 /root/Desktop/workspace/Realtime Obstacle Detector/dataset/test/images/113_jpg.rf.e705e92a16caabd67a1d76167a84f0d0.jpg: 640x640 1 Tree, 6.4ms\n",
      "image 75/1157 /root/Desktop/workspace/Realtime Obstacle Detector/dataset/test/images/11_png_jpg.rf.79a1594903119c6a1b44554d8553d400.jpg: 640x640 1 Manhole, 6.4ms\n",
      "image 76/1157 /root/Desktop/workspace/Realtime Obstacle Detector/dataset/test/images/120_jpg.rf.0057e54ea47e6e714f0b608f4093ee1f.jpg: 640x640 1 Pedestrian crosswalk, 6.8ms\n",
      "image 77/1157 /root/Desktop/workspace/Realtime Obstacle Detector/dataset/test/images/120_jpg.rf.b8b8b91a045362e01d4b9cb7b3e66e4c.jpg: 640x640 1 Pedestrian crosswalk, 6.5ms\n",
      "image 78/1157 /root/Desktop/workspace/Realtime Obstacle Detector/dataset/test/images/120_jpg.rf.e15c56d13b98910caef4120dc4ad1f2a.jpg: 640x640 1 Pedestrian crosswalk, 6.3ms\n",
      "image 79/1157 /root/Desktop/workspace/Realtime Obstacle Detector/dataset/test/images/121_jpg.rf.ae76ddf26cf27f3092e4d342ee07cdd1.jpg: 640x640 1 Pedestrian crosswalk, 6.3ms\n",
      "image 80/1157 /root/Desktop/workspace/Realtime Obstacle Detector/dataset/test/images/121_jpg.rf.cfd6c1553d4d73cd777f85473a77b8e0.jpg: 640x640 1 Pedestrian crosswalk, 6.3ms\n",
      "image 81/1157 /root/Desktop/workspace/Realtime Obstacle Detector/dataset/test/images/122_jpg.rf.331cfe2447c1c17da21c6e8f9fd3b172.jpg: 640x640 1 Manhole, 6.2ms\n",
      "image 82/1157 /root/Desktop/workspace/Realtime Obstacle Detector/dataset/test/images/122_jpg.rf.3f53cfcdb196ecab169cedb27cab9cc0.jpg: 640x640 1 Pedestrian crosswalk, 6.2ms\n",
      "image 83/1157 /root/Desktop/workspace/Realtime Obstacle Detector/dataset/test/images/125_jpg.rf.7c84adbae218be29423e214bad5dc729.jpg: 640x640 1 Pedestrian crosswalk, 6.7ms\n",
      "image 84/1157 /root/Desktop/workspace/Realtime Obstacle Detector/dataset/test/images/127_jpg.rf.9cb20fe9d0d5edd117e717900d360b17.jpg: 640x640 1 Manhole, 6.5ms\n",
      "image 85/1157 /root/Desktop/workspace/Realtime Obstacle Detector/dataset/test/images/127_jpg.rf.bd4aadb681a1f158b821ab6011424efe.jpg: 640x640 1 Pedestrian crosswalk, 6.9ms\n",
      "image 86/1157 /root/Desktop/workspace/Realtime Obstacle Detector/dataset/test/images/12_BoysRadioFlyer_1A_jpg.rf.d796f8c4a5e64cdab24b4d68a5e41780.jpg: 640x640 1 Bike, 6.4ms\n",
      "image 87/1157 /root/Desktop/workspace/Realtime Obstacle Detector/dataset/test/images/12_jpeg_jpg.rf.9329127909c064646b5d031f345c6ea5.jpg: 640x640 1 Manhole, 6.6ms\n",
      "image 88/1157 /root/Desktop/workspace/Realtime Obstacle Detector/dataset/test/images/130_jpg.rf.e4c9f8c49b6cdac7fdd30dc571573f9e.jpg: 640x640 1 Manhole, 8.7ms\n",
      "image 89/1157 /root/Desktop/workspace/Realtime Obstacle Detector/dataset/test/images/131_jpg.rf.bb60fa410b55f6a789ff3d9fa0bf52d9.jpg: 640x640 1 Pedestrian crosswalk, 6.7ms\n",
      "image 90/1157 /root/Desktop/workspace/Realtime Obstacle Detector/dataset/test/images/132_jpg.rf.0b85abee929242a30121abf34a72dfee.jpg: 640x640 1 Tree, 6.8ms\n",
      "image 91/1157 /root/Desktop/workspace/Realtime Obstacle Detector/dataset/test/images/133_jpg.rf.ca37bd60432290b6b1371415f1389792.jpg: 640x640 1 Tree, 6.6ms\n",
      "image 92/1157 /root/Desktop/workspace/Realtime Obstacle Detector/dataset/test/images/133_jpg.rf.e8fb6e6cdb361c5bb656e0d90d9c1c04.jpg: 640x640 1 Pedestrian crosswalk, 6.5ms\n",
      "image 93/1157 /root/Desktop/workspace/Realtime Obstacle Detector/dataset/test/images/137_jpg.rf.e9a049926959d115fd549b3f7f8e5c36.jpg: 640x640 1 Pedestrian crosswalk, 6.4ms\n",
      "image 94/1157 /root/Desktop/workspace/Realtime Obstacle Detector/dataset/test/images/13_jpeg.rf.172eca77e6e4088cc461354a745e925b.jpg: 640x640 1 Tree, 6.6ms\n",
      "image 95/1157 /root/Desktop/workspace/Realtime Obstacle Detector/dataset/test/images/13_jpg.rf.bb7ee5c7e7addd48d3f5f6639149434c.jpg: 640x640 1 Pedestrian crosswalk, 6.3ms\n",
      "image 96/1157 /root/Desktop/workspace/Realtime Obstacle Detector/dataset/test/images/13_png_jpg.rf.84a1b397cf76f10cc9998b48f9b55dc3.jpg: 640x640 1 Manhole, 6.3ms\n",
      "image 97/1157 /root/Desktop/workspace/Realtime Obstacle Detector/dataset/test/images/140_jpg.rf.b346c6e10f20f8afe7b8cc2d9be64a1c.jpg: 640x640 2 Pedestrian crosswalks, 6.4ms\n",
      "image 98/1157 /root/Desktop/workspace/Realtime Obstacle Detector/dataset/test/images/141_jpg.rf.d9f9841be392275406087aa1fed8dd76.jpg: 640x640 1 Pedestrian crosswalk, 6.3ms\n",
      "image 99/1157 /root/Desktop/workspace/Realtime Obstacle Detector/dataset/test/images/142_jpg.rf.273b8dfe0bd75e1fade627233db2d7b2.jpg: 640x640 1 Stairs, 6.5ms\n",
      "image 100/1157 /root/Desktop/workspace/Realtime Obstacle Detector/dataset/test/images/142_jpg.rf.ac7c1d3f1876305b15c6e531cd23c0ea.jpg: 640x640 1 Tree, 7.0ms\n",
      "image 101/1157 /root/Desktop/workspace/Realtime Obstacle Detector/dataset/test/images/145_jpg.rf.e9a7999639f0407e89358b901016c60e.jpg: 640x640 1 Pedestrian crosswalk, 6.8ms\n",
      "image 102/1157 /root/Desktop/workspace/Realtime Obstacle Detector/dataset/test/images/150_jpg.rf.9dbb3fa098f8038e54a1111e97be9383.jpg: 640x640 1 Pedestrian crosswalk, 6.6ms\n",
      "image 103/1157 /root/Desktop/workspace/Realtime Obstacle Detector/dataset/test/images/151_jpg.rf.1af06080889eaa2eb03872655c7f9016.jpg: 640x640 1 Tree, 15.4ms\n",
      "image 104/1157 /root/Desktop/workspace/Realtime Obstacle Detector/dataset/test/images/151_jpg.rf.1b810dcb7adb1e2eb2c0cf28c1c81efa.jpg: 640x640 1 Pedestrian crosswalk, 11.2ms\n",
      "image 105/1157 /root/Desktop/workspace/Realtime Obstacle Detector/dataset/test/images/151_jpg.rf.a913bfe14a8227ad64e43c67a14ac350.jpg: 640x640 1 Pedestrian crosswalk, 6.4ms\n",
      "image 106/1157 /root/Desktop/workspace/Realtime Obstacle Detector/dataset/test/images/1538047566766094_jpg.rf.c673656aee1bec5862622937ed7c66f5.jpg: 640x640 1 Guard rail, 6.5ms\n",
      "image 107/1157 /root/Desktop/workspace/Realtime Obstacle Detector/dataset/test/images/156_jpg.rf.be863e91da6895050cec4436406c71f1.jpg: 640x640 1 Tree, 6.5ms\n",
      "image 108/1157 /root/Desktop/workspace/Realtime Obstacle Detector/dataset/test/images/157_jpg.rf.f8092dd85b608341acae5c9ef714f648.jpg: 640x640 1 Pedestrian crosswalk, 6.4ms\n",
      "image 109/1157 /root/Desktop/workspace/Realtime Obstacle Detector/dataset/test/images/15_jpeg.rf.ddf4e0523f270b5265f53337ad6f7ad0.jpg: 640x640 1 Tree, 6.3ms\n",
      "image 110/1157 /root/Desktop/workspace/Realtime Obstacle Detector/dataset/test/images/161_jpg.rf.1d2c700e5d5d55a06f1b292e3ab61c41.jpg: 640x640 1 Pedestrian crosswalk, 7.1ms\n",
      "image 111/1157 /root/Desktop/workspace/Realtime Obstacle Detector/dataset/test/images/164_jpg.rf.a20b8e518e78675b74df9b38bc21b07d.jpg: 640x640 1 Pedestrian crosswalk, 6.3ms\n",
      "image 112/1157 /root/Desktop/workspace/Realtime Obstacle Detector/dataset/test/images/165_jpg.rf.94e949b79511c66ccff4df4fa850a896.jpg: 640x640 1 Pedestrian crosswalk, 6.3ms\n",
      "image 113/1157 /root/Desktop/workspace/Realtime Obstacle Detector/dataset/test/images/1667413896778500529_png_jpg.rf.a32a4187e328739c2ec159c1ffa3336d.jpg: 640x640 1 Guard rail, 6.2ms\n",
      "image 114/1157 /root/Desktop/workspace/Realtime Obstacle Detector/dataset/test/images/1667415778421198423_png_jpg.rf.a0870c9da6031486a03899bea44bcc67.jpg: 640x640 1 Guard rail, 6.3ms\n",
      "image 115/1157 /root/Desktop/workspace/Realtime Obstacle Detector/dataset/test/images/1672324359292936228_png_jpg.rf.116aae1272ab99893763dd4d824698d2.jpg: 640x640 1 Guard rail, 6.4ms\n",
      "image 116/1157 /root/Desktop/workspace/Realtime Obstacle Detector/dataset/test/images/1672325185800133510_png_jpg.rf.c3ae56a89a6dc6a4128c5b254bdf8f5d.jpg: 640x640 1 Guard rail, 6.3ms\n",
      "image 117/1157 /root/Desktop/workspace/Realtime Obstacle Detector/dataset/test/images/1672332779058530287_png_jpg.rf.645510aba81b0798ae04aa1cceca8422.jpg: 640x640 1 Guard rail, 6.5ms\n",
      "image 118/1157 /root/Desktop/workspace/Realtime Obstacle Detector/dataset/test/images/1672339484469891055_png_jpg.rf.e0104ba8c18ebb8fff474f7078f501f8.jpg: 640x640 1 Guard rail, 6.3ms\n",
      "image 119/1157 /root/Desktop/workspace/Realtime Obstacle Detector/dataset/test/images/1673013233645652467_png_jpg.rf.9f187f9c1c025a4559dc81fa050a4c78.jpg: 640x640 1 Guard rail, 6.3ms\n",
      "image 120/1157 /root/Desktop/workspace/Realtime Obstacle Detector/dataset/test/images/1673017008571287682_png_jpg.rf.b1ea7029d723f46bc5ddb0a103d67bec.jpg: 640x640 1 Guard rail, 6.4ms\n",
      "image 121/1157 /root/Desktop/workspace/Realtime Obstacle Detector/dataset/test/images/1673018945219592106_png_jpg.rf.febf61ff5d500d594c7885e81d02f455.jpg: 640x640 1 Guard rail, 6.3ms\n",
      "image 122/1157 /root/Desktop/workspace/Realtime Obstacle Detector/dataset/test/images/1673019195614747261_png_jpg.rf.1127c8d0bb69b6da7af65df2562ec356.jpg: 640x640 1 Guard rail, 6.3ms\n",
      "image 123/1157 /root/Desktop/workspace/Realtime Obstacle Detector/dataset/test/images/1673025189904113287_png_jpg.rf.b738f3c456034c01ff12d3aa31e4113d.jpg: 640x640 1 Guard rail, 6.8ms\n",
      "image 124/1157 /root/Desktop/workspace/Realtime Obstacle Detector/dataset/test/images/167_jpg.rf.5bff20b053d725ad82e2e733d1602162.jpg: 640x640 1 Tree, 6.4ms\n",
      "image 125/1157 /root/Desktop/workspace/Realtime Obstacle Detector/dataset/test/images/168_jpg.rf.c3bdd091db61d3b6a5165f6a7d3bdca9.jpg: 640x640 1 Tree, 6.5ms\n",
      "image 126/1157 /root/Desktop/workspace/Realtime Obstacle Detector/dataset/test/images/168_jpg.rf.f00cda833a44db359c545b3549570b4b.jpg: 640x640 3 Pedestrian crosswalks, 6.3ms\n",
      "image 127/1157 /root/Desktop/workspace/Realtime Obstacle Detector/dataset/test/images/16_jpg.rf.4be538210118a79ab7eb92b2021e3cf7.jpg: 640x640 1 Pedestrian crosswalk, 6.4ms\n",
      "image 128/1157 /root/Desktop/workspace/Realtime Obstacle Detector/dataset/test/images/16_jpg.rf.560ecdbfc0efbd073487fb23acb2a5f3.jpg: 640x640 1 Pedestrian crosswalk, 6.3ms\n",
      "image 129/1157 /root/Desktop/workspace/Realtime Obstacle Detector/dataset/test/images/16_jpg.rf.9aed8a2c34536ca706b2770cb31a7071.jpg: 640x640 1 Pedestrian crosswalk, 6.3ms\n",
      "image 130/1157 /root/Desktop/workspace/Realtime Obstacle Detector/dataset/test/images/16_png_jpg.rf.d1c49ac322c4e392cdca3b76d8e47999.jpg: 640x640 1 Manhole, 6.3ms\n",
      "image 131/1157 /root/Desktop/workspace/Realtime Obstacle Detector/dataset/test/images/170_jpg.rf.37921b5b0b236123389f68e8b691453a.jpg: 640x640 3 Trees, 6.3ms\n",
      "image 132/1157 /root/Desktop/workspace/Realtime Obstacle Detector/dataset/test/images/172_jpg.rf.1408b96d7764e1fcdc3fdeae6ed31a6b.jpg: 640x640 1 Pedestrian crosswalk, 6.4ms\n",
      "image 133/1157 /root/Desktop/workspace/Realtime Obstacle Detector/dataset/test/images/172_jpg.rf.4a2f3b64e23cadf0d951eba9e4754d6b.jpg: 640x640 1 Pedestrian crosswalk, 6.3ms\n",
      "image 134/1157 /root/Desktop/workspace/Realtime Obstacle Detector/dataset/test/images/172_jpg.rf.e402943529bd011180860b0a1efd3e99.jpg: 640x640 1 Tree, 6.3ms\n",
      "image 135/1157 /root/Desktop/workspace/Realtime Obstacle Detector/dataset/test/images/174_jpg.rf.7120d1fabd393a7889dcf0fd808cbb46.jpg: 640x640 1 Pedestrian crosswalk, 6.2ms\n",
      "image 136/1157 /root/Desktop/workspace/Realtime Obstacle Detector/dataset/test/images/174_jpg.rf.ace27816af5c120a270830517e68ec91.jpg: 640x640 1 Pedestrian crosswalk, 6.2ms\n",
      "image 137/1157 /root/Desktop/workspace/Realtime Obstacle Detector/dataset/test/images/175_jpg.rf.c73c66df3e399c9d69a5aa2b1e3f0ded.jpg: 640x640 1 Pedestrian crosswalk, 6.7ms\n",
      "image 138/1157 /root/Desktop/workspace/Realtime Obstacle Detector/dataset/test/images/177_jpg.rf.c584072fe992094566e91716336ec915.jpg: 640x640 1 Tree, 6.6ms\n",
      "image 139/1157 /root/Desktop/workspace/Realtime Obstacle Detector/dataset/test/images/178_jpg.rf.c192b2ca1d3d86ba9274b72ddf26f305.jpg: 640x640 2 Pedestrian crosswalks, 6.5ms\n",
      "image 140/1157 /root/Desktop/workspace/Realtime Obstacle Detector/dataset/test/images/17_jpg.rf.40a2cd516cfa03af6c0daa95662de4c3.jpg: 640x640 1 Manhole, 6.6ms\n",
      "image 141/1157 /root/Desktop/workspace/Realtime Obstacle Detector/dataset/test/images/181_jpg.rf.00fb93308ce80932002a9b968c6ad602.jpg: 640x640 1 Pedestrian crosswalk, 6.8ms\n",
      "image 142/1157 /root/Desktop/workspace/Realtime Obstacle Detector/dataset/test/images/181_jpg.rf.ef9d1f1e7035911b8730562bce2cc7ef.jpg: 640x640 1 Pedestrian crosswalk, 6.5ms\n",
      "image 143/1157 /root/Desktop/workspace/Realtime Obstacle Detector/dataset/test/images/186_jpg.rf.d3f430af253756c7e70345525e3a1ad6.jpg: 640x640 2 Pedestrian crosswalks, 6.6ms\n",
      "image 144/1157 /root/Desktop/workspace/Realtime Obstacle Detector/dataset/test/images/189KTRG98UDR_jpg.rf.92a5f923630223bf9fb3a5434f2d1cf6.jpg: 640x640 1 Manhole, 6.4ms\n",
      "image 145/1157 /root/Desktop/workspace/Realtime Obstacle Detector/dataset/test/images/189_jpg.rf.f0a12e5aaced3f69ff86cf2fb9a8d26e.jpg: 640x640 1 Pedestrian crosswalk, 6.3ms\n",
      "image 146/1157 /root/Desktop/workspace/Realtime Obstacle Detector/dataset/test/images/18_jpg.rf.9fb279deb31bd00671e6ddd0e882f069.jpg: 640x640 1 Pedestrian crosswalk, 6.3ms\n",
      "image 147/1157 /root/Desktop/workspace/Realtime Obstacle Detector/dataset/test/images/18_jpg.rf.dadc67ae829c7aa4ac1cdbb2b953d86c.jpg: 640x640 1 Pedestrian crosswalk, 6.5ms\n",
      "image 148/1157 /root/Desktop/workspace/Realtime Obstacle Detector/dataset/test/images/190_jpg.rf.e33ee0a94110a780d997a8cc6a091c33.jpg: 640x640 1 Pedestrian crosswalk, 6.4ms\n",
      "image 149/1157 /root/Desktop/workspace/Realtime Obstacle Detector/dataset/test/images/193_jpg.rf.cb9afe0437e597d4ee67dff525751b5a.jpg: 640x640 1 Pedestrian crosswalk, 6.4ms\n",
      "image 150/1157 /root/Desktop/workspace/Realtime Obstacle Detector/dataset/test/images/194_jpg.rf.41ed6054e64df446811422e44990b3a1.jpg: 640x640 2 Pedestrian crosswalks, 6.7ms\n",
      "image 151/1157 /root/Desktop/workspace/Realtime Obstacle Detector/dataset/test/images/194_jpg.rf.dcf20d1aba9d76ef5c9ebecd5b90f9a1.jpg: 640x640 2 Pedestrian crosswalks, 6.6ms\n",
      "image 152/1157 /root/Desktop/workspace/Realtime Obstacle Detector/dataset/test/images/196_jpg.rf.f6f1901b20320572318732882cbdfc3d.jpg: 640x640 1 Tree, 6.6ms\n",
      "image 153/1157 /root/Desktop/workspace/Realtime Obstacle Detector/dataset/test/images/199_jpg.rf.48e8f1f9fdb5e4568b7453442d8504ab.jpg: 640x640 1 Pedestrian crosswalk, 6.7ms\n",
      "image 154/1157 /root/Desktop/workspace/Realtime Obstacle Detector/dataset/test/images/1F3XHKMYD2ZN_jpg.rf.2127496bf5ca11043cde012fb9aeabd3.jpg: 640x640 1 Manhole, 6.4ms\n",
      "image 155/1157 /root/Desktop/workspace/Realtime Obstacle Detector/dataset/test/images/1GM56NHWGRDE_jpg.rf.a48fb1ef3cac73d2ca35996a47101e12.jpg: 640x640 3 Manholes, 6.3ms\n",
      "image 156/1157 /root/Desktop/workspace/Realtime Obstacle Detector/dataset/test/images/1IUBK1KOM9P4_jpg.rf.5c0ebe4cbdc48869961475753205ef79.jpg: 640x640 1 Manhole, 6.6ms\n",
      "image 157/1157 /root/Desktop/workspace/Realtime Obstacle Detector/dataset/test/images/1_jpg.rf.50042f369b806437f48451cf962c287c.jpg: 640x640 1 Manhole, 6.4ms\n",
      "image 158/1157 /root/Desktop/workspace/Realtime Obstacle Detector/dataset/test/images/200_jpg.rf.8465c2680ffbf84f4d7bbb3140804190.jpg: 640x640 3 Pedestrian crosswalks, 6.5ms\n",
      "image 159/1157 /root/Desktop/workspace/Realtime Obstacle Detector/dataset/test/images/200_jpg.rf.963c940bf670c648d3770d4a653b679d.jpg: 640x640 2 Pedestrian crosswalks, 6.6ms\n",
      "image 160/1157 /root/Desktop/workspace/Realtime Obstacle Detector/dataset/test/images/20180601174504_638_jpg.rf.c13bd39fe5e407b2c44a30357a249621.jpg: 640x640 1 Electrical Pole, 1 Manhole, 6.6ms\n",
      "image 161/1157 /root/Desktop/workspace/Realtime Obstacle Detector/dataset/test/images/20220403-082028_png.rf.1de8fdef54272211455a297eb742a2e2.jpg: 640x640 1 Guard rail, 1 Pedestrian crosswalk, 6.5ms\n",
      "image 162/1157 /root/Desktop/workspace/Realtime Obstacle Detector/dataset/test/images/20220403-082053_png.rf.eba8fa13327b175b942d35cd57c9d01a.jpg: 640x640 1 Guard rail, 6.4ms\n",
      "image 163/1157 /root/Desktop/workspace/Realtime Obstacle Detector/dataset/test/images/20220403-082139_png.rf.8ebf31a10bc9a50f0324ce12f6e9e3b1.jpg: 640x640 1 Guard rail, 6.3ms\n",
      "image 164/1157 /root/Desktop/workspace/Realtime Obstacle Detector/dataset/test/images/20220403-082149_png.rf.d481c424647688d66b46126df2383ba2.jpg: 640x640 1 Road, 1 Guard rail, 6.4ms\n",
      "image 165/1157 /root/Desktop/workspace/Realtime Obstacle Detector/dataset/test/images/20220403-082246_png.rf.0d4e65b96c88d98d824cf9a58cc6cc1e.jpg: 640x640 1 Guard rail, 6.4ms\n",
      "image 166/1157 /root/Desktop/workspace/Realtime Obstacle Detector/dataset/test/images/20220403-082426_png.rf.eb63d702ec6d3d46279da4f38c7a1252.jpg: 640x640 (no detections), 6.5ms\n",
      "image 167/1157 /root/Desktop/workspace/Realtime Obstacle Detector/dataset/test/images/20220403-082435_png.rf.da44b4611cc0f1d434a8cb8a009499b8.jpg: 640x640 1 Road, 1 Guard rail, 6.4ms\n",
      "image 168/1157 /root/Desktop/workspace/Realtime Obstacle Detector/dataset/test/images/20220403-082712_png.rf.44467460b7a5e1e6a46a64cf0a4be3f6.jpg: 640x640 1 Guard rail, 6.5ms\n",
      "image 169/1157 /root/Desktop/workspace/Realtime Obstacle Detector/dataset/test/images/20220403-082723_png.rf.5ce79be6ae220c37666b62d01beb1d5a.jpg: 640x640 1 Guard rail, 7.3ms\n",
      "image 170/1157 /root/Desktop/workspace/Realtime Obstacle Detector/dataset/test/images/20220403-082927_png.rf.34bc2ebc486e586fc54f38ddb9d66918.jpg: 640x640 (no detections), 6.6ms\n",
      "image 171/1157 /root/Desktop/workspace/Realtime Obstacle Detector/dataset/test/images/20220403-083139_png.rf.fcc1701c7c5ab352d80dee5e06b66c30.jpg: 640x640 1 Pedestrian crosswalk, 6.3ms\n",
      "image 172/1157 /root/Desktop/workspace/Realtime Obstacle Detector/dataset/test/images/20220403-083417_png.rf.4992a7eacb1448aa6d184a3d57513472.jpg: 640x640 1 Road, 6.3ms\n",
      "image 173/1157 /root/Desktop/workspace/Realtime Obstacle Detector/dataset/test/images/20220403-083643_png.rf.b61ae299fb9109aecd736bb43e0b110c.jpg: 640x640 1 Guard rail, 6.5ms\n",
      "image 174/1157 /root/Desktop/workspace/Realtime Obstacle Detector/dataset/test/images/20220403-083718_png.rf.fc1fc2cc95d37e857e417a1e2a7c4918.jpg: 640x640 1 Guard rail, 6.4ms\n",
      "image 175/1157 /root/Desktop/workspace/Realtime Obstacle Detector/dataset/test/images/20220403-083722_png.rf.8e0dd6497911b51943ed3372af7b6568.jpg: 640x640 1 Guard rail, 6.3ms\n",
      "image 176/1157 /root/Desktop/workspace/Realtime Obstacle Detector/dataset/test/images/20220403-083936_png.rf.bfb18fcb9121e0b4838064ab821badc0.jpg: 640x640 1 Guard rail, 1 Pedestrian crosswalk, 6.2ms\n",
      "image 177/1157 /root/Desktop/workspace/Realtime Obstacle Detector/dataset/test/images/20220403-084020_png.rf.78d7eda98ff3c288d2d40eb19b71435d.jpg: 640x640 2 Guard rails, 1 Pedestrian crosswalk, 6.3ms\n",
      "image 178/1157 /root/Desktop/workspace/Realtime Obstacle Detector/dataset/test/images/20220403-084034_png.rf.2cea26552b721ab117ff8b511c71297e.jpg: 640x640 1 Guard rail, 1 Pedestrian crosswalk, 6.3ms\n",
      "image 179/1157 /root/Desktop/workspace/Realtime Obstacle Detector/dataset/test/images/20220403-084053_png.rf.7987774325c4c8ff36d1e8b79f54aecb.jpg: 640x640 1 Road, 6.3ms\n",
      "image 180/1157 /root/Desktop/workspace/Realtime Obstacle Detector/dataset/test/images/20220403-084311_png.rf.fccc8f715b55771c30c06eaec0397981.jpg: 640x640 1 Guard rail, 6.3ms\n",
      "image 181/1157 /root/Desktop/workspace/Realtime Obstacle Detector/dataset/test/images/20220403-084542_png.rf.41fe185262967ea96c962fee9f07aed0.jpg: 640x640 (no detections), 6.3ms\n",
      "image 182/1157 /root/Desktop/workspace/Realtime Obstacle Detector/dataset/test/images/20220403-084553_png.rf.dfc216410fa6c1eebbf3404098d7fe48.jpg: 640x640 1 Guard rail, 6.2ms\n",
      "image 183/1157 /root/Desktop/workspace/Realtime Obstacle Detector/dataset/test/images/20220403-084619_png.rf.02cfb2af197be4ce6b31b1469bfa4634.jpg: 640x640 1 Guard rail, 6.3ms\n",
      "image 184/1157 /root/Desktop/workspace/Realtime Obstacle Detector/dataset/test/images/20220403-085045_png.rf.a9700ac3d8e7da978aa987ecff987343.jpg: 640x640 1 Guard rail, 6.4ms\n",
      "image 185/1157 /root/Desktop/workspace/Realtime Obstacle Detector/dataset/test/images/20220403-085053_png.rf.645e2514ba3c22d8b5cf6a8a04b8b298.jpg: 640x640 1 Road, 6.3ms\n",
      "image 186/1157 /root/Desktop/workspace/Realtime Obstacle Detector/dataset/test/images/20220403-085112_png.rf.c2aa80e40884b9f33b087f18bc40f6c0.jpg: 640x640 2 Guard rails, 1 Pedestrian crosswalk, 6.5ms\n",
      "image 187/1157 /root/Desktop/workspace/Realtime Obstacle Detector/dataset/test/images/20220403-085151_png.rf.bf9c09781838f122abafa1cde8631a8c.jpg: 640x640 1 Guard rail, 6.7ms\n",
      "image 188/1157 /root/Desktop/workspace/Realtime Obstacle Detector/dataset/test/images/20220403-085418_png.rf.6a84346e0986f62a76d2eacba0451918.jpg: 640x640 1 Pedestrian crosswalk, 6.6ms\n",
      "image 189/1157 /root/Desktop/workspace/Realtime Obstacle Detector/dataset/test/images/20220403-090003_png.rf.6935a25b53de94c6dee2d083534c1e69.jpg: 640x640 1 Guard rail, 8.6ms\n",
      "image 190/1157 /root/Desktop/workspace/Realtime Obstacle Detector/dataset/test/images/20220403-090105_png.rf.a82b7ca825f50a5e339972f2f9ded5a8.jpg: 640x640 1 Person, 1 Guard rail, 1 Pedestrian crosswalk, 6.9ms\n",
      "image 191/1157 /root/Desktop/workspace/Realtime Obstacle Detector/dataset/test/images/20220403-090123_png.rf.cafcf5d8a3f9564d99a949d4118dc199.jpg: 640x640 1 Guard rail, 1 Pedestrian crosswalk, 6.6ms\n",
      "image 192/1157 /root/Desktop/workspace/Realtime Obstacle Detector/dataset/test/images/20220403-090737_png.rf.7fa48428a7ccf6ebd577e57b516ecefc.jpg: 640x640 1 Guard rail, 8.1ms\n",
      "image 193/1157 /root/Desktop/workspace/Realtime Obstacle Detector/dataset/test/images/20220403-090911_png.rf.04e698186365e622b5fb4cfdf2213e18.jpg: 640x640 1 Pedestrian crosswalk, 7.1ms\n",
      "image 194/1157 /root/Desktop/workspace/Realtime Obstacle Detector/dataset/test/images/20220403-090922_png.rf.1405ac9386c3e4a64c90b7ecac48c57e.jpg: 640x640 1 Guard rail, 6.9ms\n",
      "image 195/1157 /root/Desktop/workspace/Realtime Obstacle Detector/dataset/test/images/20230630_220611_jpg.rf.e9ef3c77908c6c13ff91d79e4186879f.jpg: 640x640 1 Bench, 6.8ms\n",
      "image 196/1157 /root/Desktop/workspace/Realtime Obstacle Detector/dataset/test/images/20230630_220829_jpg.rf.dfedfacb89393440b5faa5ff08d2e95a.jpg: 640x640 1 Bench, 6.8ms\n",
      "image 197/1157 /root/Desktop/workspace/Realtime Obstacle Detector/dataset/test/images/20230630_222239_jpg.rf.6d6f2d37beab6fd7c8b0cf8d32d0f26a.jpg: 640x640 1 Building, 1 Bench, 7.9ms\n",
      "image 198/1157 /root/Desktop/workspace/Realtime Obstacle Detector/dataset/test/images/20230630_222848_jpg.rf.86ec18f1c0100e32949d5ac1d21cd6e0.jpg: 640x640 1 Bench, 7.1ms\n",
      "image 199/1157 /root/Desktop/workspace/Realtime Obstacle Detector/dataset/test/images/20230630_222901_jpg.rf.920790efc45d61554e5919eada5040ba.jpg: 640x640 1 Bench, 6.9ms\n",
      "image 200/1157 /root/Desktop/workspace/Realtime Obstacle Detector/dataset/test/images/20230630_223503_jpg.rf.f9fc529829f032a33334e31cd8e63e3d.jpg: 640x640 1 Bench, 6.8ms\n",
      "image 201/1157 /root/Desktop/workspace/Realtime Obstacle Detector/dataset/test/images/20230630_225055_jpg.rf.8bc4dfd26118451394cdd3b49b91ba40.jpg: 640x640 1 Bench, 7.4ms\n",
      "image 202/1157 /root/Desktop/workspace/Realtime Obstacle Detector/dataset/test/images/20230630_225146_jpg.rf.0bf1defd577ef9dca5d0a8aea2372a14.jpg: 640x640 1 Bench, 8.1ms\n",
      "image 203/1157 /root/Desktop/workspace/Realtime Obstacle Detector/dataset/test/images/20230630_225322_jpg.rf.1fab6c65bf3a9d7c6364000ee603dc31.jpg: 640x640 1 Building, 1 Bench, 6.8ms\n",
      "image 204/1157 /root/Desktop/workspace/Realtime Obstacle Detector/dataset/test/images/20230630_225613_jpg.rf.dbc33457a3bc6346b30f697dd822c0be.jpg: 640x640 1 Bench, 8.6ms\n",
      "image 205/1157 /root/Desktop/workspace/Realtime Obstacle Detector/dataset/test/images/20230630_225639_jpg.rf.1821ee59028d7ca4968a499159190bde.jpg: 640x640 1 Bench, 9.4ms\n",
      "image 206/1157 /root/Desktop/workspace/Realtime Obstacle Detector/dataset/test/images/20230630_225646_jpg.rf.ec365c80d5d0414f4a80c38253ec2414.jpg: 640x640 1 Bench, 10.8ms\n",
      "image 207/1157 /root/Desktop/workspace/Realtime Obstacle Detector/dataset/test/images/202_jpg.rf.d350600b702b823d9b17801983de14a8.jpg: 640x640 1 Tree, 10.6ms\n",
      "image 208/1157 /root/Desktop/workspace/Realtime Obstacle Detector/dataset/test/images/21_JPG.rf.5fcaa954f46aee021f0e99f63f0db5df.jpg: 640x640 4 Pedestrian crosswalks, 9.6ms\n",
      "image 209/1157 /root/Desktop/workspace/Realtime Obstacle Detector/dataset/test/images/21_jpg.rf.82c5a42cd0a201c1ef312cb0be247de4.jpg: 640x640 1 Pedestrian crosswalk, 9.7ms\n",
      "image 210/1157 /root/Desktop/workspace/Realtime Obstacle Detector/dataset/test/images/220723-NYC-Tri-Day-01-135-Keith-Morrison-scaled_jpg.rf.be7248c0016221d53560072dcef97421.jpg: 640x640 4 Persons, 8.9ms\n",
      "image 211/1157 /root/Desktop/workspace/Realtime Obstacle Detector/dataset/test/images/231_jpg.rf.030f9fbb5cf6aa5a1ec7ae37e65fbdd5.jpg: 640x640 2 Trees, 9.4ms\n",
      "image 212/1157 /root/Desktop/workspace/Realtime Obstacle Detector/dataset/test/images/23_jpeg_jpg.rf.75ff508731e0e9b23a0bc5621f2202cc.jpg: 640x640 1 Manhole, 9.9ms\n",
      "image 213/1157 /root/Desktop/workspace/Realtime Obstacle Detector/dataset/test/images/242_jpg.rf.ff9d33b1a94813fc7962838dd70d875f.jpg: 640x640 1 Tree, 9.7ms\n",
      "image 214/1157 /root/Desktop/workspace/Realtime Obstacle Detector/dataset/test/images/248_jpg.rf.57b64809b4d93f51563d2c5950c19c2f.jpg: 640x640 1 Tree, 9.6ms\n",
      "image 215/1157 /root/Desktop/workspace/Realtime Obstacle Detector/dataset/test/images/252_jpg.rf.a66daf82df2ba9a1766316407c975eae.jpg: 640x640 2 Trees, 8.7ms\n",
      "image 216/1157 /root/Desktop/workspace/Realtime Obstacle Detector/dataset/test/images/25FUP04JNDUX_jpg.rf.891e23745f323523436a894aeec10fb9.jpg: 640x640 1 Manhole, 9.2ms\n",
      "image 217/1157 /root/Desktop/workspace/Realtime Obstacle Detector/dataset/test/images/25_jpeg_jpg.rf.006856aebbd806686328d3e11c551aca.jpg: 640x640 1 Manhole, 9.8ms\n",
      "image 218/1157 /root/Desktop/workspace/Realtime Obstacle Detector/dataset/test/images/25_jpg.rf.2edec6bcfac90b07890b85ffed6f1a3f.jpg: 640x640 1 Traffic sign, 2 Pedestrian crosswalks, 10.0ms\n",
      "image 219/1157 /root/Desktop/workspace/Realtime Obstacle Detector/dataset/test/images/26_jpg.rf.6104e3d77056640a29b666137c06f829.jpg: 640x640 1 Manhole, 8.6ms\n",
      "image 220/1157 /root/Desktop/workspace/Realtime Obstacle Detector/dataset/test/images/26_jpg.rf.a100d0e122907406647f75000097cb5a.jpg: 640x640 2 Pedestrian crosswalks, 8.8ms\n",
      "image 221/1157 /root/Desktop/workspace/Realtime Obstacle Detector/dataset/test/images/26_jpg.rf.afe587683a552bb0da5cc03d2ae7d0af.jpg: 640x640 2 Pedestrian crosswalks, 10.4ms\n",
      "image 222/1157 /root/Desktop/workspace/Realtime Obstacle Detector/dataset/test/images/2721-9c19c3739217232afb8aaf8789918061_jpg.rf.2541189fce0bd79df4e1b982294bd527.jpg: 640x640 1 Manhole, 8.2ms\n",
      "image 223/1157 /root/Desktop/workspace/Realtime Obstacle Detector/dataset/test/images/27VHNSAHCSQY_jpg.rf.7d0e335d5e029cec461f871226f0714d.jpg: 640x640 1 Manhole, 9.0ms\n",
      "image 224/1157 /root/Desktop/workspace/Realtime Obstacle Detector/dataset/test/images/28_png_jpg.rf.82a7856b68d9592ca98b0b4f9672b09b.jpg: 640x640 1 Manhole, 8.0ms\n",
      "image 225/1157 /root/Desktop/workspace/Realtime Obstacle Detector/dataset/test/images/29P6VTYF5R85_jpg.rf.fd337c02c13f600fcdc4432038bf32c5.jpg: 640x640 1 Manhole, 9.1ms\n",
      "image 226/1157 /root/Desktop/workspace/Realtime Obstacle Detector/dataset/test/images/2GAO7GRL6HI0_jpg.rf.28bd0eb1a5995f2c34ef57c032c946cf.jpg: 640x640 1 Manhole, 8.6ms\n",
      "image 227/1157 /root/Desktop/workspace/Realtime Obstacle Detector/dataset/test/images/2N8YSLL94GI1_jpg.rf.f21906cc18d2100cb7e2c6175c53730a.jpg: 640x640 1 Manhole, 7.9ms\n",
      "image 228/1157 /root/Desktop/workspace/Realtime Obstacle Detector/dataset/test/images/2S3U64Q7T2EP_jpg.rf.505007407b73ddde4904b1e4838a62eb.jpg: 640x640 1 Manhole, 8.4ms\n",
      "image 229/1157 /root/Desktop/workspace/Realtime Obstacle Detector/dataset/test/images/2_jpg.rf.2878415f5759673a7023ac1f9e564b11.jpg: 640x640 1 Manhole, 10.1ms\n",
      "image 230/1157 /root/Desktop/workspace/Realtime Obstacle Detector/dataset/test/images/2_jpg.rf.a86c13e8fd127d839d8ea110fdac2b15.jpg: 640x640 2 Manholes, 9.1ms\n",
      "image 231/1157 /root/Desktop/workspace/Realtime Obstacle Detector/dataset/test/images/302_jpg.rf.fc537c6441077064b179bb089b9846b3.jpg: 640x640 1 Tree, 8.0ms\n",
      "image 232/1157 /root/Desktop/workspace/Realtime Obstacle Detector/dataset/test/images/30_jpg.rf.5e6be3c7b4949fabcf06288f6200090e.jpg: 640x640 1 Pedestrian crosswalk, 7.9ms\n",
      "image 233/1157 /root/Desktop/workspace/Realtime Obstacle Detector/dataset/test/images/30_jpg.rf.c153a1efd773b87fd6241a9f8bc7bf26.jpg: 640x640 1 Pedestrian crosswalk, 7.7ms\n",
      "image 234/1157 /root/Desktop/workspace/Realtime Obstacle Detector/dataset/test/images/315_jpg.rf.f12cf73ac56bfc0c69165dc7befab35b.jpg: 640x640 1 Tree, 7.9ms\n",
      "image 235/1157 /root/Desktop/workspace/Realtime Obstacle Detector/dataset/test/images/316_jpg.rf.ed0057d88d4039cd2605164aefedf4c7.jpg: 640x640 1 Tree, 7.3ms\n",
      "image 236/1157 /root/Desktop/workspace/Realtime Obstacle Detector/dataset/test/images/31_jpg.rf.234aa5ee01f75b68d64f74626f6f8ea9.jpg: 640x640 1 Person, 1 Manhole, 8.6ms\n",
      "image 237/1157 /root/Desktop/workspace/Realtime Obstacle Detector/dataset/test/images/32_jpeg_jpg.rf.2da3ca146762133c2d28ed88e0323e5b.jpg: 640x640 1 Manhole, 7.4ms\n",
      "image 238/1157 /root/Desktop/workspace/Realtime Obstacle Detector/dataset/test/images/32_jpg.rf.232fd4110b8f671d4ab229ee1b3b000b.jpg: 640x640 1 Manhole, 7.1ms\n",
      "image 239/1157 /root/Desktop/workspace/Realtime Obstacle Detector/dataset/test/images/32_jpg.rf.7c57cd925d06830be3923e45e43bee8a.jpg: 640x640 1 Tree, 6.7ms\n",
      "image 240/1157 /root/Desktop/workspace/Realtime Obstacle Detector/dataset/test/images/336_jpg.rf.9288770c2ba8f62df84f5e7854a58978.jpg: 640x640 2 Trees, 6.3ms\n",
      "image 241/1157 /root/Desktop/workspace/Realtime Obstacle Detector/dataset/test/images/33_jpg.rf.7a30728447e54556989d93c5375a9612.jpg: 640x640 1 Pedestrian crosswalk, 6.9ms\n",
      "image 242/1157 /root/Desktop/workspace/Realtime Obstacle Detector/dataset/test/images/33_jpg.rf.9fca882d99acb7556f700e023240f318.jpg: 640x640 1 Pedestrian crosswalk, 6.2ms\n",
      "image 243/1157 /root/Desktop/workspace/Realtime Obstacle Detector/dataset/test/images/340_jpg.rf.0ce599578398ff59d9552eed07b87361.jpg: 640x640 1 Tree, 6.6ms\n",
      "image 244/1157 /root/Desktop/workspace/Realtime Obstacle Detector/dataset/test/images/343_jpg.rf.0919e0ceeda6d9f7d568f4d991df141d.jpg: 640x640 1 Tree, 6.7ms\n",
      "image 245/1157 /root/Desktop/workspace/Realtime Obstacle Detector/dataset/test/images/345_jpg.rf.d0e778af0208d1c638fbc683647ea7ce.jpg: 640x640 1 Tree, 6.3ms\n",
      "image 246/1157 /root/Desktop/workspace/Realtime Obstacle Detector/dataset/test/images/35_png_jpg.rf.7e0ad15b3749d010b5e0b8aea6005f7c.jpg: 640x640 1 Car, 1 Manhole, 6.6ms\n",
      "image 247/1157 /root/Desktop/workspace/Realtime Obstacle Detector/dataset/test/images/360_F_215331107_Hb9PZLPJq8CHXaevZqPiGU58yVxLZ0Sg_jpg.rf.953576d56bc165bb10652a2d7b1aee95.jpg: 640x640 4 Persons, 6.8ms\n",
      "image 248/1157 /root/Desktop/workspace/Realtime Obstacle Detector/dataset/test/images/37_jpeg_jpg.rf.4742ac976cca07a3ee8b97cb18940574.jpg: 640x640 1 Manhole, 6.5ms\n",
      "image 249/1157 /root/Desktop/workspace/Realtime Obstacle Detector/dataset/test/images/38_jpeg_jpg.rf.30897a6028dc2ea062676a9ace46af2f.jpg: 640x640 1 Manhole, 6.3ms\n",
      "image 250/1157 /root/Desktop/workspace/Realtime Obstacle Detector/dataset/test/images/397_jpg.rf.452a8174e06b36bdaf584748e5560001.jpg: 640x640 1 Tree, 6.1ms\n",
      "image 251/1157 /root/Desktop/workspace/Realtime Obstacle Detector/dataset/test/images/39_png_jpg.rf.ab137a7994fa4f96c0f38ada90ca371b.jpg: 640x640 1 Manhole, 6.1ms\n",
      "image 252/1157 /root/Desktop/workspace/Realtime Obstacle Detector/dataset/test/images/3FCV30RTOZ97_jpg.rf.acf0fa0c4d70eaafbca570d1583750a5.jpg: 640x640 1 Manhole, 6.1ms\n",
      "image 253/1157 /root/Desktop/workspace/Realtime Obstacle Detector/dataset/test/images/3SHD3CMXRHA8_jpg.rf.c1b908139ef982c60da30c280096eff4.jpg: 640x640 1 Manhole, 6.3ms\n",
      "image 254/1157 /root/Desktop/workspace/Realtime Obstacle Detector/dataset/test/images/3STP630EXZEU_jpg.rf.c1b7b5646536f233488ce1707aef4d59.jpg: 640x640 1 Manhole, 6.4ms\n",
      "image 255/1157 /root/Desktop/workspace/Realtime Obstacle Detector/dataset/test/images/3_jpg.rf.4e9a9b228e0009650d5051fcf94fa1a2.jpg: 640x640 (no detections), 6.2ms\n",
      "image 256/1157 /root/Desktop/workspace/Realtime Obstacle Detector/dataset/test/images/409_jpg.rf.51640b8e80ddad3c0c30646f67693d38.jpg: 640x640 3 Trees, 6.1ms\n",
      "image 257/1157 /root/Desktop/workspace/Realtime Obstacle Detector/dataset/test/images/40_jpg.rf.6aa27ec0caab1663dbfd8757002ef06d.jpg: 640x640 1 Pedestrian crosswalk, 6.1ms\n",
      "image 258/1157 /root/Desktop/workspace/Realtime Obstacle Detector/dataset/test/images/414_jpg.rf.7d793684a3d5ebd56be128dfaa591458.jpg: 640x640 2 Trees, 6.1ms\n",
      "image 259/1157 /root/Desktop/workspace/Realtime Obstacle Detector/dataset/test/images/41_jpg.rf.0c80a67627e05c0020894627e9ea2b9b.jpg: 640x640 1 Pedestrian crosswalk, 6.2ms\n",
      "image 260/1157 /root/Desktop/workspace/Realtime Obstacle Detector/dataset/test/images/41_jpg.rf.676c55304834d1f6eedff0bc96b631a1.jpg: 640x640 1 Tree, 6.5ms\n",
      "image 261/1157 /root/Desktop/workspace/Realtime Obstacle Detector/dataset/test/images/41_jpg.rf.d16dbfe0c9482b64205608a7376c6ae8.jpg: 640x640 1 Pedestrian crosswalk, 6.3ms\n",
      "image 262/1157 /root/Desktop/workspace/Realtime Obstacle Detector/dataset/test/images/428_jpg.rf.a9e424132ec4a06f0c9530ba35f76d97.jpg: 640x640 1 Tree, 6.3ms\n",
      "image 263/1157 /root/Desktop/workspace/Realtime Obstacle Detector/dataset/test/images/42_jpeg_jpg.rf.e92b26bd541786c2699014eff7febb02.jpg: 640x640 1 Manhole, 6.3ms\n",
      "image 264/1157 /root/Desktop/workspace/Realtime Obstacle Detector/dataset/test/images/42_png_jpg.rf.4b8e5b978990afda1aec7eb70b4edab7.jpg: 640x640 1 Manhole, 6.2ms\n",
      "image 265/1157 /root/Desktop/workspace/Realtime Obstacle Detector/dataset/test/images/435_jpg.rf.c411023179ca103a82c106c60cf745db.jpg: 640x640 1 Tree, 6.3ms\n",
      "image 266/1157 /root/Desktop/workspace/Realtime Obstacle Detector/dataset/test/images/439_jpg.rf.fd9d17f1dea0e5b593bf3371e6c4444c.jpg: 640x640 1 Tree, 6.3ms\n",
      "image 267/1157 /root/Desktop/workspace/Realtime Obstacle Detector/dataset/test/images/43_jpg.rf.2c42b18f4487932e5a46ecefd454fde2.jpg: 640x640 1 Pedestrian crosswalk, 6.4ms\n",
      "image 268/1157 /root/Desktop/workspace/Realtime Obstacle Detector/dataset/test/images/43_png_jpg.rf.84fc29089eae989ce7f76b85e1fbf7d0.jpg: 640x640 1 Manhole, 6.3ms\n",
      "image 269/1157 /root/Desktop/workspace/Realtime Obstacle Detector/dataset/test/images/443_jpg.rf.d928d6dba7f3fabab8b96c8443760d7c.jpg: 640x640 1 Tree, 6.2ms\n",
      "image 270/1157 /root/Desktop/workspace/Realtime Obstacle Detector/dataset/test/images/455_jpg.rf.7e07e525f7418dc7d6b2cc94a6fd3665.jpg: 640x640 1 Stairs, 6.2ms\n",
      "image 271/1157 /root/Desktop/workspace/Realtime Obstacle Detector/dataset/test/images/45_jpg.rf.7c7746e1f9883915633a820649254cb7.jpg: 640x640 1 Pedestrian crosswalk, 6.1ms\n",
      "image 272/1157 /root/Desktop/workspace/Realtime Obstacle Detector/dataset/test/images/45_jpg.rf.9575a6308f9d6d9bfe2bf267406a8b25.jpg: 640x640 1 Stairs, 6.1ms\n",
      "image 273/1157 /root/Desktop/workspace/Realtime Obstacle Detector/dataset/test/images/45_jpg.rf.a4630128e858ce2ec27d8fe914d486de.jpg: 640x640 (no detections), 6.3ms\n",
      "image 274/1157 /root/Desktop/workspace/Realtime Obstacle Detector/dataset/test/images/460_jpg.rf.39a39927699006a4e1c94f0961a3d680.jpg: 640x640 1 Tree, 6.4ms\n",
      "image 275/1157 /root/Desktop/workspace/Realtime Obstacle Detector/dataset/test/images/46_png_jpg.rf.cec547a096220bb2355470171f871bca.jpg: 640x640 (no detections), 6.3ms\n",
      "image 276/1157 /root/Desktop/workspace/Realtime Obstacle Detector/dataset/test/images/478_jpg.rf.f27c1b8cdd22ce55200624d7a7154f97.jpg: 640x640 1 Tree, 6.4ms\n",
      "image 277/1157 /root/Desktop/workspace/Realtime Obstacle Detector/dataset/test/images/47_jpeg_jpg.rf.5e3893b4c01d3f4a75365b2c309f6782.jpg: 640x640 2 Manholes, 6.4ms\n",
      "image 278/1157 /root/Desktop/workspace/Realtime Obstacle Detector/dataset/test/images/47_jpg.rf.a51ab6dbe11dbb111a9b59125b72563e.jpg: 640x640 2 Pedestrian crosswalks, 6.6ms\n",
      "image 279/1157 /root/Desktop/workspace/Realtime Obstacle Detector/dataset/test/images/48_jpg.rf.6e9b39db7a9596ce8fc1970143036665.jpg: 640x640 1 Person, 1 Manhole, 6.3ms\n",
      "image 280/1157 /root/Desktop/workspace/Realtime Obstacle Detector/dataset/test/images/48_jpg.rf.88c8ece51aee9c0dd8ff818f8b7a3b03.jpg: 640x640 2 Pedestrian crosswalks, 6.2ms\n",
      "image 281/1157 /root/Desktop/workspace/Realtime Obstacle Detector/dataset/test/images/48_jpg.rf.a3bd9447d1e761f87c3cc75b137ccf9f.jpg: 640x640 3 Pedestrian crosswalks, 6.1ms\n",
      "image 282/1157 /root/Desktop/workspace/Realtime Obstacle Detector/dataset/test/images/48_jpg.rf.fa1e2f2f196a51f1a81ba6c2da40ac25.jpg: 640x640 3 Pedestrian crosswalks, 6.1ms\n",
      "image 283/1157 /root/Desktop/workspace/Realtime Obstacle Detector/dataset/test/images/493_jpg.rf.c8e2f33c2b7628295a3ee7a651319b8b.jpg: 640x640 1 Tree, 6.1ms\n",
      "image 284/1157 /root/Desktop/workspace/Realtime Obstacle Detector/dataset/test/images/49_jpg.rf.c4bd2214c38a5313828cc92f422f818e.jpg: 640x640 1 Pedestrian crosswalk, 6.1ms\n",
      "image 285/1157 /root/Desktop/workspace/Realtime Obstacle Detector/dataset/test/images/4G2IM754SWV4_jpg.rf.c9fa36d427fe4b72fe26177b02cebeeb.jpg: 640x640 1 Manhole, 6.2ms\n",
      "image 286/1157 /root/Desktop/workspace/Realtime Obstacle Detector/dataset/test/images/4I6LWI5729IU_jpg.rf.5ce35b21ac9d1e1dbbd65ee58f212ab1.jpg: 640x640 1 Manhole, 6.3ms\n",
      "image 287/1157 /root/Desktop/workspace/Realtime Obstacle Detector/dataset/test/images/4UOI10VKOOS3_jpg.rf.6409b23d27621ba3dfdf83eb28e9f7cf.jpg: 640x640 1 Manhole, 6.5ms\n",
      "image 288/1157 /root/Desktop/workspace/Realtime Obstacle Detector/dataset/test/images/4_png_jpg.rf.429702e881c49862d8625d154fd18a8a.jpg: 640x640 1 Manhole, 6.1ms\n",
      "image 289/1157 /root/Desktop/workspace/Realtime Obstacle Detector/dataset/test/images/501_jpg.rf.f64e553182dffa333fc3fc411088b3ba.jpg: 640x640 1 Bike, 1 Tree, 6.4ms\n",
      "image 290/1157 /root/Desktop/workspace/Realtime Obstacle Detector/dataset/test/images/505_jpg.rf.3d81a57d466cf2fe25e8c7500ed4911a.jpg: 640x640 1 Tree, 6.1ms\n",
      "image 291/1157 /root/Desktop/workspace/Realtime Obstacle Detector/dataset/test/images/51_jpg.rf.6353d96a105d34b404a156252fb46660.jpg: 640x640 1 Manhole, 6.1ms\n",
      "image 292/1157 /root/Desktop/workspace/Realtime Obstacle Detector/dataset/test/images/51_jpg.rf.d18c995550985ff25293beb389263c89.jpg: 640x640 1 Pedestrian crosswalk, 6.1ms\n",
      "image 293/1157 /root/Desktop/workspace/Realtime Obstacle Detector/dataset/test/images/52_jpg.rf.f5f33d41a14008a95af8eed72f74bb19.jpg: 640x640 1 Pedestrian crosswalk, 6.1ms\n",
      "image 294/1157 /root/Desktop/workspace/Realtime Obstacle Detector/dataset/test/images/536VKYO3LXWHQXNXQQKQ6KWVHE_jpg.rf.519845ffc80367f15d2965b652a96b6a.jpg: 640x640 8 Persons, 6.5ms\n",
      "image 295/1157 /root/Desktop/workspace/Realtime Obstacle Detector/dataset/test/images/53_jpg.rf.1c3f522eec8e8edc4172e6c8f52c5202.jpg: 640x640 1 Pedestrian crosswalk, 6.2ms\n",
      "image 296/1157 /root/Desktop/workspace/Realtime Obstacle Detector/dataset/test/images/540_jpg.rf.1f41ed339137c7a5b77aba1b911dcad0.jpg: 640x640 1 Tree, 6.2ms\n",
      "image 297/1157 /root/Desktop/workspace/Realtime Obstacle Detector/dataset/test/images/54_jpeg_jpg.rf.241a0da1cca198cb20f6d39052cfd244.jpg: 640x640 1 Person, 1 Manhole, 6.1ms\n",
      "image 298/1157 /root/Desktop/workspace/Realtime Obstacle Detector/dataset/test/images/54_jpg.rf.ee5f07c5f3e4c88c6334efd260629014.jpg: 640x640 1 Pedestrian crosswalk, 6.2ms\n",
      "image 299/1157 /root/Desktop/workspace/Realtime Obstacle Detector/dataset/test/images/54_png_jpg.rf.bc283c67862d0661e3132681a046c9cd.jpg: 640x640 1 Manhole, 6.1ms\n",
      "image 300/1157 /root/Desktop/workspace/Realtime Obstacle Detector/dataset/test/images/553_jpg.rf.d311ceb3220bf80f9e9bb4c5da9b3494.jpg: 640x640 1 Tree, 6.1ms\n",
      "image 301/1157 /root/Desktop/workspace/Realtime Obstacle Detector/dataset/test/images/555_jpg.rf.df0e39ae1666c126de6b34dd83850a27.jpg: 640x640 1 Tree, 6.2ms\n",
      "image 302/1157 /root/Desktop/workspace/Realtime Obstacle Detector/dataset/test/images/556_jpg.rf.678d4d0896cf7d41a82644a678e2bace.jpg: 640x640 1 Tree, 6.3ms\n",
      "image 303/1157 /root/Desktop/workspace/Realtime Obstacle Detector/dataset/test/images/55L8N83R4AO3_jpg.rf.a98bbc99a44bb397b1f96d993e98ca88.jpg: 640x640 1 Manhole, 6.3ms\n",
      "image 304/1157 /root/Desktop/workspace/Realtime Obstacle Detector/dataset/test/images/55_jpg.rf.02891f95de1c9183844270af4c4f7fd2.jpg: 640x640 1 Pedestrian crosswalk, 6.3ms\n",
      "image 305/1157 /root/Desktop/workspace/Realtime Obstacle Detector/dataset/test/images/55_jpg.rf.61a1809430a518aff5bfe1421c41d6f7.jpg: 640x640 1 Pedestrian crosswalk, 6.1ms\n",
      "image 306/1157 /root/Desktop/workspace/Realtime Obstacle Detector/dataset/test/images/56G2WQSN41LA_jpg.rf.4817408a6a6ae84ef62556f6e7e97d26.jpg: 640x640 1 Manhole, 6.2ms\n",
      "image 307/1157 /root/Desktop/workspace/Realtime Obstacle Detector/dataset/test/images/572_jpg.rf.412b50e4ba03f5b48d77b5e8d115fecb.jpg: 640x640 1 Tree, 6.3ms\n",
      "image 308/1157 /root/Desktop/workspace/Realtime Obstacle Detector/dataset/test/images/57_jpg.rf.0a40d991b7029b67877c89f79cdd02d4.jpg: 640x640 1 Pedestrian crosswalk, 6.2ms\n",
      "image 309/1157 /root/Desktop/workspace/Realtime Obstacle Detector/dataset/test/images/57_jpg.rf.82729c4dc9c4f2da15f0a2ebc134f1ea.jpg: 640x640 1 Manhole, 6.3ms\n",
      "image 310/1157 /root/Desktop/workspace/Realtime Obstacle Detector/dataset/test/images/57_jpg.rf.87eed0222e197984a9e1a57ad31353aa.jpg: 640x640 1 Pedestrian crosswalk, 6.0ms\n",
      "image 311/1157 /root/Desktop/workspace/Realtime Obstacle Detector/dataset/test/images/594_jpg.rf.a03b88caa39494b6d333849f71e56184.jpg: 640x640 1 Tree, 6.1ms\n",
      "image 312/1157 /root/Desktop/workspace/Realtime Obstacle Detector/dataset/test/images/597_jpg.rf.8fa06121296eaf5c876f04028da5beb8.jpg: 640x640 1 Tree, 6.5ms\n",
      "image 313/1157 /root/Desktop/workspace/Realtime Obstacle Detector/dataset/test/images/5_jpg.rf.76d8e629ed05b4dec0a6654db9916826.jpg: 640x640 3 Pedestrian crosswalks, 6.5ms\n",
      "image 314/1157 /root/Desktop/workspace/Realtime Obstacle Detector/dataset/test/images/602_jpg.rf.6f5835caa82621bc562e8865e4e6d165.jpg: 640x640 1 Tree, 6.1ms\n",
      "image 315/1157 /root/Desktop/workspace/Realtime Obstacle Detector/dataset/test/images/60_jpg.rf.c781caf9bfe73f3ae9ff94fec5130e98.jpg: 640x640 1 Person, 1 Manhole, 6.0ms\n",
      "image 316/1157 /root/Desktop/workspace/Realtime Obstacle Detector/dataset/test/images/60_png_jpg.rf.97282fd5146a63321aa3e179fefc2eb6.jpg: 640x640 1 Manhole, 6.1ms\n",
      "image 317/1157 /root/Desktop/workspace/Realtime Obstacle Detector/dataset/test/images/6108-05871624en_Masterfile_jpg.rf.83d45d327d27f9d63c0f4ae02fa543fb.jpg: 640x640 3 Persons, 6.4ms\n",
      "image 318/1157 /root/Desktop/workspace/Realtime Obstacle Detector/dataset/test/images/61_jpg.rf.1a5fd412cc280716187a1e65cd884c74.jpg: 640x640 1 Pedestrian crosswalk, 6.1ms\n",
      "image 319/1157 /root/Desktop/workspace/Realtime Obstacle Detector/dataset/test/images/61_jpg.rf.c3f9b7808bfc5d56313897cc41b62ec6.jpg: 640x640 1 Pedestrian crosswalk, 6.1ms\n",
      "image 320/1157 /root/Desktop/workspace/Realtime Obstacle Detector/dataset/test/images/623e87bd034f47f68d91441ef86f2aa8_jpeg_jpg.rf.262baf75cf38061723a9f3dd045ffaa5.jpg: 640x640 1 Dustbin, 1 Manhole, 6.2ms\n",
      "image 321/1157 /root/Desktop/workspace/Realtime Obstacle Detector/dataset/test/images/627_jpg.rf.4efa8c3f71861c34b74b81cd5ab187f6.jpg: 640x640 1 Tree, 6.1ms\n",
      "image 322/1157 /root/Desktop/workspace/Realtime Obstacle Detector/dataset/test/images/630_jpg.rf.e7fb9ac2aeb561bcf74785f9f6c18e31.jpg: 640x640 1 Tree, 6.0ms\n",
      "image 323/1157 /root/Desktop/workspace/Realtime Obstacle Detector/dataset/test/images/631_jpg.rf.9f28d6d5558539ff62bdc5511a35447f.jpg: 640x640 3 Trees, 6.2ms\n",
      "image 324/1157 /root/Desktop/workspace/Realtime Obstacle Detector/dataset/test/images/635_jpg.rf.07d729dbde132129e553eba69bf38989.jpg: 640x640 1 Tree, 6.0ms\n",
      "image 325/1157 /root/Desktop/workspace/Realtime Obstacle Detector/dataset/test/images/652_jpg.rf.38811c50ab7530cde9a63db7010d6b81.jpg: 640x640 1 Tree, 6.0ms\n",
      "image 326/1157 /root/Desktop/workspace/Realtime Obstacle Detector/dataset/test/images/655_jpeg.rf.70addc6d73c6812fe2c07a9791111f0d.jpg: 640x640 1 Tree, 6.2ms\n",
      "image 327/1157 /root/Desktop/workspace/Realtime Obstacle Detector/dataset/test/images/65USAHD3FSNI_jpg.rf.86ac31fb588258431cb5d962675717db.jpg: 640x640 1 Manhole, 6.3ms\n",
      "image 328/1157 /root/Desktop/workspace/Realtime Obstacle Detector/dataset/test/images/66_jpg.rf.8282a1c27652bdfd2d4b18e3dab0f20b.jpg: 640x640 1 Pedestrian crosswalk, 6.2ms\n",
      "image 329/1157 /root/Desktop/workspace/Realtime Obstacle Detector/dataset/test/images/675_jpeg.rf.6cd1ff3c05b94f5ba401e67952ce4c24.jpg: 640x640 2 Trees, 6.2ms\n",
      "image 330/1157 /root/Desktop/workspace/Realtime Obstacle Detector/dataset/test/images/680_jpg.rf.869aa6a41acda5bca3693fc127d521f7.jpg: 640x640 1 Tree, 7.9ms\n",
      "image 331/1157 /root/Desktop/workspace/Realtime Obstacle Detector/dataset/test/images/681_jpg.rf.5ec07b59f01b92af4cdfbf7ea3e7c22e.jpg: 640x640 1 Tree, 8.3ms\n",
      "image 332/1157 /root/Desktop/workspace/Realtime Obstacle Detector/dataset/test/images/69_jpg.rf.1d1f0c43c4f262251dbd064e6e0b26b2.jpg: 640x640 1 Pedestrian crosswalk, 8.5ms\n",
      "image 333/1157 /root/Desktop/workspace/Realtime Obstacle Detector/dataset/test/images/69_jpg.rf.957ff65edc080a34ca786ba10757a6f1.jpg: 640x640 2 Pedestrian crosswalks, 8.0ms\n",
      "image 334/1157 /root/Desktop/workspace/Realtime Obstacle Detector/dataset/test/images/6I3GAWQ7QLE8_jpg.rf.6142d66ca4ce2e6e6c2afcb4efa18b55.jpg: 640x640 1 Manhole, 6.3ms\n",
      "image 335/1157 /root/Desktop/workspace/Realtime Obstacle Detector/dataset/test/images/6LKKBBFSKHXD_jpg.rf.bfaebc6a8fd54b986874c575a0f2748e.jpg: 640x640 1 Manhole, 6.4ms\n",
      "image 336/1157 /root/Desktop/workspace/Realtime Obstacle Detector/dataset/test/images/6XBIQDQ3NIY7_jpg.rf.856b3bca997efa19bc6026a83fb39e31.jpg: 640x640 2 Manholes, 6.2ms\n",
      "image 337/1157 /root/Desktop/workspace/Realtime Obstacle Detector/dataset/test/images/6ZN9OV9PHCZZ_jpg.rf.c8c3fbad53fbe41fe80b5c00494f203d.jpg: 640x640 1 Manhole, 6.3ms\n",
      "image 338/1157 /root/Desktop/workspace/Realtime Obstacle Detector/dataset/test/images/6_jpg.rf.a0ea44147391e1e597f12a0936fe6f07.jpg: 640x640 2 Manholes, 6.3ms\n",
      "image 339/1157 /root/Desktop/workspace/Realtime Obstacle Detector/dataset/test/images/6_jpg.rf.fe28c934b226f1b812501db01a6b44b6.jpg: 640x640 1 Pedestrian crosswalk, 6.1ms\n",
      "image 340/1157 /root/Desktop/workspace/Realtime Obstacle Detector/dataset/test/images/709_jpg.rf.415aab750a841918e26aaa8781519e13.jpg: 640x640 1 Tree, 6.3ms\n",
      "image 341/1157 /root/Desktop/workspace/Realtime Obstacle Detector/dataset/test/images/70_jpg.rf.1b0724e6fea6e7a3fe6d1a19e04972f4.jpg: 640x640 5 Pedestrian crosswalks, 6.4ms\n",
      "image 342/1157 /root/Desktop/workspace/Realtime Obstacle Detector/dataset/test/images/70_jpg.rf.5cd7aaa55d25c8054f06cabaaa1c63e3.jpg: 640x640 6 Pedestrian crosswalks, 6.3ms\n",
      "image 343/1157 /root/Desktop/workspace/Realtime Obstacle Detector/dataset/test/images/721_jpg.rf.168d907e42daf2ce7d9d5e2a217954c8.jpg: 640x640 1 Tree, 6.2ms\n",
      "image 344/1157 /root/Desktop/workspace/Realtime Obstacle Detector/dataset/test/images/72_jpg.rf.d4a482816870318a206a00491b11542c.jpg: 640x640 2 Pedestrian crosswalks, 6.2ms\n",
      "image 345/1157 /root/Desktop/workspace/Realtime Obstacle Detector/dataset/test/images/73_png_jpg.rf.98ed3ed5b58209c957545c8c3ebe43c3.jpg: 640x640 1 Manhole, 6.5ms\n",
      "image 346/1157 /root/Desktop/workspace/Realtime Obstacle Detector/dataset/test/images/742_jpg.rf.d8c37b89da7a311309beb0419829eb93.jpg: 640x640 2 Trees, 6.5ms\n",
      "image 347/1157 /root/Desktop/workspace/Realtime Obstacle Detector/dataset/test/images/745_jpg.rf.57f4c92a0f466d07d7e78bf3c5f45040.jpg: 640x640 1 Tree, 6.1ms\n",
      "image 348/1157 /root/Desktop/workspace/Realtime Obstacle Detector/dataset/test/images/75_jpg.rf.dbe47d471aeae88ab5bb68193eae0df0.jpg: 640x640 1 Pedestrian crosswalk, 6.1ms\n",
      "image 349/1157 /root/Desktop/workspace/Realtime Obstacle Detector/dataset/test/images/761_jpg.rf.cca78ec76509d1a785b9acc1cf4b8604.jpg: 640x640 1 Tree, 6.6ms\n",
      "image 350/1157 /root/Desktop/workspace/Realtime Obstacle Detector/dataset/test/images/764_jpg.rf.b67fde51537102959867721690f135fb.jpg: 640x640 1 Tree, 6.6ms\n",
      "image 351/1157 /root/Desktop/workspace/Realtime Obstacle Detector/dataset/test/images/767_jpg.rf.e7f881151ac55f9671b45858c5e80f9d.jpg: 640x640 1 Tree, 6.3ms\n",
      "image 352/1157 /root/Desktop/workspace/Realtime Obstacle Detector/dataset/test/images/768_jpg.rf.3e36587c13977f240cd6fd03aebccf95.jpg: 640x640 1 Tree, 6.3ms\n",
      "image 353/1157 /root/Desktop/workspace/Realtime Obstacle Detector/dataset/test/images/76_jpg.rf.00881df78f5cd2e0939f9903fa84bf5c.jpg: 640x640 1 Pedestrian crosswalk, 7.0ms\n",
      "image 354/1157 /root/Desktop/workspace/Realtime Obstacle Detector/dataset/test/images/76_jpg.rf.d69f9821128c643f4b4fc19aaca1ceb7.jpg: 640x640 1 Pedestrian crosswalk, 6.3ms\n",
      "image 355/1157 /root/Desktop/workspace/Realtime Obstacle Detector/dataset/test/images/77J98QOX6K1N_jpg.rf.1da87b9730960c1f484ad9653ec8e787.jpg: 640x640 1 Manhole, 6.5ms\n",
      "image 356/1157 /root/Desktop/workspace/Realtime Obstacle Detector/dataset/test/images/77_jpg.rf.0e0f76f6d32addcf5228c3b34215b5e0.jpg: 640x640 1 Pedestrian crosswalk, 6.3ms\n",
      "image 357/1157 /root/Desktop/workspace/Realtime Obstacle Detector/dataset/test/images/77_jpg.rf.1bcb1b208ea55aa885026824996c5d37.jpg: 640x640 1 Tree, 6.2ms\n",
      "image 358/1157 /root/Desktop/workspace/Realtime Obstacle Detector/dataset/test/images/788_jpg.rf.68e409b488e9282e7f4e3d0d8ca5c528.jpg: 640x640 1 Tree, 6.2ms\n",
      "image 359/1157 /root/Desktop/workspace/Realtime Obstacle Detector/dataset/test/images/79_png_jpg.rf.7684c51fcaa8d7e78727734797f049cc.jpg: 640x640 1 Manhole, 6.1ms\n",
      "image 360/1157 /root/Desktop/workspace/Realtime Obstacle Detector/dataset/test/images/7B6DMMKO2YG7_jpg.rf.f3010d61d8b2f5eb521edc89fbe1dce4.jpg: 640x640 1 Manhole, 6.7ms\n",
      "image 361/1157 /root/Desktop/workspace/Realtime Obstacle Detector/dataset/test/images/7IE4B323ETPY_jpg.rf.b2042cf125ba6a87e975dfbe646518ce.jpg: 640x640 1 Manhole, 6.1ms\n",
      "image 362/1157 /root/Desktop/workspace/Realtime Obstacle Detector/dataset/test/images/7TX8EM9X3V35_jpg.rf.03456a3c47558969497f47b7e87af5d8.jpg: 640x640 1 Manhole, 6.3ms\n",
      "image 363/1157 /root/Desktop/workspace/Realtime Obstacle Detector/dataset/test/images/7e48ed88da8a7066_output_jpg.rf.2e9b548270bbe78d0353fd639ef8597a.jpg: 640x640 1 Stairs, 6.1ms\n",
      "image 364/1157 /root/Desktop/workspace/Realtime Obstacle Detector/dataset/test/images/800px_COLOURBOX1269954_jpg.rf.a1e6ab82ee9e7e764ac620efd395773e.jpg: 640x640 2 Persons, 6.1ms\n",
      "image 365/1157 /root/Desktop/workspace/Realtime Obstacle Detector/dataset/test/images/807_jpg.rf.9c57017bf2727498277c46f025895404.jpg: 640x640 1 Tree, 6.3ms\n",
      "image 366/1157 /root/Desktop/workspace/Realtime Obstacle Detector/dataset/test/images/80_png_jpg.rf.c43a8c0e63c5e9e52ae35196b91424e1.jpg: 640x640 1 Manhole, 6.3ms\n",
      "image 367/1157 /root/Desktop/workspace/Realtime Obstacle Detector/dataset/test/images/811_jpg.rf.a595046e934e63e1ee58a070691e2030.jpg: 640x640 1 Tree, 6.1ms\n",
      "image 368/1157 /root/Desktop/workspace/Realtime Obstacle Detector/dataset/test/images/819_jpg.rf.a45744da197c4b705ede36a766a92e06.jpg: 640x640 1 Tree, 6.2ms\n",
      "image 369/1157 /root/Desktop/workspace/Realtime Obstacle Detector/dataset/test/images/81_jpg.rf.a5d8b5f2e2d74cf4533eba80872bf29c.jpg: 640x640 1 Tree, 6.4ms\n",
      "image 370/1157 /root/Desktop/workspace/Realtime Obstacle Detector/dataset/test/images/81_png_jpg.rf.b47b5c0b144301f54265e440b1996ad1.jpg: 640x640 2 Manholes, 6.2ms\n",
      "image 371/1157 /root/Desktop/workspace/Realtime Obstacle Detector/dataset/test/images/823_jpg.rf.38e21722f8316c6c8006629d3551765f.jpg: 640x640 3 Trees, 6.3ms\n",
      "image 372/1157 /root/Desktop/workspace/Realtime Obstacle Detector/dataset/test/images/82_jpg.rf.d71de12cab4039f2c33cf7e5b30f661e.jpg: 640x640 1 Pedestrian crosswalk, 6.3ms\n",
      "image 373/1157 /root/Desktop/workspace/Realtime Obstacle Detector/dataset/test/images/838_jpg.rf.e4991e54a27fb53cb867ff09783a1619.jpg: 640x640 1 Tree, 6.5ms\n",
      "image 374/1157 /root/Desktop/workspace/Realtime Obstacle Detector/dataset/test/images/83_jpg.rf.0caa7964cac0f43e9dc450aa9b06fd28.jpg: 640x640 1 Tree, 6.2ms\n",
      "image 375/1157 /root/Desktop/workspace/Realtime Obstacle Detector/dataset/test/images/83_jpg.rf.2566a5fe560305a53574ad09bcc78a13.jpg: 640x640 1 Pedestrian crosswalk, 6.1ms\n",
      "image 376/1157 /root/Desktop/workspace/Realtime Obstacle Detector/dataset/test/images/869_jpg.rf.6c0ddc948d34f935bea87a90e6e78c1e.jpg: 640x640 1 Tree, 6.9ms\n",
      "image 377/1157 /root/Desktop/workspace/Realtime Obstacle Detector/dataset/test/images/86_jpg.rf.1b07af6366a0129b905a11f53bae0587.jpg: 640x640 1 Tree, 6.2ms\n",
      "image 378/1157 /root/Desktop/workspace/Realtime Obstacle Detector/dataset/test/images/86_png_jpg.rf.3d68e4314e33aedf9ac9afc777799008.jpg: 640x640 1 Manhole, 6.2ms\n",
      "image 379/1157 /root/Desktop/workspace/Realtime Obstacle Detector/dataset/test/images/87_jpg.rf.bf46b635cb81f35dafdc78fc7ca23860.jpg: 640x640 1 Manhole, 7.3ms\n",
      "image 380/1157 /root/Desktop/workspace/Realtime Obstacle Detector/dataset/test/images/88_jpg.rf.d7ce5ff3b32eccf58a51ddda8d865199.jpg: 640x640 1 Pedestrian crosswalk, 6.3ms\n",
      "image 381/1157 /root/Desktop/workspace/Realtime Obstacle Detector/dataset/test/images/896_jpg.rf.c8cfcba050b2d505c55cfcdee474a28d.jpg: 640x640 1 Tree, 6.1ms\n",
      "image 382/1157 /root/Desktop/workspace/Realtime Obstacle Detector/dataset/test/images/89_jpg.rf.3ef38968a0b87dbd799bf0e41aed40e5.jpg: 640x640 1 Pedestrian crosswalk, 6.1ms\n",
      "image 383/1157 /root/Desktop/workspace/Realtime Obstacle Detector/dataset/test/images/89_jpg.rf.e43f9631c21225ad45b0e9fff0c5f422.jpg: 640x640 1 Manhole, 6.6ms\n",
      "image 384/1157 /root/Desktop/workspace/Realtime Obstacle Detector/dataset/test/images/89_png_jpg.rf.d1674e64bc15ae6b84f9d074c94f1a59.jpg: 640x640 1 Manhole, 6.3ms\n",
      "image 385/1157 /root/Desktop/workspace/Realtime Obstacle Detector/dataset/test/images/8SCCP2IKYHHB_jpg.rf.694348281e677f815077874f8768129e.jpg: 640x640 1 Manhole, 6.2ms\n",
      "image 386/1157 /root/Desktop/workspace/Realtime Obstacle Detector/dataset/test/images/8_jpg.rf.f2830ca867d813eaa8fc82e09e5be9ac.jpg: 640x640 1 Pedestrian crosswalk, 6.4ms\n",
      "image 387/1157 /root/Desktop/workspace/Realtime Obstacle Detector/dataset/test/images/90_jpg.rf.4b235209edb0fa23a7b4317bd0c5bb7a.jpg: 640x640 1 Traffic sign, 1 Pedestrian crosswalk, 6.2ms\n",
      "image 388/1157 /root/Desktop/workspace/Realtime Obstacle Detector/dataset/test/images/916c24ec22249ec6195c12bf84cdca65_png.rf.96e06d2c3be2eda73b58d0c071516d2a.jpg: 640x640 7 Traffic signs, 6.1ms\n",
      "image 389/1157 /root/Desktop/workspace/Realtime Obstacle Detector/dataset/test/images/91_jpg.rf.bd8cc86986b69162be27b4787711be37.jpg: 640x640 1 Pedestrian crosswalk, 6.4ms\n",
      "image 390/1157 /root/Desktop/workspace/Realtime Obstacle Detector/dataset/test/images/923_jpg.rf.f870d37a572331b7869bd56c4df8d13e.jpg: 640x640 1 Tree, 6.3ms\n",
      "image 391/1157 /root/Desktop/workspace/Realtime Obstacle Detector/dataset/test/images/927569e0-ce9e-512d-91e0-c7aabf295938_jpeg.rf.4cd184deff03efc07474dc4e2f1e8d49.jpg: 640x640 2 Traffic signs, 8.5ms\n",
      "image 392/1157 /root/Desktop/workspace/Realtime Obstacle Detector/dataset/test/images/9293a8f198234270_jpg.rf.9c2e3de1667de21a839e8d69ae9fca75.jpg: 640x640 1 Guard rail, 6.9ms\n",
      "image 393/1157 /root/Desktop/workspace/Realtime Obstacle Detector/dataset/test/images/930YYB7GT7DG_jpg.rf.57b69f88d85e91f22d5530ce5d01e1dd.jpg: 640x640 1 Manhole, 8.4ms\n",
      "image 394/1157 /root/Desktop/workspace/Realtime Obstacle Detector/dataset/test/images/930_jpg.rf.24340cfd1035f4d40dffe174ce754a25.jpg: 640x640 1 Tree, 6.4ms\n",
      "image 395/1157 /root/Desktop/workspace/Realtime Obstacle Detector/dataset/test/images/93_jpg.rf.93654a588f4cfc9109ed3dccdd3b2056.jpg: 640x640 2 Pedestrian crosswalks, 6.7ms\n",
      "image 396/1157 /root/Desktop/workspace/Realtime Obstacle Detector/dataset/test/images/93_jpg.rf.c6ebb9065d5518f79595fc721ea5b341.jpg: 640x640 2 Pedestrian crosswalks, 6.3ms\n",
      "image 397/1157 /root/Desktop/workspace/Realtime Obstacle Detector/dataset/test/images/940_jpg.rf.f5b2ef999c21428d2bc16681cfa29645.jpg: 640x640 1 Tree, 8.6ms\n",
      "image 398/1157 /root/Desktop/workspace/Realtime Obstacle Detector/dataset/test/images/94_jpg.rf.2300bc651d134cce05253049371a2c71.jpg: 640x640 1 Pedestrian crosswalk, 6.3ms\n",
      "image 399/1157 /root/Desktop/workspace/Realtime Obstacle Detector/dataset/test/images/95879f30-ffb5-4d83-b7c6-629d17b284ef_jpg.rf.0551bc83c897867f6232a1ff0a12f31a.jpg: 640x640 3 Guard rails, 6.2ms\n",
      "image 400/1157 /root/Desktop/workspace/Realtime Obstacle Detector/dataset/test/images/95_jpg.rf.df34c7772f7c1158d96776ae488212be.jpg: 640x640 1 Pedestrian crosswalk, 6.1ms\n",
      "image 401/1157 /root/Desktop/workspace/Realtime Obstacle Detector/dataset/test/images/968_jpg.rf.44f190428a32b183b331dc50bc3bda64.jpg: 640x640 1 Tree, 6.1ms\n",
      "image 402/1157 /root/Desktop/workspace/Realtime Obstacle Detector/dataset/test/images/96_png_jpg.rf.4cf6200fd9c170ac2ebbceca202dc2f8.jpg: 640x640 1 Manhole, 6.2ms\n",
      "image 403/1157 /root/Desktop/workspace/Realtime Obstacle Detector/dataset/test/images/97275_15179639902012308465_image0404220114_jpg.rf.3efd0be4ba3b17492a57d697b35b8f64.jpg: 640x640 5 Traffic signs, 6.1ms\n",
      "image 404/1157 /root/Desktop/workspace/Realtime Obstacle Detector/dataset/test/images/987_jpg.rf.b890fe1df4d39f8c17a550f2fde4dd75.jpg: 640x640 1 Tree, 6.2ms\n",
      "image 405/1157 /root/Desktop/workspace/Realtime Obstacle Detector/dataset/test/images/99_jpg.rf.8144044387c03630c942631aad82dcb2.jpg: 640x640 1 Manhole, 1 Pedestrian crosswalk, 7.4ms\n",
      "image 406/1157 /root/Desktop/workspace/Realtime Obstacle Detector/dataset/test/images/9CMU3NMVXFOC_jpg.rf.87a25be19d0fdacd1c7abd48fcb03f40.jpg: 640x640 1 Manhole, 6.1ms\n",
      "image 407/1157 /root/Desktop/workspace/Realtime Obstacle Detector/dataset/test/images/9U9HQZ3EM4JV_jpg.rf.a671bd524dfb0e10b11d228b0e1148c2.jpg: 640x640 1 Manhole, 6.3ms\n",
      "image 408/1157 /root/Desktop/workspace/Realtime Obstacle Detector/dataset/test/images/AAGQO701FOKK_jpg.rf.ecf36f58b191855365477b45bae6f5aa.jpg: 640x640 1 Manhole, 6.4ms\n",
      "image 409/1157 /root/Desktop/workspace/Realtime Obstacle Detector/dataset/test/images/AMONEQ5JZOVW_jpg.rf.99b4d7b945c9986299df4b86e99fc214.jpg: 640x640 1 Manhole, 6.4ms\n",
      "image 410/1157 /root/Desktop/workspace/Realtime Obstacle Detector/dataset/test/images/AURA-191-White-WZ2-BW-2_jpg.rf.73311caff361cbf97b4631d68e3988d4.jpg: 640x640 2 Traffic signs, 6.4ms\n",
      "image 411/1157 /root/Desktop/workspace/Realtime Obstacle Detector/dataset/test/images/AYFsUesU-2_jpg.rf.bcb0474e63724a46f5491fc37e359e4b.jpg: 640x640 2 Cars, 6.5ms\n",
      "image 412/1157 /root/Desktop/workspace/Realtime Obstacle Detector/dataset/test/images/AYHcOK51-1_jpg.rf.affe25dc1eee08ee753fe59235dfb357.jpg: 640x640 1 Car, 6.1ms\n",
      "image 413/1157 /root/Desktop/workspace/Realtime Obstacle Detector/dataset/test/images/AYIoA3b5-3_jpg.rf.6a7ddde6607aa77b3f8e8012d2c9c6b9.jpg: 640x640 1 Car, 6.1ms\n",
      "image 414/1157 /root/Desktop/workspace/Realtime Obstacle Detector/dataset/test/images/AYJoTWVQ_jpg.rf.fa4c7a43ca4da14dba637ca79ea3505c.jpg: 640x640 1 Car, 6.2ms\n",
      "image 415/1157 /root/Desktop/workspace/Realtime Obstacle Detector/dataset/test/images/AYRIBzxE-2_jpg.rf.ffd80e30b73ed1348bf37ca5b3a16339.jpg: 640x640 1 Car, 6.4ms\n",
      "image 416/1157 /root/Desktop/workspace/Realtime Obstacle Detector/dataset/test/images/AYRUSuTa-1_jpg.rf.5c59717b57ba95a82a61d0927e6a2a7f.jpg: 640x640 2 Cars, 6.2ms\n",
      "image 417/1157 /root/Desktop/workspace/Realtime Obstacle Detector/dataset/test/images/AYUEU1Wj_jpg.rf.390186096ae7d2e5534ca081b731cb0b.jpg: 640x640 1 Car, 6.2ms\n",
      "image 418/1157 /root/Desktop/workspace/Realtime Obstacle Detector/dataset/test/images/AYVEJAkK_jpg.rf.9372836040d9df53af24e18eeaef54cd.jpg: 640x640 1 Car, 6.4ms\n",
      "image 419/1157 /root/Desktop/workspace/Realtime Obstacle Detector/dataset/test/images/AYVIChLq-1_jpg.rf.7919ab9808980a8dc98d2a233a2d9a95.jpg: 640x640 4 Cars, 6.2ms\n",
      "image 420/1157 /root/Desktop/workspace/Realtime Obstacle Detector/dataset/test/images/AYVgRaI7-2_jpg.rf.7087b0f6397edad076e8600d3b8125c1.jpg: 640x640 1 Car, 6.2ms\n",
      "image 421/1157 /root/Desktop/workspace/Realtime Obstacle Detector/dataset/test/images/AYW80SAE-3_jpg.rf.878ee748ba923f7397d75b9b86a7fd96.jpg: 640x640 1 Car, 6.2ms\n",
      "image 422/1157 /root/Desktop/workspace/Realtime Obstacle Detector/dataset/test/images/AYW8moRb_jpg.rf.2d610864ad05ea1ce632de53c45e4bdf.jpg: 640x640 1 Car, 6.0ms\n",
      "image 423/1157 /root/Desktop/workspace/Realtime Obstacle Detector/dataset/test/images/AYWUpqeH-1_jpg.rf.d404fe17891c6915a9705aba134afccc.jpg: 640x640 1 Car, 6.1ms\n",
      "image 424/1157 /root/Desktop/workspace/Realtime Obstacle Detector/dataset/test/images/AYWsn-kF_jpg.rf.b6505a4c684ecb1df7ee965756539ae0.jpg: 640x640 1 Car, 6.2ms\n",
      "image 425/1157 /root/Desktop/workspace/Realtime Obstacle Detector/dataset/test/images/AYXo75gc-5_jpg.rf.7d875e3e0ed51eb6bbae944fd1126341.jpg: 640x640 1 Car, 6.2ms\n",
      "image 426/1157 /root/Desktop/workspace/Realtime Obstacle Detector/dataset/test/images/AYYQjChz-1_jpg.rf.f9cb7a452a0e63682610030024d0ed0a.jpg: 640x640 1 Car, 6.3ms\n",
      "image 427/1157 /root/Desktop/workspace/Realtime Obstacle Detector/dataset/test/images/AYYU2QS5UH3N_jpg.rf.44b33f08ebf37296deb75f8847309018.jpg: 640x640 1 Manhole, 6.2ms\n",
      "image 428/1157 /root/Desktop/workspace/Realtime Obstacle Detector/dataset/test/images/AYYsjjQJ_jpg.rf.19d9e0f3d3e8bdf2767912d608ef8eba.jpg: 640x640 4 Cars, 6.3ms\n",
      "image 429/1157 /root/Desktop/workspace/Realtime Obstacle Detector/dataset/test/images/AYZgXeLt-1_jpg.rf.0d83a4d7e5abe3504aff3891e0ac9da5.jpg: 640x640 4 Cars, 6.3ms\n",
      "image 430/1157 /root/Desktop/workspace/Realtime Obstacle Detector/dataset/test/images/AYa0F40-_jpg.rf.9968e299d0ecf902faa07db5afd231d4.jpg: 640x640 2 Cars, 6.2ms\n",
      "image 431/1157 /root/Desktop/workspace/Realtime Obstacle Detector/dataset/test/images/AYaIc07I_jpg.rf.c3c3b18e7bf117d8af973cf0930df810.jpg: 640x640 1 Car, 6.2ms\n",
      "image 432/1157 /root/Desktop/workspace/Realtime Obstacle Detector/dataset/test/images/AYaY1-RD-3_jpg.rf.a6ac06e579a928879db378c95dfb75d2.jpg: 640x640 5 Cars, 6.1ms\n",
      "image 433/1157 /root/Desktop/workspace/Realtime Obstacle Detector/dataset/test/images/AYaY8YBs_jpg.rf.3dc58f48901040e12665f6e6479ceddf.jpg: 640x640 1 Car, 6.2ms\n",
      "image 434/1157 /root/Desktop/workspace/Realtime Obstacle Detector/dataset/test/images/AYacMLRx-3_jpg.rf.a2da278979e02c8deb06e0c63e05a693.jpg: 640x640 1 Car, 6.2ms\n",
      "image 435/1157 /root/Desktop/workspace/Realtime Obstacle Detector/dataset/test/images/AYas_8dQ_jpg.rf.eab41eaeae04fb2e21e51919feaa2454.jpg: 640x640 1 Car, 6.4ms\n",
      "image 436/1157 /root/Desktop/workspace/Realtime Obstacle Detector/dataset/test/images/AYb0bza1_jpg.rf.a1d499847401042e5704976a6532e052.jpg: 640x640 1 Car, 6.2ms\n",
      "image 437/1157 /root/Desktop/workspace/Realtime Obstacle Detector/dataset/test/images/AYb0eKW9_jpg.rf.09fe3a57a973ca6b0b656b51f9991291.jpg: 640x640 2 Cars, 6.2ms\n",
      "image 438/1157 /root/Desktop/workspace/Realtime Obstacle Detector/dataset/test/images/AYb4eedo-1_jpg.rf.39935f9db037e647e67d0869f4ee401d.jpg: 640x640 1 Car, 6.3ms\n",
      "image 439/1157 /root/Desktop/workspace/Realtime Obstacle Detector/dataset/test/images/AYb8968K_jpg.rf.8cfee83738f6144db7f379367670a636.jpg: 640x640 1 Car, 6.3ms\n",
      "image 440/1157 /root/Desktop/workspace/Realtime Obstacle Detector/dataset/test/images/AYb8LQqG_jpg.rf.38b373e163aba4b4239dca2c805caafc.jpg: 640x640 1 Car, 6.4ms\n",
      "image 441/1157 /root/Desktop/workspace/Realtime Obstacle Detector/dataset/test/images/AYb8OlWR_jpg.rf.a0eaba220d413a36f80b6606b2858991.jpg: 640x640 2 Cars, 6.4ms\n",
      "image 442/1157 /root/Desktop/workspace/Realtime Obstacle Detector/dataset/test/images/AYbEtEJZ-2_jpg.rf.1c549e26f52fd24dc2fb9b01f18d8a2c.jpg: 640x640 1 Car, 6.2ms\n",
      "image 443/1157 /root/Desktop/workspace/Realtime Obstacle Detector/dataset/test/images/AYbI-tqY-1_jpg.rf.e6148c06267e6b361eda8c92be306ff2.jpg: 640x640 1 Car, 6.5ms\n",
      "image 444/1157 /root/Desktop/workspace/Realtime Obstacle Detector/dataset/test/images/AYbINSFy-3--1-_jpg.rf.4e50220fb550c0a1e1aa1dfed3d24089.jpg: 640x640 2 Cars, 6.9ms\n",
      "image 445/1157 /root/Desktop/workspace/Realtime Obstacle Detector/dataset/test/images/AYbIrUfd-3_jpg.rf.76844a342e34dde7797dbdc362cbe469.jpg: 640x640 1 Car, 1 Manhole, 6.4ms\n",
      "image 446/1157 /root/Desktop/workspace/Realtime Obstacle Detector/dataset/test/images/AYbM95Yr-1_jpg.rf.b6eb768234e4484cba279c2dbc7afd37.jpg: 640x640 1 Car, 6.3ms\n",
      "image 447/1157 /root/Desktop/workspace/Realtime Obstacle Detector/dataset/test/images/AYbMtU8A_jpg.rf.2c3cebc170a7d75e5b89fdf4d07f56c9.jpg: 640x640 1 Car, 6.4ms\n",
      "image 448/1157 /root/Desktop/workspace/Realtime Obstacle Detector/dataset/test/images/AYbQeyIF-1_jpg.rf.d3c39d907eb9a4cb61a90640afaf0f18.jpg: 640x640 4 Cars, 6.2ms\n",
      "image 449/1157 /root/Desktop/workspace/Realtime Obstacle Detector/dataset/test/images/AYbUtsZQ-2_jpg.rf.600ac0a145d7587cba3e738e1aa3d115.jpg: 640x640 2 Cars, 6.2ms\n",
      "image 450/1157 /root/Desktop/workspace/Realtime Obstacle Detector/dataset/test/images/AYbYOooF_jpg.rf.0e4f97700d707589d4f2b3d40db7118a.jpg: 640x640 2 Cars, 6.3ms\n",
      "image 451/1157 /root/Desktop/workspace/Realtime Obstacle Detector/dataset/test/images/AYbYfJLJ-1_jpg.rf.abf023881614d37c5c4e1725850dd8a9.jpg: 640x640 2 Cars, 6.3ms\n",
      "image 452/1157 /root/Desktop/workspace/Realtime Obstacle Detector/dataset/test/images/AYbYv_lE-1_jpg.rf.2d9ec8e204a02eb28434fe7d262f51a3.jpg: 640x640 1 Car, 6.3ms\n",
      "image 453/1157 /root/Desktop/workspace/Realtime Obstacle Detector/dataset/test/images/AYbc-6E_-5_jpg.rf.e570c4e51c3d4d841821e1a79674d599.jpg: 640x640 1 Car, 6.3ms\n",
      "image 454/1157 /root/Desktop/workspace/Realtime Obstacle Detector/dataset/test/images/AYbcbeG4-5_jpg.rf.63f013b9f0cd337368b4dc9b33b84a45.jpg: 640x640 3 Cars, 6.3ms\n",
      "image 455/1157 /root/Desktop/workspace/Realtime Obstacle Detector/dataset/test/images/AYbcdMP6-3_jpg.rf.99088a4492557e044a812c425b56b0ce.jpg: 640x640 1 Car, 6.3ms\n",
      "image 456/1157 /root/Desktop/workspace/Realtime Obstacle Detector/dataset/test/images/AYbocoyl_jpg.rf.fb1b4bb0ac7b8224d1845969686f3766.jpg: 640x640 2 Cars, 6.3ms\n",
      "image 457/1157 /root/Desktop/workspace/Realtime Obstacle Detector/dataset/test/images/AYbofOI1-1_jpg.rf.53da315be310d7ad115d5939958f7b59.jpg: 640x640 1 Car, 7.0ms\n",
      "image 458/1157 /root/Desktop/workspace/Realtime Obstacle Detector/dataset/test/images/AYbsdDOG-5_jpg.rf.97fca2ba0f25eb3f024f256361be4476.jpg: 640x640 2 Cars, 6.4ms\n",
      "image 459/1157 /root/Desktop/workspace/Realtime Obstacle Detector/dataset/test/images/AYbwPZrM_jpg.rf.b164be468bdc7ed05ae22dcf498ea283.jpg: 640x640 3 Cars, 6.3ms\n",
      "image 460/1157 /root/Desktop/workspace/Realtime Obstacle Detector/dataset/test/images/AYcMQ1b9-2_jpg.rf.d01d01e5d59ee1d4bac48704bea9cfd3.jpg: 640x640 2 Cars, 7.3ms\n",
      "image 461/1157 /root/Desktop/workspace/Realtime Obstacle Detector/dataset/test/images/AYcUgWzy_jpg.rf.2186d1b6d0a7ce1beabfba21e5e5b975.jpg: 640x640 1 Car, 7.0ms\n",
      "image 462/1157 /root/Desktop/workspace/Realtime Obstacle Detector/dataset/test/images/AYcYw-ZU-3_jpg.rf.2d026b8804a036de67bca84842324eeb.jpg: 640x640 2 Cars, 7.5ms\n",
      "image 463/1157 /root/Desktop/workspace/Realtime Obstacle Detector/dataset/test/images/AYcsASJ0-2_jpg.rf.bbcb70f1dc3d26bea524766c8b8a3a24.jpg: 640x640 1 Car, 7.4ms\n",
      "image 464/1157 /root/Desktop/workspace/Realtime Obstacle Detector/dataset/test/images/AYcwgE-o-2_jpg.rf.000457ac494a3701d4bf6e896aa47e13.jpg: 640x640 1 Car, 7.1ms\n",
      "image 465/1157 /root/Desktop/workspace/Realtime Obstacle Detector/dataset/test/images/AYcwgE-o_jpg.rf.2a6d947c199fcfe72235519706c9c192.jpg: 640x640 4 Cars, 7.1ms\n",
      "image 466/1157 /root/Desktop/workspace/Realtime Obstacle Detector/dataset/test/images/B0S7ZUIRLHXA_jpg.rf.02f18677a1f0ee8b2ec66fa6e70636c5.jpg: 640x640 1 Manhole, 7.8ms\n",
      "image 467/1157 /root/Desktop/workspace/Realtime Obstacle Detector/dataset/test/images/B25K-620_jpg.rf.d1a470c9c04a850248a26e9c9daf9038.jpg: 640x640 1 Person, 6.7ms\n",
      "image 468/1157 /root/Desktop/workspace/Realtime Obstacle Detector/dataset/test/images/BA-1-_jpg.rf.22251774a06578d4167abc828332f6cc.jpg: 640x640 1 Traffic sign, 7.6ms\n",
      "image 469/1157 /root/Desktop/workspace/Realtime Obstacle Detector/dataset/test/images/BA-1-_jpg.rf.bfe15357df534204f6e0ff94e0cd40f5.jpg: 640x640 1 Traffic sign, 7.1ms\n",
      "image 470/1157 /root/Desktop/workspace/Realtime Obstacle Detector/dataset/test/images/BA-2-_jpg.rf.fef960270f5abe20b8973d034d3ab277.jpg: 640x640 1 Traffic sign, 6.9ms\n",
      "image 471/1157 /root/Desktop/workspace/Realtime Obstacle Detector/dataset/test/images/BG885XWKFWJB_jpg.rf.f52d761340e9247c91ab7297c2a0dcb5.jpg: 640x640 1 Manhole, 7.2ms\n",
      "image 472/1157 /root/Desktop/workspace/Realtime Obstacle Detector/dataset/test/images/BHF62CHD1J02_jpg.rf.3b30efca40c6b8cc560318f76de8249b.jpg: 640x640 1 Manhole, 6.7ms\n",
      "image 473/1157 /root/Desktop/workspace/Realtime Obstacle Detector/dataset/test/images/BM6CUQKWBIBA_jpg.rf.aa1b0c39f96286d25758e84cd733acb5.jpg: 640x640 1 Manhole, 9.0ms\n",
      "image 474/1157 /root/Desktop/workspace/Realtime Obstacle Detector/dataset/test/images/BNWSNUV7MBG1_jpg.rf.9671c1e25d2b55d20e255edf984f6fb5.jpg: 640x640 1 Manhole, 6.7ms\n",
      "image 475/1157 /root/Desktop/workspace/Realtime Obstacle Detector/dataset/test/images/C-1-_jpg.rf.79262296c867718cad48ebcaae306ca9.jpg: 640x640 1 Traffic sign, 6.6ms\n",
      "image 476/1157 /root/Desktop/workspace/Realtime Obstacle Detector/dataset/test/images/C3TG3HDLLM3X_jpg.rf.791990e391b25d1493f54d32609e2a1f.jpg: 640x640 1 Manhole, 6.6ms\n",
      "image 477/1157 /root/Desktop/workspace/Realtime Obstacle Detector/dataset/test/images/CRR4GVTCNLOE_jpg.rf.9311993dce3df3c96707255a318fcd0b.jpg: 640x640 1 Manhole, 6.6ms\n",
      "image 478/1157 /root/Desktop/workspace/Realtime Obstacle Detector/dataset/test/images/CRRO9KR3K6WM_jpg.rf.94260cd8eeded298e0a50ae5017d5d69.jpg: 640x640 1 Manhole, 6.7ms\n",
      "image 479/1157 /root/Desktop/workspace/Realtime Obstacle Detector/dataset/test/images/CUEUIAPES4WJ_jpg.rf.9372d78514b4a072626a08b62f778fb5.jpg: 640x640 1 Manhole, 6.5ms\n",
      "image 480/1157 /root/Desktop/workspace/Realtime Obstacle Detector/dataset/test/images/CZ0C9UMCLAGP_jpg.rf.c9847f662657b5306531fa42157fce67.jpg: 640x640 (no detections), 6.4ms\n",
      "image 481/1157 /root/Desktop/workspace/Realtime Obstacle Detector/dataset/test/images/CarImage8807761_637250519968589522_3_thumb_450_300_jpeg_jpg.rf.080b3e576b7b2ef825f58db46d07619e.jpg: 640x640 1 Car, 6.3ms\n",
      "image 482/1157 /root/Desktop/workspace/Realtime Obstacle Detector/dataset/test/images/CarImage9393911_0_thumb_450_300_jpeg_jpg.rf.a20b977c4ea98092a6c56afab483de6f.jpg: 640x640 3 Cars, 6.5ms\n",
      "image 483/1157 /root/Desktop/workspace/Realtime Obstacle Detector/dataset/test/images/CarImage9534587_637622149949569438_1_thumb_450_300_jpeg_jpg.rf.11f3c7406514b84f1ac7dc77d096ffcf.jpg: 640x640 1 Car, 6.2ms\n",
      "image 484/1157 /root/Desktop/workspace/Realtime Obstacle Detector/dataset/test/images/CarImage9588363_637657596672802055_4_thumb_450_300_jpeg_jpg.rf.6763aef0bd31c207fd8291e47c015e0d.jpg: 640x640 5 Cars, 6.2ms\n",
      "image 485/1157 /root/Desktop/workspace/Realtime Obstacle Detector/dataset/test/images/CarImage9717473_1_thumb_450_300_jpg.rf.2ff2c67097801aa35f1116248dfaf76e.jpg: 640x640 2 Cars, 6.3ms\n",
      "image 486/1157 /root/Desktop/workspace/Realtime Obstacle Detector/dataset/test/images/CarImage9725907_637723970006254213_0_thumb_450_300_jpeg_jpg.rf.a203698501f72176ca2c48517d798955.jpg: 640x640 3 Cars, 6.1ms\n",
      "image 487/1157 /root/Desktop/workspace/Realtime Obstacle Detector/dataset/test/images/CarImage9743903_637749273819103846_0_thumb_450_300-JPG_jpg.rf.fb881842fa552535a2f6d6e117f5605a.jpg: 640x640 1 Car, 6.2ms\n",
      "image 488/1157 /root/Desktop/workspace/Realtime Obstacle Detector/dataset/test/images/CarImage9771900_637767402458639639_0_thumb_450_300_jpeg_jpg.rf.91d60c1cd2f83ffe5c8f2c789989a6f0.jpg: 640x640 2 Cars, 6.0ms\n",
      "image 489/1157 /root/Desktop/workspace/Realtime Obstacle Detector/dataset/test/images/CarImage9778862_042102_thumb_450_300_jpg.rf.bb137c937a80cf2a83caf648c41fdf23.jpg: 640x640 1 Car, 6.3ms\n",
      "image 490/1157 /root/Desktop/workspace/Realtime Obstacle Detector/dataset/test/images/CarImage9779895_0_thumb_240_160_jpg.rf.db687575a47da12e8a35e564313f5546.jpg: 640x640 2 Cars, 6.3ms\n",
      "image 491/1157 /root/Desktop/workspace/Realtime Obstacle Detector/dataset/test/images/CarImage9785004_0_thumb_240_160-JPG_jpg.rf.64e708a794b20719dd93f9bb108f2e34.jpg: 640x640 1 Car, 6.1ms\n",
      "image 492/1157 /root/Desktop/workspace/Realtime Obstacle Detector/dataset/test/images/CarImage9794142_637763209326434105_2_thumb_240_160_jpg.rf.5efb4d19e6cbeeef96eac33fc0359d75.jpg: 640x640 1 Car, 6.3ms\n",
      "image 493/1157 /root/Desktop/workspace/Realtime Obstacle Detector/dataset/test/images/CarImage9794975_1_thumb_240_160_jpeg_jpg.rf.c95a716d0f56465a5985ec234b93801c.jpg: 640x640 2 Cars, 6.2ms\n",
      "image 494/1157 /root/Desktop/workspace/Realtime Obstacle Detector/dataset/test/images/CarImage9800055_0_thumb_240_160_jpeg_jpg.rf.98163270cbe95be97cc33dd8dbbc026a.jpg: 640x640 1 Car, 6.5ms\n",
      "image 495/1157 /root/Desktop/workspace/Realtime Obstacle Detector/dataset/test/images/CarImage9800517_0_thumb_240_160_jpg.rf.e746823563ce243eb387787713a36919.jpg: 640x640 1 Car, 6.3ms\n",
      "image 496/1157 /root/Desktop/workspace/Realtime Obstacle Detector/dataset/test/images/CarImage9800531_0_thumb_240_160_jpeg_jpg.rf.f41c4275053260dff6546eb3d2f067a7.jpg: 640x640 3 Cars, 6.4ms\n",
      "image 497/1157 /root/Desktop/workspace/Realtime Obstacle Detector/dataset/test/images/CarImage9800629_0_thumb_240_160_jpeg_jpg.rf.850cc02e45be013071eed51a61171334.jpg: 640x640 2 Cars, 6.6ms\n",
      "image 498/1157 /root/Desktop/workspace/Realtime Obstacle Detector/dataset/test/images/CarImage9800648_3_thumb_240_160_jpg.rf.f78d088fd5628cb09afc2354865f1ae8.jpg: 640x640 1 Car, 6.5ms\n",
      "image 499/1157 /root/Desktop/workspace/Realtime Obstacle Detector/dataset/test/images/CarImage9800687_0_thumb_240_160_jpg.rf.164a6d06ed07445c10bc13b24d9684e2.jpg: 640x640 2 Cars, 6.4ms\n",
      "image 500/1157 /root/Desktop/workspace/Realtime Obstacle Detector/dataset/test/images/CarImage9800699_0_thumb_240_160_jpg.rf.332f43f772eed5f3f1b43c645188d94c.jpg: 640x640 1 Car, 6.3ms\n",
      "image 501/1157 /root/Desktop/workspace/Realtime Obstacle Detector/dataset/test/images/CarImage9800708_0_thumb_240_160_png_jpg.rf.a2edf7ee56eafdd1a6774fbfa0ae6dd6.jpg: 640x640 1 Car, 6.4ms\n",
      "image 502/1157 /root/Desktop/workspace/Realtime Obstacle Detector/dataset/test/images/CarImage9800735_0_thumb_450_300_jpeg_jpg.rf.e199517c4fff3e21bea0f5980be8034b.jpg: 640x640 1 Car, 6.5ms\n",
      "image 503/1157 /root/Desktop/workspace/Realtime Obstacle Detector/dataset/test/images/CarImage9800757_0_thumb_450_300_jpg.rf.51c45850856f9b27ace0c250eeee444a.jpg: 640x640 2 Cars, 6.4ms\n",
      "image 504/1157 /root/Desktop/workspace/Realtime Obstacle Detector/dataset/test/images/CarImage9800766_0_thumb_450_300_jpg.rf.a91d7258381438862c6f9c1fdeeff875.jpg: 640x640 1 Car, 6.4ms\n",
      "image 505/1157 /root/Desktop/workspace/Realtime Obstacle Detector/dataset/test/images/CarImage9800775_0_thumb_240_160_jpg.rf.041763ebe3acf2dc5ad005a6857a81b1.jpg: 640x640 1 Car, 6.4ms\n",
      "image 506/1157 /root/Desktop/workspace/Realtime Obstacle Detector/dataset/test/images/CarImage9800813_0_thumb_240_160_jpeg_jpg.rf.86bac922bb4652c886e392ecf354394c.jpg: 640x640 1 Car, 6.4ms\n",
      "image 507/1157 /root/Desktop/workspace/Realtime Obstacle Detector/dataset/test/images/CarImage9800818_0_thumb_240_160_jpg.rf.8230af3384661c1b89b50bf4c3e0df18.jpg: 640x640 1 Car, 6.4ms\n",
      "image 508/1157 /root/Desktop/workspace/Realtime Obstacle Detector/dataset/test/images/CarImage9800835_637767425664474693_2_thumb_240_160_jpg.rf.050d53c468e648e97ea6011acea6e79b.jpg: 640x640 2 Cars, 6.3ms\n",
      "image 509/1157 /root/Desktop/workspace/Realtime Obstacle Detector/dataset/test/images/CarImage9800860_2_thumb_240_160_jpg.rf.3cd4790d3f546fd90583867d41e20e82.jpg: 640x640 2 Cars, 6.3ms\n",
      "image 510/1157 /root/Desktop/workspace/Realtime Obstacle Detector/dataset/test/images/D0RD4M2DZTIZ_jpg.rf.e2790418cabd448f706aba67d9395948.jpg: 640x640 1 Manhole, 6.2ms\n",
      "image 511/1157 /root/Desktop/workspace/Realtime Obstacle Detector/dataset/test/images/D7RBX0IXS07E_jpg.rf.ba963221ac9409c001b430e79f4ea19e.jpg: 640x640 1 Manhole, 6.7ms\n",
      "image 512/1157 /root/Desktop/workspace/Realtime Obstacle Detector/dataset/test/images/DD-26-_jpg.rf.fa3927c416f9c0d00dd25537930b3677.jpg: 640x640 1 Traffic sign, 6.4ms\n",
      "image 513/1157 /root/Desktop/workspace/Realtime Obstacle Detector/dataset/test/images/DD-29-_jpg.rf.ac31420b09cde41a744132beb94f0e55.jpg: 640x640 1 Traffic sign, 6.7ms\n",
      "image 514/1157 /root/Desktop/workspace/Realtime Obstacle Detector/dataset/test/images/DD-47-_jpg.rf.a8bc7305d58d3e5e193d94f0bd8df670.jpg: 640x640 1 Traffic sign, 6.5ms\n",
      "image 515/1157 /root/Desktop/workspace/Realtime Obstacle Detector/dataset/test/images/DD-5-_jpg.rf.7ae6172ac8cb5f8084e04efb78401f4d.jpg: 640x640 1 Traffic sign, 6.4ms\n",
      "image 516/1157 /root/Desktop/workspace/Realtime Obstacle Detector/dataset/test/images/DD-6-_jpeg_jpg.rf.13abfcfc621067de8a97714a2f1aa32a.jpg: 640x640 1 Traffic sign, 6.2ms\n",
      "image 517/1157 /root/Desktop/workspace/Realtime Obstacle Detector/dataset/test/images/DP3F9G5Q8PCB_jpg.rf.bd39f167b3541a09655c75239b7a3a09.jpg: 640x640 1 Manhole, 6.2ms\n",
      "image 518/1157 /root/Desktop/workspace/Realtime Obstacle Detector/dataset/test/images/DSC01141_jpg.rf.4b287f2a53b1fac1b5659e166d8b069d.jpg: 640x640 9 Persons, 6.6ms\n",
      "image 519/1157 /root/Desktop/workspace/Realtime Obstacle Detector/dataset/test/images/DSC06068_jpg.rf.44bc57e36511242d0922deaa5e28401a.jpg: 640x640 29 Persons, 6.3ms\n",
      "image 520/1157 /root/Desktop/workspace/Realtime Obstacle Detector/dataset/test/images/DSC08465_jpg.rf.35891f2a188fd3414983bd2423bd8261.jpg: 640x640 23 Persons, 6.3ms\n",
      "image 521/1157 /root/Desktop/workspace/Realtime Obstacle Detector/dataset/test/images/DSC09941_jpg.rf.54723338ac15fcb6a72a1420c7d3e319.jpg: 640x640 7 Persons, 6.2ms\n",
      "image 522/1157 /root/Desktop/workspace/Realtime Obstacle Detector/dataset/test/images/FERRY-15-_jpg.rf.4d158243bd78b5619f49b5725355fa02.jpg: 640x640 1 Traffic sign, 6.3ms\n",
      "image 523/1157 /root/Desktop/workspace/Realtime Obstacle Detector/dataset/test/images/FERRY-17-_jpg.rf.4db5522f8d5b911b45db23174e4b7dcd.jpg: 640x640 1 Traffic sign, 6.4ms\n",
      "image 524/1157 /root/Desktop/workspace/Realtime Obstacle Detector/dataset/test/images/FFMAU4FL750R_jpg.rf.5cc47d103b6c7057a557221da3196fab.jpg: 640x640 1 Manhole, 8.8ms\n",
      "image 525/1157 /root/Desktop/workspace/Realtime Obstacle Detector/dataset/test/images/FJGEMEZJR0BO_jpg.rf.b0f54f76a9fbf1199a16d7a03672d2f8.jpg: 640x640 1 Manhole, 6.5ms\n",
      "image 526/1157 /root/Desktop/workspace/Realtime Obstacle Detector/dataset/test/images/FKW4N5ER99Q1_jpg.rf.05cd65e8ee8be29de16019ee4aaad28b.jpg: 640x640 1 Manhole, 6.4ms\n",
      "image 527/1157 /root/Desktop/workspace/Realtime Obstacle Detector/dataset/test/images/FP801RD70F15_jpg.rf.830780ebed24652caed7b54801021f88.jpg: 640x640 1 Manhole, 6.4ms\n",
      "image 528/1157 /root/Desktop/workspace/Realtime Obstacle Detector/dataset/test/images/FQ737Y1D7QCO_jpg.rf.522860651613c75b3b19470e0153cac4.jpg: 640x640 1 Manhole, 6.5ms\n",
      "image 529/1157 /root/Desktop/workspace/Realtime Obstacle Detector/dataset/test/images/FROCKS-1-_jpeg_jpg.rf.3795171605f8e90ef7c49533e651178c.jpg: 640x640 1 Traffic sign, 6.4ms\n",
      "image 530/1157 /root/Desktop/workspace/Realtime Obstacle Detector/dataset/test/images/FROCKS-3-_jpeg_jpg.rf.50dfba3bfab5fa57014ea0a2c2ee609c.jpg: 640x640 1 Traffic sign, 6.5ms\n",
      "image 531/1157 /root/Desktop/workspace/Realtime Obstacle Detector/dataset/test/images/FROCKS-5-_jpg.rf.8b73d3b8baaa5412dbd5bb6f6e8c1fc5.jpg: 640x640 1 Traffic sign, 6.4ms\n",
      "image 532/1157 /root/Desktop/workspace/Realtime Obstacle Detector/dataset/test/images/FROCKS-6-_jpg.rf.4ab7b86dccbc659f1337c2264cbe7f87.jpg: 640x640 1 Traffic sign, 6.3ms\n",
      "image 533/1157 /root/Desktop/workspace/Realtime Obstacle Detector/dataset/test/images/FROCKS-7-_jpeg_jpg.rf.2de4e75c01f2e69ad5ad640e7eb8aba7.jpg: 640x640 1 Traffic sign, 6.6ms\n",
      "image 534/1157 /root/Desktop/workspace/Realtime Obstacle Detector/dataset/test/images/FROCKS-7-_jpeg_jpg.rf.3c3c31b50be16358df4f57347f7de776.jpg: 640x640 1 Traffic sign, 6.2ms\n",
      "image 535/1157 /root/Desktop/workspace/Realtime Obstacle Detector/dataset/test/images/FSZF66EUEN6U_jpg.rf.3733dd2e8588852f148a64b758fd96fa.jpg: 640x640 1 Manhole, 6.1ms\n",
      "image 536/1157 /root/Desktop/workspace/Realtime Obstacle Detector/dataset/test/images/GD4JUNJV1A0T_jpg.rf.5cb9d864517fae0ccd49b54b642f8b8a.jpg: 640x640 1 Manhole, 6.2ms\n",
      "image 537/1157 /root/Desktop/workspace/Realtime Obstacle Detector/dataset/test/images/GHQC1X71A4PV_jpg.rf.8cc9e54dbbb5d0f6f58fd6b24819b1ad.jpg: 640x640 1 Manhole, 6.1ms\n",
      "image 538/1157 /root/Desktop/workspace/Realtime Obstacle Detector/dataset/test/images/GIVEWAY-103-_jpg.rf.b76f02c484b4166b6a4c860888c4cb3b.jpg: 640x640 1 Traffic sign, 6.3ms\n",
      "image 539/1157 /root/Desktop/workspace/Realtime Obstacle Detector/dataset/test/images/GIVEWAY-35-_jpg.rf.bb32e5f11a686e910a1915d42f41837d.jpg: 640x640 1 Traffic sign, 6.3ms\n",
      "image 540/1157 /root/Desktop/workspace/Realtime Obstacle Detector/dataset/test/images/GUEST_99575ea4-ee3b-439e-9dda-926b966036c8_jpeg.rf.7b6890ae673dfb90d61eeccb13c2d95e.jpg: 640x640 1 Bike, 6.4ms\n",
      "image 541/1157 /root/Desktop/workspace/Realtime Obstacle Detector/dataset/test/images/Gear-Priority-Bicycles-APOLLO_LIFESTYLE_EXPORTS_v2-58_jpg.rf.d937edc45e030c9aa6ee8c1e2209f350.jpg: 640x640 1 Bike, 6.3ms\n",
      "image 542/1157 /root/Desktop/workspace/Realtime Obstacle Detector/dataset/test/images/HAOB1A03A8QY_jpg.rf.da153d90138e0fbd874d0603900fab7b.jpg: 640x640 1 Manhole, 6.3ms\n",
      "image 543/1157 /root/Desktop/workspace/Realtime Obstacle Detector/dataset/test/images/HF2MJ9UD7KZJ_jpg.rf.cedd51144630e91a164445184c48aca0.jpg: 640x640 1 Manhole, 6.4ms\n",
      "image 544/1157 /root/Desktop/workspace/Realtime Obstacle Detector/dataset/test/images/HHBJHPOULAEE_jpg.rf.2cd2e28c75a0555e2802e47105312453.jpg: 640x640 1 Manhole, 6.6ms\n",
      "image 545/1157 /root/Desktop/workspace/Realtime Obstacle Detector/dataset/test/images/HOSPI-2-_jpg.rf.cf9f6cadff90f2f7ad3a8781dcc98988.jpg: 640x640 1 Traffic sign, 6.4ms\n",
      "image 546/1157 /root/Desktop/workspace/Realtime Obstacle Detector/dataset/test/images/I5WL0XUU7XNQ_jpg.rf.2c3f53b0b7898e48af8bf1daca9564d4.jpg: 640x640 1 Manhole, 6.3ms\n",
      "image 547/1157 /root/Desktop/workspace/Realtime Obstacle Detector/dataset/test/images/IMG-11_jpg.rf.0ac26a775a84e51144b73ed19a2f8a7c.jpg: 640x640 10 Persons, 6.3ms\n",
      "image 548/1157 /root/Desktop/workspace/Realtime Obstacle Detector/dataset/test/images/IMG_0549_jpg.rf.93db5dc56e55a8066bd5a561f1825d0b.jpg: 640x640 4 Stairss, 6.3ms\n",
      "image 549/1157 /root/Desktop/workspace/Realtime Obstacle Detector/dataset/test/images/IMG_0555_jpg.rf.2db3d99c26f6f9890eb6247808794b7f.jpg: 640x640 1 Stairs, 6.2ms\n",
      "image 550/1157 /root/Desktop/workspace/Realtime Obstacle Detector/dataset/test/images/IMG_0617_jpg.rf.edbd5e04dbd78a7ffa6154f64fd73a0b.jpg: 640x640 1 Stairs, 6.1ms\n",
      "image 551/1157 /root/Desktop/workspace/Realtime Obstacle Detector/dataset/test/images/IMG_0788_jpg.rf.1302f0e3324684ad7856145bba665f1b.jpg: 640x640 1 Stairs, 6.1ms\n",
      "image 552/1157 /root/Desktop/workspace/Realtime Obstacle Detector/dataset/test/images/IMG_0803_jpg.rf.387aff7c5da4a8dba1d1592eee258d9a.jpg: 640x640 1 Stairs, 6.2ms\n",
      "image 553/1157 /root/Desktop/workspace/Realtime Obstacle Detector/dataset/test/images/IMG_0818_jpg.rf.6bb2bd54134365b8197e0bd11aa41230.jpg: 640x640 1 Stairs, 6.1ms\n",
      "image 554/1157 /root/Desktop/workspace/Realtime Obstacle Detector/dataset/test/images/IMG_0819_jpg.rf.16d1a88e67f94b1ce9cc7260fdf660d3.jpg: 640x640 2 Stairss, 6.1ms\n",
      "image 555/1157 /root/Desktop/workspace/Realtime Obstacle Detector/dataset/test/images/IMG_0860_jpg.rf.29e1499a71329df830e629ae3afe51f6.jpg: 640x640 5 Persons, 6.3ms\n",
      "image 556/1157 /root/Desktop/workspace/Realtime Obstacle Detector/dataset/test/images/IMG_5495_jpg.rf.b7fda2561b3c096258fbe2dde06941fd.jpg: 640x640 2 Stairss, 6.1ms\n",
      "image 557/1157 /root/Desktop/workspace/Realtime Obstacle Detector/dataset/test/images/IMG_5504_jpg.rf.5b68dcbf4a351f9ae7bd97a7690db7e6.jpg: 640x640 1 Stairs, 6.1ms\n",
      "image 558/1157 /root/Desktop/workspace/Realtime Obstacle Detector/dataset/test/images/IMG_5508_jpg.rf.6d796ac4c7418c2fd4b0c3568cff9e02.jpg: 640x640 1 Stairs, 6.2ms\n",
      "image 559/1157 /root/Desktop/workspace/Realtime Obstacle Detector/dataset/test/images/IMG_5519_jpg.rf.3693d1f2123cc7b4a2551f85a2fa750c.jpg: 640x640 1 Stairs, 6.2ms\n",
      "image 560/1157 /root/Desktop/workspace/Realtime Obstacle Detector/dataset/test/images/IMG_5521_jpg.rf.ce06d6fe915719638069b90268aa6cda.jpg: 640x640 1 Stairs, 6.2ms\n",
      "image 561/1157 /root/Desktop/workspace/Realtime Obstacle Detector/dataset/test/images/IMG_5527_jpg.rf.1c5185ff0385f6f89b9f2dd979c50248.jpg: 640x640 2 Stairss, 6.4ms\n",
      "image 562/1157 /root/Desktop/workspace/Realtime Obstacle Detector/dataset/test/images/IMG_5528_jpg.rf.91d82ace188a777fc70ad14312d403f8.jpg: 640x640 1 Stairs, 6.2ms\n",
      "image 563/1157 /root/Desktop/workspace/Realtime Obstacle Detector/dataset/test/images/IQXZ80BDGALA_jpg.rf.37b2ae909cd722e3ba5ddaf428645886.jpg: 640x640 1 Manhole, 6.1ms\n",
      "image 564/1157 /root/Desktop/workspace/Realtime Obstacle Detector/dataset/test/images/ISFJPU3W18ZM_jpg.rf.733ebe02b1dc5192a7b7a48f0da34cd3.jpg: 640x640 1 Manhole, 6.1ms\n",
      "image 565/1157 /root/Desktop/workspace/Realtime Obstacle Detector/dataset/test/images/IUNJPDX8IR0C_jpg.rf.17e1039fcb9158b3f194aa6a21ff6307.jpg: 640x640 1 Manhole, 6.2ms\n",
      "image 566/1157 /root/Desktop/workspace/Realtime Obstacle Detector/dataset/test/images/JWVXGQPJT1ZH_jpg.rf.b849dc2504034350c8469954307e8ccd.jpg: 640x640 1 Manhole, 7.0ms\n",
      "image 567/1157 /root/Desktop/workspace/Realtime Obstacle Detector/dataset/test/images/JYEX3WPC8GJQ_jpg.rf.8e3fa99fcc993037b6a31a6c9e891ed1.jpg: 640x640 1 Manhole, 6.2ms\n",
      "image 568/1157 /root/Desktop/workspace/Realtime Obstacle Detector/dataset/test/images/JZ3LJ8111WCI_jpg.rf.1f59b0a3bd1abd7fbc4cab1eb270d991.jpg: 640x640 1 Manhole, 6.2ms\n",
      "image 569/1157 /root/Desktop/workspace/Realtime Obstacle Detector/dataset/test/images/JZQDBFO1DQ97_jpg.rf.32fe83b2b8a93f42a85d4fcaa91b654e.jpg: 640x640 1 Manhole, 6.3ms\n",
      "image 570/1157 /root/Desktop/workspace/Realtime Obstacle Detector/dataset/test/images/Jogging-trails_jpg.rf.228ca229927e52b0675de8ff925e04f1.jpg: 640x640 2 Persons, 6.3ms\n",
      "image 571/1157 /root/Desktop/workspace/Realtime Obstacle Detector/dataset/test/images/K0T001TAY21N_jpg.rf.2983e3d40c8a5bd4d497da74b69d423b.jpg: 640x640 1 Manhole, 6.7ms\n",
      "image 572/1157 /root/Desktop/workspace/Realtime Obstacle Detector/dataset/test/images/KQM8029CE2S5_jpg.rf.de0d6b83f6c5e2e6a718040d1760f062.jpg: 640x640 1 Manhole, 6.2ms\n",
      "image 573/1157 /root/Desktop/workspace/Realtime Obstacle Detector/dataset/test/images/KSQBS2GECID2_jpg.rf.49a3c1163abb10d6748864351be0cb20.jpg: 640x640 1 Manhole, 6.2ms\n",
      "image 574/1157 /root/Desktop/workspace/Realtime Obstacle Detector/dataset/test/images/KTIQXVGHZYDS_jpg.rf.41d30965651fd91dcf4a87a997a998c5.jpg: 640x640 1 Manhole, 6.4ms\n",
      "image 575/1157 /root/Desktop/workspace/Realtime Obstacle Detector/dataset/test/images/KXB6C3O5O3K4_jpg.rf.01a0ef4966f6b39f2aeeff1d6924b482.jpg: 640x640 1 Traffic sign, 1 Manhole, 6.7ms\n",
      "image 576/1157 /root/Desktop/workspace/Realtime Obstacle Detector/dataset/test/images/KakaoTalk_20230407_154711521_04_jpg.rf.d46bf2fd838ff2e9f6c4a5db0aaede48.jpg: 640x640 2 Manholes, 6.4ms\n",
      "image 577/1157 /root/Desktop/workspace/Realtime Obstacle Detector/dataset/test/images/KakaoTalk_20230414_175428809_18_jpg.rf.4ffecd939a4058262655775beaf728d4.jpg: 640x640 1 Manhole, 6.4ms\n",
      "image 578/1157 /root/Desktop/workspace/Realtime Obstacle Detector/dataset/test/images/KakaoTalk_20230414_175540680_15_jpg.rf.9fe7d8a10b279c7e84d77b857e2975e0.jpg: 640x640 1 Manhole, 6.3ms\n",
      "image 579/1157 /root/Desktop/workspace/Realtime Obstacle Detector/dataset/test/images/KakaoTalk_20230414_175712907_07_jpg.rf.62d99575882dd63dc8f5b54e5d116c25.jpg: 640x640 1 Manhole, 6.9ms\n",
      "image 580/1157 /root/Desktop/workspace/Realtime Obstacle Detector/dataset/test/images/KakaoTalk_20230414_175720342_03_jpg.rf.76cb33e6c34dbc05590cd5b9e0867414.jpg: 640x640 1 Manhole, 6.6ms\n",
      "image 581/1157 /root/Desktop/workspace/Realtime Obstacle Detector/dataset/test/images/KakaoTalk_20230414_175720342_06_jpg.rf.2466f3dd56421bd6d8aa28af9a75e688.jpg: 640x640 2 Manholes, 6.6ms\n",
      "image 582/1157 /root/Desktop/workspace/Realtime Obstacle Detector/dataset/test/images/Kid-Running_jpeg.rf.651c633c1b864dd1af429d6ddc65f934.jpg: 640x640 2 Persons, 7.0ms\n",
      "image 583/1157 /root/Desktop/workspace/Realtime Obstacle Detector/dataset/test/images/L0ZHBGRY26HX_jpg.rf.d6dae674e2d276d0d14a15d8a8f63be3.jpg: 640x640 1 Manhole, 6.4ms\n",
      "image 584/1157 /root/Desktop/workspace/Realtime Obstacle Detector/dataset/test/images/LJ3ROMKJJDRJ_jpg.rf.c06d7b30f0a2354f8933dee3635139d5.jpg: 640x640 1 Manhole, 6.3ms\n",
      "image 585/1157 /root/Desktop/workspace/Realtime Obstacle Detector/dataset/test/images/LXJBILMVDN6T_jpg.rf.8a27af56eb24482999d1c4cb76772a63.jpg: 640x640 1 Manhole, 6.3ms\n",
      "image 586/1157 /root/Desktop/workspace/Realtime Obstacle Detector/dataset/test/images/M5GXZSH8KAWU_jpg.rf.5d8eb6202fcf21576c52bbcd5faa2c17.jpg: 640x640 1 Manhole, 6.4ms\n",
      "image 587/1157 /root/Desktop/workspace/Realtime Obstacle Detector/dataset/test/images/MAE4WKCUVHUH_jpg.rf.76e0a3c5d8d5cf88e44a8511e2d10977.jpg: 640x640 1 Manhole, 6.2ms\n",
      "image 588/1157 /root/Desktop/workspace/Realtime Obstacle Detector/dataset/test/images/MCVH1I78BELK_jpg.rf.f423d164ac49e19828232257e03d5fd5.jpg: 640x640 1 Manhole, 6.3ms\n",
      "image 589/1157 /root/Desktop/workspace/Realtime Obstacle Detector/dataset/test/images/MFH9CSOUVX1E_jpg.rf.2b8f96eca7ea73c52a04266ebacb4130.jpg: 640x640 3 Persons, 1 Manhole, 6.1ms\n",
      "image 590/1157 /root/Desktop/workspace/Realtime Obstacle Detector/dataset/test/images/MPKEZ6014ZXL_jpg.rf.61eaeef80c088696e399278d70ef8d8b.jpg: 640x640 1 Manhole, 6.2ms\n",
      "image 591/1157 /root/Desktop/workspace/Realtime Obstacle Detector/dataset/test/images/MWVLC711AL1I_jpg.rf.950afdf7ba4a174d19b7eded8d7c458f.jpg: 640x640 1 Manhole, 6.2ms\n",
      "image 592/1157 /root/Desktop/workspace/Realtime Obstacle Detector/dataset/test/images/N21Y09TBTO56_jpg.rf.d4049f1017558dacd60834bb3956064c.jpg: 640x640 1 Manhole, 6.2ms\n",
      "image 593/1157 /root/Desktop/workspace/Realtime Obstacle Detector/dataset/test/images/N5CQ40HIJUFJ_jpg.rf.a813c6fea5f8a9c37d26c7f9f36d0b10.jpg: 640x640 1 Manhole, 6.2ms\n",
      "image 594/1157 /root/Desktop/workspace/Realtime Obstacle Detector/dataset/test/images/N7VFPLWBFG0Y_jpg.rf.bcad641c8fbbe2a19a0003da6cb20d83.jpg: 640x640 1 Manhole, 6.2ms\n",
      "image 595/1157 /root/Desktop/workspace/Realtime Obstacle Detector/dataset/test/images/NARROWBRID-23-_jpg.rf.2589c3daf0ce0252eb29b12c5e802066.jpg: 640x640 3 Traffic signs, 6.2ms\n",
      "image 596/1157 /root/Desktop/workspace/Realtime Obstacle Detector/dataset/test/images/NARROWBRID-23-_jpg.rf.478f91f70c822c508dacfb3bed5513e3.jpg: 640x640 1 Traffic sign, 6.2ms\n",
      "image 597/1157 /root/Desktop/workspace/Realtime Obstacle Detector/dataset/test/images/NARROWROADAH-2-_jpg.rf.5a4b5b5fb538350411e0177cb05a1b37.jpg: 640x640 1 Traffic sign, 6.1ms\n",
      "image 598/1157 /root/Desktop/workspace/Realtime Obstacle Detector/dataset/test/images/NATJG595ZAWF_jpg.rf.fb8e62f210a2714ba610e5ddce4646af.jpg: 640x640 1 Manhole, 6.3ms\n",
      "image 599/1157 /root/Desktop/workspace/Realtime Obstacle Detector/dataset/test/images/NC8LXSN40VAE_jpg.rf.41d42f1b5df148fa120694c3be8b011d.jpg: 640x640 1 Manhole, 6.2ms\n",
      "image 600/1157 /root/Desktop/workspace/Realtime Obstacle Detector/dataset/test/images/NDCMHS46KPQJ_jpg.rf.95cf2e9596ad37beed3f81195f10374e.jpg: 640x640 1 Manhole, 6.7ms\n",
      "image 601/1157 /root/Desktop/workspace/Realtime Obstacle Detector/dataset/test/images/NL7P1TK9LKNH_jpg.rf.9dd7f1fc00f27eade6c117e3e0c84594.jpg: 640x640 1 Manhole, 6.3ms\n",
      "image 602/1157 /root/Desktop/workspace/Realtime Obstacle Detector/dataset/test/images/NN56BY3L53GB_jpg.rf.f78f60f7892fc3e2304fd4354540af48.jpg: 640x640 1 Manhole, 6.3ms\n",
      "image 603/1157 /root/Desktop/workspace/Realtime Obstacle Detector/dataset/test/images/NP-15-_jpg.rf.754485de9a599d9aebd461f6c30c6b1d.jpg: 640x640 1 Traffic sign, 6.4ms\n",
      "image 604/1157 /root/Desktop/workspace/Realtime Obstacle Detector/dataset/test/images/NP-17-_jpg.rf.8d486881c5e0c93f7490935f5f871f69.jpg: 640x640 1 Traffic sign, 6.2ms\n",
      "image 605/1157 /root/Desktop/workspace/Realtime Obstacle Detector/dataset/test/images/NP-18-_jpg.rf.9e6f19ae7bc12a5e6936a0b71be89da2.jpg: 640x640 1 Traffic sign, 6.2ms\n",
      "image 606/1157 /root/Desktop/workspace/Realtime Obstacle Detector/dataset/test/images/NP-23-_jpg.rf.b3f62f05cc0c85576d9bf9f40e5f64b8.jpg: 640x640 (no detections), 6.2ms\n",
      "image 607/1157 /root/Desktop/workspace/Realtime Obstacle Detector/dataset/test/images/NP-34-_jpg.rf.6b05d12f83f22359c314a51f98402519.jpg: 640x640 1 Traffic sign, 6.3ms\n",
      "image 608/1157 /root/Desktop/workspace/Realtime Obstacle Detector/dataset/test/images/NP-36-_jpg.rf.427cc06ce5a234df8a0a6c79f1030919.jpg: 640x640 1 Traffic sign, 6.8ms\n",
      "image 609/1157 /root/Desktop/workspace/Realtime Obstacle Detector/dataset/test/images/NP-41-_jpg.rf.a8cda99a7d6587a590232df04cfa5c5a.jpg: 640x640 2 Traffic signs, 6.3ms\n",
      "image 610/1157 /root/Desktop/workspace/Realtime Obstacle Detector/dataset/test/images/NP-42-_jpg.rf.07005f6762dd0ea0d9461106f459be1b.jpg: 640x640 1 Traffic sign, 6.3ms\n",
      "image 611/1157 /root/Desktop/workspace/Realtime Obstacle Detector/dataset/test/images/NP-47-_jpg.rf.df7a7861aa0a5c65ac19217d4cf10b64.jpg: 640x640 1 Traffic sign, 6.3ms\n",
      "image 612/1157 /root/Desktop/workspace/Realtime Obstacle Detector/dataset/test/images/NP-5-_jpg.rf.a692fbe93c44a63331eec47b98aa13f3.jpg: 640x640 1 Traffic sign, 6.1ms\n",
      "image 613/1157 /root/Desktop/workspace/Realtime Obstacle Detector/dataset/test/images/NP-50-_jpg.rf.5c43a30142e1a96d3e55679000bc9168.jpg: 640x640 1 Traffic sign, 6.2ms\n",
      "image 614/1157 /root/Desktop/workspace/Realtime Obstacle Detector/dataset/test/images/NP-51-_jpg.rf.2dfb90da43fd4cac7ef4f88f4d01f728.jpg: 640x640 1 Traffic sign, 6.1ms\n",
      "image 615/1157 /root/Desktop/workspace/Realtime Obstacle Detector/dataset/test/images/NP-8-_jpg.rf.c8c86ba9d8efa731e796e275df6bed9a.jpg: 640x640 1 Traffic sign, 6.4ms\n",
      "image 616/1157 /root/Desktop/workspace/Realtime Obstacle Detector/dataset/test/images/NQY03J6CXL8M_jpg.rf.c3ebb086e3a5b3714792814119f59285.jpg: 640x640 1 Manhole, 6.7ms\n",
      "image 617/1157 /root/Desktop/workspace/Realtime Obstacle Detector/dataset/test/images/NSB4KEDGEGHX_jpg.rf.ad8f68792aa3a8009e8eb49b29a89690.jpg: 640x640 1 Manhole, 6.2ms\n",
      "image 618/1157 /root/Desktop/workspace/Realtime Obstacle Detector/dataset/test/images/NTSR-6-_jpeg_jpg.rf.26fa89b756289036fa477ad0a37a68da.jpg: 640x640 1 Traffic sign, 1 Guard rail, 6.6ms\n",
      "image 619/1157 /root/Desktop/workspace/Realtime Obstacle Detector/dataset/test/images/NUA376WL93HD_jpg.rf.9e4ba4320b72962f36f95d0e08529290.jpg: 640x640 1 Manhole, 6.5ms\n",
      "image 620/1157 /root/Desktop/workspace/Realtime Obstacle Detector/dataset/test/images/OIP-C-13-_jpg.rf.885b69c7a60e212c5a2cb92ddf2cf524.jpg: 640x640 1 Manhole, 6.3ms\n",
      "image 621/1157 /root/Desktop/workspace/Realtime Obstacle Detector/dataset/test/images/OIP-C-2-_jpg.rf.0d329c8a691e1e6fdbf576bc0ffbb2a8.jpg: 640x640 1 Manhole, 6.3ms\n",
      "image 622/1157 /root/Desktop/workspace/Realtime Obstacle Detector/dataset/test/images/ONHI0NPOEO7A_jpg.rf.84957aa30133d9892858106977fa4d37.jpg: 640x640 1 Manhole, 6.3ms\n",
      "image 623/1157 /root/Desktop/workspace/Realtime Obstacle Detector/dataset/test/images/OU3MDANBLBPD_jpg.rf.cee2de689b23b0bf66964bbacb6216df.jpg: 640x640 1 Manhole, 6.4ms\n",
      "image 624/1157 /root/Desktop/workspace/Realtime Obstacle Detector/dataset/test/images/OY58IE03J7BA_jpg.rf.6b2a76017afb9d0fba352675f5473df7.jpg: 640x640 1 Manhole, 6.4ms\n",
      "image 625/1157 /root/Desktop/workspace/Realtime Obstacle Detector/dataset/test/images/P1E00E3X91ET_jpg.rf.5519cab5d274f3631f6f8dcd4b43918b.jpg: 640x640 1 Manhole, 6.6ms\n",
      "image 626/1157 /root/Desktop/workspace/Realtime Obstacle Detector/dataset/test/images/P5U6YNHPWZVV_jpg.rf.1991aa474c10dff926a1de78f258402f.jpg: 640x640 2 Manholes, 6.2ms\n",
      "image 627/1157 /root/Desktop/workspace/Realtime Obstacle Detector/dataset/test/images/P8XT9X7RDNRK_jpg.rf.9f6e56511ca76139a0f0cac404853fdc.jpg: 640x640 1 Manhole, 6.3ms\n",
      "image 628/1157 /root/Desktop/workspace/Realtime Obstacle Detector/dataset/test/images/PEDC-11-_png.rf.fce8cebbd5357a305bd733bf7463e1e7.jpg: 640x640 1 Pedestrian crosswalk, 6.1ms\n",
      "image 629/1157 /root/Desktop/workspace/Realtime Obstacle Detector/dataset/test/images/PEDC-15-_png.rf.91fc260df72040cb45d7ca14fc11da10.jpg: 640x640 1 Pedestrian crosswalk, 6.4ms\n",
      "image 630/1157 /root/Desktop/workspace/Realtime Obstacle Detector/dataset/test/images/PEDC-20-_jpg.rf.ddc9d9e7f9f7f1ca89d123b0d7de9e55.jpg: 640x640 1 Pedestrian crosswalk, 6.3ms\n",
      "image 631/1157 /root/Desktop/workspace/Realtime Obstacle Detector/dataset/test/images/PEDC-21-_jpg.rf.ccd6ba89a5c63a63a956f8fc15aaec2d.jpg: 640x640 1 Car, 1 Traffic sign, 6.2ms\n",
      "image 632/1157 /root/Desktop/workspace/Realtime Obstacle Detector/dataset/test/images/PEDC-31-_png.rf.09ae937138c0a7990fae05eacf0a8cb8.jpg: 640x640 1 Pedestrian crosswalk, 6.4ms\n",
      "image 633/1157 /root/Desktop/workspace/Realtime Obstacle Detector/dataset/test/images/PEDC-34-_png.rf.97d77a958c78b73166836ca838f2a0c8.jpg: 640x640 1 Pedestrian crosswalk, 6.3ms\n",
      "image 634/1157 /root/Desktop/workspace/Realtime Obstacle Detector/dataset/test/images/PEDC-42-_png.rf.f532c5d58bd6f965b14a3bdcdc476384.jpg: 640x640 1 Pedestrian crosswalk, 6.3ms\n",
      "image 635/1157 /root/Desktop/workspace/Realtime Obstacle Detector/dataset/test/images/PEDC-45-_png.rf.2544b7ed054544b97a6df8a26c1e728a.jpg: 640x640 1 Pedestrian crosswalk, 6.2ms\n",
      "image 636/1157 /root/Desktop/workspace/Realtime Obstacle Detector/dataset/test/images/PEDC-48-_png.rf.ee32a58240f42bca0c36ddc60034c0f8.jpg: 640x640 1 Pedestrian crosswalk, 6.2ms\n",
      "image 637/1157 /root/Desktop/workspace/Realtime Obstacle Detector/dataset/test/images/PEDC-6-_jpg.rf.a3c1af7df694a81ca06962d4ae35b861.jpg: 640x640 1 Traffic sign, 6.7ms\n",
      "image 638/1157 /root/Desktop/workspace/Realtime Obstacle Detector/dataset/test/images/PEDC-7-_jpg.rf.c93109ae227e6e58fa9e295b31acb822.jpg: 640x640 1 Car, 1 Traffic sign, 1 Tree, 6.2ms\n",
      "image 639/1157 /root/Desktop/workspace/Realtime Obstacle Detector/dataset/test/images/PLC-12-_jpg.rf.4c56b80121da18ae7ae548f7b6ff4c74.jpg: 640x640 3 Traffic signs, 6.1ms\n",
      "image 640/1157 /root/Desktop/workspace/Realtime Obstacle Detector/dataset/test/images/PLSM-32-_jpg.rf.b8717ba478a211aa4d9d91b0bd26e888.jpg: 640x640 1 Traffic sign, 7.2ms\n",
      "image 641/1157 /root/Desktop/workspace/Realtime Obstacle Detector/dataset/test/images/PLSM-47-_jpg.rf.73e1459b407b531f082fef76d4d20dac.jpg: 640x640 1 Traffic sign, 6.6ms\n",
      "image 642/1157 /root/Desktop/workspace/Realtime Obstacle Detector/dataset/test/images/PTS-1-_jpg.rf.badcde2d5bb0881a91f5669910d5d7a2.jpg: 640x640 1 Traffic sign, 1 Motorcycle, 6.3ms\n",
      "image 643/1157 /root/Desktop/workspace/Realtime Obstacle Detector/dataset/test/images/PTS-2-_jpg.rf.c2d502bf4728eada1e0119b43cf59507.jpg: 640x640 1 Traffic sign, 1 Tree, 6.3ms\n",
      "image 644/1157 /root/Desktop/workspace/Realtime Obstacle Detector/dataset/test/images/PUYHW3SS4586_jpg.rf.0cafe54c165130de108aa26da732832a.jpg: 640x640 1 Manhole, 6.4ms\n",
      "image 645/1157 /root/Desktop/workspace/Realtime Obstacle Detector/dataset/test/images/PV7LRB7G582T_jpg.rf.a86fd5d991cac37c7936cc5a080bce04.jpg: 640x640 1 Manhole, 6.6ms\n",
      "image 646/1157 /root/Desktop/workspace/Realtime Obstacle Detector/dataset/test/images/Q94JV2KUJPDN_jpg.rf.4043782ad4925741a2c1b6283eb944b1.jpg: 640x640 1 Manhole, 6.6ms\n",
      "image 647/1157 /root/Desktop/workspace/Realtime Obstacle Detector/dataset/test/images/QBAHHCD4A3QT_jpg.rf.f964f4b027b4b15c3286e1b6ceb246b3.jpg: 640x640 1 Manhole, 6.3ms\n",
      "image 648/1157 /root/Desktop/workspace/Realtime Obstacle Detector/dataset/test/images/QE7UQJT6ZB7D_jpg.rf.1349d51762006603475c524a8f9786a9.jpg: 640x640 1 Manhole, 6.6ms\n",
      "image 649/1157 /root/Desktop/workspace/Realtime Obstacle Detector/dataset/test/images/QNFNT0Q484CA_jpg.rf.c4c4490278568c48ec884897a4573f9c.jpg: 640x640 1 Manhole, 6.2ms\n",
      "image 650/1157 /root/Desktop/workspace/Realtime Obstacle Detector/dataset/test/images/QO8BL4KW0IDO_jpg.rf.bbb9b3f5d432c17b2dd0e2392c12d2d7.jpg: 640x640 1 Manhole, 6.4ms\n",
      "image 651/1157 /root/Desktop/workspace/Realtime Obstacle Detector/dataset/test/images/QOMXIBQ8OJG5_jpg.rf.769a853d2c5f70e9b2ec6d2a34f795a7.jpg: 640x640 1 Manhole, 6.2ms\n",
      "image 652/1157 /root/Desktop/workspace/Realtime Obstacle Detector/dataset/test/images/QY4-KqBq_jpg.rf.796db45b55a7ff7283578521fa3d16a4.jpg: 640x640 2 Buss, 6.2ms\n",
      "image 653/1157 /root/Desktop/workspace/Realtime Obstacle Detector/dataset/test/images/QY4aNich_jpg.rf.38a7fb2bc5ccb927baa1ea447edd35f1.jpg: 640x640 1 Car, 1 Bus, 6.4ms\n",
      "image 654/1157 /root/Desktop/workspace/Realtime Obstacle Detector/dataset/test/images/QY4yj8iX-1_jpg.rf.f37cbefa0b4fd900e71fa9541a5bad11.jpg: 640x640 1 Bus, 6.5ms\n",
      "image 655/1157 /root/Desktop/workspace/Realtime Obstacle Detector/dataset/test/images/QYMTWP2L_jpg.rf.49d29b10e2a73be5ac78233c0ef49be2.jpg: 640x640 1 Car, 1 Bus, 6.5ms\n",
      "image 656/1157 /root/Desktop/workspace/Realtime Obstacle Detector/dataset/test/images/QYP3xLAz-2_jpg.rf.859e8fb7181826e2bfb7783195e16814.jpg: 640x640 1 Car, 6.2ms\n",
      "image 657/1157 /root/Desktop/workspace/Realtime Obstacle Detector/dataset/test/images/QYPv1TJS-1_jpg.rf.ca950bac29492ba6ac5981c5633de1bd.jpg: 640x640 1 Bus, 6.3ms\n",
      "image 658/1157 /root/Desktop/workspace/Realtime Obstacle Detector/dataset/test/images/QYPvzwoN_jpg.rf.32e13fdae495e7ef56186ccfe89ed948.jpg: 640x640 1 Bus, 6.2ms\n",
      "image 659/1157 /root/Desktop/workspace/Realtime Obstacle Detector/dataset/test/images/QYQrCiSA_jpg.rf.90f29f1b30d00fe3e85b491b111f4f7d.jpg: 640x640 1 Bus, 6.1ms\n",
      "image 660/1157 /root/Desktop/workspace/Realtime Obstacle Detector/dataset/test/images/QYRPZs6x-3_jpg.rf.4268c85945e610033d016541db8bc3b4.jpg: 640x640 1 Truck, 2 Buss, 6.2ms\n",
      "image 661/1157 /root/Desktop/workspace/Realtime Obstacle Detector/dataset/test/images/QYTDmsp8-2_jpg.rf.a2b80be37f69586c49318991796b7940.jpg: 640x640 1 Bus, 6.4ms\n",
      "image 662/1157 /root/Desktop/workspace/Realtime Obstacle Detector/dataset/test/images/QYTDmsp8_jpg.rf.cc48354c9b34498a2e6efdb220afad59.jpg: 640x640 2 Buss, 6.1ms\n",
      "image 663/1157 /root/Desktop/workspace/Realtime Obstacle Detector/dataset/test/images/R-12-_jpg.rf.be9f057c6c13a4178b80d43e5bee2f20.jpg: 640x640 1 Manhole, 6.1ms\n",
      "image 664/1157 /root/Desktop/workspace/Realtime Obstacle Detector/dataset/test/images/R-8-_jpg.rf.e92a8fa846ac8541d3ee922ed7209760.jpg: 640x640 1 Manhole, 6.2ms\n",
      "image 665/1157 /root/Desktop/workspace/Realtime Obstacle Detector/dataset/test/images/R818FVWYDDR6_jpg.rf.457f74ec082285d67d8892eaa31dc710.jpg: 640x640 1 Manhole, 6.1ms\n",
      "image 666/1157 /root/Desktop/workspace/Realtime Obstacle Detector/dataset/test/images/RA7KKLXCLGBO_jpg.rf.3f40bc3a69c76ecb514f4d63556d0379.jpg: 640x640 1 Manhole, 6.7ms\n",
      "image 667/1157 /root/Desktop/workspace/Realtime Obstacle Detector/dataset/test/images/SAM_1113_JPG_jpg.rf.f7f9f9f1fe59f3d2ed59756c77b44601.jpg: 640x640 1 Manhole, 6.5ms\n",
      "image 668/1157 /root/Desktop/workspace/Realtime Obstacle Detector/dataset/test/images/SAM_1280_JPG_jpg.rf.d14d33ca31f6c023732f7f7b7a55d6a4.jpg: 640x640 1 Manhole, 6.5ms\n",
      "image 669/1157 /root/Desktop/workspace/Realtime Obstacle Detector/dataset/test/images/SAM_1346_JPG_jpg.rf.5b2d5d9307448ce44399f24496e5a6d5.jpg: 640x640 1 Manhole, 6.1ms\n",
      "image 670/1157 /root/Desktop/workspace/Realtime Obstacle Detector/dataset/test/images/SAM_1378_JPG_jpg.rf.046a3026ac4873bf21a7412bb316d300.jpg: 640x640 1 Manhole, 6.2ms\n",
      "image 671/1157 /root/Desktop/workspace/Realtime Obstacle Detector/dataset/test/images/SAM_1389_JPG_jpg.rf.2f60c8b0a4c1eb664faca4b711a8c896.jpg: 640x640 1 Manhole, 6.1ms\n",
      "image 672/1157 /root/Desktop/workspace/Realtime Obstacle Detector/dataset/test/images/SAM_1440_JPG_jpg.rf.596891713bfa7020966309284578d410.jpg: 640x640 1 Manhole, 6.3ms\n",
      "image 673/1157 /root/Desktop/workspace/Realtime Obstacle Detector/dataset/test/images/SAM_1461_JPG_jpg.rf.9101b522dd7d872b917db0776ea7741e.jpg: 640x640 1 Manhole, 6.3ms\n",
      "image 674/1157 /root/Desktop/workspace/Realtime Obstacle Detector/dataset/test/images/SAM_1657_JPG_jpg.rf.62f2b2b0931880b74020cfdd00e50653.jpg: 640x640 1 Manhole, 6.1ms\n",
      "image 675/1157 /root/Desktop/workspace/Realtime Obstacle Detector/dataset/test/images/SPEED_LIM-1038-_png.rf.992ebd90cd2e38d4721630a0f38f1aef.jpg: 640x640 1 Traffic sign, 6.1ms\n",
      "image 676/1157 /root/Desktop/workspace/Realtime Obstacle Detector/dataset/test/images/SPEED_LIM-1119-_png.rf.46eaf4c8d32f10759bb3d147c600cba6.jpg: 640x640 1 Traffic sign, 6.2ms\n",
      "image 677/1157 /root/Desktop/workspace/Realtime Obstacle Detector/dataset/test/images/SPEED_LIM-115-_png.rf.9a6c7a4b773eb9ed1558397cb0c87af2.jpg: 640x640 1 Traffic sign, 6.5ms\n",
      "image 678/1157 /root/Desktop/workspace/Realtime Obstacle Detector/dataset/test/images/SPEED_LIM-1161-_png.rf.ef9047bcd01899d9880e5423c2b5d9e6.jpg: 640x640 1 Traffic sign, 6.4ms\n",
      "image 679/1157 /root/Desktop/workspace/Realtime Obstacle Detector/dataset/test/images/SPEED_LIM-22-_png.rf.75e0ef380eded6f69ac482ef46a91e29.jpg: 640x640 1 Traffic sign, 6.3ms\n",
      "image 680/1157 /root/Desktop/workspace/Realtime Obstacle Detector/dataset/test/images/SPEED_LIM-327-_png.rf.96306cff88817397beb43ef5bc73f291.jpg: 640x640 1 Traffic sign, 6.1ms\n",
      "image 681/1157 /root/Desktop/workspace/Realtime Obstacle Detector/dataset/test/images/SPEED_LIM-388-_png.rf.20b94cf6d0a2fcca8e239b54be5cf0c3.jpg: 640x640 1 Traffic sign, 6.1ms\n",
      "image 682/1157 /root/Desktop/workspace/Realtime Obstacle Detector/dataset/test/images/SPEED_LIM-5-_jpg.rf.322b40825419bb0355f33fda3194717c.jpg: 640x640 1 Traffic sign, 6.2ms\n",
      "image 683/1157 /root/Desktop/workspace/Realtime Obstacle Detector/dataset/test/images/SPEED_LIM-737-_png.rf.40a614d3211d0e9707510590e6a57cb1.jpg: 640x640 1 Traffic sign, 6.1ms\n",
      "image 684/1157 /root/Desktop/workspace/Realtime Obstacle Detector/dataset/test/images/SPEED_LIM-799-_png.rf.d97090ebaef0e72b61326e88e29caff9.jpg: 640x640 1 Traffic sign, 6.3ms\n",
      "image 685/1157 /root/Desktop/workspace/Realtime Obstacle Detector/dataset/test/images/SPEED_LIM-836-_png.rf.b676af65b9bc53ab3922ea57e58d6c7d.jpg: 640x640 1 Traffic sign, 6.3ms\n",
      "image 686/1157 /root/Desktop/workspace/Realtime Obstacle Detector/dataset/test/images/STOP-13-_jpg.rf.11a31e65320980074658a8d0b0196028.jpg: 640x640 (no detections), 6.4ms\n",
      "image 687/1157 /root/Desktop/workspace/Realtime Obstacle Detector/dataset/test/images/STOP-14-_jpg.rf.e6b2d44cc281b446946b8b3fe8bd420f.jpg: 640x640 3 Persons, 1 Pedestrian crosswalk, 6.2ms\n",
      "image 688/1157 /root/Desktop/workspace/Realtime Obstacle Detector/dataset/test/images/STOP-16-_jpg.rf.5ff9ece8b352918e19c29a052de53771.jpg: 640x640 1 Traffic sign, 9.2ms\n",
      "image 689/1157 /root/Desktop/workspace/Realtime Obstacle Detector/dataset/test/images/STOP-16-_png.rf.d17b5a906ff3f186e8b0382438bee8b0.jpg: 640x640 1 Traffic sign, 8.3ms\n",
      "image 690/1157 /root/Desktop/workspace/Realtime Obstacle Detector/dataset/test/images/STOP-20-_jpg.rf.1943e676b34c04a7f072aab7b134fae0.jpg: 640x640 1 Traffic sign, 8.1ms\n",
      "image 691/1157 /root/Desktop/workspace/Realtime Obstacle Detector/dataset/test/images/STOP-21-_jpg.rf.571e3ef6a17c2bdde0371e243d6720d6.jpg: 640x640 1 Traffic sign, 8.1ms\n",
      "image 692/1157 /root/Desktop/workspace/Realtime Obstacle Detector/dataset/test/images/STOP-21-_png.rf.289dabb3621de41c08a5a7bc21119098.jpg: 640x640 1 Traffic sign, 8.2ms\n",
      "image 693/1157 /root/Desktop/workspace/Realtime Obstacle Detector/dataset/test/images/STOP-28-_png.rf.9fda77ff125ad8ae744d941c15dedf57.jpg: 640x640 1 Traffic sign, 8.0ms\n",
      "image 694/1157 /root/Desktop/workspace/Realtime Obstacle Detector/dataset/test/images/STOP-36-_png.rf.b1983320750bbdb19e0d348660487650.jpg: 640x640 1 Traffic sign, 8.0ms\n",
      "image 695/1157 /root/Desktop/workspace/Realtime Obstacle Detector/dataset/test/images/STOP-46-_png.rf.a0ee5f189d6290f213294426f3907413.jpg: 640x640 1 Traffic sign, 8.5ms\n",
      "image 696/1157 /root/Desktop/workspace/Realtime Obstacle Detector/dataset/test/images/STOP-48-_png.rf.037509633659816bbc6a1d77db49b901.jpg: 640x640 1 Traffic sign, 8.1ms\n",
      "image 697/1157 /root/Desktop/workspace/Realtime Obstacle Detector/dataset/test/images/STOP-50-_png.rf.a40bc14af4f27d5c70c4003f7668921c.jpg: 640x640 1 Traffic sign, 8.0ms\n",
      "image 698/1157 /root/Desktop/workspace/Realtime Obstacle Detector/dataset/test/images/STOP-51-_png.rf.3dccff49999f8554d461ef6a2e55321a.jpg: 640x640 1 Traffic sign, 8.0ms\n",
      "image 699/1157 /root/Desktop/workspace/Realtime Obstacle Detector/dataset/test/images/STOP-65-_png.rf.75ad9e65edd851466be655736c159c46.jpg: 640x640 1 Traffic sign, 8.1ms\n",
      "image 700/1157 /root/Desktop/workspace/Realtime Obstacle Detector/dataset/test/images/STOP-66-_png.rf.2225d3742f5e30acc695722ceb627faf.jpg: 640x640 1 Traffic sign, 8.4ms\n",
      "image 701/1157 /root/Desktop/workspace/Realtime Obstacle Detector/dataset/test/images/STOP-68-_png.rf.5b1f03ba83fbd629c9d27e781d0c3402.jpg: 640x640 1 Traffic sign, 8.1ms\n",
      "image 702/1157 /root/Desktop/workspace/Realtime Obstacle Detector/dataset/test/images/STOP-76-_png.rf.ca0e81acfd3b406f22e94e4179352904.jpg: 640x640 1 Traffic sign, 8.1ms\n",
      "image 703/1157 /root/Desktop/workspace/Realtime Obstacle Detector/dataset/test/images/STOP-80-_png.rf.dbc9f2dc94dd6ff5e115db2ba3041d9f.jpg: 640x640 1 Traffic sign, 7.5ms\n",
      "image 704/1157 /root/Desktop/workspace/Realtime Obstacle Detector/dataset/test/images/STOP-82-_png.rf.db0459217d3fb3cf4897d07fc0f8767a.jpg: 640x640 1 Traffic sign, 6.2ms\n",
      "image 705/1157 /root/Desktop/workspace/Realtime Obstacle Detector/dataset/test/images/STOP-99-_png.rf.150f8d862c900d993e31aa501a96b6d3.jpg: 640x640 1 Traffic sign, 6.2ms\n",
      "image 706/1157 /root/Desktop/workspace/Realtime Obstacle Detector/dataset/test/images/Sepeda-Lipat-Pacific-Noris-Indonesia-16_jpg.rf.e8fe1acdba3f7a7366886c75b4ab149f.jpg: 640x640 1 Bike, 6.2ms\n",
      "image 707/1157 /root/Desktop/workspace/Realtime Obstacle Detector/dataset/test/images/Snipaste_2023-12-28_14-27-28_png_jpg.rf.fdc15bc6d0c17d2d9dda6256984bf8ca.jpg: 640x640 1 Manhole, 6.4ms\n",
      "image 708/1157 /root/Desktop/workspace/Realtime Obstacle Detector/dataset/test/images/Snipaste_2023-12-28_14-30-25_png_jpg.rf.0f698a7090645cdebb6ace4904e56473.jpg: 640x640 1 Manhole, 6.2ms\n",
      "image 709/1157 /root/Desktop/workspace/Realtime Obstacle Detector/dataset/test/images/TRuck--17-_jpg.rf.23bf09e7deac31f7575a253dd692c72d.jpg: 640x640 1 Truck, 6.1ms\n",
      "image 710/1157 /root/Desktop/workspace/Realtime Obstacle Detector/dataset/test/images/TRuck--269-_jpg.rf.318d766a657d6d273e7a3d33f283375a.jpg: 640x640 1 Truck, 6.1ms\n",
      "image 711/1157 /root/Desktop/workspace/Realtime Obstacle Detector/dataset/test/images/TRuck--275-_jpg.rf.a7d904fd92a88e69cd9daf804ee9499b.jpg: 640x640 1 Truck, 3 Buss, 6.3ms\n",
      "image 712/1157 /root/Desktop/workspace/Realtime Obstacle Detector/dataset/test/images/TRuck--279-_jpg.rf.c6c078982f5e85c91730b123797666ec.jpg: 640x640 1 Truck, 9.8ms\n",
      "image 713/1157 /root/Desktop/workspace/Realtime Obstacle Detector/dataset/test/images/TRuck--281-_jpg.rf.b25627552639aa2303549b196db3c918.jpg: 640x640 1 Car, 8.4ms\n",
      "image 714/1157 /root/Desktop/workspace/Realtime Obstacle Detector/dataset/test/images/TRuck--285-_jpg.rf.de309272e0fe3ad85da94614b6c058b8.jpg: 640x640 1 Truck, 8.3ms\n",
      "image 715/1157 /root/Desktop/workspace/Realtime Obstacle Detector/dataset/test/images/TRuck--286-_jpg.rf.0f16b0e549def3d69ce367b7d20c775f.jpg: 640x640 1 Truck, 8.5ms\n",
      "image 716/1157 /root/Desktop/workspace/Realtime Obstacle Detector/dataset/test/images/TRuck--36-_jpg.rf.e96686165abc6a8667710e82b66a8bac.jpg: 640x640 1 Truck, 8.5ms\n",
      "image 717/1157 /root/Desktop/workspace/Realtime Obstacle Detector/dataset/test/images/TRuck--453-_jpg.rf.57f7e2d7dc6fd07a7ab023b5fbea888a.jpg: 640x640 1 Truck, 8.7ms\n",
      "image 718/1157 /root/Desktop/workspace/Realtime Obstacle Detector/dataset/test/images/TRuck--455-_jpg.rf.78fdfb45c660cf2c5ccabb6f41efd63c.jpg: 640x640 1 Truck, 8.8ms\n",
      "image 719/1157 /root/Desktop/workspace/Realtime Obstacle Detector/dataset/test/images/TRuck--492-_jpg.rf.0f7999458aa57f46b325d222260747b7.jpg: 640x640 1 Truck, 10.4ms\n",
      "image 720/1157 /root/Desktop/workspace/Realtime Obstacle Detector/dataset/test/images/TRuck--494-_jpg.rf.0981c3731b58cf30ca8ae6f16d184a1e.jpg: 640x640 5 Persons, 1 Truck, 9.4ms\n",
      "image 721/1157 /root/Desktop/workspace/Realtime Obstacle Detector/dataset/test/images/TRuck--497-_jpg.rf.56dc940848a80ffded2d19d2e9e85e7b.jpg: 640x640 1 Truck, 9.3ms\n",
      "image 722/1157 /root/Desktop/workspace/Realtime Obstacle Detector/dataset/test/images/TRuck--505-_jpg.rf.186b25bac2e57d012d07b2af32708107.jpg: 640x640 1 Truck, 9.0ms\n",
      "image 723/1157 /root/Desktop/workspace/Realtime Obstacle Detector/dataset/test/images/UBBWCV79OE4N_jpg.rf.dd7d3da1ddb67799c7655a13150f0ebd.jpg: 640x640 1 Manhole, 10.1ms\n",
      "image 724/1157 /root/Desktop/workspace/Realtime Obstacle Detector/dataset/test/images/UD8IV4W0IDOT_jpg.rf.17b4ce46888636fe91840b1b8cf912d5.jpg: 640x640 1 Manhole, 9.4ms\n",
      "image 725/1157 /root/Desktop/workspace/Realtime Obstacle Detector/dataset/test/images/ULSC84Y4XFJ5_jpg.rf.5e907fe050d9e31f9aeeca259cd2d9b3.jpg: 640x640 1 Manhole, 9.4ms\n",
      "image 726/1157 /root/Desktop/workspace/Realtime Obstacle Detector/dataset/test/images/UXPCYETCC247_jpg.rf.0427047e2be3e8dbee9667edf9137c53.jpg: 640x640 1 Manhole, 9.6ms\n",
      "image 727/1157 /root/Desktop/workspace/Realtime Obstacle Detector/dataset/test/images/UY38I0YCD3AA_jpg.rf.1d96e10beff380d098a7a4a3f57b380f.jpg: 640x640 1 Manhole, 9.3ms\n",
      "image 728/1157 /root/Desktop/workspace/Realtime Obstacle Detector/dataset/test/images/Untitled-design-copy-1_png.rf.ad5d0c8a1320d79c59cf3415196ffa77.jpg: 640x640 3 Persons, 9.7ms\n",
      "image 729/1157 /root/Desktop/workspace/Realtime Obstacle Detector/dataset/test/images/Untitled6_jpeg.rf.503d9991305d9bd9830484a9cf2f26bd.jpg: 640x640 1 Pedestrian crosswalk, 9.6ms\n",
      "image 730/1157 /root/Desktop/workspace/Realtime Obstacle Detector/dataset/test/images/VB41H1U346VL_jpg.rf.976395d4e913347d955fc6b5335ae790.jpg: 640x640 1 Manhole, 9.5ms\n",
      "image 731/1157 /root/Desktop/workspace/Realtime Obstacle Detector/dataset/test/images/VBCAUXTVAPHG_jpg.rf.8a1c1e45b3ec2a93014d57e8dc22f6cd.jpg: 640x640 2 Manholes, 9.4ms\n",
      "image 732/1157 /root/Desktop/workspace/Realtime Obstacle Detector/dataset/test/images/VBN2NZPHEI1V_jpg.rf.9d1e7018a097643e5ad26e2d1b3cbbde.jpg: 640x640 1 Manhole, 9.2ms\n",
      "image 733/1157 /root/Desktop/workspace/Realtime Obstacle Detector/dataset/test/images/VHT4PFL2GWQF_jpg.rf.d42228fa1bd63b428e5931916c8bbf4a.jpg: 640x640 1 Manhole, 16.3ms\n",
      "image 734/1157 /root/Desktop/workspace/Realtime Obstacle Detector/dataset/test/images/VS7XX3J8XIAT_jpg.rf.f2e099cc19016a2be307710ad024dd97.jpg: 640x640 1 Manhole, 9.2ms\n",
      "image 735/1157 /root/Desktop/workspace/Realtime Obstacle Detector/dataset/test/images/VUqmbo8vTT8_jpg.rf.3bfb1a1ce87b1a8344cb159e93a08422.jpg: 640x640 37 Persons, 9.0ms\n",
      "image 736/1157 /root/Desktop/workspace/Realtime Obstacle Detector/dataset/test/images/VZR2NEDD6P6P_jpg.rf.6f3ca9f8da2351dc87a336b2004204bd.jpg: 640x640 1 Manhole, 9.3ms\n",
      "image 737/1157 /root/Desktop/workspace/Realtime Obstacle Detector/dataset/test/images/WJDTZFALR3BX_jpg.rf.24eb808b28002d61d7c901b23b675e54.jpg: 640x640 1 Manhole, 9.0ms\n",
      "image 738/1157 /root/Desktop/workspace/Realtime Obstacle Detector/dataset/test/images/WT807OIY9O41_jpg.rf.f9b202b85967b6bdb02671cbd6a7112c.jpg: 640x640 1 Manhole, 9.1ms\n",
      "image 739/1157 /root/Desktop/workspace/Realtime Obstacle Detector/dataset/test/images/WYCN0AXP2Z3J_jpg.rf.21d966d8ee6f546345d230c81002e95b.jpg: 640x640 1 Manhole, 9.1ms\n",
      "image 740/1157 /root/Desktop/workspace/Realtime Obstacle Detector/dataset/test/images/WYFACK1LN46S_jpg.rf.5d328cb46a88ff4386d6013357566dbf.jpg: 640x640 1 Manhole, 9.1ms\n",
      "image 741/1157 /root/Desktop/workspace/Realtime Obstacle Detector/dataset/test/images/Walk-To-Jog-To-Run-750x460_jpg.rf.5a22aa34c90e3992694222246b02af5e.jpg: 640x640 2 Persons, 8.1ms\n",
      "image 742/1157 /root/Desktop/workspace/Realtime Obstacle Detector/dataset/test/images/X8OB074FY4LE_jpg.rf.ff4403263365e4f0371250d0a34a2c9e.jpg: 640x640 1 Manhole, 7.1ms\n",
      "image 743/1157 /root/Desktop/workspace/Realtime Obstacle Detector/dataset/test/images/XHF9QBMHS3Y4_jpg.rf.b2ae15c3ca502cdf7ed3e528a7d2cc79.jpg: 640x640 1 Manhole, 7.0ms\n",
      "image 744/1157 /root/Desktop/workspace/Realtime Obstacle Detector/dataset/test/images/XK728CXSRDO0_jpg.rf.1d7f4f6e6719af73df839ad9288c76f7.jpg: 640x640 1 Manhole, 6.5ms\n",
      "image 745/1157 /root/Desktop/workspace/Realtime Obstacle Detector/dataset/test/images/XYD4P5FUEPRP_jpg.rf.75c251ca15d617c0dc6fbb6e190399f2.jpg: 640x640 1 Manhole, 6.6ms\n",
      "image 746/1157 /root/Desktop/workspace/Realtime Obstacle Detector/dataset/test/images/Y4RURUMU5H88_jpg.rf.04dafadfda2433c9555b10e821a22175.jpg: 640x640 1 Manhole, 6.2ms\n",
      "image 747/1157 /root/Desktop/workspace/Realtime Obstacle Detector/dataset/test/images/YR4055D0FGT4_jpg.rf.c275d335f038648f84b80726bad6da09.jpg: 640x640 1 Manhole, 6.1ms\n",
      "image 748/1157 /root/Desktop/workspace/Realtime Obstacle Detector/dataset/test/images/YW4Q0JJ4E5MW_jpg.rf.58269ffb3b9576f2658fd3ec11874f80.jpg: 640x640 1 Manhole, 6.2ms\n",
      "image 749/1157 /root/Desktop/workspace/Realtime Obstacle Detector/dataset/test/images/Z3MLD5C7SGOC_jpg.rf.524b19d4ea6bfb35e4c21eb340fdfa86.jpg: 640x640 1 Manhole, 6.1ms\n",
      "image 750/1157 /root/Desktop/workspace/Realtime Obstacle Detector/dataset/test/images/ZBRLB20MIEHE_jpg.rf.9adcb4611fa7931f9bd2a78a5344ecbc.jpg: 640x640 1 Manhole, 11.8ms\n",
      "image 751/1157 /root/Desktop/workspace/Realtime Obstacle Detector/dataset/test/images/ZIBQR9L4BK3C_jpg.rf.4c4bb87f35ca933898b385a2c255a5bc.jpg: 640x640 1 Manhole, 10.0ms\n",
      "image 752/1157 /root/Desktop/workspace/Realtime Obstacle Detector/dataset/test/images/ZR7OAZWPO49X_jpg.rf.6796708ac00e157d2b832d2546029d0f.jpg: 640x640 1 Manhole, 9.8ms\n",
      "image 753/1157 /root/Desktop/workspace/Realtime Obstacle Detector/dataset/test/images/ZXDTHRZ3ANX1_jpg.rf.07dfd5fccfaf1e59b2a0ff847cdb7886.jpg: 640x640 1 Manhole, 9.8ms\n",
      "image 754/1157 /root/Desktop/workspace/Realtime Obstacle Detector/dataset/test/images/a2_059_jpg.rf.b00c074157cd417c24b2bb6a1f0f17a0.jpg: 640x640 2 Stairss, 9.6ms\n",
      "image 755/1157 /root/Desktop/workspace/Realtime Obstacle Detector/dataset/test/images/added_1673017007866899439_png_jpg.rf.e87aef9940b913292166a1619761e70c.jpg: 640x640 2 Guard rails, 9.3ms\n",
      "image 756/1157 /root/Desktop/workspace/Realtime Obstacle Detector/dataset/test/images/alabai-central-asian-shepherd-puppy-standing-portrait-white-wall-young-pretty-puppy-pets-love-concept_155003-24674_jpg.rf.40c9c798643bc50b607e7bfd35f0c124.jpg: 640x640 1 Dog, 9.9ms\n",
      "image 757/1157 /root/Desktop/workspace/Realtime Obstacle Detector/dataset/test/images/aug_1667415778868020675_png_jpg.rf.767c337ab566d97b47a4bd92f6582475.jpg: 640x640 1 Guard rail, 9.9ms\n",
      "image 758/1157 /root/Desktop/workspace/Realtime Obstacle Detector/dataset/test/images/aug_1672325185855804827_png_jpg.rf.95dded9b7d35900cbaa03b534308b000.jpg: 640x640 1 Guard rail, 8.8ms\n",
      "image 759/1157 /root/Desktop/workspace/Realtime Obstacle Detector/dataset/test/images/aug_1673013073150609076_png_jpg.rf.c3eeb2bb05f29a17419a3ca631a56e87.jpg: 640x640 1 Guard rail, 8.8ms\n",
      "image 760/1157 /root/Desktop/workspace/Realtime Obstacle Detector/dataset/test/images/aug_1673015439843560725_png_jpg.rf.50d7ba36dc1fbec3574ad22a39c5cf83.jpg: 640x640 1 Guard rail, 9.1ms\n",
      "image 761/1157 /root/Desktop/workspace/Realtime Obstacle Detector/dataset/test/images/aug_1673015439960517834_png_jpg.rf.82910f1e324667267dd274a2aca0b940.jpg: 640x640 1 Guard rail, 9.5ms\n",
      "image 762/1157 /root/Desktop/workspace/Realtime Obstacle Detector/dataset/test/images/aug_1673017855374039487_png_jpg.rf.0eea36f03588f00de571977280373268.jpg: 640x640 1 Guard rail, 10.5ms\n",
      "image 763/1157 /root/Desktop/workspace/Realtime Obstacle Detector/dataset/test/images/aug_1673018487994028228_png_jpg.rf.b68436336487f1743439a37ab867f9bf.jpg: 640x640 1 Guard rail, 8.4ms\n",
      "image 764/1157 /root/Desktop/workspace/Realtime Obstacle Detector/dataset/test/images/beagle-tricolor-puppy-is-posing_155003-31772_jpg.rf.8c19ad60f856c79f11f10151d5ee608d.jpg: 640x640 1 Dog, 7.4ms\n",
      "image 765/1157 /root/Desktop/workspace/Realtime Obstacle Detector/dataset/test/images/beautiful-female-black-shirt-holding-shopping-cart-white_181624-23908_jpg.rf.562674e3431545374e8bac98113674e6.jpg: 640x640 1 Person, 7.0ms\n",
      "image 766/1157 /root/Desktop/workspace/Realtime Obstacle Detector/dataset/test/images/beautiful-girl-playing-with-her-beloved-dog-park_146671-19639_jpg.rf.053c0bbd14bc8312f6d90f5735d49bb1.jpg: 640x640 1 Person, 1 Dog, 6.8ms\n",
      "image 767/1157 /root/Desktop/workspace/Realtime Obstacle Detector/dataset/test/images/beautiful-pet-portrait-small-dog-cat_23-2149218510_jpg.rf.46022f01f72da6b90fb587a83a13a46b.jpg: 640x640 3 Dogs, 6.7ms\n",
      "image 768/1157 /root/Desktop/workspace/Realtime Obstacle Detector/dataset/test/images/beautiful-pet-portrait-small-dog-cat_23-2149218511_jpg.rf.b3868f515d6d18bdc8ce86e66e57d576.jpg: 640x640 3 Dogs, 7.3ms\n",
      "image 769/1157 /root/Desktop/workspace/Realtime Obstacle Detector/dataset/test/images/beautiful-pet-portrait-small-dog_23-2149218429_jpg.rf.77e9641d2c61be808ab0585829dd88f7.jpg: 640x640 1 Dog, 7.0ms\n",
      "image 770/1157 /root/Desktop/workspace/Realtime Obstacle Detector/dataset/test/images/bf58feca-2954-4ce4-9aed-6d9f825e7b4a_jpg.rf.805f92b3f813c5fa70568dd082e20db8.jpg: 640x640 1 Car, 1 Guard rail, 6.6ms\n",
      "image 771/1157 /root/Desktop/workspace/Realtime Obstacle Detector/dataset/test/images/brisk-walking_jpg.rf.a617d3da65afd6c95861f7854fecc80b.jpg: 640x640 2 Persons, 6.4ms\n",
      "image 772/1157 /root/Desktop/workspace/Realtime Obstacle Detector/dataset/test/images/bus--10-_png_jpg.rf.2f22fe27c86591392ba046bb193b3114.jpg: 640x640 2 Persons, 3 Buss, 6.4ms\n",
      "image 773/1157 /root/Desktop/workspace/Realtime Obstacle Detector/dataset/test/images/bus--107-_jpg.rf.fa2f26ccf7d60977e32e4b5ca417f36c.jpg: 640x640 1 Bus, 15.0ms\n",
      "image 774/1157 /root/Desktop/workspace/Realtime Obstacle Detector/dataset/test/images/bus--108-_jpg.rf.be2230ec8070fcb83ecee1ae27e651bc.jpg: 640x640 5 Buss, 8.2ms\n",
      "image 775/1157 /root/Desktop/workspace/Realtime Obstacle Detector/dataset/test/images/bus--125-_jpg.rf.18447255a56b3c2bc8223a484dc09974.jpg: 640x640 1 Bus, 8.1ms\n",
      "image 776/1157 /root/Desktop/workspace/Realtime Obstacle Detector/dataset/test/images/bus--135-_jpg.rf.fe925de51744bff2bc2ea6238568a227.jpg: 640x640 1 Tree, 1 Bus, 8.2ms\n",
      "image 777/1157 /root/Desktop/workspace/Realtime Obstacle Detector/dataset/test/images/bus--180-_jpg.rf.969c93ca93ee314c0db1715eaec846cd.jpg: 640x640 1 Bus, 8.8ms\n",
      "image 778/1157 /root/Desktop/workspace/Realtime Obstacle Detector/dataset/test/images/bus--183-_jpg.rf.c7d90d681d5408f9b473287fd0b5cea1.jpg: 640x640 2 Buss, 8.3ms\n",
      "image 779/1157 /root/Desktop/workspace/Realtime Obstacle Detector/dataset/test/images/bus--197-_jpg.rf.880ded36444ef29509e9128bdf3997ef.jpg: 640x640 1 Car, 2 Trucks, 2 Buss, 8.5ms\n",
      "image 780/1157 /root/Desktop/workspace/Realtime Obstacle Detector/dataset/test/images/bus--199-_jpg.rf.4ed78c98fdd7dadf79ae2beee32ac3fe.jpg: 640x640 4 Buss, 9.0ms\n",
      "image 781/1157 /root/Desktop/workspace/Realtime Obstacle Detector/dataset/test/images/bus--2-_jpg.rf.a9b621f6fa36babf50e1be4cc3938a2e.jpg: 640x640 2 Buss, 8.8ms\n",
      "image 782/1157 /root/Desktop/workspace/Realtime Obstacle Detector/dataset/test/images/bus--206-_jpg.rf.a23ca3d7b7276f0d7d69bffa5cd3aa78.jpg: 640x640 1 Bus, 9.0ms\n",
      "image 783/1157 /root/Desktop/workspace/Realtime Obstacle Detector/dataset/test/images/bus--209-_jpg.rf.a5e0aead67a3c0bc66f027f4ee71a758.jpg: 640x640 1 Bus, 9.0ms\n",
      "image 784/1157 /root/Desktop/workspace/Realtime Obstacle Detector/dataset/test/images/bus--220-_jpg.rf.fc936032b7768cd500002e06eeca4a5d.jpg: 640x640 1 Bus, 8.9ms\n",
      "image 785/1157 /root/Desktop/workspace/Realtime Obstacle Detector/dataset/test/images/bus--240-_jpg.rf.055f01951388b36fed972eb7524db3c1.jpg: 640x640 1 Car, 2 Buss, 8.4ms\n",
      "image 786/1157 /root/Desktop/workspace/Realtime Obstacle Detector/dataset/test/images/bus--284-_jpg.rf.86e2659f20f4c83315dd9cfc06d6432a.jpg: 640x640 1 Bus, 6.7ms\n",
      "image 787/1157 /root/Desktop/workspace/Realtime Obstacle Detector/dataset/test/images/bus--3-_jpeg_jpg.rf.a385ec3ea4859f5de8f350cb0c33d4d7.jpg: 640x640 1 Bus, 6.6ms\n",
      "image 788/1157 /root/Desktop/workspace/Realtime Obstacle Detector/dataset/test/images/bus--48-_jpg.rf.35860b4c84e2e5b91d4cba7c68ac3955.jpg: 640x640 1 Bus, 6.5ms\n",
      "image 789/1157 /root/Desktop/workspace/Realtime Obstacle Detector/dataset/test/images/bus--7-_jpg.rf.c3e5b45e0722734df60912108206ffc7.jpg: 640x640 3 Buss, 9.7ms\n",
      "image 790/1157 /root/Desktop/workspace/Realtime Obstacle Detector/dataset/test/images/can-t-touch-invisible-american-spaniel-puppy-cute-groomed-fluffy-doggy-pet-is-playing-isolated-gray-background-studio-photoshot-negative-space-insert-your-text-image_155003-33877_jpg.rf.4bab1893c597e0a82750ad1d38880ff8.jpg: 640x640 1 Dog, 6.5ms\n",
      "image 791/1157 /root/Desktop/workspace/Realtime Obstacle Detector/dataset/test/images/casual-girl-carrying-backpack-posing-studio-background-having-travel-bags-journey-full-body-young-adult-standing-greenscreen-backdrop-leisure-activity-camera_482257-62436_jpg.rf.f05d1702d15a3c80fc554e722cc57211.jpg: 640x640 4 Persons, 6.3ms\n",
      "image 792/1157 /root/Desktop/workspace/Realtime Obstacle Detector/dataset/test/images/cheerful-female-model-discusses-awesome-news-with-close-friend-holds-smartphone-near-ear-looks-right-joyfully_273609-27309_jpg.rf.1624662bea30cce186f64e10ff5b5aa0.jpg: 640x640 2 Persons, 6.8ms\n",
      "image 793/1157 /root/Desktop/workspace/Realtime Obstacle Detector/dataset/test/images/chew-valley-10k-leaders-2023-664911_jpg.rf.6a1870e697fb1b18dbc0a858374d0104.jpg: 640x640 6 Persons, 6.3ms\n",
      "image 794/1157 /root/Desktop/workspace/Realtime Obstacle Detector/dataset/test/images/cute-brown-dog-pet-shop_23-2148872594_jpg.rf.3196857305dd87a7e32d72cfee3e9332.jpg: 640x640 1 Dog, 6.2ms\n",
      "image 795/1157 /root/Desktop/workspace/Realtime Obstacle Detector/dataset/test/images/cute-dog-portrait-studio_23-2149016938_jpg.rf.a4c1bf289ed60fc000064a039a765019.jpg: 640x640 1 Dog, 6.7ms\n",
      "image 796/1157 /root/Desktop/workspace/Realtime Obstacle Detector/dataset/test/images/cute-pug-laying-down-couch-home_231208-7820_jpg.rf.baafa3382616ac8662ea1beaee5416fd.jpg: 640x640 1 Dog, 6.4ms\n",
      "image 797/1157 /root/Desktop/workspace/Realtime Obstacle Detector/dataset/test/images/cute-puppy-maltipoo-dog-posing-isolated-white-background_155003-46004_jpg.rf.74f3f6ee967869414c89df64bdc77956.jpg: 640x640 1 Dog, 6.2ms\n",
      "image 798/1157 /root/Desktop/workspace/Realtime Obstacle Detector/dataset/test/images/cute-purebred-dogs-studio_23-2149016880_jpg.rf.d4e5205b8835aa323f15201cd6bf296f.jpg: 640x640 2 Dogs, 7.2ms\n",
      "image 799/1157 /root/Desktop/workspace/Realtime Obstacle Detector/dataset/test/images/dance-with-extraction-welsh-corgi-pembroke-puppy-motion-cute-fluffy-doggy-pet-is-playing-isolated-white-background-studio-photoshot-negative-space-insert-your-text-image_155003-34631_jpg.rf.1cea4d15eb3d0fddd05e3551d296f7f1.jpg: 640x640 1 Dog, 6.2ms\n",
      "image 800/1157 /root/Desktop/workspace/Realtime Obstacle Detector/dataset/test/images/dc73eb32ed41167_jpeg_jpg.rf.30ea96e31e33f83a2449112504b37b3a.jpg: 640x640 1 Traffic sign, 4 Manholes, 6.2ms\n",
      "image 801/1157 /root/Desktop/workspace/Realtime Obstacle Detector/dataset/test/images/delivery-concept-handsome-african-american-delivery-man-isolated-grey-studio-background-copy-space_1258-1275_jpg.rf.0f9b39167c16767d309e13a113da840d.jpg: 640x640 1 Person, 6.2ms\n",
      "image 802/1157 /root/Desktop/workspace/Realtime Obstacle Detector/dataset/test/images/doberman-pinscher-funny-emotional-dog-studio_155003-28804_jpg.rf.1f226507bf03cdc6696ac154237faa49.jpg: 640x640 2 Dogs, 6.3ms\n",
      "image 803/1157 /root/Desktop/workspace/Realtime Obstacle Detector/dataset/test/images/dustbin_000135_jpg.rf.185bc005716434c83f0caef7a983ab2a.jpg: 640x640 3 Dustbins, 6.2ms\n",
      "image 804/1157 /root/Desktop/workspace/Realtime Obstacle Detector/dataset/test/images/elm10_webp.rf.880e0be0bdba840eafe3970875b59fcc.jpg: 640x640 1 Tree, 6.0ms\n",
      "image 805/1157 /root/Desktop/workspace/Realtime Obstacle Detector/dataset/test/images/elm2_jpeg.rf.dce54dcbb37a7de70c18e0fbf8476d6b.jpg: 640x640 1 Tree, 6.7ms\n",
      "image 806/1157 /root/Desktop/workspace/Realtime Obstacle Detector/dataset/test/images/forklift-in-warehouse_jpg.rf.5bd84a2c5fbd9b79da8c704a3a4d16e5.jpg: 640x640 2 Persons, 10.8ms\n",
      "image 807/1157 /root/Desktop/workspace/Realtime Obstacle Detector/dataset/test/images/front-view-woman-shopping-with-face-mask_23-2149729510_jpg.rf.afa7a47664bd4abd02a934c8d7ee5eb8.jpg: 640x640 1 Person, 8.9ms\n",
      "image 808/1157 /root/Desktop/workspace/Realtime Obstacle Detector/dataset/test/images/full-length-portrait-happy-man-running_171337-2332_jpg.rf.bf14fa94feca99f921c9473a0a36110c.jpg: 640x640 1 Person, 8.6ms\n",
      "image 809/1157 /root/Desktop/workspace/Realtime Obstacle Detector/dataset/test/images/gYeLeLTy_jpg.rf.ed715beca5bb6c3a2f8f5609607a57dd.jpg: 640x640 2 Cars, 8.4ms\n",
      "image 810/1157 /root/Desktop/workspace/Realtime Obstacle Detector/dataset/test/images/gYezHGLN-2_jpg.rf.c3c4de29db7731014ab6961e87d70439.jpg: 640x640 (no detections), 8.5ms\n",
      "image 811/1157 /root/Desktop/workspace/Realtime Obstacle Detector/dataset/test/images/gYf_-c3o_jpg.rf.94cbe973beeffcf2f64a553c603d7c5b.jpg: 640x640 1 Truck, 9.1ms\n",
      "image 812/1157 /root/Desktop/workspace/Realtime Obstacle Detector/dataset/test/images/gYfr5sEi_jpg.rf.31e3c009ef0cd25e2b0179c240459541.jpg: 640x640 1 Truck, 9.5ms\n",
      "image 813/1157 /root/Desktop/workspace/Realtime Obstacle Detector/dataset/test/images/gYg3CjVg-5_jpg.rf.92c36caf9859396e9673a218252eef9f.jpg: 640x640 1 Building, 4 Cars, 9.2ms\n",
      "image 814/1157 /root/Desktop/workspace/Realtime Obstacle Detector/dataset/test/images/gYgvPPvG-3_jpg.rf.8a1d2c6b69fe6e081eeea6e8612a65cc.jpg: 640x640 1 Car, 9.5ms\n",
      "image 815/1157 /root/Desktop/workspace/Realtime Obstacle Detector/dataset/test/images/gYhPBMpN-4_jpg.rf.343605a9dd3d2cb1826ff537e489c77b.jpg: 640x640 1 Car, 9.6ms\n",
      "image 816/1157 /root/Desktop/workspace/Realtime Obstacle Detector/dataset/test/images/gYhfj_-g_jpg.rf.a02a5bce702a605b5b9f372d91a9f319.jpg: 640x640 1 Car, 8.3ms\n",
      "image 817/1157 /root/Desktop/workspace/Realtime Obstacle Detector/dataset/test/images/gYhzRDYs_jpg.rf.b574d45ea28e79bd65281b504aa423c5.jpg: 640x640 1 Car, 7.2ms\n",
      "image 818/1157 /root/Desktop/workspace/Realtime Obstacle Detector/dataset/test/images/guard174_jpg.rf.5fab536fabfda27fffe9c0a4a5f44135.jpg: 640x640 1 Guard rail, 1 Pedestrian crosswalk, 6.8ms\n",
      "image 819/1157 /root/Desktop/workspace/Realtime Obstacle Detector/dataset/test/images/guard57_jpg.rf.f21532744bf3b84abe66368a02998a2b.jpg: 640x640 1 Guard rail, 6.8ms\n",
      "image 820/1157 /root/Desktop/workspace/Realtime Obstacle Detector/dataset/test/images/guard68_jpg.rf.46eb95e3f47885702d31119a4e0d6860.jpg: 640x640 1 Guard rail, 6.4ms\n",
      "image 821/1157 /root/Desktop/workspace/Realtime Obstacle Detector/dataset/test/images/handsome-bearded-stylish-man-walking-isolated-dressed-sweatshirt-with-travel-bag-wearing-jeans-sunglasses_285396-4294_jpg.rf.eebd755a3d48562a169a424abfe3163e.jpg: 640x640 1 Person, 6.3ms\n",
      "image 822/1157 /root/Desktop/workspace/Realtime Obstacle Detector/dataset/test/images/hb0dkg0ye9uvoepeyioe_jpg.rf.75e4dd5662a0e28979ad3d79ccc5f9f4.jpg: 640x640 6 Persons, 6.1ms\n",
      "image 823/1157 /root/Desktop/workspace/Realtime Obstacle Detector/dataset/test/images/hipster-style-bearded-man-black-shirt-studio-white-background_158595-1822_jpg.rf.ce1fd56aa7ab93aa1862b8e4f08e4ca1.jpg: 640x640 1 Person, 6.1ms\n",
      "image 824/1157 /root/Desktop/workspace/Realtime Obstacle Detector/dataset/test/images/husky-relaxing-couch_23-2148115495_jpg.rf.d209c2e015b9ed95d34ed4750fced130.jpg: 640x640 1 Dog, 6.0ms\n",
      "image 825/1157 /root/Desktop/workspace/Realtime Obstacle Detector/dataset/test/images/iStock_72902643_wide_jpg.rf.9bf078cdce0d50c4eedd362199e5df00.jpg: 640x640 5 Persons, 6.2ms\n",
      "image 826/1157 /root/Desktop/workspace/Realtime Obstacle Detector/dataset/test/images/ilustrasi-jogging_169_jpeg.rf.2b4d066310b19d0e77e4d37ecc9d4623.jpg: 640x640 2 Persons, 6.0ms\n",
      "image 827/1157 /root/Desktop/workspace/Realtime Obstacle Detector/dataset/test/images/image--1-_jpeg.rf.bc07109cc96085b4fd26a4d30a6d86c3.jpg: 640x640 1 Bike, 6.2ms\n",
      "image 828/1157 /root/Desktop/workspace/Realtime Obstacle Detector/dataset/test/images/image--11-_jpeg.rf.d2b56bcb9f68cc3e29476ba0e6d764a7.jpg: 640x640 2 Bikes, 6.2ms\n",
      "image 829/1157 /root/Desktop/workspace/Realtime Obstacle Detector/dataset/test/images/image--8-_jpeg.rf.a2f6db1bc81f422e7d24c66e4c1102fc.jpg: 640x640 1 Bike, 6.3ms\n",
      "image 830/1157 /root/Desktop/workspace/Realtime Obstacle Detector/dataset/test/images/image104.rf.2cbf3bb21e3d852f4340b38dc7116f2d.jpg: 640x640 1 Person, 2 Electrical Poles, 6.0ms\n",
      "image 831/1157 /root/Desktop/workspace/Realtime Obstacle Detector/dataset/test/images/image117_jpg.rf.e179464690e72861c76a471ce22e4af6.jpg: 640x640 2 Electrical Poles, 6.1ms\n",
      "image 832/1157 /root/Desktop/workspace/Realtime Obstacle Detector/dataset/test/images/image119_jpg.rf.b8cbf4485f237ac6b75ebac2cdbd7e4a.jpg: 640x640 1 Electrical Pole, 1 Bench, 7.0ms\n",
      "image 833/1157 /root/Desktop/workspace/Realtime Obstacle Detector/dataset/test/images/image121.rf.92341878faceedbe1dbc24061490638f.jpg: 640x640 1 Electrical Pole, 6.5ms\n",
      "image 834/1157 /root/Desktop/workspace/Realtime Obstacle Detector/dataset/test/images/image18_jpg.rf.e3ac7e00258e88b12e49e9ca8b517d00.jpg: 640x640 1 Electrical Pole, 1 Truck, 6.5ms\n",
      "image 835/1157 /root/Desktop/workspace/Realtime Obstacle Detector/dataset/test/images/image25_jpg.rf.b7532ad95c7989147ba5644620474b22.jpg: 640x640 1 Electrical Pole, 6.3ms\n",
      "image 836/1157 /root/Desktop/workspace/Realtime Obstacle Detector/dataset/test/images/image29_jpg.rf.68c59eea2e04e446487dd4e1693d3f8c.jpg: 640x640 1 Electrical Pole, 7.5ms\n",
      "image 837/1157 /root/Desktop/workspace/Realtime Obstacle Detector/dataset/test/images/image2_jpg.rf.11aba161f6ae817ce99726a52f1c142a.jpg: 640x640 2 Electrical Poles, 6.2ms\n",
      "image 838/1157 /root/Desktop/workspace/Realtime Obstacle Detector/dataset/test/images/image30.rf.8495f96f3ce367394ca78be46f4f596c.jpg: 640x640 1 Electrical Pole, 6.0ms\n",
      "image 839/1157 /root/Desktop/workspace/Realtime Obstacle Detector/dataset/test/images/image34.rf.67ca041af169f7abb46fce912d546d22.jpg: 640x640 1 Electrical Pole, 6.1ms\n",
      "image 840/1157 /root/Desktop/workspace/Realtime Obstacle Detector/dataset/test/images/image36_jpg.rf.421214ec8c4875425652fe07793c1fb0.jpg: 640x640 1 Car, 1 Electrical Pole, 6.3ms\n",
      "image 841/1157 /root/Desktop/workspace/Realtime Obstacle Detector/dataset/test/images/image3_jpg.rf.cb98837ef613beb2ac4801564d4aa5fe.jpg: 640x640 3 Electrical Poles, 1 Tree, 6.1ms\n",
      "image 842/1157 /root/Desktop/workspace/Realtime Obstacle Detector/dataset/test/images/image40_jpg.rf.e1e2abe80694432a1cb033e2db11d03e.jpg: 640x640 1 Electrical Pole, 6.0ms\n",
      "image 843/1157 /root/Desktop/workspace/Realtime Obstacle Detector/dataset/test/images/image41.rf.b9985e58e8df433b3141aec237db89a8.jpg: 640x640 1 Person, 1 Electrical Pole, 6.2ms\n",
      "image 844/1157 /root/Desktop/workspace/Realtime Obstacle Detector/dataset/test/images/image47.rf.7e6b83abf1d7223da617803bdfff4135.jpg: 640x640 2 Electrical Poles, 6.2ms\n",
      "image 845/1157 /root/Desktop/workspace/Realtime Obstacle Detector/dataset/test/images/image53.rf.e7a826ff4f3028b03d0662c694def8df.jpg: 640x640 2 Electrical Poles, 6.2ms\n",
      "image 846/1157 /root/Desktop/workspace/Realtime Obstacle Detector/dataset/test/images/image55.rf.feb82d51a72bb41c08ac495587775b40.jpg: 640x640 1 Electrical Pole, 6.1ms\n",
      "image 847/1157 /root/Desktop/workspace/Realtime Obstacle Detector/dataset/test/images/image61_jpg.rf.a640ae74f5e1864ad4721521b79663af.jpg: 640x640 1 Electrical Pole, 6.3ms\n",
      "image 848/1157 /root/Desktop/workspace/Realtime Obstacle Detector/dataset/test/images/image64_jpg.rf.8d310abae8a14c7f38c168c9cd9b6b69.jpg: 640x640 1 Electrical Pole, 6.2ms\n",
      "image 849/1157 /root/Desktop/workspace/Realtime Obstacle Detector/dataset/test/images/image65.rf.9d9e46b9efb05ca5920fd7e24924d20b.jpg: 640x640 1 Electrical Pole, 1 Tree, 6.2ms\n",
      "image 850/1157 /root/Desktop/workspace/Realtime Obstacle Detector/dataset/test/images/image66_jpg.rf.987acf4aeef5dc0aa2d821e1d8f3961e.jpg: 640x640 1 Electrical Pole, 6.1ms\n",
      "image 851/1157 /root/Desktop/workspace/Realtime Obstacle Detector/dataset/test/images/image71_jpg.rf.a75ac3e4285fa522b1d656d2b901ea85.jpg: 640x640 1 Electrical Pole, 6.3ms\n",
      "image 852/1157 /root/Desktop/workspace/Realtime Obstacle Detector/dataset/test/images/image72_jpg.rf.aae009a5c2723c908155eea76f6ed593.jpg: 640x640 1 Car, 1 Electrical Pole, 6.4ms\n",
      "image 853/1157 /root/Desktop/workspace/Realtime Obstacle Detector/dataset/test/images/image85_jpg.rf.19337ba0e8f597de03142a2027dad6db.jpg: 640x640 1 Person, 1 Electrical Pole, 6.4ms\n",
      "image 854/1157 /root/Desktop/workspace/Realtime Obstacle Detector/dataset/test/images/image_0007_jpg.rf.681852c492a7ca8f9652acd0c64b8424.jpg: 640x640 1 Building, 6.4ms\n",
      "image 855/1157 /root/Desktop/workspace/Realtime Obstacle Detector/dataset/test/images/image_0051_jpg.rf.109e690469ee98cfbbcda661e45018ac.jpg: 640x640 1 Building, 6.3ms\n",
      "image 856/1157 /root/Desktop/workspace/Realtime Obstacle Detector/dataset/test/images/image_0068_jpg.rf.271e28b4fa3a38d86c8496236cc46060.jpg: 640x640 1 Building, 6.3ms\n",
      "image 857/1157 /root/Desktop/workspace/Realtime Obstacle Detector/dataset/test/images/image_0069_jpg.rf.40d80ffb6d99e44a1ff806a5faef81bd.jpg: 640x640 1 Building, 6.2ms\n",
      "image 858/1157 /root/Desktop/workspace/Realtime Obstacle Detector/dataset/test/images/image_0071_jpg.rf.33d82c3594c0ea5ac69c215c7f1e5721.jpg: 640x640 1 Building, 6.3ms\n",
      "image 859/1157 /root/Desktop/workspace/Realtime Obstacle Detector/dataset/test/images/image_0093_jpg.rf.38647741d7aa57d5ac84839420986659.jpg: 640x640 1 Building, 6.2ms\n",
      "image 860/1157 /root/Desktop/workspace/Realtime Obstacle Detector/dataset/test/images/image_0104_jpg.rf.6ec716df3af31675f8ee19e55bea142a.jpg: 640x640 1 Building, 6.2ms\n",
      "image 861/1157 /root/Desktop/workspace/Realtime Obstacle Detector/dataset/test/images/image_0157_jpg.rf.95f486bfaffee892d3b083e919bfdef2.jpg: 640x640 1 Building, 6.3ms\n",
      "image 862/1157 /root/Desktop/workspace/Realtime Obstacle Detector/dataset/test/images/image_0222_jpg.rf.0e1acf783bd5229b0a1c34a5dc5c294f.jpg: 640x640 1 Building, 6.3ms\n",
      "image 863/1157 /root/Desktop/workspace/Realtime Obstacle Detector/dataset/test/images/image_0249_jpg.rf.6083f1cace2a5ef90ea5377211ff83a6.jpg: 640x640 1 Building, 6.2ms\n",
      "image 864/1157 /root/Desktop/workspace/Realtime Obstacle Detector/dataset/test/images/image_0259_jpg.rf.2f1d49e166ffd1bbb2d436fc955c6fc8.jpg: 640x640 1 Building, 6.2ms\n",
      "image 865/1157 /root/Desktop/workspace/Realtime Obstacle Detector/dataset/test/images/image_0280_jpg.rf.f3e59632b99e98af9b52d0c61adba253.jpg: 640x640 1 Building, 6.1ms\n",
      "image 866/1157 /root/Desktop/workspace/Realtime Obstacle Detector/dataset/test/images/image_0286_jpg.rf.8d255a2e0ecea9eb332d10e4c2ae6cb4.jpg: 640x640 1 Building, 6.1ms\n",
      "image 867/1157 /root/Desktop/workspace/Realtime Obstacle Detector/dataset/test/images/image_0340_jpg.rf.7108865ee509e9e0aad0af32aeab29d3.jpg: 640x640 1 Building, 7.2ms\n",
      "image 868/1157 /root/Desktop/workspace/Realtime Obstacle Detector/dataset/test/images/image_0386_jpg.rf.f05bac8480b6fd7c71091accfd1bd3bf.jpg: 640x640 1 Building, 6.7ms\n",
      "image 869/1157 /root/Desktop/workspace/Realtime Obstacle Detector/dataset/test/images/image_0388_jpg.rf.69452fda887af1c9a72501ae896a4448.jpg: 640x640 1 Building, 6.1ms\n",
      "image 870/1157 /root/Desktop/workspace/Realtime Obstacle Detector/dataset/test/images/image_0399_jpg.rf.d8195fdcc37d7c8177902e84dd771d2d.jpg: 640x640 1 Building, 7.5ms\n",
      "image 871/1157 /root/Desktop/workspace/Realtime Obstacle Detector/dataset/test/images/image_0499_jpg.rf.c588c9664941ece5392afa2488e490d6.jpg: 640x640 1 Building, 6.2ms\n",
      "image 872/1157 /root/Desktop/workspace/Realtime Obstacle Detector/dataset/test/images/image_0543_jpg.rf.b55a754ac194a4cab8056864628731dd.jpg: 640x640 1 Building, 1 Person, 6.1ms\n",
      "image 873/1157 /root/Desktop/workspace/Realtime Obstacle Detector/dataset/test/images/image_0544_jpg.rf.f52f424c47dac642d3dac53305f110ac.jpg: 640x640 1 Building, 6.1ms\n",
      "image 874/1157 /root/Desktop/workspace/Realtime Obstacle Detector/dataset/test/images/image_0548_jpg.rf.bf11e748507862adfadd4d3a2bc8da0b.jpg: 640x640 1 Building, 6.0ms\n",
      "image 875/1157 /root/Desktop/workspace/Realtime Obstacle Detector/dataset/test/images/image_0556_jpg.rf.c9844dd3e78309c5d76f3bd3938fa518.jpg: 640x640 1 Building, 6.0ms\n",
      "image 876/1157 /root/Desktop/workspace/Realtime Obstacle Detector/dataset/test/images/image_0573_jpg.rf.16785b35fab17d38efd67b75a3ef4cc7.jpg: 640x640 2 Buildings, 1 Person, 6.1ms\n",
      "image 877/1157 /root/Desktop/workspace/Realtime Obstacle Detector/dataset/test/images/image_0682_jpg.rf.f345113dd0f8214a7dbf315dfd83fcfd.jpg: 640x640 1 Building, 6.1ms\n",
      "image 878/1157 /root/Desktop/workspace/Realtime Obstacle Detector/dataset/test/images/image_0701_jpg.rf.917c784f999969edd6381548ca02ad16.jpg: 640x640 1 Building, 6.0ms\n",
      "image 879/1157 /root/Desktop/workspace/Realtime Obstacle Detector/dataset/test/images/image_0705_jpg.rf.d67c5d3ef97f5b38d72a8d3de221e8be.jpg: 640x640 1 Building, 6.1ms\n",
      "image 880/1157 /root/Desktop/workspace/Realtime Obstacle Detector/dataset/test/images/image_0722_jpg.rf.da72a855f95ee6de1d6f3932ac3890b4.jpg: 640x640 1 Building, 6.1ms\n",
      "image 881/1157 /root/Desktop/workspace/Realtime Obstacle Detector/dataset/test/images/image_0724_jpg.rf.aa47864be34ba0919bf5329b1bcf2196.jpg: 640x640 1 Building, 6.3ms\n",
      "image 882/1157 /root/Desktop/workspace/Realtime Obstacle Detector/dataset/test/images/image_0734_jpg.rf.85322a8210269e4bb0b1578156332805.jpg: 640x640 1 Building, 6.2ms\n",
      "image 883/1157 /root/Desktop/workspace/Realtime Obstacle Detector/dataset/test/images/image_0747_jpg.rf.f490e1efa6e75dbf9114ab7c4161558b.jpg: 640x640 1 Building, 6.1ms\n",
      "image 884/1157 /root/Desktop/workspace/Realtime Obstacle Detector/dataset/test/images/image_0750_jpg.rf.1fd48a1ec7c68bc42550c373dbd05890.jpg: 640x640 1 Building, 6.1ms\n",
      "image 885/1157 /root/Desktop/workspace/Realtime Obstacle Detector/dataset/test/images/image_0907_jpg.rf.6c82cdec5f1ff7eecb943e1ce55c73e3.jpg: 640x640 1 Building, 6.1ms\n",
      "image 886/1157 /root/Desktop/workspace/Realtime Obstacle Detector/dataset/test/images/image_0940_jpg.rf.6eb68f735030211b0ef7bec645f0aaca.jpg: 640x640 1 Building, 6.1ms\n",
      "image 887/1157 /root/Desktop/workspace/Realtime Obstacle Detector/dataset/test/images/image_0955_jpg.rf.d2c4cbd3ca934f394c58ad521f84ec20.jpg: 640x640 1 Building, 6.0ms\n",
      "image 888/1157 /root/Desktop/workspace/Realtime Obstacle Detector/dataset/test/images/image_0958_jpg.rf.287869713f2cb6fbd494b2fba1c98bcb.jpg: 640x640 1 Building, 1 Tree, 6.0ms\n",
      "image 889/1157 /root/Desktop/workspace/Realtime Obstacle Detector/dataset/test/images/image_0991_jpg.rf.6873315e232bb87ba6edbaa53681fa3e.jpg: 640x640 2 Buildings, 1 Car, 6.0ms\n",
      "image 890/1157 /root/Desktop/workspace/Realtime Obstacle Detector/dataset/test/images/images--32-_jpeg.rf.d064b5f5577f53804db76745804e2b60.jpg: 640x640 1 Bike, 6.3ms\n",
      "image 891/1157 /root/Desktop/workspace/Realtime Obstacle Detector/dataset/test/images/images--34-_jpeg.rf.8f1fff621ed57bf1aa7e6aca04aa8ff5.jpg: 640x640 1 Bike, 6.1ms\n",
      "image 892/1157 /root/Desktop/workspace/Realtime Obstacle Detector/dataset/test/images/images--5-_jpeg.rf.5de93bdcd8dbdea1e29a845ad2157ab2.jpg: 640x640 1 Bike, 6.0ms\n",
      "image 893/1157 /root/Desktop/workspace/Realtime Obstacle Detector/dataset/test/images/images--6-_jpeg.rf.2b4f16512ba6676b4f43d1b000e1b499.jpg: 640x640 1 Bike, 6.2ms\n",
      "image 894/1157 /root/Desktop/workspace/Realtime Obstacle Detector/dataset/test/images/images--9-_jpeg.rf.747880afd1f69ba09a4f0cbe945d7234.jpg: 640x640 1 Bike, 6.5ms\n",
      "image 895/1157 /root/Desktop/workspace/Realtime Obstacle Detector/dataset/test/images/images-10-_jpeg.rf.46935b98d4ba4ea6fc2bf94c0f20a45a.jpg: 640x640 3 Persons, 6.4ms\n",
      "image 896/1157 /root/Desktop/workspace/Realtime Obstacle Detector/dataset/test/images/images-10-_jpg.rf.cec9942eb3cf40009824b07c03f786f4.jpg: 640x640 1 Manhole, 6.5ms\n",
      "image 897/1157 /root/Desktop/workspace/Realtime Obstacle Detector/dataset/test/images/images-11-_jpg.rf.1257bd8d34125e3e87fc3516c47254e4.jpg: 640x640 1 Manhole, 6.5ms\n",
      "image 898/1157 /root/Desktop/workspace/Realtime Obstacle Detector/dataset/test/images/images-13-_jpg.rf.5e1ff3ba8427ab047156ef4295e3bcf7.jpg: 640x640 1 Manhole, 6.4ms\n",
      "image 899/1157 /root/Desktop/workspace/Realtime Obstacle Detector/dataset/test/images/images-17-_jpg.rf.b2691cdebb3a7d89c01f24f1d0f1af40.jpg: 640x640 1 Car, 1 Guard rail, 6.3ms\n",
      "image 900/1157 /root/Desktop/workspace/Realtime Obstacle Detector/dataset/test/images/images-23-_jpg.rf.1c43860fdead1ce2dd4dd33808be6b9f.jpg: 640x640 1 Person, 6.5ms\n",
      "image 901/1157 /root/Desktop/workspace/Realtime Obstacle Detector/dataset/test/images/images-3-_jpg.rf.cd4686c04932ff2bddd8b806ab23fc00.jpg: 640x640 1 Manhole, 6.5ms\n",
      "image 902/1157 /root/Desktop/workspace/Realtime Obstacle Detector/dataset/test/images/images-38-_jpg.rf.951bbbeee994755689dbed490600b427.jpg: 640x640 1 Guard rail, 6.4ms\n",
      "image 903/1157 /root/Desktop/workspace/Realtime Obstacle Detector/dataset/test/images/images-4-_jpg.rf.26c694dd8bcd6f1ffa1f742bb05c33e3.jpg: 640x640 1 Manhole, 6.4ms\n",
      "image 904/1157 /root/Desktop/workspace/Realtime Obstacle Detector/dataset/test/images/images-45-_jpg.rf.f4ec033f1bb396827e555bba48dba540.jpg: 640x640 1 Pedestrian crosswalk, 6.1ms\n",
      "image 905/1157 /root/Desktop/workspace/Realtime Obstacle Detector/dataset/test/images/images-75-_jpg.rf.466e5504a4e544f138509d5a661e267f.jpg: 640x640 1 Car, 1 Guard rail, 6.1ms\n",
      "image 906/1157 /root/Desktop/workspace/Realtime Obstacle Detector/dataset/test/images/images-8-_jpg.rf.340c1851c3533bf5ba8957fa70713d24.jpg: 640x640 1 Manhole, 6.1ms\n",
      "image 907/1157 /root/Desktop/workspace/Realtime Obstacle Detector/dataset/test/images/images-9-_jpg.rf.6478452e4cb22f062ef94a8706158462.jpg: 640x640 1 Manhole, 6.3ms\n",
      "image 908/1157 /root/Desktop/workspace/Realtime Obstacle Detector/dataset/test/images/images-9-_jpg.rf.cc7040438e6c91eebbd9ee0312a309d7.jpg: 640x640 1 Person, 6.1ms\n",
      "image 909/1157 /root/Desktop/workspace/Realtime Obstacle Detector/dataset/test/images/images22_jpeg_jpg.rf.8a7e509c9f90c90a463da1e117f6b857.jpg: 640x640 1 Guard rail, 6.2ms\n",
      "image 910/1157 /root/Desktop/workspace/Realtime Obstacle Detector/dataset/test/images/images23_jpeg_jpg.rf.2c74e955d1722f3711744828b3fe08a3.jpg: 640x640 1 Guard rail, 6.2ms\n",
      "image 911/1157 /root/Desktop/workspace/Realtime Obstacle Detector/dataset/test/images/images25_jpg.rf.a6fe5df37c686b28eb939b2081f34217.jpg: 640x640 1 Bike, 6.2ms\n",
      "image 912/1157 /root/Desktop/workspace/Realtime Obstacle Detector/dataset/test/images/images29_jpg.rf.b0026681422f8e4a1e9b7f0bf9e2d612.jpg: 640x640 1 Bike, 6.1ms\n",
      "image 913/1157 /root/Desktop/workspace/Realtime Obstacle Detector/dataset/test/images/images37_jpeg_jpg.rf.486c7b1a18a01229f93c2445d350c694.jpg: 640x640 1 Guard rail, 6.1ms\n",
      "image 914/1157 /root/Desktop/workspace/Realtime Obstacle Detector/dataset/test/images/images51_jpeg_jpg.rf.06032a3ff807986a8417ffb0aec4eca6.jpg: 640x640 1 Guard rail, 6.2ms\n",
      "image 915/1157 /root/Desktop/workspace/Realtime Obstacle Detector/dataset/test/images/images54_jpeg_jpg.rf.b198b3456a673fff8bb16a8ed9d73273.jpg: 640x640 1 Guard rail, 6.3ms\n",
      "image 916/1157 /root/Desktop/workspace/Realtime Obstacle Detector/dataset/test/images/images69_jpeg_jpg.rf.9066a15c80418f2432ab7d920540554f.jpg: 640x640 1 Guard rail, 6.3ms\n",
      "image 917/1157 /root/Desktop/workspace/Realtime Obstacle Detector/dataset/test/images/irancar--122-_jpg.rf.8ccb972b87b814d57284a1e42b9ab365.jpg: 640x640 1 Car, 6.2ms\n",
      "image 918/1157 /root/Desktop/workspace/Realtime Obstacle Detector/dataset/test/images/irancar--13-_jpg.rf.becf6a1d02388ee34e1b38338974b77b.jpg: 640x640 6 Cars, 6.2ms\n",
      "image 919/1157 /root/Desktop/workspace/Realtime Obstacle Detector/dataset/test/images/irancar--177-_jpg.rf.4c044af7f7c0f80efb2b495be5365b1d.jpg: 640x640 1 Car, 6.2ms\n",
      "image 920/1157 /root/Desktop/workspace/Realtime Obstacle Detector/dataset/test/images/irancar--18-_jpg.rf.dcbd54e78b51453aabaf30c875209788.jpg: 640x640 1 Car, 6.2ms\n",
      "image 921/1157 /root/Desktop/workspace/Realtime Obstacle Detector/dataset/test/images/irancar--190-_jpg.rf.9ff6fceffac9f4a0e5443ad86f17b831.jpg: 640x640 1 Car, 6.1ms\n",
      "image 922/1157 /root/Desktop/workspace/Realtime Obstacle Detector/dataset/test/images/irancar--192-_jpg.rf.f38b177728510ce0f7967f946ffe5d19.jpg: 640x640 1 Car, 6.2ms\n",
      "image 923/1157 /root/Desktop/workspace/Realtime Obstacle Detector/dataset/test/images/irancar--2-_jpg.rf.313f7a7886b30ab2df3e264d415b66b0.jpg: 640x640 1 Car, 6.2ms\n",
      "image 924/1157 /root/Desktop/workspace/Realtime Obstacle Detector/dataset/test/images/irancar--36-_jpg.rf.55318cf85c661d4e97aaaa1524760ca3.jpg: 640x640 1 Car, 6.2ms\n",
      "image 925/1157 /root/Desktop/workspace/Realtime Obstacle Detector/dataset/test/images/irancar--38-_jpg.rf.54c005845c7cbe88c8a6697698c34e50.jpg: 640x640 2 Cars, 6.0ms\n",
      "image 926/1157 /root/Desktop/workspace/Realtime Obstacle Detector/dataset/test/images/irancar--99-_jpg.rf.0024f3c41553d45504f658149ee25f18.jpg: 640x640 1 Car, 6.0ms\n",
      "image 927/1157 /root/Desktop/workspace/Realtime Obstacle Detector/dataset/test/images/istockphoto-1225270151-612x612_jpg.rf.ef09c98630ef97d82d62a7d63df7e51a.jpg: 640x640 1 Person, 6.0ms\n",
      "image 928/1157 /root/Desktop/workspace/Realtime Obstacle Detector/dataset/test/images/istockphoto-1271689034-612x612_jpg.rf.0779dc221417b9e1f2316bf8204e192e.jpg: 640x640 5 Persons, 6.1ms\n",
      "image 929/1157 /root/Desktop/workspace/Realtime Obstacle Detector/dataset/test/images/istockphoto-1341077450-612x612_jpg.rf.59feeeb7df41e82abc15b986363cc67a.jpg: 640x640 1 Person, 6.0ms\n",
      "image 930/1157 /root/Desktop/workspace/Realtime Obstacle Detector/dataset/test/images/istockphoto-518505346-170667a_jpg.rf.9f1ce4cecef8d46e0509a232639fdc16.jpg: 640x640 1 Person, 6.0ms\n",
      "image 931/1157 /root/Desktop/workspace/Realtime Obstacle Detector/dataset/test/images/istockphoto-544600984-612x612_jpg.rf.7db383c8620fc985c469a309d5e62a2a.jpg: 640x640 2 Persons, 6.1ms\n",
      "image 932/1157 /root/Desktop/workspace/Realtime Obstacle Detector/dataset/test/images/istockphoto-931399924-170667a_jpg.rf.c160532badd21e4f1e55f4613117da60.jpg: 640x640 2 Persons, 6.0ms\n",
      "image 933/1157 /root/Desktop/workspace/Realtime Obstacle Detector/dataset/test/images/istockphoto-970440616-612x612_jpg.rf.198bcf1d0e2875d6789c3925c7ca6454.jpg: 640x640 2 Persons, 6.2ms\n",
      "image 934/1157 /root/Desktop/workspace/Realtime Obstacle Detector/dataset/test/images/joyful-girl-moms-jeans-runs-pink-background-dark-haired-girl-posing-with-instax-camera_197531-13555_jpg.rf.83a8ffbc1bab4910d820f86d63b91f1d.jpg: 640x640 1 Person, 6.2ms\n",
      "image 935/1157 /root/Desktop/workspace/Realtime Obstacle Detector/dataset/test/images/labrador-retrieve_155003-145_jpg.rf.3caa0b3314c57dfab33d45e9d77e84a5.jpg: 640x640 1 Dog, 6.2ms\n",
      "image 936/1157 /root/Desktop/workspace/Realtime Obstacle Detector/dataset/test/images/looking-husky-companion-dog-is-posing-cute-playful-white-grey-doggy-pet-playing-white-studio-background-concept-motion-action-movement-pets-love-looks-happy-delighted-funny_155003-34733_jpg.rf.ab2cbb4a38719803d87ca60af2e17ad1.jpg: 640x640 1 Dog, 6.4ms\n",
      "image 937/1157 /root/Desktop/workspace/Realtime Obstacle Detector/dataset/test/images/lovepik-business-man-walking-png-image_401627514_wh1200_png.rf.f592e4921d4745215ad0ca075d3b3024.jpg: 640x640 1 Person, 6.8ms\n",
      "image 938/1157 /root/Desktop/workspace/Realtime Obstacle Detector/dataset/test/images/man-with-shopping-cart_23-2147688989_jpg.rf.a889648bddb0e7aad1c9f8d5c4329d67.jpg: 640x640 1 Person, 6.2ms\n",
      "image 939/1157 /root/Desktop/workspace/Realtime Obstacle Detector/dataset/test/images/man-woman-with-medical-masks-out-grocery-shopping-with-shopping-cart_23-2149483206_jpg.rf.ebd25affdf8a95b3eea33dcec243de38.jpg: 640x640 2 Persons, 6.2ms\n",
      "image 940/1157 /root/Desktop/workspace/Realtime Obstacle Detector/dataset/test/images/mand-holding-cup_jpg.rf.8f52392970871057ac4e0ef15df117cf.jpg: 640x640 1 Person, 6.1ms\n",
      "image 941/1157 /root/Desktop/workspace/Realtime Obstacle Detector/dataset/test/images/medium-shot-women-wearing-hijabs_23-2149122791_jpg.rf.0d72b46350bc3fc4a61806f6743fca52.jpg: 640x640 3 Persons, 6.1ms\n",
      "image 942/1157 /root/Desktop/workspace/Realtime Obstacle Detector/dataset/test/images/modern-muslim-woman-wearing-headscarf-walking-street_1303-27589_jpg.rf.80f4b7a68e83d3907935d804294ff694.jpg: 640x640 2 Persons, 6.0ms\n",
      "image 943/1157 /root/Desktop/workspace/Realtime Obstacle Detector/dataset/test/images/mother-with-daughter-grocery-store_1303-17236_jpg.rf.3492aa1e317aaf7c4603cebc2c9891fd.jpg: 640x640 2 Persons, 6.1ms\n",
      "image 944/1157 /root/Desktop/workspace/Realtime Obstacle Detector/dataset/test/images/my_photo-112_jpg.rf.7b0ae5fdbc3338c1cde78e3568e7c5f0.jpg: 480x640 3 Persons, 1 Traffic sign, 1 Road, 1 Motorcycle, 2 Trees, 6.8ms\n",
      "image 945/1157 /root/Desktop/workspace/Realtime Obstacle Detector/dataset/test/images/my_photo-123_jpg.rf.c87df7e8a3b49dd61007a4ec4378570f.jpg: 480x640 1 Person, 1 Road, 6 Motorcycles, 3 Trees, 6.2ms\n",
      "image 946/1157 /root/Desktop/workspace/Realtime Obstacle Detector/dataset/test/images/my_photo-142_jpg.rf.ac37e77c1693b24e9ebf1c893ed8e62b.jpg: 480x640 1 Building, 1 Road, 6.2ms\n",
      "image 947/1157 /root/Desktop/workspace/Realtime Obstacle Detector/dataset/test/images/my_photo-145_jpg.rf.45edd048c70b53df8009a6986a749262.jpg: 480x640 1 Car, 1 Road, 3 Trees, 6.2ms\n",
      "image 948/1157 /root/Desktop/workspace/Realtime Obstacle Detector/dataset/test/images/my_photo-146_jpg.rf.4136c9b4e050ebae753805c86dcb6317.jpg: 480x640 4 Buildings, 1 Road, 2 Trees, 6.2ms\n",
      "image 949/1157 /root/Desktop/workspace/Realtime Obstacle Detector/dataset/test/images/my_photo-157_jpg.rf.e9aa5997a5a5b1db8e84aeb7e4968b74.jpg: 480x640 1 Building, 2 Cars, 1 Road, 3 Trees, 6.1ms\n",
      "image 950/1157 /root/Desktop/workspace/Realtime Obstacle Detector/dataset/test/images/my_photo-168_jpg.rf.69162dc4ad321a26a7cc68dbf6de1ab8.jpg: 480x640 4 Buildings, 1 Car, 1 Electrical Pole, 1 Road, 1 Motorcycle, 6.1ms\n",
      "image 951/1157 /root/Desktop/workspace/Realtime Obstacle Detector/dataset/test/images/my_photo-192_jpg.rf.b4e40d0bc4c8a6317c3408ccd5e50233.jpg: 480x640 1 Building, 1 Car, 1 Road, 1 Tree, 6.1ms\n",
      "image 952/1157 /root/Desktop/workspace/Realtime Obstacle Detector/dataset/test/images/my_photo-199_jpg.rf.fccd86bdb5c743b40f97686ae56a52e3.jpg: 480x640 1 Building, 1 Car, 1 Road, 1 Motorcycle, 2 Trees, 6.1ms\n",
      "image 953/1157 /root/Desktop/workspace/Realtime Obstacle Detector/dataset/test/images/my_photo-200_jpg.rf.a57c810d19dd024cc48f81cf7b969a1b.jpg: 480x640 1 Building, 1 Road, 1 Motorcycle, 4 Trees, 6.0ms\n",
      "image 954/1157 /root/Desktop/workspace/Realtime Obstacle Detector/dataset/test/images/my_photo-204_jpg.rf.b9285e819d518262a25e7c380a683617.jpg: 480x640 1 Building, 1 Road, 5 Trees, 6.0ms\n",
      "image 955/1157 /root/Desktop/workspace/Realtime Obstacle Detector/dataset/test/images/my_photo-205_jpg.rf.4569536ea78eabc5d2aeb65f70151254.jpg: 480x640 1 Building, 1 Road, 5 Trees, 6.0ms\n",
      "image 956/1157 /root/Desktop/workspace/Realtime Obstacle Detector/dataset/test/images/my_photo-234_jpg.rf.eb6006fa4813b6978059a944f38dab60.jpg: 480x640 1 Car, 1 Road, 1 Motorcycle, 6.1ms\n",
      "image 957/1157 /root/Desktop/workspace/Realtime Obstacle Detector/dataset/test/images/my_photo-235_jpg.rf.4a558ebdf7d44106bb3c37b286bfaef2.jpg: 480x640 1 Car, 1 Road, 6.1ms\n",
      "image 958/1157 /root/Desktop/workspace/Realtime Obstacle Detector/dataset/test/images/my_photo-25_jpg.rf.f1e5e73eaa7aedc65eb47f831ad59469.jpg: 480x640 1 Building, 2 Persons, 1 Electrical Pole, 1 Road, 3 Motorcycles, 3 Trees, 6.0ms\n",
      "image 959/1157 /root/Desktop/workspace/Realtime Obstacle Detector/dataset/test/images/my_photo-31_jpg.rf.6f6ae5aa0b2f54361b07a49a7ea44160.jpg: 480x640 1 Person, 1 Road, 2 Motorcycles, 6.2ms\n",
      "image 960/1157 /root/Desktop/workspace/Realtime Obstacle Detector/dataset/test/images/my_photo-4_jpg.rf.0efd8100cfafefaac53f0a1fcbd8dd5a.jpg: 480x640 1 Car, 2 Electrical Poles, 1 Road, 2 Motorcycles, 4 Trees, 6.5ms\n",
      "image 961/1157 /root/Desktop/workspace/Realtime Obstacle Detector/dataset/test/images/my_photo-60_jpg.rf.54f54247c82656628aa363628bde4413.jpg: 480x640 2 Persons, 3 Electrical Poles, 3 Trees, 6.5ms\n",
      "image 962/1157 /root/Desktop/workspace/Realtime Obstacle Detector/dataset/test/images/my_photo-64_jpg.rf.b43db38c987c565419810251b096fb10.jpg: 480x640 1 Building, 4 Traffic signs, 1 Road, 3 Trees, 6.4ms\n",
      "image 963/1157 /root/Desktop/workspace/Realtime Obstacle Detector/dataset/test/images/my_photo-65_jpg.rf.c4ede895e7b25913d0603aced93f8fd3.jpg: 480x640 1 Building, 1 Traffic sign, 1 Road, 3 Trees, 6.3ms\n",
      "image 964/1157 /root/Desktop/workspace/Realtime Obstacle Detector/dataset/test/images/my_photo-89_jpg.rf.01195fb7ef24a9e0903d2688d1847c78.jpg: 480x640 1 Building, 4 Traffic signs, 1 Road, 3 Trees, 6.5ms\n",
      "image 965/1157 /root/Desktop/workspace/Realtime Obstacle Detector/dataset/test/images/my_photo-8_jpg.rf.5b1d22357fff1f6f4e5085c0d02ec2ec.jpg: 480x640 1 Person, 1 Road, 2 Motorcycles, 1 Tree, 11.0ms\n",
      "image 966/1157 /root/Desktop/workspace/Realtime Obstacle Detector/dataset/test/images/my_photo-93_jpg.rf.b4703f90f3403bc5ebd85bc67c498fef.jpg: 480x640 1 Building, 2 Traffic signs, 1 Road, 2 Trees, 8.4ms\n",
      "image 967/1157 /root/Desktop/workspace/Realtime Obstacle Detector/dataset/test/images/my_photo-94_jpg.rf.b828e34ec63fa7a3ec9fde968a4877fc.jpg: 480x640 1 Building, 3 Traffic signs, 1 Road, 2 Trees, 8.7ms\n",
      "image 968/1157 /root/Desktop/workspace/Realtime Obstacle Detector/dataset/test/images/oak2_webp.rf.1809a01ab1db0f16d43fc9d1d9a2d186.jpg: 640x640 1 Tree, 9.0ms\n",
      "image 969/1157 /root/Desktop/workspace/Realtime Obstacle Detector/dataset/test/images/owner-serving-food-bowl-their-pet-dog_23-2149392632_jpg.rf.da358d92fafe6b0e7980dff290f05808.jpg: 640x640 1 Person, 1 Dog, 8.4ms\n",
      "image 970/1157 /root/Desktop/workspace/Realtime Obstacle Detector/dataset/test/images/pexels-run-ffwpu-2539281_jpg.rf.232bb15c0f600915f11c3da0b596db7e.jpg: 640x640 5 Persons, 8.6ms\n",
      "image 971/1157 /root/Desktop/workspace/Realtime Obstacle Detector/dataset/test/images/photo-1532341556711-1c37110eaaac_jpeg.rf.f801806e105fa83bcd0d425448d44485.jpg: 640x640 2 Persons, 8.5ms\n",
      "image 972/1157 /root/Desktop/workspace/Realtime Obstacle Detector/dataset/test/images/photo-1637684824451-ad20a773da6e_jpg.rf.19e9eb586f3ae98c0bc0ff18db5ae98f.jpg: 640x640 1 Person, 8.5ms\n",
      "image 973/1157 /root/Desktop/workspace/Realtime Obstacle Detector/dataset/test/images/photo_2023-07-01_14-00-12_jpg.rf.14e77fb2e7bad68b0d625c0479e6b010.jpg: 640x640 2 Buildings, 6.9ms\n",
      "image 974/1157 /root/Desktop/workspace/Realtime Obstacle Detector/dataset/test/images/photo_2023-07-01_14-00-17-2-_jpg.rf.b04c4b8cee1c4e8e33651e85e7c763ab.jpg: 640x640 1 Building, 1 Traffic sign, 6.6ms\n",
      "image 975/1157 /root/Desktop/workspace/Realtime Obstacle Detector/dataset/test/images/photo_2023-07-01_14-00-22-2-_jpg.rf.85295bc6ae891dfb2d192eed427bc494.jpg: 640x640 1 Building, 6.6ms\n",
      "image 976/1157 /root/Desktop/workspace/Realtime Obstacle Detector/dataset/test/images/photo_2023-07-01_14-00-22_jpg.rf.de79b38d04496d1bccf5dd9e7c853acd.jpg: 640x640 1 Building, 6.4ms\n",
      "image 977/1157 /root/Desktop/workspace/Realtime Obstacle Detector/dataset/test/images/photo_2023-07-01_14-00-33_jpg.rf.a3139b5ff33d262d7a780cd044b208d6.jpg: 640x640 1 Building, 6.6ms\n",
      "image 978/1157 /root/Desktop/workspace/Realtime Obstacle Detector/dataset/test/images/photo_2023-07-01_14-00-40-2-_jpg.rf.6a78650b7d93556424a830d318cef940.jpg: 640x640 1 Building, 6.4ms\n",
      "image 979/1157 /root/Desktop/workspace/Realtime Obstacle Detector/dataset/test/images/photo_2023-07-01_14-00-50-2-_jpg.rf.b6fa11b1725ed096c6414ce00801a59a.jpg: 640x640 1 Building, 6.6ms\n",
      "image 980/1157 /root/Desktop/workspace/Realtime Obstacle Detector/dataset/test/images/photo_2023-07-01_14-00-57_jpg.rf.3e2119e67ceedd018a711eee21f6561e.jpg: 640x640 1 Building, 6.5ms\n",
      "image 981/1157 /root/Desktop/workspace/Realtime Obstacle Detector/dataset/test/images/photo_2023-07-01_14-01-00_jpg.rf.de5d86a528fb7af74a41aadfee48e0ef.jpg: 640x640 1 Building, 6.4ms\n",
      "image 982/1157 /root/Desktop/workspace/Realtime Obstacle Detector/dataset/test/images/photo_2023-07-22_22-47-44-2-_jpg.rf.199e2def4ebf0111d3fcf7e20f78be3a.jpg: 640x640 1 Building, 6.3ms\n",
      "image 983/1157 /root/Desktop/workspace/Realtime Obstacle Detector/dataset/test/images/portrait-beautiful-young-asian-woman-with-shopping-cart_74190-11007-1-_jpg.rf.e63ec9118b3eac6bbd9e76ec312fc4bd.jpg: 640x640 1 Person, 6.5ms\n",
      "image 984/1157 /root/Desktop/workspace/Realtime Obstacle Detector/dataset/test/images/portrait-labrador-retriever-dog_53876-64762_jpg.rf.be170051d93950e75ba84b3912cf5b1f.jpg: 640x640 1 Dog, 6.5ms\n",
      "image 985/1157 /root/Desktop/workspace/Realtime Obstacle Detector/dataset/test/images/powerwalking_jpg.rf.52a7a4fb118212ad8f3c9045e2d3bf71.jpg: 640x640 2 Persons, 6.5ms\n",
      "image 986/1157 /root/Desktop/workspace/Realtime Obstacle Detector/dataset/test/images/pug-dog-isolated-white-background_2829-11406_jpg.rf.0a2140eec02d0501e047865c0f529a3c.jpg: 640x640 1 Dog, 6.4ms\n",
      "image 987/1157 /root/Desktop/workspace/Realtime Obstacle Detector/dataset/test/images/rear-view-young-man-dancing_1149-1254_jpg.rf.d4e11ab9d3bd226e2e1b966d71f1d456.jpg: 640x640 1 Person, 6.5ms\n",
      "image 988/1157 /root/Desktop/workspace/Realtime Obstacle Detector/dataset/test/images/refus-de-priorite-a-un-pieton-que-risquez-vous-1654163876_jpg.rf.fa13b75597e5f4ab97d01e1f3f7ca12a.jpg: 640x640 1 Car, 1 Pedestrian crosswalk, 15.2ms\n",
      "image 989/1157 /root/Desktop/workspace/Realtime Obstacle Detector/dataset/test/images/renjing_388_jpg.rf.d9558c1a74a33ab9d20369cad63ed215.jpg: 640x640 1 Manhole, 8.5ms\n",
      "image 990/1157 /root/Desktop/workspace/Realtime Obstacle Detector/dataset/test/images/renjing_411_jpg.rf.65cb39c3245d7614a05301ba7cdec71e.jpg: 640x640 1 Car, 2 Manholes, 8.3ms\n",
      "image 991/1157 /root/Desktop/workspace/Realtime Obstacle Detector/dataset/test/images/renjing_419_jpg.rf.dede44ca922def10411b681e85157f96.jpg: 640x640 1 Car, 2 Manholes, 8.3ms\n",
      "image 992/1157 /root/Desktop/workspace/Realtime Obstacle Detector/dataset/test/images/renjing_424_jpg.rf.bf99740e30e181bdd1b1b93dbd723546.jpg: 640x640 1 Manhole, 8.4ms\n",
      "image 993/1157 /root/Desktop/workspace/Realtime Obstacle Detector/dataset/test/images/renjing_462_jpg.rf.9766c296fe056e77768b7c3ee64f172f.jpg: 640x640 (no detections), 8.5ms\n",
      "image 994/1157 /root/Desktop/workspace/Realtime Obstacle Detector/dataset/test/images/seniors-walking-exercise_jpg.rf.8f30b75f9f563734f6e34cb217113ae5.jpg: 640x640 2 Persons, 8.4ms\n",
      "image 995/1157 /root/Desktop/workspace/Realtime Obstacle Detector/dataset/test/images/shopping-woman-looking-shelves-supermarket-with-shopping-cart-portrait-young-girl-market-store-fruits-vegetables-section_627829-6362_jpg.rf.319204aa0d7d84983137fa898eaa7e55.jpg: 640x640 3 Persons, 1 Guard rail, 8.3ms\n",
      "image 996/1157 /root/Desktop/workspace/Realtime Obstacle Detector/dataset/test/images/short-haired-blonde-sitting-dog_1194-1088_jpg.rf.843e340507afd1138796207dc25c18a5.jpg: 640x640 1 Dog, 8.5ms\n",
      "image 997/1157 /root/Desktop/workspace/Realtime Obstacle Detector/dataset/test/images/small-funny-dog-beagle-posing-isolated-white-wall_155003-33570_jpg.rf.dbda55fea0dbec72f133d50afd178de1.jpg: 640x640 1 Dog, 6.9ms\n",
      "image 998/1157 /root/Desktop/workspace/Realtime Obstacle Detector/dataset/test/images/sportive-dog-performing-during-lure-coursing-competition_155003-43979_jpg.rf.3c11053a2b0079e1171a2c41b78b76bb.jpg: 640x640 1 Dog, 6.5ms\n",
      "image 999/1157 /root/Desktop/workspace/Realtime Obstacle Detector/dataset/test/images/sportive-dog-performing-during-show-competition_155003-41385_jpg.rf.7d0e1d8e4ba447b89a22c048bc2a9a30.jpg: 640x640 1 Dog, 6.4ms\n",
      "image 1000/1157 /root/Desktop/workspace/Realtime Obstacle Detector/dataset/test/images/stair114_jpg.rf.0befe77b2f800b28eb39039b6cc1a4b8.jpg: 640x640 1 Stairs, 6.8ms\n",
      "image 1001/1157 /root/Desktop/workspace/Realtime Obstacle Detector/dataset/test/images/stair117_jpg.rf.073ea981a9ad9b2bec8491f1ad9bf7c8.jpg: 640x640 1 Stairs, 6.4ms\n",
      "image 1002/1157 /root/Desktop/workspace/Realtime Obstacle Detector/dataset/test/images/stair125_jpg.rf.8cc1db6895e92db114eb0e53ea1d18b9.jpg: 640x640 1 Stairs, 6.4ms\n",
      "image 1003/1157 /root/Desktop/workspace/Realtime Obstacle Detector/dataset/test/images/stair127_jpg.rf.d5e834bbf5e2f54b805f7afa752f66b5.jpg: 640x640 1 Stairs, 6.6ms\n",
      "image 1004/1157 /root/Desktop/workspace/Realtime Obstacle Detector/dataset/test/images/stair136_jpg.rf.61cd37d2ddf6d0db9c178faecc31d328.jpg: 640x640 1 Stairs, 6.4ms\n",
      "image 1005/1157 /root/Desktop/workspace/Realtime Obstacle Detector/dataset/test/images/stair139_jpg.rf.39a208b050a52bc30681d8d9290df18d.jpg: 640x640 1 Stairs, 6.3ms\n",
      "image 1006/1157 /root/Desktop/workspace/Realtime Obstacle Detector/dataset/test/images/stair147_jpg.rf.2ad98863a1c8f415859919a943f5cbb7.jpg: 640x640 1 Stairs, 6.3ms\n",
      "image 1007/1157 /root/Desktop/workspace/Realtime Obstacle Detector/dataset/test/images/stair150_jpg.rf.fa6387ed0b20ec3d59ab9656d6257761.jpg: 640x640 1 Stairs, 6.9ms\n",
      "image 1008/1157 /root/Desktop/workspace/Realtime Obstacle Detector/dataset/test/images/stair167_jpg.rf.a9cab8f8212d327b03e45a5800ff8823.jpg: 640x640 1 Stairs, 6.4ms\n",
      "image 1009/1157 /root/Desktop/workspace/Realtime Obstacle Detector/dataset/test/images/stair172_jpg.rf.7169a1a41ea2bad2a256cfe8e0c2a1af.jpg: 640x640 1 Stairs, 6.5ms\n",
      "image 1010/1157 /root/Desktop/workspace/Realtime Obstacle Detector/dataset/test/images/stair176_jpg.rf.beeb8aa639986872249ca74cd6f8d1b3.jpg: 640x640 1 Stairs, 6.5ms\n",
      "image 1011/1157 /root/Desktop/workspace/Realtime Obstacle Detector/dataset/test/images/stair184_jpg.rf.9a09f56551cb52d13bd2109721284d5f.jpg: 640x640 1 Stairs, 6.4ms\n",
      "image 1012/1157 /root/Desktop/workspace/Realtime Obstacle Detector/dataset/test/images/stair188_jpg.rf.f65e748803bbd71945d66eb547a0fd66.jpg: 640x640 1 Stairs, 6.2ms\n",
      "image 1013/1157 /root/Desktop/workspace/Realtime Obstacle Detector/dataset/test/images/stair194_jpg.rf.3cd5f7497b9a6e635210d298299c09c7.jpg: 640x640 1 Stairs, 6.4ms\n",
      "image 1014/1157 /root/Desktop/workspace/Realtime Obstacle Detector/dataset/test/images/stair202_jpg.rf.9b82b7e02aecb49e21a5bc5c9a1efcf1.jpg: 640x640 1 Stairs, 6.2ms\n",
      "image 1015/1157 /root/Desktop/workspace/Realtime Obstacle Detector/dataset/test/images/stair206_jpg.rf.7e7e7c95c0ade4e8e6cd1c5d01833a24.jpg: 640x640 1 Stairs, 6.6ms\n",
      "image 1016/1157 /root/Desktop/workspace/Realtime Obstacle Detector/dataset/test/images/stair207_jpg.rf.c291377b620011a6b775e93ca6032dbf.jpg: 640x640 1 Stairs, 6.6ms\n",
      "image 1017/1157 /root/Desktop/workspace/Realtime Obstacle Detector/dataset/test/images/stair218_jpg.rf.3d0f87e6ab43b589f9846dc3eb6da8a8.jpg: 640x640 1 Stairs, 1 Manhole, 6.4ms\n",
      "image 1018/1157 /root/Desktop/workspace/Realtime Obstacle Detector/dataset/test/images/stair223_jpg.rf.2207ff67df5e7da8dd0fa9fc86584f8f.jpg: 640x640 1 Stairs, 6.3ms\n",
      "image 1019/1157 /root/Desktop/workspace/Realtime Obstacle Detector/dataset/test/images/stair228_jpg.rf.4a5633f2b7da6bbb28d5baef446ab863.jpg: 640x640 1 Stairs, 6.3ms\n",
      "image 1020/1157 /root/Desktop/workspace/Realtime Obstacle Detector/dataset/test/images/stair233_jpg.rf.03a92cd5442bda817bf0d1ba963cb58f.jpg: 640x640 1 Stairs, 6.7ms\n",
      "image 1021/1157 /root/Desktop/workspace/Realtime Obstacle Detector/dataset/test/images/stair241_jpg.rf.bce2660b015e2cf8ca220e7ff22cb024.jpg: 640x640 1 Stairs, 6.5ms\n",
      "image 1022/1157 /root/Desktop/workspace/Realtime Obstacle Detector/dataset/test/images/stair251_jpg.rf.02161f3953db3d693198135e1b288025.jpg: 640x640 1 Stairs, 6.3ms\n",
      "image 1023/1157 /root/Desktop/workspace/Realtime Obstacle Detector/dataset/test/images/stair260_jpg.rf.60566198f514d5b53a6fc18e98f50302.jpg: 640x640 1 Stairs, 6.4ms\n",
      "image 1024/1157 /root/Desktop/workspace/Realtime Obstacle Detector/dataset/test/images/stair262_jpg.rf.25ce9f5b24236e4dbdef1790934c4177.jpg: 640x640 1 Stairs, 8.0ms\n",
      "image 1025/1157 /root/Desktop/workspace/Realtime Obstacle Detector/dataset/test/images/stair27_jpg.rf.f379db1bf6f319b8efcaef101685e9e6.jpg: 640x640 1 Stairs, 6.5ms\n",
      "image 1026/1157 /root/Desktop/workspace/Realtime Obstacle Detector/dataset/test/images/stair286_jpg.rf.c87cf40ada0f54c572de9135ce763ed3.jpg: 640x640 1 Stairs, 6.5ms\n",
      "image 1027/1157 /root/Desktop/workspace/Realtime Obstacle Detector/dataset/test/images/stair288_jpg.rf.968d8ce92882d49da0f71da161fe8dcd.jpg: 640x640 1 Stairs, 6.4ms\n",
      "image 1028/1157 /root/Desktop/workspace/Realtime Obstacle Detector/dataset/test/images/stair294_jpg.rf.d9d1f9f8d8d1f87223fd8246f39331ce.jpg: 640x640 1 Stairs, 6.4ms\n",
      "image 1029/1157 /root/Desktop/workspace/Realtime Obstacle Detector/dataset/test/images/stair300_jpg.rf.88795444bf8a9127eba4021876a5ee4c.jpg: 640x640 1 Stairs, 6.4ms\n",
      "image 1030/1157 /root/Desktop/workspace/Realtime Obstacle Detector/dataset/test/images/stair307_jpg.rf.d7c791ab82db13d50e8fad51873a3ee4.jpg: 640x640 1 Stairs, 6.5ms\n",
      "image 1031/1157 /root/Desktop/workspace/Realtime Obstacle Detector/dataset/test/images/stair316_jpg.rf.6cc4f2807c9dfcc1cf0d2d94159d799d.jpg: 640x640 1 Stairs, 6.4ms\n",
      "image 1032/1157 /root/Desktop/workspace/Realtime Obstacle Detector/dataset/test/images/stair326_jpg.rf.f0705ecd3bab184319ed57beb1a8844c.jpg: 640x640 1 Stairs, 6.3ms\n",
      "image 1033/1157 /root/Desktop/workspace/Realtime Obstacle Detector/dataset/test/images/stair329_jpg.rf.95061bdda4bfb48ef99f5747d458d69a.jpg: 640x640 1 Stairs, 6.4ms\n",
      "image 1034/1157 /root/Desktop/workspace/Realtime Obstacle Detector/dataset/test/images/stair330_jpg.rf.f2f05e1bd9e6586b70f7ba1920dae843.jpg: 640x640 1 Stairs, 6.2ms\n",
      "image 1035/1157 /root/Desktop/workspace/Realtime Obstacle Detector/dataset/test/images/stair332_jpg.rf.ff5d6ded9b72368d72278cbae7ceca0a.jpg: 640x640 1 Stairs, 6.2ms\n",
      "image 1036/1157 /root/Desktop/workspace/Realtime Obstacle Detector/dataset/test/images/stair333_jpg.rf.b73f6263689af92d4193c2eb5cf4d2cb.jpg: 640x640 1 Stairs, 6.2ms\n",
      "image 1037/1157 /root/Desktop/workspace/Realtime Obstacle Detector/dataset/test/images/stair337_jpg.rf.8d307a5cc056f2a32c810a4ffcdaac55.jpg: 640x640 1 Stairs, 6.1ms\n",
      "image 1038/1157 /root/Desktop/workspace/Realtime Obstacle Detector/dataset/test/images/stair339_jpg.rf.d4619fc9658690ef00d9146ac1f4ef1c.jpg: 640x640 1 Stairs, 6.1ms\n",
      "image 1039/1157 /root/Desktop/workspace/Realtime Obstacle Detector/dataset/test/images/stair346_jpg.rf.312a45fc9b3049222cf07f13a1cf85a4.jpg: 640x640 1 Stairs, 6.3ms\n",
      "image 1040/1157 /root/Desktop/workspace/Realtime Obstacle Detector/dataset/test/images/stair357_jpg.rf.265eda66daeaaee32c421f1c8d9e792e.jpg: 640x640 1 Stairs, 6.2ms\n",
      "image 1041/1157 /root/Desktop/workspace/Realtime Obstacle Detector/dataset/test/images/stair358_jpg.rf.25a865c6b524f25dcac8413ad8958d72.jpg: 640x640 1 Stairs, 6.3ms\n",
      "image 1042/1157 /root/Desktop/workspace/Realtime Obstacle Detector/dataset/test/images/stair360_jpg.rf.b6778b8f79f9aaeac156fd290219fa04.jpg: 640x640 1 Stairs, 6.3ms\n",
      "image 1043/1157 /root/Desktop/workspace/Realtime Obstacle Detector/dataset/test/images/stair362_jpg.rf.0b3fb9532a7e02daef3512f8ed30edc4.jpg: 640x640 1 Stairs, 6.4ms\n",
      "image 1044/1157 /root/Desktop/workspace/Realtime Obstacle Detector/dataset/test/images/stair368_jpg.rf.f5ac7c151da17f8f220d9b8f3c1f8b77.jpg: 640x640 1 Stairs, 6.3ms\n",
      "image 1045/1157 /root/Desktop/workspace/Realtime Obstacle Detector/dataset/test/images/stair372_jpg.rf.640063f09cbbea34620f98c41d8e48a7.jpg: 640x640 1 Stairs, 6.3ms\n",
      "image 1046/1157 /root/Desktop/workspace/Realtime Obstacle Detector/dataset/test/images/stair376_jpg.rf.6d72e40d87f7463027bf55e5e768273c.jpg: 640x640 1 Stairs, 6.3ms\n",
      "image 1047/1157 /root/Desktop/workspace/Realtime Obstacle Detector/dataset/test/images/stair378_jpg.rf.a7ebeb4371a2e12cfa59c2838fd60fc8.jpg: 640x640 1 Stairs, 6.2ms\n",
      "image 1048/1157 /root/Desktop/workspace/Realtime Obstacle Detector/dataset/test/images/stair389_jpg.rf.022a10ed9799ec0b3c4be2d4bfb5158d.jpg: 640x640 1 Stairs, 6.3ms\n",
      "image 1049/1157 /root/Desktop/workspace/Realtime Obstacle Detector/dataset/test/images/stair393_jpg.rf.aace3cc64b9983b166948f6dcf465ca0.jpg: 640x640 1 Stairs, 6.2ms\n",
      "image 1050/1157 /root/Desktop/workspace/Realtime Obstacle Detector/dataset/test/images/stair395_jpg.rf.8ee004eb7539ec2175a2700a0bb2285c.jpg: 640x640 1 Stairs, 6.2ms\n",
      "image 1051/1157 /root/Desktop/workspace/Realtime Obstacle Detector/dataset/test/images/stair398_jpg.rf.96185957608aa49834f6ad973f7c3e3c.jpg: 640x640 1 Stairs, 6.2ms\n",
      "image 1052/1157 /root/Desktop/workspace/Realtime Obstacle Detector/dataset/test/images/stair399_jpg.rf.02ea25db1d2e7ecefa2b718f1a6b4410.jpg: 640x640 1 Stairs, 6.3ms\n",
      "image 1053/1157 /root/Desktop/workspace/Realtime Obstacle Detector/dataset/test/images/stair400_jpg.rf.92b4502e5a77a2b501e51bc004502d1b.jpg: 640x640 1 Stairs, 6.1ms\n",
      "image 1054/1157 /root/Desktop/workspace/Realtime Obstacle Detector/dataset/test/images/stair404_jpg.rf.d6be42ec0f41f40965c31251f954dfb3.jpg: 640x640 1 Stairs, 6.2ms\n",
      "image 1055/1157 /root/Desktop/workspace/Realtime Obstacle Detector/dataset/test/images/stair406_jpg.rf.e6b5348678bc54189078e664ee5f364b.jpg: 640x640 1 Stairs, 6.2ms\n",
      "image 1056/1157 /root/Desktop/workspace/Realtime Obstacle Detector/dataset/test/images/stair408_jpg.rf.7988e3486b64600eeb05c146b1fcf604.jpg: 640x640 1 Stairs, 6.1ms\n",
      "image 1057/1157 /root/Desktop/workspace/Realtime Obstacle Detector/dataset/test/images/stair410_jpg.rf.1599904413858360247656ce8e7ce1cf.jpg: 640x640 1 Stairs, 6.6ms\n",
      "image 1058/1157 /root/Desktop/workspace/Realtime Obstacle Detector/dataset/test/images/stair414_jpg.rf.25baefee9b71584cddacbca563ddfc81.jpg: 640x640 1 Stairs, 6.4ms\n",
      "image 1059/1157 /root/Desktop/workspace/Realtime Obstacle Detector/dataset/test/images/stair419_jpg.rf.99048f9a7fd4dd0b61652e84d374f5f2.jpg: 640x640 1 Stairs, 6.3ms\n",
      "image 1060/1157 /root/Desktop/workspace/Realtime Obstacle Detector/dataset/test/images/stair431_jpg.rf.01a68a9e95473d5169232660566ed4c6.jpg: 640x640 1 Stairs, 6.2ms\n",
      "image 1061/1157 /root/Desktop/workspace/Realtime Obstacle Detector/dataset/test/images/stair44_jpg.rf.11516b9171e2f108cb28d2fc13f38561.jpg: 640x640 1 Stairs, 6.2ms\n",
      "image 1062/1157 /root/Desktop/workspace/Realtime Obstacle Detector/dataset/test/images/stair451_jpg.rf.57ae45daa58e47952a1757edf396d936.jpg: 640x640 1 Stairs, 6.2ms\n",
      "image 1063/1157 /root/Desktop/workspace/Realtime Obstacle Detector/dataset/test/images/stair461_jpg.rf.082bc85e362d084c94f1e675c8f4d8ae.jpg: 640x640 1 Stairs, 6.6ms\n",
      "image 1064/1157 /root/Desktop/workspace/Realtime Obstacle Detector/dataset/test/images/stair462_jpg.rf.0089f61851c545dc3251ef0e33072fc3.jpg: 640x640 1 Stairs, 6.4ms\n",
      "image 1065/1157 /root/Desktop/workspace/Realtime Obstacle Detector/dataset/test/images/stair464_jpg.rf.76550afded837721136a81161ef7c855.jpg: 640x640 1 Stairs, 6.5ms\n",
      "image 1066/1157 /root/Desktop/workspace/Realtime Obstacle Detector/dataset/test/images/stair469_jpg.rf.4e4b9e7a2c561625544a1d5ea0fc189d.jpg: 640x640 1 Stairs, 6.5ms\n",
      "image 1067/1157 /root/Desktop/workspace/Realtime Obstacle Detector/dataset/test/images/stair46_jpg.rf.ba1e1453416ef1eb1cc067ed6b4766da.jpg: 640x640 1 Stairs, 6.6ms\n",
      "image 1068/1157 /root/Desktop/workspace/Realtime Obstacle Detector/dataset/test/images/stair477_jpg.rf.0deba3c9fb4da62fe82c93efcb6c342f.jpg: 640x640 1 Stairs, 6.4ms\n",
      "image 1069/1157 /root/Desktop/workspace/Realtime Obstacle Detector/dataset/test/images/stair483_jpg.rf.959d63f87ac0c1f33b1c0aed7b0af44b.jpg: 640x640 2 Stairss, 6.3ms\n",
      "image 1070/1157 /root/Desktop/workspace/Realtime Obstacle Detector/dataset/test/images/stair484_jpg.rf.e7745bc11be667dd03a7c6f1b7b923db.jpg: 640x640 1 Stairs, 6.3ms\n",
      "image 1071/1157 /root/Desktop/workspace/Realtime Obstacle Detector/dataset/test/images/stair486_jpg.rf.a0a6d7a8e348538115f71dc559d2871a.jpg: 640x640 1 Stairs, 6.3ms\n",
      "image 1072/1157 /root/Desktop/workspace/Realtime Obstacle Detector/dataset/test/images/stair489_jpg.rf.70c5e1278f46f191bdd4d9599fff9fdd.jpg: 640x640 1 Stairs, 6.4ms\n",
      "image 1073/1157 /root/Desktop/workspace/Realtime Obstacle Detector/dataset/test/images/stair48_jpg.rf.e8c8f545eff835cd60d945281346eb14.jpg: 640x640 1 Stairs, 6.4ms\n",
      "image 1074/1157 /root/Desktop/workspace/Realtime Obstacle Detector/dataset/test/images/stair490_jpg.rf.ea2c8864f6c4b97fe34ac0a5875936a4.jpg: 640x640 1 Stairs, 6.4ms\n",
      "image 1075/1157 /root/Desktop/workspace/Realtime Obstacle Detector/dataset/test/images/stair494_jpg.rf.7b9c425347b755e467ef52404b0ef118.jpg: 640x640 1 Stairs, 6.3ms\n",
      "image 1076/1157 /root/Desktop/workspace/Realtime Obstacle Detector/dataset/test/images/stair4_jpg.rf.2a6a9c04367184aef5bf989cc01bf550.jpg: 640x640 1 Stairs, 10.1ms\n",
      "image 1077/1157 /root/Desktop/workspace/Realtime Obstacle Detector/dataset/test/images/stair504_jpg.rf.a0cdaddf0dc9bbe00df6bf58b8763aef.jpg: 640x640 1 Stairs, 6.7ms\n",
      "image 1078/1157 /root/Desktop/workspace/Realtime Obstacle Detector/dataset/test/images/stair510_jpg.rf.53f69773ab2629c6ffb5cb26a4f665a2.jpg: 640x640 1 Stairs, 6.6ms\n",
      "image 1079/1157 /root/Desktop/workspace/Realtime Obstacle Detector/dataset/test/images/stair512_jpg.rf.d2367ba5bf0e6614ed4a5166edcf67fb.jpg: 640x640 1 Stairs, 6.6ms\n",
      "image 1080/1157 /root/Desktop/workspace/Realtime Obstacle Detector/dataset/test/images/stair516_jpg.rf.d938cd34f608a43d4c7c8647cff93d74.jpg: 640x640 1 Stairs, 6.6ms\n",
      "image 1081/1157 /root/Desktop/workspace/Realtime Obstacle Detector/dataset/test/images/stair51_jpg.rf.6ab9979c4fa55461b3463d05d40d2427.jpg: 640x640 1 Stairs, 6.6ms\n",
      "image 1082/1157 /root/Desktop/workspace/Realtime Obstacle Detector/dataset/test/images/stair521_jpg.rf.0708431d5c4c330f747a3b8ff424770a.jpg: 640x640 1 Stairs, 6.4ms\n",
      "image 1083/1157 /root/Desktop/workspace/Realtime Obstacle Detector/dataset/test/images/stair527_jpg.rf.3f524dd6805d9b57cac74ba0e4158933.jpg: 640x640 1 Stairs, 6.4ms\n",
      "image 1084/1157 /root/Desktop/workspace/Realtime Obstacle Detector/dataset/test/images/stair528_jpg.rf.c8412bbecfbda02da68cd2a459e33cf6.jpg: 640x640 1 Stairs, 6.6ms\n",
      "image 1085/1157 /root/Desktop/workspace/Realtime Obstacle Detector/dataset/test/images/stair533_jpg.rf.811f31d1e98793ce6fca6ee1878aadc9.jpg: 640x640 1 Stairs, 6.5ms\n",
      "image 1086/1157 /root/Desktop/workspace/Realtime Obstacle Detector/dataset/test/images/stair535_jpg.rf.7f2dedb96790fb9b8fc7018764fdbfc8.jpg: 640x640 1 Stairs, 6.8ms\n",
      "image 1087/1157 /root/Desktop/workspace/Realtime Obstacle Detector/dataset/test/images/stair536_jpg.rf.f7129e0386f44c7356f4c68a65b35cb7.jpg: 640x640 1 Stairs, 6.6ms\n",
      "image 1088/1157 /root/Desktop/workspace/Realtime Obstacle Detector/dataset/test/images/stair539_jpg.rf.ce38de123b3d3d96fde6edac351ce409.jpg: 640x640 1 Stairs, 6.7ms\n",
      "image 1089/1157 /root/Desktop/workspace/Realtime Obstacle Detector/dataset/test/images/stair53_jpg.rf.29c4c06ae60dddc9a5ebab44ce14ed46.jpg: 640x640 1 Stairs, 6.3ms\n",
      "image 1090/1157 /root/Desktop/workspace/Realtime Obstacle Detector/dataset/test/images/stair544_jpg.rf.05297c9f43a78eec801adb34ac57c646.jpg: 640x640 1 Stairs, 6.2ms\n",
      "image 1091/1157 /root/Desktop/workspace/Realtime Obstacle Detector/dataset/test/images/stair57_jpg.rf.7abbb11b4b913879bd4f24be8db65e24.jpg: 640x640 1 Stairs, 6.2ms\n",
      "image 1092/1157 /root/Desktop/workspace/Realtime Obstacle Detector/dataset/test/images/stair69_jpg.rf.facba73f1c8dcecf52a6d125c29b75b4.jpg: 640x640 1 Stairs, 6.2ms\n",
      "image 1093/1157 /root/Desktop/workspace/Realtime Obstacle Detector/dataset/test/images/stair6_jpg.rf.2ed13ac22a942f922cbf1c75a896b076.jpg: 640x640 1 Stairs, 6.2ms\n",
      "image 1094/1157 /root/Desktop/workspace/Realtime Obstacle Detector/dataset/test/images/stair79_jpg.rf.d9e51e0dd6b66feb07bc9490ac1e64c8.jpg: 640x640 1 Stairs, 6.2ms\n",
      "image 1095/1157 /root/Desktop/workspace/Realtime Obstacle Detector/dataset/test/images/stair84_jpg.rf.73326eaad2c7f63fd9c821dd629e1fad.jpg: 640x640 1 Stairs, 6.1ms\n",
      "image 1096/1157 /root/Desktop/workspace/Realtime Obstacle Detector/dataset/test/images/stair86_jpg.rf.31ee708ce1ad5f6475bf5b4be56aa373.jpg: 640x640 1 Stairs, 6.3ms\n",
      "image 1097/1157 /root/Desktop/workspace/Realtime Obstacle Detector/dataset/test/images/stair87_jpg.rf.40356e90806a875b548406e7b5d30b3c.jpg: 640x640 2 Stairss, 6.4ms\n",
      "image 1098/1157 /root/Desktop/workspace/Realtime Obstacle Detector/dataset/test/images/stair93_jpg.rf.4805b54de5235e9be91588d2a2435c7f.jpg: 640x640 1 Stairs, 6.2ms\n",
      "image 1099/1157 /root/Desktop/workspace/Realtime Obstacle Detector/dataset/test/images/stair99_jpg.rf.3b6a1574a243323fca23adc6a38a9a9e.jpg: 640x640 1 Stairs, 6.5ms\n",
      "image 1100/1157 /root/Desktop/workspace/Realtime Obstacle Detector/dataset/test/images/stock-photo-full-length-side-view-portrait-of-trendy-young-black-woman-walking-outdoors-and-listening-to-music-453933130_jpg.rf.7485444e8907ccb8227bdcb88ad78306.jpg: 640x640 1 Person, 1 Pedestrian crosswalk, 6.3ms\n",
      "image 1101/1157 /root/Desktop/workspace/Realtime Obstacle Detector/dataset/test/images/stryd_8_1400x_jpg.rf.8947d3a66bbf7ced941c664da349d217.jpg: 640x640 3 Persons, 6.4ms\n",
      "image 1102/1157 /root/Desktop/workspace/Realtime Obstacle Detector/dataset/test/images/studio-shot-maltipu-dog-isolated-white-studio_155003-43324_jpg.rf.f4ed40aa306b72634173357f240196a8.jpg: 640x640 1 Dog, 6.3ms\n",
      "image 1103/1157 /root/Desktop/workspace/Realtime Obstacle Detector/dataset/test/images/t01309335368a0bd334_jpg.rf.e426fb6e83f643581873ef3c17e65c62.jpg: 640x640 1 Manhole, 1 Pedestrian crosswalk, 6.2ms\n",
      "image 1104/1157 /root/Desktop/workspace/Realtime Obstacle Detector/dataset/test/images/t01ed0ca9fe9cc385e1_jpg.rf.1e11a4c603b826e640c22b0c4106e241.jpg: 640x640 2 Manholes, 6.3ms\n",
      "image 1105/1157 /root/Desktop/workspace/Realtime Obstacle Detector/dataset/test/images/th-2-_jpeg.rf.a803bd6255b4e18c41e9e08c2c2450c3.jpg: 640x640 1 Dustbin, 6.3ms\n",
      "image 1106/1157 /root/Desktop/workspace/Realtime Obstacle Detector/dataset/test/images/th-31-_jpeg.rf.c48341ea9981b5a5713225f98970cc8d.jpg: 640x640 2 Dustbins, 6.2ms\n",
      "image 1107/1157 /root/Desktop/workspace/Realtime Obstacle Detector/dataset/test/images/th-54-_jpeg.rf.4ecbb6a34cd6ca12ef71c08d8c810a7d.jpg: 640x640 2 Dustbins, 6.4ms\n",
      "image 1108/1157 /root/Desktop/workspace/Realtime Obstacle Detector/dataset/test/images/th-70-_jpeg.rf.9372a2a833e7d603696b4ccbbebe3ee0.jpg: 640x640 1 Dustbin, 6.4ms\n",
      "image 1109/1157 /root/Desktop/workspace/Realtime Obstacle Detector/dataset/test/images/th-71-_jpeg.rf.3720ef67f6f12d1e64b894ba8b224f4e.jpg: 640x640 2 Dustbins, 6.3ms\n",
      "image 1110/1157 /root/Desktop/workspace/Realtime Obstacle Detector/dataset/test/images/th-74-_jpeg.rf.2869e10f9482079c0f090cc24f637a69.jpg: 640x640 (no detections), 6.5ms\n",
      "image 1111/1157 /root/Desktop/workspace/Realtime Obstacle Detector/dataset/test/images/th-77-_jpeg.rf.a495056ed1f56b459acf3f723d6fa135.jpg: 640x640 1 Dustbin, 6.2ms\n",
      "image 1112/1157 /root/Desktop/workspace/Realtime Obstacle Detector/dataset/test/images/th-80-_jpeg.rf.ca122017414fd4fbec796d79a01d19b1.jpg: 640x640 2 Dustbins, 6.4ms\n",
      "image 1113/1157 /root/Desktop/workspace/Realtime Obstacle Detector/dataset/test/images/th-83-_jpeg.rf.40d64283fa2a168fadbb252e81d680a7.jpg: 640x640 1 Dustbin, 6.3ms\n",
      "image 1114/1157 /root/Desktop/workspace/Realtime Obstacle Detector/dataset/test/images/th-86-_jpeg.rf.2eb024858b59f0d6fe4f3227c50af505.jpg: 640x640 1 Dustbin, 6.4ms\n",
      "image 1115/1157 /root/Desktop/workspace/Realtime Obstacle Detector/dataset/test/images/tired-after-good-walk-chocolate-labrador-retriever-dog-sits-yawn_155003-30115_jpg.rf.316a70c01fd430b9ad665af29b6a497c.jpg: 640x640 1 Dog, 6.2ms\n",
      "image 1116/1157 /root/Desktop/workspace/Realtime Obstacle Detector/dataset/test/images/traffic--89-_jpg.rf.a1337bc2e0dc897b580ead5ddd02ac9f.jpg: 640x640 4 Cars, 6.2ms\n",
      "image 1117/1157 /root/Desktop/workspace/Realtime Obstacle Detector/dataset/test/images/training-AI-CROPPED_mp4-259_jpg.rf.8728b126895a6840af0c1d2168859980.jpg: 640x640 1 Building, 2 Pedestrian crosswalks, 6.2ms\n",
      "image 1118/1157 /root/Desktop/workspace/Realtime Obstacle Detector/dataset/test/images/training-AI-CROPPED_mp4-349_jpg.rf.38c264ce0ae42fab1a69f7d582b5630d.jpg: 640x640 1 Traffic sign, 2 Pedestrian crosswalks, 6.2ms\n",
      "image 1119/1157 /root/Desktop/workspace/Realtime Obstacle Detector/dataset/test/images/training-AI-CROPPED_mp4-366_jpg.rf.099ee4894cf6c859cb0217d3bb12c7bc.jpg: 640x640 1 Car, 2 Persons, 2 Pedestrian crosswalks, 6.2ms\n",
      "image 1120/1157 /root/Desktop/workspace/Realtime Obstacle Detector/dataset/test/images/training-AI-CROPPED_mp4-371_jpg.rf.73f1a1dce4db02ef5d55f5c3cd3b638a.jpg: 640x640 1 Person, 2 Pedestrian crosswalks, 6.2ms\n",
      "image 1121/1157 /root/Desktop/workspace/Realtime Obstacle Detector/dataset/test/images/training-AI-CROPPED_mp4-399_jpg.rf.157e3a09b1db0262a3c84aec1794b93e.jpg: 640x640 5 Pedestrian crosswalks, 7.9ms\n",
      "image 1122/1157 /root/Desktop/workspace/Realtime Obstacle Detector/dataset/test/images/training-AI-CROPPED_mp4-447_jpg.rf.d03fdc4c24bbbde4f49ae3a3b7298f78.jpg: 640x640 (no detections), 6.3ms\n",
      "image 1123/1157 /root/Desktop/workspace/Realtime Obstacle Detector/dataset/test/images/training-AI-CROPPED_mp4-465_jpg.rf.2c3288b740abe26b75211bd33cb135bf.jpg: 640x640 1 Building, 1 Electrical Pole, 1 Pedestrian crosswalk, 6.5ms\n",
      "image 1124/1157 /root/Desktop/workspace/Realtime Obstacle Detector/dataset/test/images/training-AI-CROPPED_mp4-468_jpg.rf.b4e32589be049f8f2a5b749ce1d31703.jpg: 640x640 1 Traffic sign, 6.3ms\n",
      "image 1125/1157 /root/Desktop/workspace/Realtime Obstacle Detector/dataset/test/images/training-AI-CROPPED_mp4-519_jpg.rf.95b2c62dd0aeef71d89a4704e3564857.jpg: 640x640 (no detections), 6.4ms\n",
      "image 1126/1157 /root/Desktop/workspace/Realtime Obstacle Detector/dataset/test/images/training-AI-CROPPED_mp4-549_jpg.rf.9ff6c9ee94245dded6c95b7e31ab4d82.jpg: 640x640 1 Bus, 7.0ms\n",
      "image 1127/1157 /root/Desktop/workspace/Realtime Obstacle Detector/dataset/test/images/training-AI-CROPPED_mp4-568_jpg.rf.b893f36d8796c6de026ffb5f0b82a4ba.jpg: 640x640 1 Building, 1 Person, 6.2ms\n",
      "image 1128/1157 /root/Desktop/workspace/Realtime Obstacle Detector/dataset/test/images/training-AI-CROPPED_mp4-569_jpg.rf.0f78a5111aa3751b0a35ed1c78affe6b.jpg: 640x640 (no detections), 6.3ms\n",
      "image 1129/1157 /root/Desktop/workspace/Realtime Obstacle Detector/dataset/test/images/training-AI-CROPPED_mp4-571_jpg.rf.6a6592c7c952096af0143c0d53bf9f2e.jpg: 640x640 1 Building, 6.3ms\n",
      "image 1130/1157 /root/Desktop/workspace/Realtime Obstacle Detector/dataset/test/images/training-AI-CROPPED_mp4-605_jpg.rf.1e6de6f829b13ec61d099193211bb85f.jpg: 640x640 1 Pedestrian crosswalk, 6.2ms\n",
      "image 1131/1157 /root/Desktop/workspace/Realtime Obstacle Detector/dataset/test/images/training-AI-CROPPED_mp4-609_jpg.rf.d79708a1bdc1a18f53ad83ca4be10606.jpg: 640x640 1 Person, 1 Pedestrian crosswalk, 6.3ms\n",
      "image 1132/1157 /root/Desktop/workspace/Realtime Obstacle Detector/dataset/test/images/training-AI-CROPPED_mp4-60_jpg.rf.11477d3d2c4d19e59d4bbf39a859d00b.jpg: 640x640 (no detections), 6.3ms\n",
      "image 1133/1157 /root/Desktop/workspace/Realtime Obstacle Detector/dataset/test/images/training-AI-CROPPED_mp4-62_jpg.rf.d0e42eaff3e9c47c7c72dac506ffe656.jpg: 640x640 1 Pedestrian crosswalk, 6.3ms\n",
      "image 1134/1157 /root/Desktop/workspace/Realtime Obstacle Detector/dataset/test/images/training-AI-CROPPED_mp4-764_jpg.rf.acc93b5d8922b0fc2fb2311c6a9d16bd.jpg: 640x640 (no detections), 6.4ms\n",
      "image 1135/1157 /root/Desktop/workspace/Realtime Obstacle Detector/dataset/test/images/training-AI-CROPPED_mp4-768_jpg.rf.441abb351ffc0cfb682a3f4e3f84af02.jpg: 640x640 (no detections), 6.3ms\n",
      "image 1136/1157 /root/Desktop/workspace/Realtime Obstacle Detector/dataset/test/images/training-AI-CROPPED_mp4-769_jpg.rf.c098b12a2f1b82fc04dcfa29579bc797.jpg: 640x640 (no detections), 6.3ms\n",
      "image 1137/1157 /root/Desktop/workspace/Realtime Obstacle Detector/dataset/test/images/training-AI-CROPPED_mp4-770_jpg.rf.8064aad28c0924ccf08b6c54ed17b63a.jpg: 640x640 (no detections), 6.2ms\n",
      "image 1138/1157 /root/Desktop/workspace/Realtime Obstacle Detector/dataset/test/images/training-AI-CROPPED_mp4-775_jpg.rf.de55d26f946bf1959209c813d69b5eb3.jpg: 640x640 1 Pedestrian crosswalk, 6.3ms\n",
      "image 1139/1157 /root/Desktop/workspace/Realtime Obstacle Detector/dataset/test/images/training-AI-CROPPED_mp4-925_jpg.rf.1583d50faeb0294f8badb1474637031f.jpg: 640x640 (no detections), 6.4ms\n",
      "image 1140/1157 /root/Desktop/workspace/Realtime Obstacle Detector/dataset/test/images/training-AI-CROPPED_mp4-9_jpg.rf.e17962e1c974806e361c87a0b3198ea4.jpg: 640x640 (no detections), 6.6ms\n",
      "image 1141/1157 /root/Desktop/workspace/Realtime Obstacle Detector/dataset/test/images/u-2859208879-3554308002-fm-253-fmt-auto-app-138-f-JPEG_png_jpg.rf.6d7f9b81377ddc9383005883dd8e9222.jpg: 640x640 1 Manhole, 6.3ms\n",
      "image 1142/1157 /root/Desktop/workspace/Realtime Obstacle Detector/dataset/test/images/u-4030942693-1658039537-fm-253-fmt-auto-app-138-f-JPEG_png_jpg.rf.7c1304bf1579f4a128c882d846a8db8b.jpg: 640x640 1 Manhole, 6.3ms\n",
      "image 1143/1157 /root/Desktop/workspace/Realtime Obstacle Detector/dataset/test/images/u-626791001-345996971-fm-253-fmt-auto-app-138-f-JPEG_png_jpg.rf.08071a497b6a07c504bb53516a6164d8.jpg: 640x640 1 Manhole, 6.3ms\n",
      "image 1144/1157 /root/Desktop/workspace/Realtime Obstacle Detector/dataset/test/images/u-645306782-94898589-fm-253-fmt-auto-app-138-f-JPEG_png_jpg.rf.6e437a1ca6d766aa2c0bb0d71d6739a7.jpg: 640x640 2 Manholes, 6.2ms\n",
      "image 1145/1157 /root/Desktop/workspace/Realtime Obstacle Detector/dataset/test/images/veloster_--10-_jpg.rf.c9a44389ddf52a28502d3001b4e73a12.jpg: 640x640 2 Cars, 6.4ms\n",
      "image 1146/1157 /root/Desktop/workspace/Realtime Obstacle Detector/dataset/test/images/view-adorable-dog-with-bowl-food_23-2150798725_jpg.rf.fa7f1cdb8e4c557b2129fbac0d7c205c.jpg: 640x640 1 Dog, 6.4ms\n",
      "image 1147/1157 /root/Desktop/workspace/Realtime Obstacle Detector/dataset/test/images/wX5nY3rs-7_jpg.rf.3dfecbc186bac2f292bdf57ffb4a675c.jpg: 640x640 1 Car, 6.2ms\n",
      "image 1148/1157 /root/Desktop/workspace/Realtime Obstacle Detector/dataset/test/images/wX5zaBGy-1_jpg.rf.ac7dccb254aa729fecd433f60e6a63d2.jpg: 640x640 1 Car, 6.2ms\n",
      "image 1149/1157 /root/Desktop/workspace/Realtime Obstacle Detector/dataset/test/images/wX6LLgEg-4_jpg.rf.d6089d04e7fea08fb6c72daaf243686e.jpg: 640x640 2 Cars, 6.4ms\n",
      "image 1150/1157 /root/Desktop/workspace/Realtime Obstacle Detector/dataset/test/images/walk-in-truth_jpg.rf.d47eeb8501ed41e6150f824a9c3ed23f.jpg: 640x640 3 Persons, 6.4ms\n",
      "image 1151/1157 /root/Desktop/workspace/Realtime Obstacle Detector/dataset/test/images/washing-pet-dog-home_23-2149627207_jpg.rf.46f09cb1b54d769ed24ad93d8b0bf2c2.jpg: 640x640 1 Dog, 6.4ms\n",
      "image 1152/1157 /root/Desktop/workspace/Realtime Obstacle Detector/dataset/test/images/white-dog_95678-2_jpg.rf.ba2df783a9ac0362451ebe9656470667.jpg: 640x640 1 Dog, 6.5ms\n",
      "image 1153/1157 /root/Desktop/workspace/Realtime Obstacle Detector/dataset/test/images/woman-beige-t-shirt-dress-casual-wear-fashion-full-body_53876-102167_jpg.rf.fb6c45b8d30a81f750dbf1ea5fbe5def.jpg: 640x640 3 Persons, 6.4ms\n",
      "image 1154/1157 /root/Desktop/workspace/Realtime Obstacle Detector/dataset/test/images/yar5_jpg.rf.e43d3b72359da396a6d3f49faff3913c.jpg: 640x640 2 Traffic signs, 6.4ms\n",
      "image 1155/1157 /root/Desktop/workspace/Realtime Obstacle Detector/dataset/test/images/youtube-44_jpg.rf.a29eee09ce02d4e2c50fde40b61444dd.jpg: 640x640 1 Car, 6.6ms\n",
      "image 1156/1157 /root/Desktop/workspace/Realtime Obstacle Detector/dataset/test/images/youtube-59_jpg.rf.08b6a1f677f0a09e8a43a2b8d1c576ca.jpg: 640x640 1 Car, 6.7ms\n",
      "image 1157/1157 /root/Desktop/workspace/Realtime Obstacle Detector/dataset/test/images/youtube-62_jpg.rf.f383cc4e1059568c547e0b4c4954c986.jpg: 640x640 1 Car, 6.5ms\n",
      "Speed: 2.1ms preprocess, 6.8ms inference, 1.1ms postprocess per image at shape (1, 3, 640, 640)\n",
      "Results saved to \u001b[1mruns/detect/predict4\u001b[0m\n",
      "Prediction complete. Check the 'runs/detect/predict/' folder for the saved results with bounding boxes.\n",
      "Ultralytics 8.3.113 🚀 Python-3.8.10 torch-2.4.1+cu121 CUDA:0 (NVIDIA GeForce RTX 3090, 24253MiB)\n",
      "\u001b[34m\u001b[1mval: \u001b[0mFast image access ✅ (ping: 0.0±0.0 ms, read: 1567.0±427.7 MB/s, size: 66.4 KB)\n"
     ]
    },
    {
     "name": "stderr",
     "output_type": "stream",
     "text": [
      "\u001b[34m\u001b[1mval: \u001b[0mScanning /workspace/Realtime Obstacle Detector/dataset/test/labels.cache... 1157 images, 5 backgrounds, 0 corrupt: 100%|██████████| 1157/1157 [00:00<?, ?it/s]"
     ]
    },
    {
     "name": "stdout",
     "output_type": "stream",
     "text": [
      "WARNING ⚠️ Box and segment counts should be equal, but got len(segments) = 404, len(boxes) = 1728. To resolve this only boxes will be used and all segments will be removed. To avoid this please supply either a detect or segment dataset, not a detect-segment mixed dataset.\n"
     ]
    },
    {
     "name": "stderr",
     "output_type": "stream",
     "text": [
      "\n",
      "                 Class     Images  Instances      Box(P          R      mAP50  mAP50-95): 100%|██████████| 73/73 [00:08<00:00,  9.00it/s]\n"
     ]
    },
    {
     "name": "stdout",
     "output_type": "stream",
     "text": [
      "                   all       1157       1728      0.888      0.809      0.884      0.684\n",
      "                  Bike         16         18      0.942      0.901      0.972      0.817\n",
      "              Building         54         54      0.862      0.926      0.898      0.738\n",
      "                   Car        142        240       0.92      0.733      0.868      0.632\n",
      "                Person         88        320      0.869        0.7      0.841      0.552\n",
      "                Stairs        121        123      0.959      0.951      0.986      0.802\n",
      "          Traffic sign         84        104      0.899      0.865       0.88      0.639\n",
      "       Electrical Pole         29         30      0.874      0.833      0.917      0.641\n",
      "                  Road         36         37      0.824      0.506      0.767      0.513\n",
      "            Motorcycle         24         37      0.899      0.721      0.867      0.562\n",
      "               Dustbin         12         30       0.92        0.5      0.625      0.383\n",
      "                   Dog         29         30      0.888          1      0.987      0.868\n",
      "               Manhole        226        237      0.958      0.924      0.957       0.86\n",
      "                  Tree        114        150      0.863      0.843      0.881      0.638\n",
      "            Guard rail         47         49      0.753      0.898      0.919      0.717\n",
      "  Pedestrian crosswalk        153        189      0.881      0.772      0.836      0.703\n",
      "                 Truck         18         22       0.85      0.636      0.807      0.632\n",
      "                   Bus         30         46      0.867      0.848       0.91      0.708\n",
      "                 Bench         12         12      0.959          1      0.995      0.917\n",
      "Speed: 0.5ms preprocess, 1.2ms inference, 0.0ms loss, 1.1ms postprocess per image\n",
      "Results saved to \u001b[1mruns/detect/val14\u001b[0m\n",
      "Validation complete. Check the 'runs/detect/valid/' folder for the saved validation statics.\n"
     ]
    }
   ],
   "source": [
    "test_and_validation(\n",
    "    model=YOLO(\"/root/Desktop/workspace/Realtime Obstacle Detector/runs/detect/train7/weights/best.pt\"), \n",
    "    data=\"/root/Desktop/workspace/Realtime Obstacle Detector/dataset/data.yaml\", \n",
    "    test_folder=\"/root/Desktop/workspace/Realtime Obstacle Detector/dataset/test/images/\"\n",
    ")"
   ]
  }
 ],
 "metadata": {
  "kernelspec": {
   "display_name": "Python 3 (ipykernel)",
   "language": "python",
   "name": "python3"
  },
  "language_info": {
   "codemirror_mode": {
    "name": "ipython",
    "version": 3
   },
   "file_extension": ".py",
   "mimetype": "text/x-python",
   "name": "python",
   "nbconvert_exporter": "python",
   "pygments_lexer": "ipython3",
   "version": "3.8.10"
  },
  "toc": {
   "base_numbering": 1,
   "nav_menu": {},
   "number_sections": false,
   "sideBar": true,
   "skip_h1_title": false,
   "title_cell": "Table of Contents",
   "title_sidebar": "Contents",
   "toc_cell": false,
   "toc_position": {},
   "toc_section_display": true,
   "toc_window_display": false
  }
 },
 "nbformat": 4,
 "nbformat_minor": 5
}
